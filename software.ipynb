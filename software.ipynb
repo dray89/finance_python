{
 "cells": [
  {
   "cell_type": "code",
   "execution_count": 1,
   "metadata": {},
   "outputs": [],
   "source": [
    "import sys\n",
    "sys.path.append(\"C:\\\\Users\\\\rayde\\\\iCloudDrive\\\\GitHub\\\\finance_python\")\n",
    "from stock_scraper_v3 import get_data\n",
    "from balance_sheet import balance_sheet\n",
    "from financials import financials\n",
    "from datetime import datetime, date\n",
    "from pandas import DataFrame\n",
    "import numpy as np\n",
    "import pandas\n",
    "from industry import industry"
   ]
  },
  {
   "cell_type": "code",
   "execution_count": 2,
   "metadata": {},
   "outputs": [],
   "source": [
    "retail = ['CSU.TO', 'OTEX.TO', 'REAL.TO', 'KXS.TO', 'SHOP.TO', 'GIB-A.TO', 'CDAY.TO', 'DSG.TO', 'LSPD.TO', 'ENGH.TO']\n",
    "start = date(2018, 7, 19)\n",
    "end = date(2019, 8, 2)"
   ]
  },
  {
   "cell_type": "code",
   "execution_count": null,
   "metadata": {
    "scrolled": true
   },
   "outputs": [
    {
     "name": "stderr",
     "output_type": "stream",
     "text": [
      "C:\\Users\\rayde\\iCloudDrive\\GitHub\\finance_python\\balance_sheet.py:62: RuntimeWarning: invalid value encountered in true_divide\n",
      "  self.changes = np.divide(diff, self.bs.T.iloc[1])\n"
     ]
    }
   ],
   "source": [
    "dict1 = list(map(lambda x: {x: get_data(x, start, end)}, retail))"
   ]
  },
  {
   "cell_type": "code",
   "execution_count": null,
   "metadata": {},
   "outputs": [],
   "source": [
    "dict1[0]['CSU.TO'].div_r"
   ]
  },
  {
   "cell_type": "code",
   "execution_count": null,
   "metadata": {},
   "outputs": [],
   "source": [
    "dict1[0]['CSU.TO'].bsd.changes"
   ]
  },
  {
   "cell_type": "code",
   "execution_count": null,
   "metadata": {},
   "outputs": [],
   "source": [
    "retail_list = list(map(lambda x, y: dict1[x][y].bsd, range(0, len(retail)), retail))"
   ]
  },
  {
   "cell_type": "code",
   "execution_count": null,
   "metadata": {},
   "outputs": [],
   "source": [
    "retail_list"
   ]
  },
  {
   "cell_type": "code",
   "execution_count": null,
   "metadata": {},
   "outputs": [],
   "source": [
    "for x in enumerate(retail_list):\n",
    "    if hasattr(x[1], 'changes'):\n",
    "        pass\n",
    "    else:\n",
    "        retail_list.pop(x[0])\n",
    "        continue"
   ]
  },
  {
   "cell_type": "code",
   "execution_count": null,
   "metadata": {},
   "outputs": [],
   "source": [
    "retail_list2 = list(map(lambda x, y: pandas.DataFrame(retail_list[x].changes), range(0, len(retail_list)), retail_list))"
   ]
  },
  {
   "cell_type": "code",
   "execution_count": null,
   "metadata": {},
   "outputs": [],
   "source": [
    "retail_list = list(map(lambda x, y: dict1[x][y].bsd.stats, range(0, len(retail)), retail))"
   ]
  },
  {
   "cell_type": "code",
   "execution_count": null,
   "metadata": {},
   "outputs": [],
   "source": [
    "retail_list2[0].join(retail_list2[1], sort=True).join(retail_list2[2], sort=True).join(retail_list2[3], sort=True)"
   ]
  },
  {
   "cell_type": "code",
   "execution_count": null,
   "metadata": {},
   "outputs": [],
   "source": [
    "retail_list2[4]"
   ]
  },
  {
   "cell_type": "code",
   "execution_count": null,
   "metadata": {},
   "outputs": [],
   "source": [
    "retail_list"
   ]
  },
  {
   "cell_type": "code",
   "execution_count": null,
   "metadata": {},
   "outputs": [],
   "source": [
    "for x in enumerate(retail_list):\n",
    "    if retail_list[x[0]].iloc[0].name == 0:\n",
    "        retail_list.pop(x[0])"
   ]
  },
  {
   "cell_type": "code",
   "execution_count": null,
   "metadata": {},
   "outputs": [],
   "source": [
    "retail_list"
   ]
  },
  {
   "cell_type": "code",
   "execution_count": null,
   "metadata": {},
   "outputs": [],
   "source": [
    "indust = industry(retail_list)"
   ]
  },
  {
   "cell_type": "code",
   "execution_count": null,
   "metadata": {},
   "outputs": [],
   "source": [
    "d = indust.concat_df\n",
    "d = d.fillna(np.nan)"
   ]
  },
  {
   "cell_type": "code",
   "execution_count": null,
   "metadata": {},
   "outputs": [],
   "source": [
    "d = indust.concat_df\n",
    "d = d.fillna(np.nan)\n",
    "d = d.infer_objects()\n",
    "d['Average'] = d[1:].mean(axis=1)\n",
    "d['Average'] = pandas.to_numeric(d['Average'], errors='coerce')"
   ]
  },
  {
   "cell_type": "code",
   "execution_count": null,
   "metadata": {},
   "outputs": [],
   "source": []
  },
  {
   "cell_type": "code",
   "execution_count": null,
   "metadata": {},
   "outputs": [],
   "source": [
    "form = lambda x: float(d['Average'][x])\n",
    "rnd = lambda x: round(d['Average'][x], 2)"
   ]
  },
  {
   "cell_type": "code",
   "execution_count": null,
   "metadata": {},
   "outputs": [],
   "source": [
    "d1 = d.iloc[1:]\n",
    "d['Average'] = d.iloc[1:].mean(axis=1)\n",
    "d_T = d.T.style.format({'perc_change': lambda x: \"{:.2f}%\".format(x*100), \n",
    "                        'price': lambda x: \"${:.2f}\".format(x), \n",
    "                        'dividend yield': lambda x: \"{:.2f}%\".format(x*100), \n",
    "                        'total_return': lambda x: \"{:.2f}%\".format(x*100), \n",
    "                        'returns (adj)': lambda x: \"{:.2f}%\".format(x*100), \n",
    "                        '1/PE': lambda x: \"{:.2f}%\".format(x*100), \n",
    "                       'dividend': lambda x: \"${:.2f}\".format(x),\n",
    "                       'volume': lambda x: \"{:,.0f}\".format(x),\n",
    "                       'marketcap': lambda x: \"{:,.0f}\".format(x),\n",
    "                        'shares outstanding': lambda x: \"{:,.0f}\".format(x)\n",
    "                       })\n",
    "d_T"
   ]
  },
  {
   "cell_type": "code",
   "execution_count": null,
   "metadata": {},
   "outputs": [],
   "source": []
  }
 ],
 "metadata": {
  "kernelspec": {
   "display_name": "Python 3",
   "language": "python",
   "name": "python3"
  },
  "language_info": {
   "codemirror_mode": {
    "name": "ipython",
    "version": 3
   },
   "file_extension": ".py",
   "mimetype": "text/x-python",
   "name": "python",
   "nbconvert_exporter": "python",
   "pygments_lexer": "ipython3",
   "version": "3.7.3"
  }
 },
 "nbformat": 4,
 "nbformat_minor": 2
}
