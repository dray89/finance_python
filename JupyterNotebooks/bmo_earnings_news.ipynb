{
 "cells": [
  {
   "cell_type": "code",
   "execution_count": 1,
   "metadata": {},
   "outputs": [],
   "source": [
    "from news_updates.news_sources_v3 import News\n",
    "import time"
   ]
  },
  {
   "cell_type": "code",
   "execution_count": 2,
   "metadata": {},
   "outputs": [
    {
     "data": {
      "text/plain": [
       "'C:\\\\Users\\\\rayde\\\\iCloudDrive\\\\GitHub'"
      ]
     },
     "execution_count": 2,
     "metadata": {},
     "output_type": "execute_result"
    }
   ],
   "source": [
    "pwd"
   ]
  },
  {
   "cell_type": "code",
   "execution_count": 5,
   "metadata": {},
   "outputs": [],
   "source": [
    "search = ['Bell-Rogers-Telus-ATT']"
   ]
  },
  {
   "cell_type": "code",
   "execution_count": 6,
   "metadata": {},
   "outputs": [
    {
     "name": "stdout",
     "output_type": "stream",
     "text": [
      "--- 21.374404191970825 seconds ---\n"
     ]
    }
   ],
   "source": [
    "start_time = time.time()\n",
    "WN = News(search[0])\n",
    "print(\"--- %s seconds ---\" % (time.time() - start_time))"
   ]
  },
  {
   "cell_type": "code",
   "execution_count": 7,
   "metadata": {},
   "outputs": [
    {
     "data": {
      "text/plain": [
       "['used',\n",
       " 'tv',\n",
       " 'seven',\n",
       " 'report',\n",
       " 'past',\n",
       " 'stands',\n",
       " 'service',\n",
       " 'subscribe',\n",
       " 'read',\n",
       " 'paid']"
      ]
     },
     "execution_count": 7,
     "metadata": {},
     "output_type": "execute_result"
    }
   ],
   "source": [
    "WN.art_list[1].keywords"
   ]
  },
  {
   "cell_type": "code",
   "execution_count": 8,
   "metadata": {},
   "outputs": [
    {
     "data": {
      "text/plain": [
       "20"
      ]
     },
     "execution_count": 8,
     "metadata": {},
     "output_type": "execute_result"
    }
   ],
   "source": [
    "len(WN.links)"
   ]
  },
  {
   "cell_type": "code",
   "execution_count": 9,
   "metadata": {},
   "outputs": [
    {
     "name": "stdout",
     "output_type": "stream",
     "text": [
      "9\n"
     ]
    }
   ],
   "source": [
    "arts = WN.art_list\n",
    "\n",
    "for i, each in enumerate(arts):\n",
    "    if each.summary == '':\n",
    "        print(i)\n",
    "        arts.pop(i)\n",
    "    else:\n",
    "        pass"
   ]
  },
  {
   "cell_type": "code",
   "execution_count": 10,
   "metadata": {},
   "outputs": [
    {
     "data": {
      "text/plain": [
       "19"
      ]
     },
     "execution_count": 10,
     "metadata": {},
     "output_type": "execute_result"
    }
   ],
   "source": [
    "len(arts)"
   ]
  },
  {
   "cell_type": "code",
   "execution_count": 11,
   "metadata": {},
   "outputs": [
    {
     "name": "stdout",
     "output_type": "stream",
     "text": [
      "Bell, Rogers and Telus tie for Canada’s most trusted carrier: survey [] \n",
      " Traffix puts all of your city planning skills to the test [Game of the... \n",
      "----------------------------------------------------------------------------------------------------\n",
      "Subscribe [] \n",
      " OTTAWA — The number of people in Canada who used to have a paid TV service in the past but no longer subscribe now stands at one in seven Canadians, according to a new report from the Media… Read More » \n",
      "----------------------------------------------------------------------------------------------------\n",
      "Bell Coverage Map: How it Compares [] \n",
      " Virgin Mobile, Lucky Mobile and PC Mobile operate on the Bell network, offering lower-priced plans with the same great coverage.\n",
      "How Bell Mobility's Coverage ComparesBoth Bell and Telus share the crown for best coverage.\n",
      "Even though Bell shares the same cell phone towers, issues with call and connectivity result in Bell scoring 2/5 or 3/5.\n",
      "On top of nearly complete urban coverage, Bell also features Canada's best coverage of rural areas.\n",
      "Provincial Cell Phone Coverage Guides:Cell Phone Coverage by City:Carriers That Use the Bell Mobility NetworkBell offers great Family Sharing plans and plans that let you use your data while travelling to other countries like the US. \n",
      "----------------------------------------------------------------------------------------------------\n",
      "Reddit users tested throttling on Rogers, Telus Unlimited plans and the results aren't good [] \n",
      " Traffix puts all of your city planning skills to the test [Game of the... \n",
      "----------------------------------------------------------------------------------------------------\n",
      "Canadian wireless operators spend $3.5B in 5G spectrum auction; Rogers buys most as Bell sits out [] \n",
      " “That’s really important because where there’s strong regional competition, Canadians pay one third less on their cellphone bills,” Bains said.\n",
      "In a news release, Bell said it decided not to buy any 600 MHz spectrum because it already has enough in other bands.\n",
      "In the American 600 MHz auction, AT&T spent about US$1 billion on spectrum while Verizon and Sprint sat out.\n",
      "But he “would not read too much into BCE’s surprising lack of 600 Mhz spectrum or Rogers’ greater than expected cash outlay,” McReynolds wrote in a note to clients Wednesday.\n",
      "It’s important to consider their existing spectrum portfolio, the upcoming 3500 MHz auction in 2020 and potential differences in approach to 5G architecture, he noted. \n",
      "----------------------------------------------------------------------------------------------------\n",
      "AT&T Extends LTE-M Roaming to Canada with Partnership with Bell, Rogers and TELUS ['Ray Sharma'] \n",
      " AT&T has signed separate roaming agreements with Bell, Rogers and TELUS to extend its LTE-M Roaming to Canada for Internet of Things.\n",
      "Bell, Rogers and TELUS operate cellular networks that cover most of the 37 million people in Canada.\n",
      "In addition to enabling AT&T customers to roam into each of their respective regions in Canada, these reciprocal agreements also enable Bell, Rogers and TELUS to expand their LTE-M footprint into the U.S.\n",
      "AT&T’s LTE-M network and roaming agreements now cover the U.S., Canada and Mexico.\n",
      "Combined with existing roaming agreements covering parts of Europe, AT&T claims that its enterprise customers now have access to the largest LTE-M ecosystem in the world. \n",
      "----------------------------------------------------------------------------------------------------\n",
      "Cell Phone Coverage At The Cottage [] \n",
      " Cell Phone Coverage in Quebec Chateau RegionsSome of Canada's oldest and most beautiful cities to visit are in Quebec.\n",
      "Cell Phone Coverage in Gatineau and The OutaouaisCoverage around Ottawa is some of the best in Canada.\n",
      "Cell Phone Coverage in The LaurentiansOh, I love the Laurentians though I admit I've only ever visited in the winter.\n",
      "Cell Phone Coverage in the Eastern TownshipsAs you travel from Montreal or Quebec City towards the Appalachians, the land becomes more mountainous and more difficult for cell phone signals.\n",
      "Cell Phone Coverage on Pacific CoastWith about half the population of the province, the Vancouver region features excellent coverage by Bell, Rogers and Telus. \n",
      "----------------------------------------------------------------------------------------------------\n",
      "Canadian telcos ink reciprocal LTE-M roaming deals with AT&T ['Juan Pedro Tomás'] \n",
      " Canadian telecom operators Bell, Telus and Rogers have struck roaming partnerships with AT&T to provide their business customers access to AT&T’s LTE-M network across the United States.\n",
      "Bell, which claims to be the first telco to launch LTE-M services in Canada, said that the reciprocal agreement enables AT&T customers to roam on Bell’s national LTE-M network in Canada.\n",
      "Bell highlighted that its LTE-M network supports asset tracking, fleet management, smart sensors, smart city applications and municipal water system management.\n",
      "Telus also said that the agreement is reciprocal, meaning that AT&T customers in the United States will be able to roam on Telus’ LTE-M network in Canada.\n",
      "This agreement, too, is a reciprocal one which allows Rogers IoT customers to roam on the AT&T LTE-M network while in the US and for AT&T customers to roam on the Rogers LTE-M network in Canada. \n",
      "----------------------------------------------------------------------------------------------------\n",
      "Unlimited Data Plans in Canada (Updated with Rogers, Bell and Telus) [] \n",
      " Telus also followed the trend and released promotional unlimited data plans that matched Rogers and Bell plans.\n",
      "Slower Unlimited Data SpeedsThe third option some carriers offer lets you continue to download unlimited data but at slower speeds.\n",
      "We've listed all the carriers in Canada with unlimited data plans, but read our Best Unlimited Data Plans in Canada guide to find the best plan for your needs.\n",
      "Best Unlimited Data Plan on Bell MobilityBell Bell Unlimited 50 Carrier Bell Data 50GB Full Speed Data Type No Contract Current Deal For an extra $20/mo.\n",
      "Following the launch of nationwide unlimited data plans from Rogers, Bell and Telus, Lucky Mobile now offers nationwide unlimited data. \n",
      "----------------------------------------------------------------------------------------------------\n",
      "Telus Coverage Map: How it Compares [] \n",
      " Today if there is any cell phone coverage where you're at, then odds are high that Telus has you covered.\n",
      "How Telus Mobility's Coverage ComparesWe're about to get into the data in a minute to help understand how Telus takes the crown for best coverage.\n",
      "Most major highways are well covered by Telus, and if there's any cell phone coverage at all then odds are high that Telus will be there (Northern Ontario coverage being the only exception).\n",
      "Telus Mobility's Coverage in Your AreaYou can see how strong coverage is for Telus nationally covering 38% of the entire country with their high-speed LTE network.\n",
      "Both are owned by Telus and there's not currently any 3rd-party MVNO's on the Telus Mobility network. \n",
      "----------------------------------------------------------------------------------------------------\n",
      "SureCall Announces the N-Range 2.0 Signal Booster for Vehicles [] \n",
      " FREMONT, Calif., Sept. 26, 2019 /PRNewswire/ -- SureCall, the performance leader in cell signal booster solutions, today announced the next development in the award-winning car cell phone signal booster line: the N-Range 2.0 .\n",
      "This model features a new and improved cell phone cradle with spring-loaded gripper arms that can securely fasten virtually any size cell phone.\n",
      "Under the ERT architecture, the N-Range 2.0 boosts cellular signals closer to their source, offering big performance from a compact package.\n",
      "This means that N-Range 2.0 users will continue to enjoy increased freedom from cell towers with a reliable cell phone signal that stays with them throughout larger areas of \"dead zones.\"\n",
      "AvailabilitySureCall's N-Range 2.0 is now available with pricing starting at $199.99 ($249.99 CND). \n",
      "----------------------------------------------------------------------------------------------------\n",
      "Subscribe [] \n",
      " OTTAWA — The number of people in Canada who used to have a paid TV service in the past but no longer subscribe now stands at one in seven Canadians, according to a new report from the Media… Read More » \n",
      "----------------------------------------------------------------------------------------------------\n",
      "AT&T collaborates with Bell Canada, Rogers Communications, and Telus over LTE-M network [] \n",
      " AT&T has signed roaming agreements with Canadian operators, including Bell Canada, Rogers Communications, and Telus, to support them in their endeavour towards the Internet of Things (IoT).\n",
      "The American telco would provide Bell, Rogers, and Telus access to its LTE-M network across the US.\n",
      "As part of the mutual agreement, AT&T customers would be able to roam on these Canadian carriers’ national LTE-M networks in Canada and so does the Bell, Rogers, and Telus’ customers would be able to roam on AT&T’s LTE-M network in the US.\n",
      "In August, AT&T started rolling out its 5G network in New York City.\n",
      "Attend the co-located 5G Expo, IoT Tech Expo, Blockchain Expo, AI & Big Data Expo, and Cyber Security & Cloud Expo World Series with upcoming events in Silicon Valley, London, and Amsterdam. \n",
      "----------------------------------------------------------------------------------------------------\n",
      "Rogers Coverage Map: How it Compares [] \n",
      " How Rogers Wireless Coverage ComparesRogers has less geographic coverage than Bell and Telus, but better compatibility with older technology.\n",
      "Even so, most cities have around 99.9% coverage so is there another way to determine who has the best network coverage?\n",
      "How Good is Rogers Wireless' Coverage?\n",
      "Rogers Wireless Coverage in Your AreaYou can see how strong coverage is for Rogers nationally covering 20% of the entire country with their high-speed LTE network.\n",
      "Provincial Cell Phone Coverage Guides:Cell Phone Coverage by City:Carriers That Use the Rogers Wireless NetworkTelus offers great Family Sharing plans, and plans that let you use your data while travelling to other countries like the US or China. \n",
      "----------------------------------------------------------------------------------------------------\n",
      "The Truth About Unlimited Data [] \n",
      " When comparing unlimited data plans, you should consider price, full speed data cap and unlimited data speeds.\n",
      "US Unlimited Data Plans Get Full SpeedIn the US, unlimited data is often handled differently.\n",
      "US Unlimited Data Has Other LimitsThere are a lot of differences between Canadian unlimited data plans.\n",
      "Most Popular** Unlimited Plans in the U.S. Carrier Plan Speeds May Slow During Congestion Cost (USD) Sprint Unlimited Kickstart Plan At any 50GB $25/month Sprint Unlimited Plus Plan After 50GB $60/month Verizon Go Unlimited Plan At any time $75/month Metro by T-Mobile $50 Unlimited Plan After 35GB $50/month AT&T Unlimited &More At any time $70/month Verizon Beyond Unlimited Plan After 22GB $85/month T-Mobile Magenta Plus After 50GB $85/month Sprint Unlimited Basic Plan After 50GB $60/month AT&T Unlimited &More Premium After 22GB $80/month Metro by T-Mobile $60 Unlimited Plan After 35GB $60/month**Popularity judged based on WhistleOut US results.\n",
      "Picking a Canadian Unlimited Data PlanNow that you understand all Canadian unlimited data plans give you a set amount of full speed data before throttling data overages, you're ready to pick the plan that's best for you. \n",
      "----------------------------------------------------------------------------------------------------\n",
      "Bell vs Rogers vs Telus: What's the Difference? [] \n",
      " Why Do Bell, Rogers and Telus Services Look The Same?\n",
      "There are three nationwide telecommunications companies that serve Canada; Bell, Rogers and Telus.\n",
      "Telus coverage and Bell coverage couldn't compete.\n",
      "Bundling mobile services with cable TV isn't an option, but bundling with other mobile services is.\n",
      "Because of this competition, Bell, Rogers and Telus will often offers better deals in these provinces. \n",
      "----------------------------------------------------------------------------------------------------\n",
      "Bell, Telus offer most consistent network quality in Canada: Tutela report [] \n",
      " Traffix puts all of your city planning skills to the test [Game of the... \n",
      "----------------------------------------------------------------------------------------------------\n",
      "Freedom Mobile Coverage Map: How it Compares [] \n",
      " If you want a national cell phone carrier, stick to the three major wireless cell phone networks: Bell, Rogers and Telus.\n",
      "How Freedom Mobile's Coverage ComparesWe're about to get into the data in a minute to help understand how Freedom Mobile handles coverage.\n",
      "Freedom Network 2019 ExpansionStarting in late 2018, Freedom Mobile began agressively launching new Freedom Network zones in more cities.\n",
      "Freedom Mobile's Coverage in Your AreaNow you'll want to find out if the Freedom Mobile network has sufficient coverage is in your specific area.\n",
      "Provincial Cell Phone Coverage Guides:Cell Phone Coverage by City:Other Carriers That Use the Freedom Mobile NetworkBell, Rogers and Telus all resell their service to smaller operators who resell service at cheaper rates. \n",
      "----------------------------------------------------------------------------------------------------\n",
      "The Best Cell Phone Coverage in Canada [] \n",
      " Article SummaryCanada's best coverage nationally comes from Telus with the best mobile coverage, fastest connectivity and most reliable service.\n",
      "Cell Phone Network Coverage MapThis map allows you to compare 4G and 3G coverage across the three major national networks: Bell, Rogers and Telus.\n",
      "Rogers service is lacking - especially in Saskatchewan where there is almost no Rogers service except on major highways.\n",
      "Western Canada Provincial and Territory Coverage Guides:Western Canada City Coverage Guides:Ontario and Quebec Coverage MapsSouthern Ontario features nearly 100% coverage from the three national networks; Bell, Rogers and Telus.\n",
      "East Coast Provincial Coverage Guides:East Coast Canada City Coverage Guides:Cell Phone Coverage by AreaHere's how the carrier coverage breaks down nationally by geographical area. \n",
      "----------------------------------------------------------------------------------------------------\n"
     ]
    }
   ],
   "source": [
    "for each in arts:\n",
    "    print(each.title, each.authors, '\\n', each.summary, '\\n' + '-'*100)"
   ]
  },
  {
   "cell_type": "code",
   "execution_count": null,
   "metadata": {},
   "outputs": [],
   "source": [
    "keywords = set()\n",
    "for each in arts:\n",
    "    for i in each.keywords:\n",
    "        keywords.add(i)"
   ]
  },
  {
   "cell_type": "code",
   "execution_count": null,
   "metadata": {},
   "outputs": [],
   "source": [
    "for each in keywords:\n",
    "    print(each + \",\")"
   ]
  },
  {
   "cell_type": "code",
   "execution_count": null,
   "metadata": {},
   "outputs": [],
   "source": [
    "search = ['CGX-Energy-tsx-oyl-v']"
   ]
  },
  {
   "cell_type": "code",
   "execution_count": null,
   "metadata": {},
   "outputs": [],
   "source": [
    "start_time = time.time()\n",
    "DOL = News(search[0])\n",
    "print(\"--- %s seconds ---\" % (time.time() - start_time))"
   ]
  },
  {
   "cell_type": "code",
   "execution_count": null,
   "metadata": {
    "scrolled": true
   },
   "outputs": [],
   "source": [
    "DOL"
   ]
  },
  {
   "cell_type": "code",
   "execution_count": null,
   "metadata": {},
   "outputs": [],
   "source": [
    "arts = DOL.art_list\n",
    "\n",
    "for each in arts:\n",
    "    if each.summary == ' ':\n",
    "        print(each.index)\n",
    "    else:\n",
    "        pass"
   ]
  },
  {
   "cell_type": "code",
   "execution_count": null,
   "metadata": {},
   "outputs": [],
   "source": [
    "titles = []\n",
    "for each in arts:\n",
    "    titles.append(each.title)"
   ]
  },
  {
   "cell_type": "code",
   "execution_count": null,
   "metadata": {},
   "outputs": [],
   "source": [
    "titles"
   ]
  },
  {
   "cell_type": "code",
   "execution_count": null,
   "metadata": {
    "scrolled": true
   },
   "outputs": [],
   "source": [
    "for each in arts:\n",
    "    print(each.title, each.authors, '\\n', each.summary, '\\n' + '-'*100)"
   ]
  },
  {
   "cell_type": "code",
   "execution_count": null,
   "metadata": {},
   "outputs": [],
   "source": [
    "for each in keywords:\n",
    "    print(each + \",\")"
   ]
  },
  {
   "cell_type": "code",
   "execution_count": null,
   "metadata": {},
   "outputs": [],
   "source": []
  },
  {
   "cell_type": "code",
   "execution_count": null,
   "metadata": {},
   "outputs": [],
   "source": [
    "search = ['Cannabis-Stock-WeedMD-WDDMF']"
   ]
  },
  {
   "cell_type": "code",
   "execution_count": null,
   "metadata": {},
   "outputs": [],
   "source": [
    "start_time = time.time()\n",
    "MG = News(search[0])\n",
    "print(\"--- %s seconds ---\" % (time.time() - start_time))"
   ]
  },
  {
   "cell_type": "code",
   "execution_count": null,
   "metadata": {
    "scrolled": true
   },
   "outputs": [],
   "source": [
    "MG"
   ]
  },
  {
   "cell_type": "code",
   "execution_count": null,
   "metadata": {},
   "outputs": [],
   "source": [
    "arts = MG.art_list\n",
    "\n",
    "for each in arts:\n",
    "    if each.summary == ' ':\n",
    "        print(each.index)\n",
    "    else:\n",
    "        pass"
   ]
  },
  {
   "cell_type": "code",
   "execution_count": null,
   "metadata": {
    "scrolled": true
   },
   "outputs": [],
   "source": [
    "for each in arts:\n",
    "    print(each.title, each.authors, '\\n', each.summary, '\\n' + '-'*100)"
   ]
  },
  {
   "cell_type": "code",
   "execution_count": null,
   "metadata": {},
   "outputs": [],
   "source": [
    "for each in keywords:\n",
    "    print(each + \",\")"
   ]
  },
  {
   "cell_type": "code",
   "execution_count": null,
   "metadata": {},
   "outputs": [],
   "source": []
  },
  {
   "cell_type": "code",
   "execution_count": null,
   "metadata": {},
   "outputs": [],
   "source": []
  }
 ],
 "metadata": {
  "kernelspec": {
   "display_name": "Python 3",
   "language": "python",
   "name": "python3"
  },
  "language_info": {
   "codemirror_mode": {
    "name": "ipython",
    "version": 3
   },
   "file_extension": ".py",
   "mimetype": "text/x-python",
   "name": "python",
   "nbconvert_exporter": "python",
   "pygments_lexer": "ipython3",
   "version": "3.7.1"
  }
 },
 "nbformat": 4,
 "nbformat_minor": 2
}
