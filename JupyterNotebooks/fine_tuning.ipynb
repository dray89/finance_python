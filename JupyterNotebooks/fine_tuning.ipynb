{
 "cells": [
  {
   "cell_type": "code",
   "execution_count": 1,
   "metadata": {},
   "outputs": [],
   "source": [
    "import sys, os, time\n",
    "import finance_python\n",
    "from finance_python.stock_scraper_v3 import get_data\n",
    "from finance_python.balance_sheet import balance_sheet\n",
    "from finance_python.financials import financials\n",
    "from finance_python.industry import industry\n",
    "import numpy as np\n",
    "import pandas\n",
    "from datetime import datetime, date\n",
    "from pandas import DataFrame"
   ]
  },
  {
   "cell_type": "code",
   "execution_count": 2,
   "metadata": {},
   "outputs": [],
   "source": [
    "ind_list = ['WEED.TO', 'ACB.TO', 'CRON.TO', \n",
    "                  'APHA.TO', 'HEXO.TO', 'TGOD.TO', 'CWEB.TO',\n",
    "                    'NEPT.TO', 'FIRE.TO', 'TRST.TO', 'ALEF.TO', 'CORV.TO']\n"
   ]
  },
  {
   "cell_type": "code",
   "execution_count": 9,
   "metadata": {},
   "outputs": [],
   "source": [
    "start = date(2018, 8, 12)\n",
    "end = date(2019, 8, 12)\n",
    "\n",
    "weed = get_data('AAPL', start, end)"
   ]
  },
  {
   "cell_type": "code",
   "execution_count": 27,
   "metadata": {
    "scrolled": true
   },
   "outputs": [],
   "source": [
    "df = float(weed.bsd.stats.T['52-Week Change 3'][0].rstrip('%'))"
   ]
  },
  {
   "cell_type": "code",
   "execution_count": 40,
   "metadata": {},
   "outputs": [
    {
     "data": {
      "text/html": [
       "<div>\n",
       "<style scoped>\n",
       "    .dataframe tbody tr th:only-of-type {\n",
       "        vertical-align: middle;\n",
       "    }\n",
       "\n",
       "    .dataframe tbody tr th {\n",
       "        vertical-align: top;\n",
       "    }\n",
       "\n",
       "    .dataframe thead th {\n",
       "        text-align: right;\n",
       "    }\n",
       "</style>\n",
       "<table border=\"1\" class=\"dataframe\">\n",
       "  <thead>\n",
       "    <tr style=\"text-align: right;\">\n",
       "      <th></th>\n",
       "      <th>AAPL</th>\n",
       "    </tr>\n",
       "  </thead>\n",
       "  <tbody>\n",
       "    <tr>\n",
       "      <th>Market Cap (intraday) 5</th>\n",
       "      <td>916.26B</td>\n",
       "    </tr>\n",
       "    <tr>\n",
       "      <th>Enterprise Value 3</th>\n",
       "      <td>958.18B</td>\n",
       "    </tr>\n",
       "    <tr>\n",
       "      <th>Trailing P/E</th>\n",
       "      <td>17.22</td>\n",
       "    </tr>\n",
       "    <tr>\n",
       "      <th>Forward P/E 1</th>\n",
       "      <td>15.80</td>\n",
       "    </tr>\n",
       "    <tr>\n",
       "      <th>PEG Ratio (5 yr expected) 1</th>\n",
       "      <td>1.84</td>\n",
       "    </tr>\n",
       "    <tr>\n",
       "      <th>Price/Sales (ttm)</th>\n",
       "      <td>3.54</td>\n",
       "    </tr>\n",
       "    <tr>\n",
       "      <th>Price/Book (mrq)</th>\n",
       "      <td>9.53</td>\n",
       "    </tr>\n",
       "    <tr>\n",
       "      <th>Enterprise Value/Revenue 3</th>\n",
       "      <td>3.70</td>\n",
       "    </tr>\n",
       "    <tr>\n",
       "      <th>Enterprise Value/EBITDA 6</th>\n",
       "      <td>12.52</td>\n",
       "    </tr>\n",
       "    <tr>\n",
       "      <th>Beta (3Y Monthly)</th>\n",
       "      <td>1.08</td>\n",
       "    </tr>\n",
       "    <tr>\n",
       "      <th>52-Week Change 3</th>\n",
       "      <td>-0.60%</td>\n",
       "    </tr>\n",
       "    <tr>\n",
       "      <th>S&amp;P500 52-Week Change 3</th>\n",
       "      <td>3.83%</td>\n",
       "    </tr>\n",
       "    <tr>\n",
       "      <th>52 Week High 3</th>\n",
       "      <td>233.47</td>\n",
       "    </tr>\n",
       "    <tr>\n",
       "      <th>52 Week Low 3</th>\n",
       "      <td>142.00</td>\n",
       "    </tr>\n",
       "    <tr>\n",
       "      <th>50-Day Moving Average 3</th>\n",
       "      <td>203.37</td>\n",
       "    </tr>\n",
       "    <tr>\n",
       "      <th>200-Day Moving Average 3</th>\n",
       "      <td>190.91</td>\n",
       "    </tr>\n",
       "    <tr>\n",
       "      <th>Avg Vol (3 month) 3</th>\n",
       "      <td>26.51M</td>\n",
       "    </tr>\n",
       "    <tr>\n",
       "      <th>Avg Vol (10 day) 3</th>\n",
       "      <td>32.61M</td>\n",
       "    </tr>\n",
       "    <tr>\n",
       "      <th>Shares Outstanding 5</th>\n",
       "      <td>4.6B</td>\n",
       "    </tr>\n",
       "    <tr>\n",
       "      <th>Float</th>\n",
       "      <td>4.26B</td>\n",
       "    </tr>\n",
       "    <tr>\n",
       "      <th>% Held by Insiders 1</th>\n",
       "      <td>0.07%</td>\n",
       "    </tr>\n",
       "    <tr>\n",
       "      <th>% Held by Institutions 1</th>\n",
       "      <td>60.95%</td>\n",
       "    </tr>\n",
       "    <tr>\n",
       "      <th>Shares Short (Jul 31, 2019) 4</th>\n",
       "      <td>43.01M</td>\n",
       "    </tr>\n",
       "    <tr>\n",
       "      <th>Short Ratio (Jul 31, 2019) 4</th>\n",
       "      <td>2</td>\n",
       "    </tr>\n",
       "    <tr>\n",
       "      <th>Short % of Float (Jul 31, 2019) 4</th>\n",
       "      <td>0.91%</td>\n",
       "    </tr>\n",
       "    <tr>\n",
       "      <th>Short % of Shares Outstanding (Jul 31, 2019) 4</th>\n",
       "      <td>0.95%</td>\n",
       "    </tr>\n",
       "    <tr>\n",
       "      <th>Shares Short (prior month Jun 28, 2019) 4</th>\n",
       "      <td>43.45M</td>\n",
       "    </tr>\n",
       "    <tr>\n",
       "      <th>Forward Annual Dividend Rate 4</th>\n",
       "      <td>3.08</td>\n",
       "    </tr>\n",
       "    <tr>\n",
       "      <th>Forward Annual Dividend Yield 4</th>\n",
       "      <td>1.47%</td>\n",
       "    </tr>\n",
       "    <tr>\n",
       "      <th>Trailing Annual Dividend Rate 3</th>\n",
       "      <td>2.96</td>\n",
       "    </tr>\n",
       "    <tr>\n",
       "      <th>Trailing Annual Dividend Yield 3</th>\n",
       "      <td>1.42%</td>\n",
       "    </tr>\n",
       "    <tr>\n",
       "      <th>5 Year Average Dividend Yield 4</th>\n",
       "      <td>1.66</td>\n",
       "    </tr>\n",
       "    <tr>\n",
       "      <th>Payout Ratio 4</th>\n",
       "      <td>25.13%</td>\n",
       "    </tr>\n",
       "    <tr>\n",
       "      <th>Dividend Date 3</th>\n",
       "      <td>Aug 15, 2019</td>\n",
       "    </tr>\n",
       "    <tr>\n",
       "      <th>Ex-Dividend Date 4</th>\n",
       "      <td>Aug 9, 2019</td>\n",
       "    </tr>\n",
       "    <tr>\n",
       "      <th>Last Split Factor (new per old) 2</th>\n",
       "      <td>1/7</td>\n",
       "    </tr>\n",
       "    <tr>\n",
       "      <th>Last Split Date 3</th>\n",
       "      <td>Jun 9, 2014</td>\n",
       "    </tr>\n",
       "    <tr>\n",
       "      <th>Fiscal Year Ends</th>\n",
       "      <td>Sep 29, 2018</td>\n",
       "    </tr>\n",
       "    <tr>\n",
       "      <th>Most Recent Quarter (mrq)</th>\n",
       "      <td>Jun 29, 2019</td>\n",
       "    </tr>\n",
       "    <tr>\n",
       "      <th>Profit Margin</th>\n",
       "      <td>21.50%</td>\n",
       "    </tr>\n",
       "    <tr>\n",
       "      <th>Operating Margin (ttm)</th>\n",
       "      <td>24.87%</td>\n",
       "    </tr>\n",
       "    <tr>\n",
       "      <th>Return on Assets (ttm)</th>\n",
       "      <td>11.99%</td>\n",
       "    </tr>\n",
       "    <tr>\n",
       "      <th>Return on Equity (ttm)</th>\n",
       "      <td>52.69%</td>\n",
       "    </tr>\n",
       "    <tr>\n",
       "      <th>Revenue (ttm)</th>\n",
       "      <td>259.03B</td>\n",
       "    </tr>\n",
       "    <tr>\n",
       "      <th>Revenue Per Share (ttm)</th>\n",
       "      <td>55.17</td>\n",
       "    </tr>\n",
       "    <tr>\n",
       "      <th>Quarterly Revenue Growth (yoy)</th>\n",
       "      <td>1.00%</td>\n",
       "    </tr>\n",
       "    <tr>\n",
       "      <th>Gross Profit (ttm)</th>\n",
       "      <td>101.84B</td>\n",
       "    </tr>\n",
       "    <tr>\n",
       "      <th>EBITDA</th>\n",
       "      <td>76.54B</td>\n",
       "    </tr>\n",
       "    <tr>\n",
       "      <th>Net Income Avi to Common (ttm)</th>\n",
       "      <td>55.69B</td>\n",
       "    </tr>\n",
       "    <tr>\n",
       "      <th>Diluted EPS (ttm)</th>\n",
       "      <td>11.78</td>\n",
       "    </tr>\n",
       "    <tr>\n",
       "      <th>Quarterly Earnings Growth (yoy)</th>\n",
       "      <td>-12.80%</td>\n",
       "    </tr>\n",
       "    <tr>\n",
       "      <th>Total Cash (mrq)</th>\n",
       "      <td>94.61B</td>\n",
       "    </tr>\n",
       "    <tr>\n",
       "      <th>Total Cash Per Share (mrq)</th>\n",
       "      <td>20.94</td>\n",
       "    </tr>\n",
       "    <tr>\n",
       "      <th>Total Debt (mrq)</th>\n",
       "      <td>108.42B</td>\n",
       "    </tr>\n",
       "    <tr>\n",
       "      <th>Total Debt/Equity (mrq)</th>\n",
       "      <td>112.40</td>\n",
       "    </tr>\n",
       "    <tr>\n",
       "      <th>Current Ratio (mrq)</th>\n",
       "      <td>1.50</td>\n",
       "    </tr>\n",
       "    <tr>\n",
       "      <th>Book Value Per Share (mrq)</th>\n",
       "      <td>21.29</td>\n",
       "    </tr>\n",
       "    <tr>\n",
       "      <th>Operating Cash Flow (ttm)</th>\n",
       "      <td>69B</td>\n",
       "    </tr>\n",
       "    <tr>\n",
       "      <th>Levered Free Cash Flow (ttm)</th>\n",
       "      <td>44.85B</td>\n",
       "    </tr>\n",
       "  </tbody>\n",
       "</table>\n",
       "</div>"
      ],
      "text/plain": [
       "                                                        AAPL\n",
       "Market Cap (intraday) 5                              916.26B\n",
       "Enterprise Value 3                                   958.18B\n",
       "Trailing P/E                                           17.22\n",
       "Forward P/E 1                                          15.80\n",
       "PEG Ratio (5 yr expected) 1                             1.84\n",
       "Price/Sales (ttm)                                       3.54\n",
       "Price/Book (mrq)                                        9.53\n",
       "Enterprise Value/Revenue 3                              3.70\n",
       "Enterprise Value/EBITDA 6                              12.52\n",
       "Beta (3Y Monthly)                                       1.08\n",
       "52-Week Change 3                                      -0.60%\n",
       "S&P500 52-Week Change 3                                3.83%\n",
       "52 Week High 3                                        233.47\n",
       "52 Week Low 3                                         142.00\n",
       "50-Day Moving Average 3                               203.37\n",
       "200-Day Moving Average 3                              190.91\n",
       "Avg Vol (3 month) 3                                   26.51M\n",
       "Avg Vol (10 day) 3                                    32.61M\n",
       "Shares Outstanding 5                                    4.6B\n",
       "Float                                                  4.26B\n",
       "% Held by Insiders 1                                   0.07%\n",
       "% Held by Institutions 1                              60.95%\n",
       "Shares Short (Jul 31, 2019) 4                         43.01M\n",
       "Short Ratio (Jul 31, 2019) 4                               2\n",
       "Short % of Float (Jul 31, 2019) 4                      0.91%\n",
       "Short % of Shares Outstanding (Jul 31, 2019) 4         0.95%\n",
       "Shares Short (prior month Jun 28, 2019) 4             43.45M\n",
       "Forward Annual Dividend Rate 4                          3.08\n",
       "Forward Annual Dividend Yield 4                        1.47%\n",
       "Trailing Annual Dividend Rate 3                         2.96\n",
       "Trailing Annual Dividend Yield 3                       1.42%\n",
       "5 Year Average Dividend Yield 4                         1.66\n",
       "Payout Ratio 4                                        25.13%\n",
       "Dividend Date 3                                 Aug 15, 2019\n",
       "Ex-Dividend Date 4                               Aug 9, 2019\n",
       "Last Split Factor (new per old) 2                        1/7\n",
       "Last Split Date 3                                Jun 9, 2014\n",
       "Fiscal Year Ends                                Sep 29, 2018\n",
       "Most Recent Quarter (mrq)                       Jun 29, 2019\n",
       "Profit Margin                                         21.50%\n",
       "Operating Margin (ttm)                                24.87%\n",
       "Return on Assets (ttm)                                11.99%\n",
       "Return on Equity (ttm)                                52.69%\n",
       "Revenue (ttm)                                        259.03B\n",
       "Revenue Per Share (ttm)                                55.17\n",
       "Quarterly Revenue Growth (yoy)                         1.00%\n",
       "Gross Profit (ttm)                                   101.84B\n",
       "EBITDA                                                76.54B\n",
       "Net Income Avi to Common (ttm)                        55.69B\n",
       "Diluted EPS (ttm)                                      11.78\n",
       "Quarterly Earnings Growth (yoy)                      -12.80%\n",
       "Total Cash (mrq)                                      94.61B\n",
       "Total Cash Per Share (mrq)                             20.94\n",
       "Total Debt (mrq)                                     108.42B\n",
       "Total Debt/Equity (mrq)                               112.40\n",
       "Current Ratio (mrq)                                     1.50\n",
       "Book Value Per Share (mrq)                             21.29\n",
       "Operating Cash Flow (ttm)                                69B\n",
       "Levered Free Cash Flow (ttm)                          44.85B"
      ]
     },
     "execution_count": 40,
     "metadata": {},
     "output_type": "execute_result"
    }
   ],
   "source": [
    "weed.bsd.stats"
   ]
  },
  {
   "cell_type": "code",
   "execution_count": null,
   "metadata": {},
   "outputs": [],
   "source": [
    "from finance_python.scrape import scrape\n",
    "import pandas as pd\n",
    "tab = scrape('WEED.TO').flow()"
   ]
  },
  {
   "cell_type": "code",
   "execution_count": null,
   "metadata": {},
   "outputs": [],
   "source": [
    "import lxml"
   ]
  },
  {
   "cell_type": "code",
   "execution_count": null,
   "metadata": {},
   "outputs": [],
   "source": [
    "df = pd.read_html(lxml.etree.tostring(tab[0], method='xml'))[0]"
   ]
  },
  {
   "cell_type": "code",
   "execution_count": null,
   "metadata": {},
   "outputs": [],
   "source": []
  },
  {
   "cell_type": "code",
   "execution_count": null,
   "metadata": {},
   "outputs": [],
   "source": [
    "df = df.replace('-', np.nan)\n",
    "df = df.dropna(how = 'all')"
   ]
  },
  {
   "cell_type": "code",
   "execution_count": null,
   "metadata": {},
   "outputs": [],
   "source": []
  },
  {
   "cell_type": "code",
   "execution_count": null,
   "metadata": {},
   "outputs": [],
   "source": [
    "df = df.set_index('Period Ending')\n",
    "rows = list(df.index)\n",
    "df.set_axis(rows, axis='rows', inplace=False)"
   ]
  },
  {
   "cell_type": "code",
   "execution_count": null,
   "metadata": {},
   "outputs": [],
   "source": [
    "df = df.replace('-', np.nan)\n",
    "df.iloc[0][0] = 'Dates'\n",
    "df = df.set_index(0)\n",
    "df = df.dropna(how = 'all')\n",
    "df"
   ]
  },
  {
   "cell_type": "code",
   "execution_count": null,
   "metadata": {},
   "outputs": [],
   "source": [
    "df"
   ]
  },
  {
   "cell_type": "code",
   "execution_count": null,
   "metadata": {},
   "outputs": [],
   "source": [
    "df = df.dropna(how = 'all')"
   ]
  },
  {
   "cell_type": "code",
   "execution_count": null,
   "metadata": {},
   "outputs": [],
   "source": [
    "df"
   ]
  },
  {
   "cell_type": "code",
   "execution_count": null,
   "metadata": {},
   "outputs": [],
   "source": [
    "weed.bsd.beta"
   ]
  },
  {
   "cell_type": "code",
   "execution_count": null,
   "metadata": {},
   "outputs": [],
   "source": [
    "timer_start = time.time()\n",
    "\n",
    "for each in ind_list:\n",
    "    try:        \n",
    "        dict1.append({each: get_data(each, start, end)})\n",
    "    except:\n",
    "        print('error in ', each)\n",
    "        \n",
    "timer_end = time.time()\n",
    "\n",
    "print(timer_end - timer_start)\n"
   ]
  },
  {
   "cell_type": "code",
   "execution_count": null,
   "metadata": {},
   "outputs": [],
   "source": [
    "data = list(map(lambda x, y: {y: dict1[x][y]}, range(0, len(dict1)), ind_list))"
   ]
  },
  {
   "cell_type": "code",
   "execution_count": null,
   "metadata": {},
   "outputs": [],
   "source": [
    "df = "
   ]
  },
  {
   "cell_type": "code",
   "execution_count": null,
   "metadata": {},
   "outputs": [],
   "source": [
    "df.div_r"
   ]
  },
  {
   "cell_type": "code",
   "execution_count": null,
   "metadata": {},
   "outputs": [],
   "source": [
    "df.perc_change + df.div_r"
   ]
  },
  {
   "cell_type": "code",
   "execution_count": null,
   "metadata": {},
   "outputs": [],
   "source": [
    "df.returns_adj"
   ]
  },
  {
   "cell_type": "code",
   "execution_count": null,
   "metadata": {},
   "outputs": [],
   "source": [
    "for each in enumerate(ind_list):\n",
    "    print(dict1[each[0]][each[1]].description, '\\n')"
   ]
  },
  {
   "cell_type": "code",
   "execution_count": null,
   "metadata": {},
   "outputs": [],
   "source": [
    "ind_bsd = list(map(lambda x, y: dict1[x][y].bsd, range(0, len(ind_list)), ind_list))"
   ]
  },
  {
   "cell_type": "code",
   "execution_count": null,
   "metadata": {},
   "outputs": [],
   "source": [
    "for index, each in enumerate(ind_bsd):\n",
    "    if hasattr(ind_bsd[index], 'changes'):\n",
    "        print(ind_bsd[index].changes)\n",
    "    else:\n",
    "        ind_bsd.pop(index)"
   ]
  },
  {
   "cell_type": "code",
   "execution_count": null,
   "metadata": {},
   "outputs": [],
   "source": [
    "len(ind_bsd)"
   ]
  },
  {
   "cell_type": "code",
   "execution_count": null,
   "metadata": {},
   "outputs": [],
   "source": [
    "ind_df = list(map(lambda x: pandas.DataFrame(ind_bsd[x].changes), range(0, len(ind_bsd))))"
   ]
  },
  {
   "cell_type": "code",
   "execution_count": null,
   "metadata": {},
   "outputs": [],
   "source": [
    "frame = pandas.concat(ind_df, sort=True, axis=1)\n",
    "frame"
   ]
  },
  {
   "cell_type": "code",
   "execution_count": null,
   "metadata": {},
   "outputs": [],
   "source": [
    "frame.idxmax(axis=1)"
   ]
  },
  {
   "cell_type": "code",
   "execution_count": null,
   "metadata": {},
   "outputs": [],
   "source": [
    "frame.idxmin(axis=1)"
   ]
  },
  {
   "cell_type": "code",
   "execution_count": null,
   "metadata": {},
   "outputs": [],
   "source": [
    "debt_inc = \"{0} increased its debt by {1} in the past year, the largest increase in debt in the industry.\"\n",
    "debt_dec =  \"Meanwhile, {0} decreased its debt by {1}.\""
   ]
  },
  {
   "cell_type": "code",
   "execution_count": null,
   "metadata": {},
   "outputs": [],
   "source": [
    "print(debt_inc.format(frame.idxmax(axis = 1)[1], np.max(frame.iloc[1])))\n",
    "print(debt_dec.format(frame.idxmin(axis = 1)[1], np.min(frame.iloc[1])))"
   ]
  },
  {
   "cell_type": "code",
   "execution_count": null,
   "metadata": {},
   "outputs": [],
   "source": [
    "maximum = []\n",
    "for each in enumerate(frame.idxmax(axis=1)):\n",
    "        i = frame.idxmax(axis=1).index[each[0]]\n",
    "        symbol = frame.idxmax(axis=1)[i]\n",
    "        maximum.append({symbol: [i, frame[each[1]].T[i]]})"
   ]
  },
  {
   "cell_type": "code",
   "execution_count": null,
   "metadata": {},
   "outputs": [],
   "source": [
    "maximum"
   ]
  },
  {
   "cell_type": "code",
   "execution_count": null,
   "metadata": {},
   "outputs": [],
   "source": [
    "minimum = []\n",
    "for each in enumerate(frame.idxmin(axis=1)):\n",
    "        i = frame.idxmin(axis=1).index[each[0]]\n",
    "        symbol = frame.idxmin(axis=1)[i]\n",
    "        minimum.append({symbol: [i, frame[each[1]].T[i]]})"
   ]
  },
  {
   "cell_type": "code",
   "execution_count": null,
   "metadata": {},
   "outputs": [],
   "source": [
    "minimum"
   ]
  },
  {
   "cell_type": "code",
   "execution_count": null,
   "metadata": {},
   "outputs": [],
   "source": [
    "max_sentence = \"{0} increased its {1} by {2} in the past year.\"\n",
    "min_sentence =  \"{0} decreased its {1} by {2}.\""
   ]
  },
  {
   "cell_type": "code",
   "execution_count": null,
   "metadata": {},
   "outputs": [],
   "source": [
    "for each in enumerate(maximum):\n",
    "    print(max_sentence.format(list(maximum[each[0]].keys())[0], list(maximum[each[0]].values())[0][0], list(maximum[each[0]].values())[0][1]))"
   ]
  },
  {
   "cell_type": "code",
   "execution_count": null,
   "metadata": {},
   "outputs": [],
   "source": [
    "for each in enumerate(minimum):\n",
    "    print(max_sentence.format(list(minimum[each[0]].keys())[0], list(minimum[each[0]].values())[0][0], list(minimum[each[0]].values())[0][1]))"
   ]
  },
  {
   "cell_type": "code",
   "execution_count": null,
   "metadata": {},
   "outputs": [],
   "source": [
    "bsd_list = list(map(lambda x, y: y.stats, range(0, len(ind_bsd)), ind_bsd))"
   ]
  },
  {
   "cell_type": "code",
   "execution_count": null,
   "metadata": {},
   "outputs": [],
   "source": []
  },
  {
   "cell_type": "code",
   "execution_count": null,
   "metadata": {},
   "outputs": [],
   "source": [
    "len(bsd_list)"
   ]
  },
  {
   "cell_type": "code",
   "execution_count": null,
   "metadata": {},
   "outputs": [],
   "source": [
    "dataframe = pandas.concat(bsd_list, sort=True, axis=1)\n",
    "dataframe = dataframe.dropna(how='all')"
   ]
  },
  {
   "cell_type": "code",
   "execution_count": null,
   "metadata": {},
   "outputs": [],
   "source": []
  },
  {
   "cell_type": "code",
   "execution_count": null,
   "metadata": {},
   "outputs": [],
   "source": [
    "a = industry(bsd_list)"
   ]
  },
  {
   "cell_type": "code",
   "execution_count": null,
   "metadata": {},
   "outputs": [],
   "source": [
    "a.attributes"
   ]
  },
  {
   "cell_type": "code",
   "execution_count": null,
   "metadata": {},
   "outputs": [],
   "source": [
    "ind = a.ind"
   ]
  },
  {
   "cell_type": "code",
   "execution_count": null,
   "metadata": {},
   "outputs": [],
   "source": [
    "averages = ind.mean(axis=1).dropna()"
   ]
  },
  {
   "cell_type": "code",
   "execution_count": null,
   "metadata": {},
   "outputs": [],
   "source": [
    "ind['Averages'] = averages"
   ]
  },
  {
   "cell_type": "code",
   "execution_count": null,
   "metadata": {},
   "outputs": [],
   "source": [
    "ind"
   ]
  },
  {
   "cell_type": "code",
   "execution_count": null,
   "metadata": {},
   "outputs": [],
   "source": [
    "maximum = []\n",
    "for each in enumerate(ind.idxmax(axis=1)):\n",
    "    if 'TGOD.TO' in each:\n",
    "        i = ind.idxmax(axis=1).index[each[0]]\n",
    "        maximum.append({i: ind['TGOD.TO'].T[i]})"
   ]
  },
  {
   "cell_type": "code",
   "execution_count": null,
   "metadata": {},
   "outputs": [],
   "source": [
    "maximum"
   ]
  },
  {
   "cell_type": "code",
   "execution_count": null,
   "metadata": {},
   "outputs": [],
   "source": [
    "minimum = []\n",
    "for each in enumerate(ind.idxmin(axis=1)):\n",
    "    if 'TGOD.TO' in each:\n",
    "        i = ind.idxmin(axis=1).index[each[0]]\n",
    "        minimum.append({i: ind['TGOD.TO'].T[i]})"
   ]
  },
  {
   "cell_type": "markdown",
   "metadata": {},
   "source": [
    "minimum"
   ]
  },
  {
   "cell_type": "code",
   "execution_count": null,
   "metadata": {},
   "outputs": [],
   "source": [
    "minimum"
   ]
  },
  {
   "cell_type": "code",
   "execution_count": null,
   "metadata": {},
   "outputs": [],
   "source": [
    "timer_start = time.time()\n",
    "ind_list = ['TGOD.TO', 'FIRE.TO']\n",
    "dict1 = []\n",
    "for each in ind_list:\n",
    "    try:        \n",
    "        dict1.append({each: get_data(each, start, end)})\n",
    "    except:\n",
    "        print('error in ', each)\n",
    "        \n",
    "timer_end = time.time()\n",
    "\n",
    "print(timer_end - timer_start)\n"
   ]
  },
  {
   "cell_type": "code",
   "execution_count": null,
   "metadata": {},
   "outputs": [],
   "source": [
    "ind_bsd = list(map(lambda x, y: dict1[x][y].bsd, range(0, len(ind_list)), ind_list))"
   ]
  },
  {
   "cell_type": "code",
   "execution_count": null,
   "metadata": {},
   "outputs": [],
   "source": [
    "ind_bsd"
   ]
  },
  {
   "cell_type": "code",
   "execution_count": null,
   "metadata": {},
   "outputs": [],
   "source": [
    "ind_df = list(map(lambda x: pandas.DataFrame(ind_bsd[x].changes), range(0, len(ind_bsd))))"
   ]
  },
  {
   "cell_type": "code",
   "execution_count": null,
   "metadata": {},
   "outputs": [],
   "source": [
    "ind_df"
   ]
  },
  {
   "cell_type": "code",
   "execution_count": null,
   "metadata": {},
   "outputs": [],
   "source": [
    "frame = pandas.concat(ind_df, sort=True, axis=1)\n",
    "frame"
   ]
  },
  {
   "cell_type": "code",
   "execution_count": null,
   "metadata": {},
   "outputs": [],
   "source": [
    "bsd_list = list(map(lambda x, y: y.stats, range(0, len(ind_bsd)), ind_bsd))"
   ]
  },
  {
   "cell_type": "code",
   "execution_count": null,
   "metadata": {},
   "outputs": [],
   "source": [
    "a = industry(bsd_list)"
   ]
  },
  {
   "cell_type": "code",
   "execution_count": null,
   "metadata": {},
   "outputs": [],
   "source": [
    "ind = a.ind"
   ]
  },
  {
   "cell_type": "code",
   "execution_count": null,
   "metadata": {},
   "outputs": [],
   "source": [
    "averages = ind.mean(axis=1).dropna()"
   ]
  },
  {
   "cell_type": "code",
   "execution_count": null,
   "metadata": {},
   "outputs": [],
   "source": [
    "ind['Averages'] = averages"
   ]
  },
  {
   "cell_type": "code",
   "execution_count": null,
   "metadata": {},
   "outputs": [],
   "source": [
    "ind"
   ]
  },
  {
   "cell_type": "code",
   "execution_count": null,
   "metadata": {},
   "outputs": [],
   "source": []
  },
  {
   "cell_type": "code",
   "execution_count": null,
   "metadata": {},
   "outputs": [],
   "source": []
  },
  {
   "cell_type": "code",
   "execution_count": null,
   "metadata": {},
   "outputs": [],
   "source": []
  },
  {
   "cell_type": "code",
   "execution_count": null,
   "metadata": {},
   "outputs": [],
   "source": []
  },
  {
   "cell_type": "code",
   "execution_count": null,
   "metadata": {},
   "outputs": [],
   "source": []
  }
 ],
 "metadata": {
  "kernelspec": {
   "display_name": "Python 3",
   "language": "python",
   "name": "python3"
  },
  "language_info": {
   "codemirror_mode": {
    "name": "ipython",
    "version": 3
   },
   "file_extension": ".py",
   "mimetype": "text/x-python",
   "name": "python",
   "nbconvert_exporter": "python",
   "pygments_lexer": "ipython3",
   "version": "3.7.1"
  }
 },
 "nbformat": 4,
 "nbformat_minor": 2
}
