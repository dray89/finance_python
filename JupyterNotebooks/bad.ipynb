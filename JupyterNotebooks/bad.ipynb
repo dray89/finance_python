{
 "cells": [
  {
   "cell_type": "code",
   "execution_count": 12,
   "metadata": {
    "scrolled": true
   },
   "outputs": [],
   "source": [
    "from finance_python.stock_scraper_v2 import calculations, industry\n",
    "from balance_sheet import balance_sheet\n",
    "from finance_python.financials import financials\n",
    "from datetime import datetime\n",
    "import pandas\n",
    "from pandas import DataFrame\n",
    "from earnings import earnings\n",
    "import numpy as np\n",
    "import sys"
   ]
  },
  {
   "cell_type": "code",
   "execution_count": 6,
   "metadata": {},
   "outputs": [],
   "source": [
    "indust_list = ['BAD.TO', 'WSP.TO', 'SNC.TO', 'STN.TO', \n",
    "               'ARE.TO', 'DRT.TO', 'BDT.TO']\n",
    "source = \"yahoo\"\n",
    "start = datetime(2018, 7, 29)\n",
    "end = datetime(2019, 7, 29)"
   ]
  },
  {
   "cell_type": "code",
   "execution_count": 7,
   "metadata": {},
   "outputs": [],
   "source": [
    "d = list(map(lambda x: {x: calculations(x, source, start, end)}, indust_list))"
   ]
  },
  {
   "cell_type": "code",
   "execution_count": null,
   "metadata": {},
   "outputs": [],
   "source": []
  },
  {
   "cell_type": "code",
   "execution_count": 114,
   "metadata": {},
   "outputs": [
    {
     "data": {
      "text/html": [
       "<div>\n",
       "<style scoped>\n",
       "    .dataframe tbody tr th:only-of-type {\n",
       "        vertical-align: middle;\n",
       "    }\n",
       "\n",
       "    .dataframe tbody tr th {\n",
       "        vertical-align: top;\n",
       "    }\n",
       "\n",
       "    .dataframe thead th {\n",
       "        text-align: right;\n",
       "    }\n",
       "</style>\n",
       "<table border=\"1\" class=\"dataframe\">\n",
       "  <thead>\n",
       "    <tr style=\"text-align: right;\">\n",
       "      <th></th>\n",
       "      <th>2019-06-30</th>\n",
       "    </tr>\n",
       "  </thead>\n",
       "  <tbody>\n",
       "    <tr>\n",
       "      <th>accountsPayable</th>\n",
       "      <td>704951000</td>\n",
       "    </tr>\n",
       "    <tr>\n",
       "      <th>capitalSurplus</th>\n",
       "      <td>50955000</td>\n",
       "    </tr>\n",
       "    <tr>\n",
       "      <th>cash</th>\n",
       "      <td>522000000</td>\n",
       "    </tr>\n",
       "    <tr>\n",
       "      <th>commonStock</th>\n",
       "      <td>390574000</td>\n",
       "    </tr>\n",
       "    <tr>\n",
       "      <th>deferredLongTermAssetCharges</th>\n",
       "      <td>26985000</td>\n",
       "    </tr>\n",
       "    <tr>\n",
       "      <th>goodWill</th>\n",
       "      <td>52114000</td>\n",
       "    </tr>\n",
       "    <tr>\n",
       "      <th>intangibleAssets</th>\n",
       "      <td>499167000</td>\n",
       "    </tr>\n",
       "    <tr>\n",
       "      <th>inventory</th>\n",
       "      <td>22152000</td>\n",
       "    </tr>\n",
       "    <tr>\n",
       "      <th>longTermDebt</th>\n",
       "      <td>660323000</td>\n",
       "    </tr>\n",
       "    <tr>\n",
       "      <th>longTermInvestments</th>\n",
       "      <td>43884000</td>\n",
       "    </tr>\n",
       "    <tr>\n",
       "      <th>netReceivables</th>\n",
       "      <td>1340054000</td>\n",
       "    </tr>\n",
       "    <tr>\n",
       "      <th>netTangibleAssets</th>\n",
       "      <td>314663000</td>\n",
       "    </tr>\n",
       "    <tr>\n",
       "      <th>otherAssets</th>\n",
       "      <td>26985000</td>\n",
       "    </tr>\n",
       "    <tr>\n",
       "      <th>otherCurrentAssets</th>\n",
       "      <td>113371000</td>\n",
       "    </tr>\n",
       "    <tr>\n",
       "      <th>otherCurrentLiab</th>\n",
       "      <td>473437000</td>\n",
       "    </tr>\n",
       "    <tr>\n",
       "      <th>otherLiab</th>\n",
       "      <td>226475000</td>\n",
       "    </tr>\n",
       "    <tr>\n",
       "      <th>otherStockholderEquity</th>\n",
       "      <td>8530000</td>\n",
       "    </tr>\n",
       "    <tr>\n",
       "      <th>propertyPlantEquipment</th>\n",
       "      <td>329387000</td>\n",
       "    </tr>\n",
       "    <tr>\n",
       "      <th>retainedEarnings</th>\n",
       "      <td>363771000</td>\n",
       "    </tr>\n",
       "    <tr>\n",
       "      <th>shortLongTermDebt</th>\n",
       "      <td>52433000</td>\n",
       "    </tr>\n",
       "    <tr>\n",
       "      <th>totalAssets</th>\n",
       "      <td>2931449000</td>\n",
       "    </tr>\n",
       "    <tr>\n",
       "      <th>totalCurrentAssets</th>\n",
       "      <td>2032026000</td>\n",
       "    </tr>\n",
       "    <tr>\n",
       "      <th>totalCurrentLiabilities</th>\n",
       "      <td>1230821000</td>\n",
       "    </tr>\n",
       "    <tr>\n",
       "      <th>totalLiab</th>\n",
       "      <td>2117619000</td>\n",
       "    </tr>\n",
       "    <tr>\n",
       "      <th>totalStockholderEquity</th>\n",
       "      <td>813830000</td>\n",
       "    </tr>\n",
       "    <tr>\n",
       "      <th>treasuryStock</th>\n",
       "      <td>8530000</td>\n",
       "    </tr>\n",
       "  </tbody>\n",
       "</table>\n",
       "</div>"
      ],
      "text/plain": [
       "                              2019-06-30\n",
       "accountsPayable                704951000\n",
       "capitalSurplus                  50955000\n",
       "cash                           522000000\n",
       "commonStock                    390574000\n",
       "deferredLongTermAssetCharges    26985000\n",
       "goodWill                        52114000\n",
       "intangibleAssets               499167000\n",
       "inventory                       22152000\n",
       "longTermDebt                   660323000\n",
       "longTermInvestments             43884000\n",
       "netReceivables                1340054000\n",
       "netTangibleAssets              314663000\n",
       "otherAssets                     26985000\n",
       "otherCurrentAssets             113371000\n",
       "otherCurrentLiab               473437000\n",
       "otherLiab                      226475000\n",
       "otherStockholderEquity           8530000\n",
       "propertyPlantEquipment         329387000\n",
       "retainedEarnings               363771000\n",
       "shortLongTermDebt               52433000\n",
       "totalAssets                   2931449000\n",
       "totalCurrentAssets            2032026000\n",
       "totalCurrentLiabilities       1230821000\n",
       "totalLiab                     2117619000\n",
       "totalStockholderEquity         813830000\n",
       "treasuryStock                    8530000"
      ]
     },
     "execution_count": 114,
     "metadata": {},
     "output_type": "execute_result"
    }
   ],
   "source": [
    "df = d2[-3]['ARE.TO'].bsd['balanceSheetHistoryQuarterly']['ARE.TO']\n",
    "pandas.DataFrame(df[0])\n"
   ]
  },
  {
   "cell_type": "code",
   "execution_count": 9,
   "metadata": {},
   "outputs": [],
   "source": [
    "change = list(map(lambda x, y: d[y][x].daily['Adj Close'][-1] - d[y][x].daily['Adj Close'][0], indust_list, range(0, len(indust_list))))\n",
    "perc_change = list(map(lambda x, y: change[y]/d[y][x].daily['Adj Close'][0], indust_list, range(0, len(indust_list))))"
   ]
  },
  {
   "cell_type": "code",
   "execution_count": 10,
   "metadata": {
    "scrolled": true
   },
   "outputs": [],
   "source": [
    "a = list(map(lambda x, y: d[x][y].calcdf, range(0, len(indust_list)), indust_list))"
   ]
  },
  {
   "cell_type": "code",
   "execution_count": 13,
   "metadata": {},
   "outputs": [
    {
     "data": {
      "text/html": [
       "<div>\n",
       "<style scoped>\n",
       "    .dataframe tbody tr th:only-of-type {\n",
       "        vertical-align: middle;\n",
       "    }\n",
       "\n",
       "    .dataframe tbody tr th {\n",
       "        vertical-align: top;\n",
       "    }\n",
       "\n",
       "    .dataframe thead th {\n",
       "        text-align: right;\n",
       "    }\n",
       "</style>\n",
       "<table border=\"1\" class=\"dataframe\">\n",
       "  <thead>\n",
       "    <tr style=\"text-align: right;\">\n",
       "      <th></th>\n",
       "      <th>BAD.TO</th>\n",
       "      <th>WSP.TO</th>\n",
       "      <th>SNC.TO</th>\n",
       "      <th>STN.TO</th>\n",
       "      <th>ARE.TO</th>\n",
       "      <th>DRT.TO</th>\n",
       "      <th>BDT.TO</th>\n",
       "    </tr>\n",
       "  </thead>\n",
       "  <tbody>\n",
       "    <tr>\n",
       "      <th>name</th>\n",
       "      <td>Badger Daylighting Ltd.</td>\n",
       "      <td>WSP Global Inc.</td>\n",
       "      <td>SNC-Lavalin Group Inc.</td>\n",
       "      <td>Stantec Inc.</td>\n",
       "      <td>Aecon Group Inc.</td>\n",
       "      <td>DIRTT Environmental Solutions Ltd.</td>\n",
       "      <td>Bird Construction Inc.</td>\n",
       "    </tr>\n",
       "    <tr>\n",
       "      <th>price</th>\n",
       "      <td>47.73</td>\n",
       "      <td>74.56</td>\n",
       "      <td>21.12</td>\n",
       "      <td>31.69</td>\n",
       "      <td>20.15</td>\n",
       "      <td>6.96</td>\n",
       "      <td>5.5</td>\n",
       "    </tr>\n",
       "    <tr>\n",
       "      <th>perc_change</th>\n",
       "      <td>0.657647</td>\n",
       "      <td>0.0594385</td>\n",
       "      <td>-0.620441</td>\n",
       "      <td>-0.0516479</td>\n",
       "      <td>0.324414</td>\n",
       "      <td>0.0716418</td>\n",
       "      <td>-0.241456</td>\n",
       "    </tr>\n",
       "    <tr>\n",
       "      <th>dividend yield</th>\n",
       "      <td>0.0116253</td>\n",
       "      <td>0.0200642</td>\n",
       "      <td>0.0364064</td>\n",
       "      <td>0.0176825</td>\n",
       "      <td>0.0260116</td>\n",
       "      <td>NaN</td>\n",
       "      <td>0.0710382</td>\n",
       "    </tr>\n",
       "    <tr>\n",
       "      <th>total_return</th>\n",
       "      <td>0.669272</td>\n",
       "      <td>0.0795027</td>\n",
       "      <td>-0.584034</td>\n",
       "      <td>-0.0339654</td>\n",
       "      <td>0.350425</td>\n",
       "      <td>0.0716418</td>\n",
       "      <td>-0.170418</td>\n",
       "    </tr>\n",
       "    <tr>\n",
       "      <th>beta</th>\n",
       "      <td>1.09</td>\n",
       "      <td>1.25</td>\n",
       "      <td>0.41</td>\n",
       "      <td>0.8</td>\n",
       "      <td>0.09</td>\n",
       "      <td>1.83</td>\n",
       "      <td>1.43</td>\n",
       "    </tr>\n",
       "    <tr>\n",
       "      <th>returns (adj)</th>\n",
       "      <td>0.0106654</td>\n",
       "      <td>0.0160514</td>\n",
       "      <td>0.0887961</td>\n",
       "      <td>0.0221032</td>\n",
       "      <td>0.289017</td>\n",
       "      <td>NaN</td>\n",
       "      <td>0.0496771</td>\n",
       "    </tr>\n",
       "    <tr>\n",
       "      <th>priceToBook</th>\n",
       "      <td>4.99686</td>\n",
       "      <td>2.41146</td>\n",
       "      <td>1.07503</td>\n",
       "      <td>1.90125</td>\n",
       "      <td>1.5044</td>\n",
       "      <td>3.63636</td>\n",
       "      <td>1.89068</td>\n",
       "    </tr>\n",
       "    <tr>\n",
       "      <th>1/PE</th>\n",
       "      <td>0.0371674</td>\n",
       "      <td>0.0336373</td>\n",
       "      <td>NaN</td>\n",
       "      <td>0.0154623</td>\n",
       "      <td>0.0607941</td>\n",
       "      <td>NaN</td>\n",
       "      <td>NaN</td>\n",
       "    </tr>\n",
       "    <tr>\n",
       "      <th>marketcap</th>\n",
       "      <td>1712523776</td>\n",
       "      <td>7811576320</td>\n",
       "      <td>3707700736</td>\n",
       "      <td>3538980864</td>\n",
       "      <td>1224328064</td>\n",
       "      <td>589243328</td>\n",
       "      <td>233842944</td>\n",
       "    </tr>\n",
       "    <tr>\n",
       "      <th>shares outstanding</th>\n",
       "      <td>32440900</td>\n",
       "      <td>104769000</td>\n",
       "      <td>175554000</td>\n",
       "      <td>111675000</td>\n",
       "      <td>60760700</td>\n",
       "      <td>84661400</td>\n",
       "      <td>42516900</td>\n",
       "    </tr>\n",
       "    <tr>\n",
       "      <th>trailingPE</th>\n",
       "      <td>26.9053</td>\n",
       "      <td>29.7289</td>\n",
       "      <td>NaN</td>\n",
       "      <td>64.6735</td>\n",
       "      <td>16.449</td>\n",
       "      <td>NaN</td>\n",
       "      <td>NaN</td>\n",
       "    </tr>\n",
       "    <tr>\n",
       "      <th>forwardPE</th>\n",
       "      <td>17.3564</td>\n",
       "      <td>18.4099</td>\n",
       "      <td>NaN</td>\n",
       "      <td>13.2594</td>\n",
       "      <td>15.7422</td>\n",
       "      <td>NaN</td>\n",
       "      <td>NaN</td>\n",
       "    </tr>\n",
       "    <tr>\n",
       "      <th>pricetocash</th>\n",
       "      <td>42.0922</td>\n",
       "      <td>35.5557</td>\n",
       "      <td>6.03025</td>\n",
       "      <td>36.522</td>\n",
       "      <td>2.34546</td>\n",
       "      <td>8.15686</td>\n",
       "      <td>2.18257</td>\n",
       "    </tr>\n",
       "    <tr>\n",
       "      <th>dividend</th>\n",
       "      <td>0.048</td>\n",
       "      <td>0.375</td>\n",
       "      <td>0.1</td>\n",
       "      <td>0.145</td>\n",
       "      <td>0.145</td>\n",
       "      <td>NaN</td>\n",
       "      <td>0.033</td>\n",
       "    </tr>\n",
       "    <tr>\n",
       "      <th>volume</th>\n",
       "      <td>20012</td>\n",
       "      <td>23073</td>\n",
       "      <td>248431</td>\n",
       "      <td>283474</td>\n",
       "      <td>249684</td>\n",
       "      <td>201029</td>\n",
       "      <td>2400</td>\n",
       "    </tr>\n",
       "  </tbody>\n",
       "</table>\n",
       "</div>"
      ],
      "text/plain": [
       "                                     BAD.TO           WSP.TO  \\\n",
       "name                Badger Daylighting Ltd.  WSP Global Inc.   \n",
       "price                                 47.73            74.56   \n",
       "perc_change                        0.657647        0.0594385   \n",
       "dividend yield                    0.0116253        0.0200642   \n",
       "total_return                       0.669272        0.0795027   \n",
       "beta                                   1.09             1.25   \n",
       "returns (adj)                     0.0106654        0.0160514   \n",
       "priceToBook                         4.99686          2.41146   \n",
       "1/PE                              0.0371674        0.0336373   \n",
       "marketcap                        1712523776       7811576320   \n",
       "shares outstanding                 32440900        104769000   \n",
       "trailingPE                          26.9053          29.7289   \n",
       "forwardPE                           17.3564          18.4099   \n",
       "pricetocash                         42.0922          35.5557   \n",
       "dividend                              0.048            0.375   \n",
       "volume                                20012            23073   \n",
       "\n",
       "                                    SNC.TO        STN.TO            ARE.TO  \\\n",
       "name                SNC-Lavalin Group Inc.  Stantec Inc.  Aecon Group Inc.   \n",
       "price                                21.12         31.69             20.15   \n",
       "perc_change                      -0.620441    -0.0516479          0.324414   \n",
       "dividend yield                   0.0364064     0.0176825         0.0260116   \n",
       "total_return                     -0.584034    -0.0339654          0.350425   \n",
       "beta                                  0.41           0.8              0.09   \n",
       "returns (adj)                    0.0887961     0.0221032          0.289017   \n",
       "priceToBook                        1.07503       1.90125            1.5044   \n",
       "1/PE                                   NaN     0.0154623         0.0607941   \n",
       "marketcap                       3707700736    3538980864        1224328064   \n",
       "shares outstanding               175554000     111675000          60760700   \n",
       "trailingPE                             NaN       64.6735            16.449   \n",
       "forwardPE                              NaN       13.2594           15.7422   \n",
       "pricetocash                        6.03025        36.522           2.34546   \n",
       "dividend                               0.1         0.145             0.145   \n",
       "volume                              248431        283474            249684   \n",
       "\n",
       "                                                DRT.TO                  BDT.TO  \n",
       "name                DIRTT Environmental Solutions Ltd.  Bird Construction Inc.  \n",
       "price                                             6.96                     5.5  \n",
       "perc_change                                  0.0716418               -0.241456  \n",
       "dividend yield                                     NaN               0.0710382  \n",
       "total_return                                 0.0716418               -0.170418  \n",
       "beta                                              1.83                    1.43  \n",
       "returns (adj)                                      NaN               0.0496771  \n",
       "priceToBook                                    3.63636                 1.89068  \n",
       "1/PE                                               NaN                     NaN  \n",
       "marketcap                                    589243328               233842944  \n",
       "shares outstanding                            84661400                42516900  \n",
       "trailingPE                                         NaN                     NaN  \n",
       "forwardPE                                          NaN                     NaN  \n",
       "pricetocash                                    8.15686                 2.18257  \n",
       "dividend                                           NaN                   0.033  \n",
       "volume                                          201029                    2400  "
      ]
     },
     "execution_count": 13,
     "metadata": {},
     "output_type": "execute_result"
    }
   ],
   "source": [
    "ind = industry(a)\n",
    "concat = pandas.concat(a, axis=1)\n",
    "concat"
   ]
  },
  {
   "cell_type": "code",
   "execution_count": 77,
   "metadata": {},
   "outputs": [
    {
     "data": {
      "text/plain": [
       "2.3457508731082655"
      ]
     },
     "execution_count": 77,
     "metadata": {},
     "output_type": "execute_result"
    }
   ],
   "source": [
    "d[0]['BAD.TO'].description\n",
    "20.15/8.59"
   ]
  },
  {
   "cell_type": "code",
   "execution_count": 25,
   "metadata": {},
   "outputs": [
    {
     "data": {
      "text/plain": [
       "{'avg_divr': 0.030471373833333332,\n",
       " 'avg_return': 0.028513751188342068,\n",
       " 'avg_beta': 0.9857142857142857,\n",
       " 'avg_one_pe': 0.036765270245786526,\n",
       " 'avg_pb': 2.488007085714286,\n",
       " 'avg_mc': 2688313718.857143,\n",
       " 'avg_so': 34.439153499999996}"
      ]
     },
     "execution_count": 25,
     "metadata": {},
     "output_type": "execute_result"
    }
   ],
   "source": [
    "ind.averages"
   ]
  },
  {
   "cell_type": "code",
   "execution_count": null,
   "metadata": {},
   "outputs": [],
   "source": [
    "ind.industry_df"
   ]
  },
  {
   "cell_type": "code",
   "execution_count": 26,
   "metadata": {},
   "outputs": [],
   "source": [
    "d2 = list(map(lambda x: {x: balance_sheet(x)}, indust_list))"
   ]
  },
  {
   "cell_type": "code",
   "execution_count": 79,
   "metadata": {},
   "outputs": [],
   "source": [
    "diff = d2[4]['ARE.TO'].retained_earnings - d2[0]['BAD.TO'].retained_earnings3 "
   ]
  },
  {
   "cell_type": "code",
   "execution_count": 80,
   "metadata": {},
   "outputs": [],
   "source": [
    "self = d2[4]['ARE.TO']\n",
    "self.chg_debt = (self.debt - self.debt3)/self.debt3\n",
    "self.chg_equity = (self.equity - self.equity3)/self.equity3\n",
    "self.chg_liabilities = (self.liabilities - self.liabilities3)/self.liabilities3\n",
    "self.chg_assets = (self.assets - self.assets3)/self.assets3\n",
    "self.chg_netrec = (self.netrec - self.netrec3)/self.netrec3\n",
    "self.chg_earnings = (self.retained_earnings - self.retained_earnings3)/self.retained_earnings3"
   ]
  },
  {
   "cell_type": "code",
   "execution_count": 81,
   "metadata": {},
   "outputs": [
    {
     "data": {
      "text/plain": [
       "0.12987748537011054"
      ]
     },
     "execution_count": 81,
     "metadata": {},
     "output_type": "execute_result"
    }
   ],
   "source": [
    "self.chg_debt"
   ]
  },
  {
   "cell_type": "code",
   "execution_count": 82,
   "metadata": {},
   "outputs": [
    {
     "data": {
      "text/plain": [
       "0.041729787313251186"
      ]
     },
     "execution_count": 82,
     "metadata": {},
     "output_type": "execute_result"
    }
   ],
   "source": [
    "self.chg_earnings"
   ]
  },
  {
   "cell_type": "code",
   "execution_count": 83,
   "metadata": {},
   "outputs": [
    {
     "data": {
      "text/plain": [
       "-0.08491305508254343"
      ]
     },
     "execution_count": 83,
     "metadata": {},
     "output_type": "execute_result"
    }
   ],
   "source": [
    "self.chg_assets"
   ]
  },
  {
   "cell_type": "code",
   "execution_count": 84,
   "metadata": {},
   "outputs": [
    {
     "data": {
      "text/plain": [
       "-0.01083461525969712"
      ]
     },
     "execution_count": 84,
     "metadata": {},
     "output_type": "execute_result"
    }
   ],
   "source": [
    "self.chg_netrec"
   ]
  },
  {
   "cell_type": "code",
   "execution_count": 85,
   "metadata": {},
   "outputs": [
    {
     "data": {
      "text/plain": [
       "-0.2244207514949873"
      ]
     },
     "execution_count": 85,
     "metadata": {},
     "output_type": "execute_result"
    }
   ],
   "source": [
    "self.chg_liabilities"
   ]
  },
  {
   "cell_type": "code",
   "execution_count": 86,
   "metadata": {},
   "outputs": [
    {
     "data": {
      "text/plain": [
       "0.026355349512946886"
      ]
     },
     "execution_count": 86,
     "metadata": {},
     "output_type": "execute_result"
    }
   ],
   "source": [
    "self.chg_equity"
   ]
  },
  {
   "cell_type": "code",
   "execution_count": null,
   "metadata": {},
   "outputs": [],
   "source": []
  }
 ],
 "metadata": {
  "kernelspec": {
   "display_name": "Python 3",
   "language": "python",
   "name": "python3"
  },
  "language_info": {
   "codemirror_mode": {
    "name": "ipython",
    "version": 3
   },
   "file_extension": ".py",
   "mimetype": "text/x-python",
   "name": "python",
   "nbconvert_exporter": "python",
   "pygments_lexer": "ipython3",
   "version": "3.7.3"
  }
 },
 "nbformat": 4,
 "nbformat_minor": 2
}
