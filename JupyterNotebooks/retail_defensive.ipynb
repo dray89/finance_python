{
 "cells": [
  {
   "cell_type": "code",
   "execution_count": 1,
   "metadata": {},
   "outputs": [],
   "source": [
    "import sys\n",
    "sys.path.append(\"C:\\\\Users\\\\rayde\\\\iCloudDrive\\\\GitHub\\\\finance_python\")\n",
    "from stock_scraper_v3 import get_data\n",
    "from balance_sheet import balance_sheet\n",
    "from financials import financials\n",
    "from datetime import datetime, date\n",
    "from pandas import DataFrame\n",
    "import numpy as np\n",
    "import pandas\n",
    "from industry import industry"
   ]
  },
  {
   "cell_type": "code",
   "execution_count": 2,
   "metadata": {},
   "outputs": [],
   "source": [
    "retail = ['ATD-B.TO', 'L.TO', 'WN.TO', 'DOL-B.TO', 'MRU-B.TO', 'NWC.TO']\n",
    "start = date(2018, 7, 19)\n",
    "end = date(2019, 8, 2)"
   ]
  },
  {
   "cell_type": "code",
   "execution_count": 3,
   "metadata": {
    "scrolled": false
   },
   "outputs": [
    {
     "name": "stdout",
     "output_type": "stream",
     "text": [
      "DOL-B.TO : error occurred in perc_change method\n",
      "DOL-B.TO : This stock probably has no price information.\n",
      "MRU-B.TO : error occurred in perc_change method\n",
      "MRU-B.TO : This stock probably has no price information.\n"
     ]
    }
   ],
   "source": [
    "dict1 = list(map(lambda x: {x: get_data(x, start, end)}, retail))"
   ]
  },
  {
   "cell_type": "code",
   "execution_count": 4,
   "metadata": {},
   "outputs": [
    {
     "data": {
      "text/html": [
       "<div>\n",
       "<style scoped>\n",
       "    .dataframe tbody tr th:only-of-type {\n",
       "        vertical-align: middle;\n",
       "    }\n",
       "\n",
       "    .dataframe tbody tr th {\n",
       "        vertical-align: top;\n",
       "    }\n",
       "\n",
       "    .dataframe thead th {\n",
       "        text-align: right;\n",
       "    }\n",
       "</style>\n",
       "<table border=\"1\" class=\"dataframe\">\n",
       "  <thead>\n",
       "    <tr style=\"text-align: right;\">\n",
       "      <th>ATD-B.TO</th>\n",
       "      <th>4/28/2019</th>\n",
       "      <th>4/29/2018</th>\n",
       "      <th>4/30/2017</th>\n",
       "      <th>4/24/2016</th>\n",
       "    </tr>\n",
       "  </thead>\n",
       "  <tbody>\n",
       "    <tr>\n",
       "      <th>Retained Earnings</th>\n",
       "      <td>9053500</td>\n",
       "      <td>7405000</td>\n",
       "      <td>6083500</td>\n",
       "      <td>5019900</td>\n",
       "    </tr>\n",
       "    <tr>\n",
       "      <th>Total stockholders' equity</th>\n",
       "      <td>8923200</td>\n",
       "      <td>7560400</td>\n",
       "      <td>6009600</td>\n",
       "      <td>5041100</td>\n",
       "    </tr>\n",
       "    <tr>\n",
       "      <th>Net Tangible Assets</th>\n",
       "      <td>2295700</td>\n",
       "      <td>666600</td>\n",
       "      <td>2969300</td>\n",
       "      <td>2512000</td>\n",
       "    </tr>\n",
       "    <tr>\n",
       "      <th>Long Term Debt</th>\n",
       "      <td>5775800</td>\n",
       "      <td>9035700</td>\n",
       "      <td>3324800</td>\n",
       "      <td>3030700</td>\n",
       "    </tr>\n",
       "    <tr>\n",
       "      <th>Total Current Liabilities</th>\n",
       "      <td>5582000</td>\n",
       "      <td>4186000</td>\n",
       "      <td>3251900</td>\n",
       "      <td>2659800</td>\n",
       "    </tr>\n",
       "    <tr>\n",
       "      <th>Net Receivables</th>\n",
       "      <td>2027000</td>\n",
       "      <td>2240200</td>\n",
       "      <td>1596300</td>\n",
       "      <td>1403300</td>\n",
       "    </tr>\n",
       "    <tr>\n",
       "      <th>Total Current Assets</th>\n",
       "      <td>4321300</td>\n",
       "      <td>4477100</td>\n",
       "      <td>3172900</td>\n",
       "      <td>2881800</td>\n",
       "    </tr>\n",
       "    <tr>\n",
       "      <th>Intangible Assets</th>\n",
       "      <td>944400</td>\n",
       "      <td>1048000</td>\n",
       "      <td>670100</td>\n",
       "      <td>755900</td>\n",
       "    </tr>\n",
       "    <tr>\n",
       "      <th>Cash And Cash Equivalents</th>\n",
       "      <td>706400</td>\n",
       "      <td>666200</td>\n",
       "      <td>637600</td>\n",
       "      <td>599400</td>\n",
       "    </tr>\n",
       "    <tr>\n",
       "      <th>Net Current Assets</th>\n",
       "      <td>-1260700</td>\n",
       "      <td>291100</td>\n",
       "      <td>-79000</td>\n",
       "      <td>222000</td>\n",
       "    </tr>\n",
       "  </tbody>\n",
       "</table>\n",
       "</div>"
      ],
      "text/plain": [
       "ATD-B.TO                    4/28/2019  4/29/2018  4/30/2017  4/24/2016\n",
       "Retained Earnings             9053500    7405000    6083500    5019900\n",
       "Total stockholders' equity    8923200    7560400    6009600    5041100\n",
       "Net Tangible Assets           2295700     666600    2969300    2512000\n",
       "Long Term Debt                5775800    9035700    3324800    3030700\n",
       "Total Current Liabilities     5582000    4186000    3251900    2659800\n",
       "Net Receivables               2027000    2240200    1596300    1403300\n",
       "Total Current Assets          4321300    4477100    3172900    2881800\n",
       "Intangible Assets              944400    1048000     670100     755900\n",
       "Cash And Cash Equivalents      706400     666200     637600     599400\n",
       "Net Current Assets           -1260700     291100     -79000     222000"
      ]
     },
     "execution_count": 4,
     "metadata": {},
     "output_type": "execute_result"
    }
   ],
   "source": [
    "dict1[0]['ATD-B.TO'].bsd.bs"
   ]
  },
  {
   "cell_type": "code",
   "execution_count": 5,
   "metadata": {},
   "outputs": [],
   "source": [
    "retail_list = list(map(lambda x, y: dict1[x][y].bsd, range(0, len(retail)), retail))"
   ]
  },
  {
   "cell_type": "code",
   "execution_count": 6,
   "metadata": {},
   "outputs": [
    {
     "data": {
      "text/plain": [
       "[<balance_sheet.balance_sheet at 0x294b41af8d0>,\n",
       " <balance_sheet.balance_sheet at 0x294b5d35390>,\n",
       " <balance_sheet.balance_sheet at 0x294b6dc1748>,\n",
       " <balance_sheet.balance_sheet at 0x294b6e5dd30>,\n",
       " <balance_sheet.balance_sheet at 0x294b6e5c6a0>,\n",
       " <balance_sheet.balance_sheet at 0x294b6eb6550>]"
      ]
     },
     "execution_count": 6,
     "metadata": {},
     "output_type": "execute_result"
    }
   ],
   "source": [
    "retail_list"
   ]
  },
  {
   "cell_type": "code",
   "execution_count": 11,
   "metadata": {},
   "outputs": [],
   "source": [
    "for x in enumerate(retail_list):\n",
    "    if hasattr(x[1], 'changes'):\n",
    "        pass\n",
    "    else:\n",
    "        retail_list.pop(x[0])\n",
    "        continue"
   ]
  },
  {
   "cell_type": "code",
   "execution_count": 12,
   "metadata": {},
   "outputs": [],
   "source": [
    "retail_list2 = list(map(lambda x, y: pandas.DataFrame(retail_list[x].changes), range(0, len(retail_list)), retail_list))"
   ]
  },
  {
   "cell_type": "code",
   "execution_count": null,
   "metadata": {},
   "outputs": [],
   "source": [
    "retail_list = list(map(lambda x, y: dict1[x][y].bsd.stats, range(0, len(retail)), retail))"
   ]
  },
  {
   "cell_type": "code",
   "execution_count": 13,
   "metadata": {},
   "outputs": [
    {
     "data": {
      "text/html": [
       "<div>\n",
       "<style scoped>\n",
       "    .dataframe tbody tr th:only-of-type {\n",
       "        vertical-align: middle;\n",
       "    }\n",
       "\n",
       "    .dataframe tbody tr th {\n",
       "        vertical-align: top;\n",
       "    }\n",
       "\n",
       "    .dataframe thead th {\n",
       "        text-align: right;\n",
       "    }\n",
       "</style>\n",
       "<table border=\"1\" class=\"dataframe\">\n",
       "  <thead>\n",
       "    <tr style=\"text-align: right;\">\n",
       "      <th></th>\n",
       "      <th>ATD-B.TO</th>\n",
       "      <th>L.TO</th>\n",
       "      <th>WN.TO</th>\n",
       "      <th>NWC.TO</th>\n",
       "    </tr>\n",
       "  </thead>\n",
       "  <tbody>\n",
       "    <tr>\n",
       "      <th>Cash And Cash Equivalents</th>\n",
       "      <td>0.060342</td>\n",
       "      <td>-0.407675</td>\n",
       "      <td>-0.252212</td>\n",
       "      <td>0.528140</td>\n",
       "    </tr>\n",
       "    <tr>\n",
       "      <th>Intangible Assets</th>\n",
       "      <td>-0.098855</td>\n",
       "      <td>-0.054902</td>\n",
       "      <td>-0.048996</td>\n",
       "      <td>0.041751</td>\n",
       "    </tr>\n",
       "    <tr>\n",
       "      <th>Long Term Debt</th>\n",
       "      <td>-0.360780</td>\n",
       "      <td>-0.347860</td>\n",
       "      <td>0.356790</td>\n",
       "      <td>0.166826</td>\n",
       "    </tr>\n",
       "    <tr>\n",
       "      <th>Net Current Assets</th>\n",
       "      <td>-5.330814</td>\n",
       "      <td>0.091958</td>\n",
       "      <td>-0.230164</td>\n",
       "      <td>0.220751</td>\n",
       "    </tr>\n",
       "    <tr>\n",
       "      <th>Net Receivables</th>\n",
       "      <td>-0.095170</td>\n",
       "      <td>0.049374</td>\n",
       "      <td>0.061224</td>\n",
       "      <td>0.118343</td>\n",
       "    </tr>\n",
       "    <tr>\n",
       "      <th>Net Tangible Assets</th>\n",
       "      <td>2.443894</td>\n",
       "      <td>-0.774286</td>\n",
       "      <td>-0.019900</td>\n",
       "      <td>0.113504</td>\n",
       "    </tr>\n",
       "    <tr>\n",
       "      <th>Retained Earnings</th>\n",
       "      <td>0.222620</td>\n",
       "      <td>-0.132576</td>\n",
       "      <td>-0.302031</td>\n",
       "      <td>0.161386</td>\n",
       "    </tr>\n",
       "    <tr>\n",
       "      <th>Total Current Assets</th>\n",
       "      <td>-0.034799</td>\n",
       "      <td>0.027368</td>\n",
       "      <td>-0.048784</td>\n",
       "      <td>0.124853</td>\n",
       "    </tr>\n",
       "    <tr>\n",
       "      <th>Total Current Liabilities</th>\n",
       "      <td>0.333493</td>\n",
       "      <td>0.007291</td>\n",
       "      <td>0.006814</td>\n",
       "      <td>0.033111</td>\n",
       "    </tr>\n",
       "    <tr>\n",
       "      <th>Total stockholders' equity</th>\n",
       "      <td>0.180255</td>\n",
       "      <td>-0.075740</td>\n",
       "      <td>0.014894</td>\n",
       "      <td>0.104292</td>\n",
       "    </tr>\n",
       "  </tbody>\n",
       "</table>\n",
       "</div>"
      ],
      "text/plain": [
       "                            ATD-B.TO      L.TO     WN.TO    NWC.TO\n",
       "Cash And Cash Equivalents   0.060342 -0.407675 -0.252212  0.528140\n",
       "Intangible Assets          -0.098855 -0.054902 -0.048996  0.041751\n",
       "Long Term Debt             -0.360780 -0.347860  0.356790  0.166826\n",
       "Net Current Assets         -5.330814  0.091958 -0.230164  0.220751\n",
       "Net Receivables            -0.095170  0.049374  0.061224  0.118343\n",
       "Net Tangible Assets         2.443894 -0.774286 -0.019900  0.113504\n",
       "Retained Earnings           0.222620 -0.132576 -0.302031  0.161386\n",
       "Total Current Assets       -0.034799  0.027368 -0.048784  0.124853\n",
       "Total Current Liabilities   0.333493  0.007291  0.006814  0.033111\n",
       "Total stockholders' equity  0.180255 -0.075740  0.014894  0.104292"
      ]
     },
     "execution_count": 13,
     "metadata": {},
     "output_type": "execute_result"
    }
   ],
   "source": [
    "retail_list2[0].join(retail_list2[1], sort=True).join(retail_list2[2], sort=True).join(retail_list2[3], sort=True)"
   ]
  },
  {
   "cell_type": "code",
   "execution_count": null,
   "metadata": {},
   "outputs": [],
   "source": [
    "retail_list2[4]"
   ]
  },
  {
   "cell_type": "code",
   "execution_count": null,
   "metadata": {},
   "outputs": [],
   "source": [
    "retail_list"
   ]
  },
  {
   "cell_type": "code",
   "execution_count": null,
   "metadata": {},
   "outputs": [],
   "source": [
    "for x in enumerate(retail_list):\n",
    "    if retail_list[x[0]].iloc[0].name == 0:\n",
    "        retail_list.pop(x[0])"
   ]
  },
  {
   "cell_type": "code",
   "execution_count": null,
   "metadata": {},
   "outputs": [],
   "source": [
    "retail_list"
   ]
  },
  {
   "cell_type": "code",
   "execution_count": null,
   "metadata": {},
   "outputs": [],
   "source": [
    "indust = industry(retail_list)"
   ]
  },
  {
   "cell_type": "code",
   "execution_count": null,
   "metadata": {},
   "outputs": [],
   "source": [
    "d = indust.concat_df\n",
    "d = d.fillna(np.nan)"
   ]
  },
  {
   "cell_type": "code",
   "execution_count": null,
   "metadata": {},
   "outputs": [],
   "source": [
    "d = indust.concat_df\n",
    "d = d.fillna(np.nan)\n",
    "d = d.infer_objects()\n",
    "d['Average'] = d[1:].mean(axis=1)\n",
    "d['Average'] = pandas.to_numeric(d['Average'], errors='coerce')"
   ]
  },
  {
   "cell_type": "code",
   "execution_count": null,
   "metadata": {},
   "outputs": [],
   "source": []
  },
  {
   "cell_type": "code",
   "execution_count": null,
   "metadata": {},
   "outputs": [],
   "source": [
    "form = lambda x: float(d['Average'][x])\n",
    "rnd = lambda x: round(d['Average'][x], 2)"
   ]
  },
  {
   "cell_type": "code",
   "execution_count": null,
   "metadata": {},
   "outputs": [],
   "source": [
    "d1 = d.iloc[1:]\n",
    "d['Average'] = d.iloc[1:].mean(axis=1)\n",
    "d_T = d.T.style.format({'perc_change': lambda x: \"{:.2f}%\".format(x*100), \n",
    "                        'price': lambda x: \"${:.2f}\".format(x), \n",
    "                        'dividend yield': lambda x: \"{:.2f}%\".format(x*100), \n",
    "                        'total_return': lambda x: \"{:.2f}%\".format(x*100), \n",
    "                        'returns (adj)': lambda x: \"{:.2f}%\".format(x*100), \n",
    "                        '1/PE': lambda x: \"{:.2f}%\".format(x*100), \n",
    "                       'dividend': lambda x: \"${:.2f}\".format(x),\n",
    "                       'volume': lambda x: \"{:,.0f}\".format(x),\n",
    "                       'marketcap': lambda x: \"{:,.0f}\".format(x),\n",
    "                        'shares outstanding': lambda x: \"{:,.0f}\".format(x)\n",
    "                       })\n",
    "d_T"
   ]
  },
  {
   "cell_type": "code",
   "execution_count": null,
   "metadata": {},
   "outputs": [],
   "source": []
  }
 ],
 "metadata": {
  "kernelspec": {
   "display_name": "Python 3",
   "language": "python",
   "name": "python3"
  },
  "language_info": {
   "codemirror_mode": {
    "name": "ipython",
    "version": 3
   },
   "file_extension": ".py",
   "mimetype": "text/x-python",
   "name": "python",
   "nbconvert_exporter": "python",
   "pygments_lexer": "ipython3",
   "version": "3.7.3"
  }
 },
 "nbformat": 4,
 "nbformat_minor": 2
}
