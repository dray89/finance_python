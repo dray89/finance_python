{
 "cells": [
  {
   "cell_type": "code",
   "execution_count": 1,
   "metadata": {
    "scrolled": true
   },
   "outputs": [],
   "source": [
    "from finance_python.stock_scraper_v2 import calculations, industry\n",
    "from balance_sheet import balance_sheet, financials\n",
    "from datetime import datetime\n",
    "from pandas import DataFrame\n",
    "from earnings import earnings\n",
    "import numpy as np\n",
    "import sys"
   ]
  },
  {
   "cell_type": "code",
   "execution_count": 2,
   "metadata": {},
   "outputs": [],
   "source": [
    "indust_list = ['BAD.TO', 'ADVZ.TO', 'AUP.TO', 'RVX.TO', \n",
    "               'BLU.TO', 'TH.TO', 'PLI.TO']\n",
    "source = \"yahoo\"\n",
    "start = datetime(2018, 7, 29)\n",
    "end = datetime(2019, 7, 29)"
   ]
  },
  {
   "cell_type": "code",
   "execution_count": 3,
   "metadata": {},
   "outputs": [
    {
     "name": "stderr",
     "output_type": "stream",
     "text": [
      "C:\\Users\\rayde\\Anaconda3\\lib\\finance_python\\stock_scraper_v2.py:121: RuntimeWarning: divide by zero encountered in longlong_scalars\n",
      "  self.pricetocash = float(self.price/(balance_sheet(self.symbol).cash/self.outstand))\n",
      "C:\\Users\\rayde\\Anaconda3\\lib\\finance_python\\stock_scraper_v2.py:121: RuntimeWarning: divide by zero encountered in longlong_scalars\n",
      "  self.pricetocash = float(self.price/(balance_sheet(self.symbol).cash/self.outstand))\n"
     ]
    }
   ],
   "source": [
    "d = list(map(lambda x: {x: calculations(x, source, start, end)}, indust_list))"
   ]
  },
  {
   "cell_type": "code",
   "execution_count": 8,
   "metadata": {},
   "outputs": [
    {
     "data": {
      "text/html": [
       "<div>\n",
       "<style scoped>\n",
       "    .dataframe tbody tr th:only-of-type {\n",
       "        vertical-align: middle;\n",
       "    }\n",
       "\n",
       "    .dataframe tbody tr th {\n",
       "        vertical-align: top;\n",
       "    }\n",
       "\n",
       "    .dataframe thead th {\n",
       "        text-align: right;\n",
       "    }\n",
       "</style>\n",
       "<table border=\"1\" class=\"dataframe\">\n",
       "  <thead>\n",
       "    <tr style=\"text-align: right;\">\n",
       "      <th></th>\n",
       "      <th>language</th>\n",
       "      <th>region</th>\n",
       "      <th>quoteType</th>\n",
       "      <th>currency</th>\n",
       "      <th>priceHint</th>\n",
       "      <th>fullExchangeName</th>\n",
       "      <th>longName</th>\n",
       "      <th>financialCurrency</th>\n",
       "      <th>averageDailyVolume3Month</th>\n",
       "      <th>averageDailyVolume10Day</th>\n",
       "      <th>...</th>\n",
       "      <th>regularMarketChangePercent</th>\n",
       "      <th>regularMarketDayRange</th>\n",
       "      <th>regularMarketPreviousClose</th>\n",
       "      <th>bid</th>\n",
       "      <th>ask</th>\n",
       "      <th>bidSize</th>\n",
       "      <th>askSize</th>\n",
       "      <th>messageBoardId</th>\n",
       "      <th>exchangeDataDelayedBy</th>\n",
       "      <th>price</th>\n",
       "    </tr>\n",
       "  </thead>\n",
       "  <tbody>\n",
       "    <tr>\n",
       "      <th>PLI.TO</th>\n",
       "      <td>en-US</td>\n",
       "      <td>US</td>\n",
       "      <td>EQUITY</td>\n",
       "      <td>CAD</td>\n",
       "      <td>2</td>\n",
       "      <td>Toronto</td>\n",
       "      <td>Prometic Life Sciences Inc.</td>\n",
       "      <td>CAD</td>\n",
       "      <td>10576</td>\n",
       "      <td>18966</td>\n",
       "      <td>...</td>\n",
       "      <td>-1.730772</td>\n",
       "      <td>15.3 - 15.8</td>\n",
       "      <td>15.6</td>\n",
       "      <td>15.32</td>\n",
       "      <td>15.48</td>\n",
       "      <td>0</td>\n",
       "      <td>0</td>\n",
       "      <td>finmb_882426</td>\n",
       "      <td>15</td>\n",
       "      <td>15.33</td>\n",
       "    </tr>\n",
       "  </tbody>\n",
       "</table>\n",
       "<p>1 rows × 61 columns</p>\n",
       "</div>"
      ],
      "text/plain": [
       "       language region quoteType currency  priceHint fullExchangeName  \\\n",
       "PLI.TO    en-US     US    EQUITY      CAD          2          Toronto   \n",
       "\n",
       "                           longName financialCurrency  \\\n",
       "PLI.TO  Prometic Life Sciences Inc.               CAD   \n",
       "\n",
       "        averageDailyVolume3Month  averageDailyVolume10Day  ...  \\\n",
       "PLI.TO                     10576                    18966  ...   \n",
       "\n",
       "        regularMarketChangePercent  regularMarketDayRange  \\\n",
       "PLI.TO                   -1.730772            15.3 - 15.8   \n",
       "\n",
       "       regularMarketPreviousClose    bid    ask  bidSize  askSize  \\\n",
       "PLI.TO                       15.6  15.32  15.48        0        0   \n",
       "\n",
       "        messageBoardId  exchangeDataDelayedBy  price  \n",
       "PLI.TO    finmb_882426                     15  15.33  \n",
       "\n",
       "[1 rows x 61 columns]"
      ]
     },
     "execution_count": 8,
     "metadata": {},
     "output_type": "execute_result"
    }
   ],
   "source": [
    "d[6]['PLI.TO'].data"
   ]
  },
  {
   "cell_type": "code",
   "execution_count": 9,
   "metadata": {},
   "outputs": [],
   "source": [
    "change = list(map(lambda x, y: d[y][x].daily['Adj Close'][-1] - d[y][x].daily['Adj Close'][0], indust_list, range(0, len(indust_list))))\n",
    "perc_change = list(map(lambda x, y: change[y]/d[y][x].daily['Adj Close'][0], indust_list, range(0, len(indust_list))))"
   ]
  },
  {
   "cell_type": "code",
   "execution_count": 10,
   "metadata": {
    "scrolled": true
   },
   "outputs": [],
   "source": [
    "a = list(map(lambda x, y: d[x][y].calcdf, range(0, len(indust_list)), indust_list))"
   ]
  },
  {
   "cell_type": "code",
   "execution_count": 11,
   "metadata": {},
   "outputs": [
    {
     "ename": "TypeError",
     "evalue": "__industry_averages__() takes 1 positional argument but 2 were given",
     "output_type": "error",
     "traceback": [
      "\u001b[1;31m---------------------------------------------------------------------------\u001b[0m",
      "\u001b[1;31mTypeError\u001b[0m                                 Traceback (most recent call last)",
      "\u001b[1;32m<ipython-input-11-7af4be5468ed>\u001b[0m in \u001b[0;36m<module>\u001b[1;34m\u001b[0m\n\u001b[1;32m----> 1\u001b[1;33m \u001b[0mind\u001b[0m \u001b[1;33m=\u001b[0m \u001b[0mindustry\u001b[0m\u001b[1;33m(\u001b[0m\u001b[0ma\u001b[0m\u001b[1;33m)\u001b[0m\u001b[1;33m\u001b[0m\u001b[1;33m\u001b[0m\u001b[0m\n\u001b[0m\u001b[0;32m      2\u001b[0m \u001b[0mconcat\u001b[0m \u001b[1;33m=\u001b[0m \u001b[0mpandas\u001b[0m\u001b[1;33m.\u001b[0m\u001b[0mconcat\u001b[0m\u001b[1;33m(\u001b[0m\u001b[0ma\u001b[0m\u001b[1;33m,\u001b[0m \u001b[0maxis\u001b[0m\u001b[1;33m=\u001b[0m\u001b[1;36m1\u001b[0m\u001b[1;33m)\u001b[0m\u001b[1;33m\u001b[0m\u001b[1;33m\u001b[0m\u001b[0m\n\u001b[0;32m      3\u001b[0m \u001b[0mconcat\u001b[0m\u001b[1;33m\u001b[0m\u001b[1;33m\u001b[0m\u001b[0m\n",
      "\u001b[1;32m~\\Anaconda3\\lib\\finance_python\\stock_scraper_v2.py\u001b[0m in \u001b[0;36m__init__\u001b[1;34m(self, df_list)\u001b[0m\n\u001b[0;32m    178\u001b[0m             \u001b[0mself\u001b[0m\u001b[1;33m.\u001b[0m\u001b[0mdf_list\u001b[0m \u001b[1;33m=\u001b[0m \u001b[0mdf_list\u001b[0m\u001b[1;33m\u001b[0m\u001b[1;33m\u001b[0m\u001b[0m\n\u001b[0;32m    179\u001b[0m             \u001b[0mself\u001b[0m\u001b[1;33m.\u001b[0m\u001b[0mconcat_df\u001b[0m \u001b[1;33m=\u001b[0m \u001b[0mpandas\u001b[0m\u001b[1;33m.\u001b[0m\u001b[0mconcat\u001b[0m\u001b[1;33m(\u001b[0m\u001b[0mdf_list\u001b[0m\u001b[1;33m,\u001b[0m \u001b[0maxis\u001b[0m\u001b[1;33m=\u001b[0m\u001b[1;36m1\u001b[0m\u001b[1;33m)\u001b[0m\u001b[1;33m\u001b[0m\u001b[1;33m\u001b[0m\u001b[0m\n\u001b[1;32m--> 180\u001b[1;33m             \u001b[0mself\u001b[0m\u001b[1;33m.\u001b[0m\u001b[0m__industry_averages__\u001b[0m\u001b[1;33m(\u001b[0m\u001b[0mdf_list\u001b[0m\u001b[1;33m)\u001b[0m\u001b[1;33m\u001b[0m\u001b[1;33m\u001b[0m\u001b[0m\n\u001b[0m\u001b[0;32m    181\u001b[0m             \u001b[0mself\u001b[0m\u001b[1;33m.\u001b[0m\u001b[0m__industry_ratios__\u001b[0m\u001b[1;33m(\u001b[0m\u001b[1;33m)\u001b[0m\u001b[1;33m\u001b[0m\u001b[1;33m\u001b[0m\u001b[0m\n\u001b[0;32m    182\u001b[0m \u001b[1;33m\u001b[0m\u001b[0m\n",
      "\u001b[1;31mTypeError\u001b[0m: __industry_averages__() takes 1 positional argument but 2 were given"
     ]
    }
   ],
   "source": [
    "ind = industry(a)\n",
    "concat = pandas.concat(a, axis=1)\n",
    "concat"
   ]
  },
  {
   "cell_type": "code",
   "execution_count": null,
   "metadata": {},
   "outputs": [],
   "source": [
    "d[2]['AUP.TO'].description"
   ]
  },
  {
   "cell_type": "code",
   "execution_count": null,
   "metadata": {},
   "outputs": [],
   "source": [
    "ind.industry_df\n",
    "ind.averages\n",
    "ind.industry_df"
   ]
  },
  {
   "cell_type": "code",
   "execution_count": null,
   "metadata": {},
   "outputs": [],
   "source": [
    "d2 = list(map(lambda x: {x: balance_sheet(x)}, indust_list))"
   ]
  },
  {
   "cell_type": "code",
   "execution_count": null,
   "metadata": {},
   "outputs": [],
   "source": [
    "d2[0]['ZYME.TO'].bsd"
   ]
  },
  {
   "cell_type": "code",
   "execution_count": null,
   "metadata": {},
   "outputs": [],
   "source": []
  }
 ],
 "metadata": {
  "kernelspec": {
   "display_name": "Python 3",
   "language": "python",
   "name": "python3"
  },
  "language_info": {
   "codemirror_mode": {
    "name": "ipython",
    "version": 3
   },
   "file_extension": ".py",
   "mimetype": "text/x-python",
   "name": "python",
   "nbconvert_exporter": "python",
   "pygments_lexer": "ipython3",
   "version": "3.7.3"
  }
 },
 "nbformat": 4,
 "nbformat_minor": 2
}
