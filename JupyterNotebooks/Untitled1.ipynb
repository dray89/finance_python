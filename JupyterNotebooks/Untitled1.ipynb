{
 "cells": [
  {
   "cell_type": "code",
   "execution_count": null,
   "metadata": {
    "scrolled": true
   },
   "outputs": [],
   "source": [
    "import pandas\n",
    "from finance_python import stock_scraper\n",
    "from datetime import datetime\n",
    "from pandas import DataFrame\n",
    "from balance_sheet import balance_sheet"
   ]
  },
  {
   "cell_type": "code",
   "execution_count": null,
   "metadata": {},
   "outputs": [],
   "source": [
    "cannabis = ['WEED.TO', 'BHC.TO', 'ACB.TO', 'CRON.TO', \n",
    "                  'APHA.TO', 'HEXO.TO', 'GUD.TO', 'TGOD.TO', 'CWEB.TO',\n",
    "                    'NEPT.TO', 'HLS.TO', 'FIRE.TO', 'TRST.TO', 'ALEF.TO', 'CORV.TO']\n",
    "source = \"yahoo\"\n",
    "start = datetime(2018, 7, 19)\n",
    "end = datetime(2019, 7, 19)"
   ]
  },
  {
   "cell_type": "code",
   "execution_count": null,
   "metadata": {},
   "outputs": [],
   "source": [
    "d = {}\n",
    "d2 = {}\n",
    "for x in cannabis:\n",
    "\td[\"{0}\".format(x)] = calculations(x, source, start, end)\n",
    "\td2[\"{0}\".format(x)] = balance_sheet(x)"
   ]
  },
  {
   "cell_type": "code",
   "execution_count": null,
   "metadata": {},
   "outputs": [],
   "source": [
    "cannabis_list = []\n",
    "for x in cannabis:\n",
    "    cannabis_list.append(d[\"{0}\".format(x)].calcdf)"
   ]
  },
  {
   "cell_type": "code",
   "execution_count": null,
   "metadata": {},
   "outputs": [],
   "source": [
    "cannabis_df = industry(cannabis_list)"
   ]
  },
  {
   "cell_type": "code",
   "execution_count": null,
   "metadata": {},
   "outputs": [],
   "source": [
    "cannabis_df.concat_df"
   ]
  },
  {
   "cell_type": "code",
   "execution_count": null,
   "metadata": {},
   "outputs": [],
   "source": [
    "pandas.DataFrame.from_dict(cannabis_df.industry_dict)"
   ]
  },
  {
   "cell_type": "code",
   "execution_count": null,
   "metadata": {},
   "outputs": [],
   "source": [
    "pandas.DataFrame.from_dict(cannabis_df.industry_dict).T"
   ]
  },
  {
   "cell_type": "code",
   "execution_count": null,
   "metadata": {},
   "outputs": [],
   "source": []
  }
 ],
 "metadata": {
  "kernelspec": {
   "display_name": "Python 3",
   "language": "python",
   "name": "python3"
  },
  "language_info": {
   "codemirror_mode": {
    "name": "ipython",
    "version": 3
   },
   "file_extension": ".py",
   "mimetype": "text/x-python",
   "name": "python",
   "nbconvert_exporter": "python",
   "pygments_lexer": "ipython3",
   "version": "3.7.3"
  }
 },
 "nbformat": 4,
 "nbformat_minor": 2
}
