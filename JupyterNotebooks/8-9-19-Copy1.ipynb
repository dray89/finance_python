{
 "cells": [
  {
   "cell_type": "code",
   "execution_count": 161,
   "metadata": {},
   "outputs": [],
   "source": [
    "import sys, time\n",
    "sys.path.append(\"C:\\\\Users\\\\rayde\\\\iCloudDrive\\\\GitHub\\\\finance_python\")\n",
    "\n",
    "from stock_scraper_v3 import get_data\n",
    "from balance_sheet import balance_sheet\n",
    "from financials import financials\n",
    "from datetime import datetime, date\n",
    "from pandas import DataFrame\n",
    "import numpy as np\n",
    "import pandas\n",
    "from industry import industry"
   ]
  },
  {
   "cell_type": "code",
   "execution_count": null,
   "metadata": {},
   "outputs": [],
   "source": []
  },
  {
   "cell_type": "code",
   "execution_count": 162,
   "metadata": {},
   "outputs": [],
   "source": [
    "insurance = ['AFN.TO', 'CIX.TO', 'CMG.TO', \n",
    "                  'CLIQ.TO', 'SII.TO']\n",
    "start = date(2018, 8, 7)\n",
    "end = date(2019, 8, 7)"
   ]
  },
  {
   "cell_type": "code",
   "execution_count": 163,
   "metadata": {
    "scrolled": true
   },
   "outputs": [
    {
     "name": "stdout",
     "output_type": "stream",
     "text": [
      "27.07359766960144\n"
     ]
    }
   ],
   "source": [
    "timer_start = time.time()\n",
    "\n",
    "dict1 = []\n",
    "for each in insurance:\n",
    "    try:        \n",
    "        dict1.append({each: get_data(each, start, end)})\n",
    "    except:\n",
    "        print('error in ', each)\n",
    "        \n",
    "timer_end = time.time()\n",
    "print(timer_end - timer_start)"
   ]
  },
  {
   "cell_type": "code",
   "execution_count": null,
   "metadata": {},
   "outputs": [],
   "source": []
  },
  {
   "cell_type": "code",
   "execution_count": null,
   "metadata": {},
   "outputs": [],
   "source": []
  },
  {
   "cell_type": "code",
   "execution_count": 164,
   "metadata": {},
   "outputs": [],
   "source": [
    "balance_sheets = list(map(lambda x, y: {y: dict1[x][y].bsd}, range(0, len(dict1)), insurance))"
   ]
  },
  {
   "cell_type": "code",
   "execution_count": null,
   "metadata": {},
   "outputs": [],
   "source": []
  },
  {
   "cell_type": "code",
   "execution_count": 165,
   "metadata": {
    "scrolled": true
   },
   "outputs": [
    {
     "name": "stdout",
     "output_type": "stream",
     "text": [
      "Ag Growth International Inc., together with its subsidiaries, manufactures and distributes grain handling, storage, and conditioning equipment in Canada, the United States, and internationally. The company offers portable handling equipment, such as portable augers, portable belt conveyors, grainvacs, and storm seed treaters; and permanent handling equipment, including TA tapered auger vertical blend systems, high-tonnage conveying systems, distributors, bulk weigh hoppers, enclosed belt conveyors, bucket elevators, rail and truck probes, VIS micro dosing systems, batch blenders, reel scalpers, chain conveyors, truss and towers, screw feeders and conveyors, and spout and connections. It also provides storage and conditioning equipment comprising storage bins, temporary storage systems, aeration and conditioning systems, dust collection systems, pneumatic conveying systems, heaters, unloads, petroleum and water storage systems, and bin monitoring systems. The company offers its products under the AGI Airlanco, Batco, Brasil, Brownie, CMC, Danmare, Frame, Grain Guard, GTS, Guardian, Hi Roller, HIS, Hutchinson, Junge Control, Keho, Mayrath, MFS, MMS, Neco, Nuvision, PTM, REM, Sabe, Sentinel, Storm, Stormor, Tramco, Twister, Union Iron, VIS, Westeel, Westfield, Wheatheart, Yargus, and York brand names. Ag Growth International Inc. was founded in 1996 and is based in Winnipeg, Canada. \n",
      "\n",
      "CI Financial Corp. is a publicly owned asset management holding company. Through its subsidiaries, the firm manages separate client focused equity, fixed income, and alternative investments portfolios. It also manages mutual funds, hedge funds, and fund of funds for its clients through its subsidiaries. The firm was founded in 1965 and is based in Toronto, Canada with additional offices in Vancouver, Canada; Calgary, Canada; and Montreal, Canada. \n",
      "\n",
      "Computer Modelling Group Ltd., a computer software technology company, develops and licenses reservoir simulation software in Canada. The company offers CMOST AI, an intelligent optimization and analysis tool that offers solution for its reservoir by combining statistical analysis, machine learning, and non-biased data interpretation; IMEX, a black oil simulator that is used to model primary and secondary oil recovery processes in conventional and unconventional oil/gas reservoirs; GEM, an equation-of-state reservoir simulator for compositional, chemical, and unconventional reservoir modelling; STARS, a thermal and processes reservoir simulator for the modelling of steam, solvents, air, and chemical recovery processes; and CoFlow, a reservoir and production system modelling software that allows reservoir and production engineers to collaborate on the same asset. It also provides Builder, a pre-processor that simplifies the creation of simulation models by providing a framework for data integration and workflow management between various data sources; Results, a post-processor that helps in enhancing understanding and insight into recovery processes and reservoir performance; and WinProp, a fluid property characterization tool, as well as Autotune artificial intelligence solutions. In addition, the company provides professional services comprising support, consulting, training, and contract research services. It also sells its products and services in approximately 60 countries. Computer Modelling Group Ltd. was founded in 1978 and is headquartered in Calgary, Canada. \n",
      "\n",
      "Alcanna Inc. engages in the retail of wines, beers, spirits, and cannabis in North America. As of March 14, 2019, it operated 236 stores in Alberta, British Columbia, and Alaska; and 5 cannabis retail stores under the Nova Cannabis brand in Alberta. The company was formerly known as Liquor Stores N.A. Ltd. and changed its name to Alcanna Inc. in May 2018. Alcanna Inc. was founded in 2004 and is headquartered in Edmonton, Canada. \n",
      "\n",
      "Sprott Inc. is a publicly owned asset management holding company. Through its subsidiaries, the firm provides asset management, portfolio management, wealth management, fund management, and administrative and consulting services to its clients. It offers mutual funds, hedge funds, and offshore funds, along with managed accounts. Further, the firm also provides broker-dealer activities. Sprott Inc. was formed on February 13, 2008 and is based in Toronto, Canada. \n",
      "\n"
     ]
    }
   ],
   "source": [
    "for each in enumerate(insurance):\n",
    "    print(dict1[each[0]][each[1]].description, '\\n')"
   ]
  },
  {
   "cell_type": "code",
   "execution_count": 166,
   "metadata": {},
   "outputs": [
    {
     "data": {
      "text/plain": [
       "<balance_sheet.balance_sheet at 0x1c88b0fa978>"
      ]
     },
     "execution_count": 166,
     "metadata": {},
     "output_type": "execute_result"
    }
   ],
   "source": [
    "balance_sheets[0]['AFN.TO']"
   ]
  },
  {
   "cell_type": "code",
   "execution_count": null,
   "metadata": {},
   "outputs": [],
   "source": []
  },
  {
   "cell_type": "code",
   "execution_count": 167,
   "metadata": {},
   "outputs": [],
   "source": [
    "cann_bsd = list(map(lambda x, y: dict1[x][y].bsd, range(0, len(insurance)), insurance))"
   ]
  },
  {
   "cell_type": "code",
   "execution_count": 238,
   "metadata": {},
   "outputs": [
    {
     "data": {
      "text/plain": [
       "11"
      ]
     },
     "execution_count": 238,
     "metadata": {},
     "output_type": "execute_result"
    }
   ],
   "source": [
    "cann_bsd.append(1)\n",
    "cann_bsd.append(2)\n",
    "len(cann_bsd)"
   ]
  },
  {
   "cell_type": "code",
   "execution_count": 239,
   "metadata": {},
   "outputs": [
    {
     "ename": "RecursionError",
     "evalue": "maximum recursion depth exceeded",
     "output_type": "error",
     "traceback": [
      "\u001b[1;31m---------------------------------------------------------------------------\u001b[0m",
      "\u001b[1;31mRecursionError\u001b[0m                            Traceback (most recent call last)",
      "\u001b[1;32m<ipython-input-239-a0224de097e5>\u001b[0m in \u001b[0;36m<module>\u001b[1;34m\u001b[0m\n\u001b[1;32m----> 1\u001b[1;33m \u001b[1;32mfor\u001b[0m \u001b[0mx\u001b[0m\u001b[1;33m,\u001b[0m \u001b[0my\u001b[0m \u001b[1;32min\u001b[0m \u001b[0menumerate\u001b[0m\u001b[1;33m(\u001b[0m\u001b[0mcann_bsd\u001b[0m\u001b[1;33m)\u001b[0m\u001b[1;33m:\u001b[0m\u001b[1;33m\u001b[0m\u001b[1;33m\u001b[0m\u001b[0m\n\u001b[0m\u001b[0;32m      2\u001b[0m     \u001b[1;32mif\u001b[0m \u001b[0mhasattr\u001b[0m\u001b[1;33m(\u001b[0m\u001b[0my\u001b[0m\u001b[1;33m,\u001b[0m \u001b[1;34m'changes'\u001b[0m\u001b[1;33m)\u001b[0m\u001b[1;33m:\u001b[0m\u001b[1;33m\u001b[0m\u001b[1;33m\u001b[0m\u001b[0m\n\u001b[0;32m      3\u001b[0m         \u001b[1;32mpass\u001b[0m\u001b[1;33m\u001b[0m\u001b[1;33m\u001b[0m\u001b[0m\n\u001b[0;32m      4\u001b[0m     \u001b[1;32melse\u001b[0m\u001b[1;33m:\u001b[0m\u001b[1;33m\u001b[0m\u001b[1;33m\u001b[0m\u001b[0m\n\u001b[0;32m      5\u001b[0m         \u001b[0mcann_bsd\u001b[0m\u001b[1;33m.\u001b[0m\u001b[0mpop\u001b[0m\u001b[1;33m(\u001b[0m\u001b[0mx\u001b[0m\u001b[1;33m)\u001b[0m\u001b[1;33m\u001b[0m\u001b[1;33m\u001b[0m\u001b[0m\n",
      "\u001b[1;32m<ipython-input-219-c6bd899568bb>\u001b[0m in \u001b[0;36menumerate\u001b[1;34m(cann_bsd)\u001b[0m\n\u001b[0;32m      1\u001b[0m \u001b[1;32mdef\u001b[0m \u001b[0menumerate\u001b[0m\u001b[1;33m(\u001b[0m\u001b[0mcann_bsd\u001b[0m\u001b[1;33m)\u001b[0m\u001b[1;33m:\u001b[0m\u001b[1;33m\u001b[0m\u001b[1;33m\u001b[0m\u001b[0m\n\u001b[1;32m----> 2\u001b[1;33m     \u001b[1;32mfor\u001b[0m \u001b[0mx\u001b[0m\u001b[1;33m,\u001b[0m \u001b[0my\u001b[0m \u001b[1;32min\u001b[0m \u001b[0menumerate\u001b[0m\u001b[1;33m(\u001b[0m\u001b[0mcann_bsd\u001b[0m\u001b[1;33m)\u001b[0m\u001b[1;33m:\u001b[0m\u001b[1;33m\u001b[0m\u001b[1;33m\u001b[0m\u001b[0m\n\u001b[0m\u001b[0;32m      3\u001b[0m         \u001b[1;32mif\u001b[0m \u001b[0mhasattr\u001b[0m\u001b[1;33m(\u001b[0m\u001b[0my\u001b[0m\u001b[1;33m,\u001b[0m \u001b[1;34m'changes'\u001b[0m\u001b[1;33m)\u001b[0m\u001b[1;33m:\u001b[0m\u001b[1;33m\u001b[0m\u001b[1;33m\u001b[0m\u001b[0m\n\u001b[0;32m      4\u001b[0m             \u001b[1;32mpass\u001b[0m\u001b[1;33m\u001b[0m\u001b[1;33m\u001b[0m\u001b[0m\n\u001b[0;32m      5\u001b[0m         \u001b[1;32melse\u001b[0m\u001b[1;33m:\u001b[0m\u001b[1;33m\u001b[0m\u001b[1;33m\u001b[0m\u001b[0m\n",
      "... last 1 frames repeated, from the frame below ...\n",
      "\u001b[1;32m<ipython-input-219-c6bd899568bb>\u001b[0m in \u001b[0;36menumerate\u001b[1;34m(cann_bsd)\u001b[0m\n\u001b[0;32m      1\u001b[0m \u001b[1;32mdef\u001b[0m \u001b[0menumerate\u001b[0m\u001b[1;33m(\u001b[0m\u001b[0mcann_bsd\u001b[0m\u001b[1;33m)\u001b[0m\u001b[1;33m:\u001b[0m\u001b[1;33m\u001b[0m\u001b[1;33m\u001b[0m\u001b[0m\n\u001b[1;32m----> 2\u001b[1;33m     \u001b[1;32mfor\u001b[0m \u001b[0mx\u001b[0m\u001b[1;33m,\u001b[0m \u001b[0my\u001b[0m \u001b[1;32min\u001b[0m \u001b[0menumerate\u001b[0m\u001b[1;33m(\u001b[0m\u001b[0mcann_bsd\u001b[0m\u001b[1;33m)\u001b[0m\u001b[1;33m:\u001b[0m\u001b[1;33m\u001b[0m\u001b[1;33m\u001b[0m\u001b[0m\n\u001b[0m\u001b[0;32m      3\u001b[0m         \u001b[1;32mif\u001b[0m \u001b[0mhasattr\u001b[0m\u001b[1;33m(\u001b[0m\u001b[0my\u001b[0m\u001b[1;33m,\u001b[0m \u001b[1;34m'changes'\u001b[0m\u001b[1;33m)\u001b[0m\u001b[1;33m:\u001b[0m\u001b[1;33m\u001b[0m\u001b[1;33m\u001b[0m\u001b[0m\n\u001b[0;32m      4\u001b[0m             \u001b[1;32mpass\u001b[0m\u001b[1;33m\u001b[0m\u001b[1;33m\u001b[0m\u001b[0m\n\u001b[0;32m      5\u001b[0m         \u001b[1;32melse\u001b[0m\u001b[1;33m:\u001b[0m\u001b[1;33m\u001b[0m\u001b[1;33m\u001b[0m\u001b[0m\n",
      "\u001b[1;31mRecursionError\u001b[0m: maximum recursion depth exceeded"
     ]
    }
   ],
   "source": [
    "for x, y in enumerate(cann_bsd):\n",
    "    if hasattr(y, 'changes'):\n",
    "        pass\n",
    "    else:\n",
    "        cann_bsd.pop(x)"
   ]
  },
  {
   "cell_type": "code",
   "execution_count": null,
   "metadata": {},
   "outputs": [],
   "source": [
    "list(cann_bsd)\n",
    "print(len(cann_bsd))"
   ]
  },
  {
   "cell_type": "code",
   "execution_count": 119,
   "metadata": {},
   "outputs": [
    {
     "data": {
      "text/plain": [
       "retained_earnings    0.180731\n",
       "equity               0.485904\n",
       "net_tangibles       -0.724992\n",
       "debt                 0.002920\n",
       "liabilities         -0.169761\n",
       "netrec               0.386805\n",
       "total_assets         0.098418\n",
       "int_assets           0.046874\n",
       "cash                -0.474688\n",
       "net_assets           1.008227\n",
       "Name: AFN.TO, dtype: float64"
      ]
     },
     "execution_count": 119,
     "metadata": {},
     "output_type": "execute_result"
    }
   ],
   "source": [
    "cann_bsd[0].changes"
   ]
  },
  {
   "cell_type": "code",
   "execution_count": 120,
   "metadata": {},
   "outputs": [],
   "source": [
    "insurance = list(map(lambda x: pandas.DataFrame(cann_bsd[x].changes), range(0, len(cann_bsd))))"
   ]
  },
  {
   "cell_type": "code",
   "execution_count": 121,
   "metadata": {},
   "outputs": [
    {
     "data": {
      "text/html": [
       "<div>\n",
       "<style scoped>\n",
       "    .dataframe tbody tr th:only-of-type {\n",
       "        vertical-align: middle;\n",
       "    }\n",
       "\n",
       "    .dataframe tbody tr th {\n",
       "        vertical-align: top;\n",
       "    }\n",
       "\n",
       "    .dataframe thead th {\n",
       "        text-align: right;\n",
       "    }\n",
       "</style>\n",
       "<table border=\"1\" class=\"dataframe\">\n",
       "  <thead>\n",
       "    <tr style=\"text-align: right;\">\n",
       "      <th></th>\n",
       "      <th>AFN.TO</th>\n",
       "      <th>CIX.TO</th>\n",
       "      <th>CMG.TO</th>\n",
       "      <th>CLIQ.TO</th>\n",
       "      <th>SII.TO</th>\n",
       "    </tr>\n",
       "  </thead>\n",
       "  <tbody>\n",
       "    <tr>\n",
       "      <th>cash</th>\n",
       "      <td>-0.474688</td>\n",
       "      <td>0.100962</td>\n",
       "      <td>-0.147978</td>\n",
       "      <td>28.880742</td>\n",
       "      <td>-0.697335</td>\n",
       "    </tr>\n",
       "    <tr>\n",
       "      <th>debt</th>\n",
       "      <td>0.002920</td>\n",
       "      <td>0.678051</td>\n",
       "      <td>NaN</td>\n",
       "      <td>-0.278925</td>\n",
       "      <td>NaN</td>\n",
       "    </tr>\n",
       "    <tr>\n",
       "      <th>equity</th>\n",
       "      <td>0.485904</td>\n",
       "      <td>-0.248547</td>\n",
       "      <td>-0.149539</td>\n",
       "      <td>-0.164966</td>\n",
       "      <td>0.085083</td>\n",
       "    </tr>\n",
       "    <tr>\n",
       "      <th>int_assets</th>\n",
       "      <td>0.046874</td>\n",
       "      <td>-0.002850</td>\n",
       "      <td>NaN</td>\n",
       "      <td>0.077805</td>\n",
       "      <td>8.015560</td>\n",
       "    </tr>\n",
       "    <tr>\n",
       "      <th>liabilities</th>\n",
       "      <td>-0.169761</td>\n",
       "      <td>-0.204603</td>\n",
       "      <td>0.020956</td>\n",
       "      <td>0.050144</td>\n",
       "      <td>-0.194916</td>\n",
       "    </tr>\n",
       "    <tr>\n",
       "      <th>net_assets</th>\n",
       "      <td>1.008227</td>\n",
       "      <td>-1.166684</td>\n",
       "      <td>-0.170075</td>\n",
       "      <td>0.782285</td>\n",
       "      <td>-0.720961</td>\n",
       "    </tr>\n",
       "    <tr>\n",
       "      <th>net_tangibles</th>\n",
       "      <td>-0.724992</td>\n",
       "      <td>0.317436</td>\n",
       "      <td>-0.149539</td>\n",
       "      <td>8.789925</td>\n",
       "      <td>-0.345125</td>\n",
       "    </tr>\n",
       "    <tr>\n",
       "      <th>netrec</th>\n",
       "      <td>0.386805</td>\n",
       "      <td>-0.298985</td>\n",
       "      <td>0.181170</td>\n",
       "      <td>-0.744418</td>\n",
       "      <td>-0.187357</td>\n",
       "    </tr>\n",
       "    <tr>\n",
       "      <th>retained_earnings</th>\n",
       "      <td>0.180731</td>\n",
       "      <td>0.460082</td>\n",
       "      <td>0.264040</td>\n",
       "      <td>0.669250</td>\n",
       "      <td>-0.009055</td>\n",
       "    </tr>\n",
       "    <tr>\n",
       "      <th>total_assets</th>\n",
       "      <td>0.098418</td>\n",
       "      <td>-0.059680</td>\n",
       "      <td>-0.076125</td>\n",
       "      <td>0.461016</td>\n",
       "      <td>-0.598016</td>\n",
       "    </tr>\n",
       "  </tbody>\n",
       "</table>\n",
       "</div>"
      ],
      "text/plain": [
       "                     AFN.TO    CIX.TO    CMG.TO    CLIQ.TO    SII.TO\n",
       "cash              -0.474688  0.100962 -0.147978  28.880742 -0.697335\n",
       "debt               0.002920  0.678051       NaN  -0.278925       NaN\n",
       "equity             0.485904 -0.248547 -0.149539  -0.164966  0.085083\n",
       "int_assets         0.046874 -0.002850       NaN   0.077805  8.015560\n",
       "liabilities       -0.169761 -0.204603  0.020956   0.050144 -0.194916\n",
       "net_assets         1.008227 -1.166684 -0.170075   0.782285 -0.720961\n",
       "net_tangibles     -0.724992  0.317436 -0.149539   8.789925 -0.345125\n",
       "netrec             0.386805 -0.298985  0.181170  -0.744418 -0.187357\n",
       "retained_earnings  0.180731  0.460082  0.264040   0.669250 -0.009055\n",
       "total_assets       0.098418 -0.059680 -0.076125   0.461016 -0.598016"
      ]
     },
     "execution_count": 121,
     "metadata": {},
     "output_type": "execute_result"
    }
   ],
   "source": [
    "frame = pandas.concat(insurance, sort=True, axis=1)\n",
    "frame"
   ]
  },
  {
   "cell_type": "code",
   "execution_count": 122,
   "metadata": {},
   "outputs": [],
   "source": [
    "cann_bsd_list = list(map(lambda x, y: y.stats, range(0, len(cann_bsd)), cann_bsd))"
   ]
  },
  {
   "cell_type": "code",
   "execution_count": 123,
   "metadata": {},
   "outputs": [],
   "source": [
    "dataframe = pandas.concat(cann_bsd_list, sort=True, axis=1)"
   ]
  },
  {
   "cell_type": "code",
   "execution_count": 124,
   "metadata": {},
   "outputs": [],
   "source": [
    "dataframe = dataframe.dropna(how='all')"
   ]
  },
  {
   "cell_type": "code",
   "execution_count": null,
   "metadata": {},
   "outputs": [],
   "source": []
  },
  {
   "cell_type": "code",
   "execution_count": 126,
   "metadata": {},
   "outputs": [
    {
     "data": {
      "text/plain": [
       "cash                 CLIQ.TO\n",
       "debt                  CIX.TO\n",
       "equity                AFN.TO\n",
       "int_assets            SII.TO\n",
       "liabilities          CLIQ.TO\n",
       "net_assets            AFN.TO\n",
       "net_tangibles        CLIQ.TO\n",
       "netrec                AFN.TO\n",
       "retained_earnings    CLIQ.TO\n",
       "total_assets         CLIQ.TO\n",
       "dtype: object"
      ]
     },
     "execution_count": 126,
     "metadata": {},
     "output_type": "execute_result"
    }
   ],
   "source": [
    "frame.idxmax(axis = 1)"
   ]
  },
  {
   "cell_type": "code",
   "execution_count": 127,
   "metadata": {},
   "outputs": [
    {
     "data": {
      "text/plain": [
       "cash                  SII.TO\n",
       "debt                 CLIQ.TO\n",
       "equity                CIX.TO\n",
       "int_assets            CIX.TO\n",
       "liabilities           CIX.TO\n",
       "net_assets            CIX.TO\n",
       "net_tangibles         AFN.TO\n",
       "netrec               CLIQ.TO\n",
       "retained_earnings     SII.TO\n",
       "total_assets          SII.TO\n",
       "dtype: object"
      ]
     },
     "execution_count": 127,
     "metadata": {},
     "output_type": "execute_result"
    }
   ],
   "source": [
    "frame.idxmin(axis=1)"
   ]
  },
  {
   "cell_type": "code",
   "execution_count": 128,
   "metadata": {},
   "outputs": [],
   "source": [
    "debt_inc = \"{0} increased its debt by {1} in the past year, the largest increase in debt in the industry.\"\n",
    "debt_dec =  \"Meanwhile, {0} decreased its debt by {1}.\""
   ]
  },
  {
   "cell_type": "code",
   "execution_count": 34,
   "metadata": {},
   "outputs": [
    {
     "name": "stdout",
     "output_type": "stream",
     "text": [
      "CIX.TO increased its debt by 0.6780505714084848 in the past year, the largest increase in debt in the industry.\n",
      "Meanwhile, CLIQ.TO decreased its debt by -0.27892459949035026.\n"
     ]
    }
   ],
   "source": [
    "print(debt_inc.format(frame.idxmax(axis = 1)[1], np.max(frame.iloc[1])))\n",
    "print(debt_dec.format(frame.idxmin(axis = 1)[1], np.min(frame.iloc[1])))"
   ]
  },
  {
   "cell_type": "code",
   "execution_count": 54,
   "metadata": {},
   "outputs": [],
   "source": [
    "maximum = []\n",
    "for each in enumerate(frame.idxmax(axis=1)):\n",
    "        i = frame.idxmax(axis=1).index[each[0]]\n",
    "        symbol = frame.idxmax(axis=1)[i]\n",
    "        maximum.append({symbol: [i, frame[each[1]].T[i]]})"
   ]
  },
  {
   "cell_type": "raw",
   "metadata": {},
   "source": [
    "maximum"
   ]
  },
  {
   "cell_type": "code",
   "execution_count": 55,
   "metadata": {
    "scrolled": true
   },
   "outputs": [
    {
     "data": {
      "text/plain": [
       "[{'CLIQ.TO': ['cash', 28.880742459396753]},\n",
       " {'CIX.TO': ['debt', 0.6780505714084848]},\n",
       " {'AFN.TO': ['equity', 0.4859040696480637]},\n",
       " {'SII.TO': ['int_assets', 8.015560418186238]},\n",
       " {'CLIQ.TO': ['liabilities', 0.050143935268030806]},\n",
       " {'AFN.TO': ['net_assets', 1.0082272738419285]},\n",
       " {'CLIQ.TO': ['net_tangibles', 8.78992463308211]},\n",
       " {'AFN.TO': ['netrec', 0.386804812433119]},\n",
       " {'CLIQ.TO': ['retained_earnings', 0.6692504921572363]},\n",
       " {'CLIQ.TO': ['total_assets', 0.4610158497136468]}]"
      ]
     },
     "execution_count": 55,
     "metadata": {},
     "output_type": "execute_result"
    }
   ],
   "source": [
    "maximum"
   ]
  },
  {
   "cell_type": "code",
   "execution_count": 244,
   "metadata": {},
   "outputs": [
    {
     "ename": "RecursionError",
     "evalue": "maximum recursion depth exceeded",
     "output_type": "error",
     "traceback": [
      "\u001b[1;31m---------------------------------------------------------------------------\u001b[0m",
      "\u001b[1;31mRecursionError\u001b[0m                            Traceback (most recent call last)",
      "\u001b[1;32m<ipython-input-244-4432cd697589>\u001b[0m in \u001b[0;36m<module>\u001b[1;34m\u001b[0m\n\u001b[0;32m      1\u001b[0m \u001b[0mminimum\u001b[0m \u001b[1;33m=\u001b[0m \u001b[1;33m[\u001b[0m\u001b[1;33m]\u001b[0m\u001b[1;33m\u001b[0m\u001b[1;33m\u001b[0m\u001b[0m\n\u001b[1;32m----> 2\u001b[1;33m \u001b[1;32mfor\u001b[0m \u001b[0meach\u001b[0m \u001b[1;32min\u001b[0m \u001b[0menumerate\u001b[0m\u001b[1;33m(\u001b[0m\u001b[0mframe\u001b[0m\u001b[1;33m.\u001b[0m\u001b[0midxmin\u001b[0m\u001b[1;33m(\u001b[0m\u001b[0maxis\u001b[0m\u001b[1;33m=\u001b[0m\u001b[1;36m1\u001b[0m\u001b[1;33m)\u001b[0m\u001b[1;33m)\u001b[0m\u001b[1;33m:\u001b[0m\u001b[1;33m\u001b[0m\u001b[1;33m\u001b[0m\u001b[0m\n\u001b[0m\u001b[0;32m      3\u001b[0m         \u001b[0mi\u001b[0m \u001b[1;33m=\u001b[0m \u001b[0mframe\u001b[0m\u001b[1;33m.\u001b[0m\u001b[0midxmin\u001b[0m\u001b[1;33m(\u001b[0m\u001b[0maxis\u001b[0m\u001b[1;33m=\u001b[0m\u001b[1;36m1\u001b[0m\u001b[1;33m)\u001b[0m\u001b[1;33m.\u001b[0m\u001b[0mindex\u001b[0m\u001b[1;33m[\u001b[0m\u001b[0meach\u001b[0m\u001b[1;33m[\u001b[0m\u001b[1;36m0\u001b[0m\u001b[1;33m]\u001b[0m\u001b[1;33m]\u001b[0m\u001b[1;33m\u001b[0m\u001b[1;33m\u001b[0m\u001b[0m\n\u001b[0;32m      4\u001b[0m         \u001b[0msymbol\u001b[0m \u001b[1;33m=\u001b[0m \u001b[0mframe\u001b[0m\u001b[1;33m.\u001b[0m\u001b[0midxmin\u001b[0m\u001b[1;33m(\u001b[0m\u001b[0maxis\u001b[0m\u001b[1;33m=\u001b[0m\u001b[1;36m1\u001b[0m\u001b[1;33m)\u001b[0m\u001b[1;33m[\u001b[0m\u001b[0mi\u001b[0m\u001b[1;33m]\u001b[0m\u001b[1;33m\u001b[0m\u001b[1;33m\u001b[0m\u001b[0m\n\u001b[0;32m      5\u001b[0m         \u001b[0mminimum\u001b[0m\u001b[1;33m.\u001b[0m\u001b[0mappend\u001b[0m\u001b[1;33m(\u001b[0m\u001b[1;33m{\u001b[0m\u001b[0msymbol\u001b[0m\u001b[1;33m:\u001b[0m \u001b[1;33m[\u001b[0m\u001b[0mi\u001b[0m\u001b[1;33m,\u001b[0m \u001b[0mframe\u001b[0m\u001b[1;33m[\u001b[0m\u001b[0meach\u001b[0m\u001b[1;33m[\u001b[0m\u001b[1;36m1\u001b[0m\u001b[1;33m]\u001b[0m\u001b[1;33m]\u001b[0m\u001b[1;33m.\u001b[0m\u001b[0mT\u001b[0m\u001b[1;33m[\u001b[0m\u001b[0mi\u001b[0m\u001b[1;33m]\u001b[0m\u001b[1;33m]\u001b[0m\u001b[1;33m}\u001b[0m\u001b[1;33m)\u001b[0m\u001b[1;33m\u001b[0m\u001b[1;33m\u001b[0m\u001b[0m\n",
      "\u001b[1;32m<ipython-input-219-c6bd899568bb>\u001b[0m in \u001b[0;36menumerate\u001b[1;34m(cann_bsd)\u001b[0m\n\u001b[0;32m      1\u001b[0m \u001b[1;32mdef\u001b[0m \u001b[0menumerate\u001b[0m\u001b[1;33m(\u001b[0m\u001b[0mcann_bsd\u001b[0m\u001b[1;33m)\u001b[0m\u001b[1;33m:\u001b[0m\u001b[1;33m\u001b[0m\u001b[1;33m\u001b[0m\u001b[0m\n\u001b[1;32m----> 2\u001b[1;33m     \u001b[1;32mfor\u001b[0m \u001b[0mx\u001b[0m\u001b[1;33m,\u001b[0m \u001b[0my\u001b[0m \u001b[1;32min\u001b[0m \u001b[0menumerate\u001b[0m\u001b[1;33m(\u001b[0m\u001b[0mcann_bsd\u001b[0m\u001b[1;33m)\u001b[0m\u001b[1;33m:\u001b[0m\u001b[1;33m\u001b[0m\u001b[1;33m\u001b[0m\u001b[0m\n\u001b[0m\u001b[0;32m      3\u001b[0m         \u001b[1;32mif\u001b[0m \u001b[0mhasattr\u001b[0m\u001b[1;33m(\u001b[0m\u001b[0my\u001b[0m\u001b[1;33m,\u001b[0m \u001b[1;34m'changes'\u001b[0m\u001b[1;33m)\u001b[0m\u001b[1;33m:\u001b[0m\u001b[1;33m\u001b[0m\u001b[1;33m\u001b[0m\u001b[0m\n\u001b[0;32m      4\u001b[0m             \u001b[1;32mpass\u001b[0m\u001b[1;33m\u001b[0m\u001b[1;33m\u001b[0m\u001b[0m\n\u001b[0;32m      5\u001b[0m         \u001b[1;32melse\u001b[0m\u001b[1;33m:\u001b[0m\u001b[1;33m\u001b[0m\u001b[1;33m\u001b[0m\u001b[0m\n",
      "... last 1 frames repeated, from the frame below ...\n",
      "\u001b[1;32m<ipython-input-219-c6bd899568bb>\u001b[0m in \u001b[0;36menumerate\u001b[1;34m(cann_bsd)\u001b[0m\n\u001b[0;32m      1\u001b[0m \u001b[1;32mdef\u001b[0m \u001b[0menumerate\u001b[0m\u001b[1;33m(\u001b[0m\u001b[0mcann_bsd\u001b[0m\u001b[1;33m)\u001b[0m\u001b[1;33m:\u001b[0m\u001b[1;33m\u001b[0m\u001b[1;33m\u001b[0m\u001b[0m\n\u001b[1;32m----> 2\u001b[1;33m     \u001b[1;32mfor\u001b[0m \u001b[0mx\u001b[0m\u001b[1;33m,\u001b[0m \u001b[0my\u001b[0m \u001b[1;32min\u001b[0m \u001b[0menumerate\u001b[0m\u001b[1;33m(\u001b[0m\u001b[0mcann_bsd\u001b[0m\u001b[1;33m)\u001b[0m\u001b[1;33m:\u001b[0m\u001b[1;33m\u001b[0m\u001b[1;33m\u001b[0m\u001b[0m\n\u001b[0m\u001b[0;32m      3\u001b[0m         \u001b[1;32mif\u001b[0m \u001b[0mhasattr\u001b[0m\u001b[1;33m(\u001b[0m\u001b[0my\u001b[0m\u001b[1;33m,\u001b[0m \u001b[1;34m'changes'\u001b[0m\u001b[1;33m)\u001b[0m\u001b[1;33m:\u001b[0m\u001b[1;33m\u001b[0m\u001b[1;33m\u001b[0m\u001b[0m\n\u001b[0;32m      4\u001b[0m             \u001b[1;32mpass\u001b[0m\u001b[1;33m\u001b[0m\u001b[1;33m\u001b[0m\u001b[0m\n\u001b[0;32m      5\u001b[0m         \u001b[1;32melse\u001b[0m\u001b[1;33m:\u001b[0m\u001b[1;33m\u001b[0m\u001b[1;33m\u001b[0m\u001b[0m\n",
      "\u001b[1;31mRecursionError\u001b[0m: maximum recursion depth exceeded"
     ]
    }
   ],
   "source": [
    "minimum = []\n",
    "for each in enumerate(frame.idxmin(axis=1)):\n",
    "        i = frame.idxmin(axis=1).index[each[0]]\n",
    "        symbol = frame.idxmin(axis=1)[i]\n",
    "        minimum.append({symbol: [i, frame[each[1]].T[i]]})"
   ]
  },
  {
   "cell_type": "code",
   "execution_count": null,
   "metadata": {},
   "outputs": [],
   "source": [
    "minimum"
   ]
  },
  {
   "cell_type": "code",
   "execution_count": 74,
   "metadata": {},
   "outputs": [],
   "source": [
    "max_sentence = \"{0} increased its {1} by {2} in the past year.\"\n",
    "min_sentence =  \"{0} decreased its {1} by {2}.\""
   ]
  },
  {
   "cell_type": "code",
   "execution_count": 75,
   "metadata": {},
   "outputs": [
    {
     "name": "stdout",
     "output_type": "stream",
     "text": [
      "CLIQ.TO increased its cash by 28.880742459396753 in the past year.\n",
      "CIX.TO increased its debt by 0.6780505714084848 in the past year.\n",
      "AFN.TO increased its equity by 0.4859040696480637 in the past year.\n",
      "SII.TO increased its int_assets by 8.015560418186238 in the past year.\n",
      "CLIQ.TO increased its liabilities by 0.050143935268030806 in the past year.\n",
      "AFN.TO increased its net_assets by 1.0082272738419285 in the past year.\n",
      "CLIQ.TO increased its net_tangibles by 8.78992463308211 in the past year.\n",
      "AFN.TO increased its netrec by 0.386804812433119 in the past year.\n",
      "CLIQ.TO increased its retained_earnings by 0.6692504921572363 in the past year.\n",
      "CLIQ.TO increased its total_assets by 0.4610158497136468 in the past year.\n"
     ]
    }
   ],
   "source": [
    "for each in enumerate(maximum):\n",
    "    print(max_sentence.format(list(maximum[each[0]].keys())[0], list(maximum[each[0]].values())[0][0], list(maximum[each[0]].values())[0][1]))"
   ]
  },
  {
   "cell_type": "code",
   "execution_count": 243,
   "metadata": {},
   "outputs": [
    {
     "ename": "RecursionError",
     "evalue": "maximum recursion depth exceeded",
     "output_type": "error",
     "traceback": [
      "\u001b[1;31m---------------------------------------------------------------------------\u001b[0m",
      "\u001b[1;31mRecursionError\u001b[0m                            Traceback (most recent call last)",
      "\u001b[1;32m<ipython-input-243-39a7243b7357>\u001b[0m in \u001b[0;36m<module>\u001b[1;34m\u001b[0m\n\u001b[1;32m----> 1\u001b[1;33m \u001b[1;32mfor\u001b[0m \u001b[0meach\u001b[0m \u001b[1;32min\u001b[0m \u001b[0menumerate\u001b[0m\u001b[1;33m(\u001b[0m\u001b[0mminimum\u001b[0m\u001b[1;33m)\u001b[0m\u001b[1;33m:\u001b[0m\u001b[1;33m\u001b[0m\u001b[1;33m\u001b[0m\u001b[0m\n\u001b[0m\u001b[0;32m      2\u001b[0m     \u001b[0mprint\u001b[0m\u001b[1;33m(\u001b[0m\u001b[0mmax_sentence\u001b[0m\u001b[1;33m.\u001b[0m\u001b[0mformat\u001b[0m\u001b[1;33m(\u001b[0m\u001b[0mlist\u001b[0m\u001b[1;33m(\u001b[0m\u001b[0mminimum\u001b[0m\u001b[1;33m[\u001b[0m\u001b[0meach\u001b[0m\u001b[1;33m[\u001b[0m\u001b[1;36m0\u001b[0m\u001b[1;33m]\u001b[0m\u001b[1;33m]\u001b[0m\u001b[1;33m.\u001b[0m\u001b[0mkeys\u001b[0m\u001b[1;33m(\u001b[0m\u001b[1;33m)\u001b[0m\u001b[1;33m)\u001b[0m\u001b[1;33m[\u001b[0m\u001b[1;36m0\u001b[0m\u001b[1;33m]\u001b[0m\u001b[1;33m,\u001b[0m \u001b[0mlist\u001b[0m\u001b[1;33m(\u001b[0m\u001b[0mminimum\u001b[0m\u001b[1;33m[\u001b[0m\u001b[0meach\u001b[0m\u001b[1;33m[\u001b[0m\u001b[1;36m0\u001b[0m\u001b[1;33m]\u001b[0m\u001b[1;33m]\u001b[0m\u001b[1;33m.\u001b[0m\u001b[0mvalues\u001b[0m\u001b[1;33m(\u001b[0m\u001b[1;33m)\u001b[0m\u001b[1;33m)\u001b[0m\u001b[1;33m[\u001b[0m\u001b[1;36m0\u001b[0m\u001b[1;33m]\u001b[0m\u001b[1;33m[\u001b[0m\u001b[1;36m0\u001b[0m\u001b[1;33m]\u001b[0m\u001b[1;33m,\u001b[0m \u001b[0mlist\u001b[0m\u001b[1;33m(\u001b[0m\u001b[0mminimum\u001b[0m\u001b[1;33m[\u001b[0m\u001b[0meach\u001b[0m\u001b[1;33m[\u001b[0m\u001b[1;36m0\u001b[0m\u001b[1;33m]\u001b[0m\u001b[1;33m]\u001b[0m\u001b[1;33m.\u001b[0m\u001b[0mvalues\u001b[0m\u001b[1;33m(\u001b[0m\u001b[1;33m)\u001b[0m\u001b[1;33m)\u001b[0m\u001b[1;33m[\u001b[0m\u001b[1;36m0\u001b[0m\u001b[1;33m]\u001b[0m\u001b[1;33m[\u001b[0m\u001b[1;36m1\u001b[0m\u001b[1;33m]\u001b[0m\u001b[1;33m)\u001b[0m\u001b[1;33m)\u001b[0m\u001b[1;33m\u001b[0m\u001b[1;33m\u001b[0m\u001b[0m\n",
      "\u001b[1;32m<ipython-input-219-c6bd899568bb>\u001b[0m in \u001b[0;36menumerate\u001b[1;34m(cann_bsd)\u001b[0m\n\u001b[0;32m      1\u001b[0m \u001b[1;32mdef\u001b[0m \u001b[0menumerate\u001b[0m\u001b[1;33m(\u001b[0m\u001b[0mcann_bsd\u001b[0m\u001b[1;33m)\u001b[0m\u001b[1;33m:\u001b[0m\u001b[1;33m\u001b[0m\u001b[1;33m\u001b[0m\u001b[0m\n\u001b[1;32m----> 2\u001b[1;33m     \u001b[1;32mfor\u001b[0m \u001b[0mx\u001b[0m\u001b[1;33m,\u001b[0m \u001b[0my\u001b[0m \u001b[1;32min\u001b[0m \u001b[0menumerate\u001b[0m\u001b[1;33m(\u001b[0m\u001b[0mcann_bsd\u001b[0m\u001b[1;33m)\u001b[0m\u001b[1;33m:\u001b[0m\u001b[1;33m\u001b[0m\u001b[1;33m\u001b[0m\u001b[0m\n\u001b[0m\u001b[0;32m      3\u001b[0m         \u001b[1;32mif\u001b[0m \u001b[0mhasattr\u001b[0m\u001b[1;33m(\u001b[0m\u001b[0my\u001b[0m\u001b[1;33m,\u001b[0m \u001b[1;34m'changes'\u001b[0m\u001b[1;33m)\u001b[0m\u001b[1;33m:\u001b[0m\u001b[1;33m\u001b[0m\u001b[1;33m\u001b[0m\u001b[0m\n\u001b[0;32m      4\u001b[0m             \u001b[1;32mpass\u001b[0m\u001b[1;33m\u001b[0m\u001b[1;33m\u001b[0m\u001b[0m\n\u001b[0;32m      5\u001b[0m         \u001b[1;32melse\u001b[0m\u001b[1;33m:\u001b[0m\u001b[1;33m\u001b[0m\u001b[1;33m\u001b[0m\u001b[0m\n",
      "... last 1 frames repeated, from the frame below ...\n",
      "\u001b[1;32m<ipython-input-219-c6bd899568bb>\u001b[0m in \u001b[0;36menumerate\u001b[1;34m(cann_bsd)\u001b[0m\n\u001b[0;32m      1\u001b[0m \u001b[1;32mdef\u001b[0m \u001b[0menumerate\u001b[0m\u001b[1;33m(\u001b[0m\u001b[0mcann_bsd\u001b[0m\u001b[1;33m)\u001b[0m\u001b[1;33m:\u001b[0m\u001b[1;33m\u001b[0m\u001b[1;33m\u001b[0m\u001b[0m\n\u001b[1;32m----> 2\u001b[1;33m     \u001b[1;32mfor\u001b[0m \u001b[0mx\u001b[0m\u001b[1;33m,\u001b[0m \u001b[0my\u001b[0m \u001b[1;32min\u001b[0m \u001b[0menumerate\u001b[0m\u001b[1;33m(\u001b[0m\u001b[0mcann_bsd\u001b[0m\u001b[1;33m)\u001b[0m\u001b[1;33m:\u001b[0m\u001b[1;33m\u001b[0m\u001b[1;33m\u001b[0m\u001b[0m\n\u001b[0m\u001b[0;32m      3\u001b[0m         \u001b[1;32mif\u001b[0m \u001b[0mhasattr\u001b[0m\u001b[1;33m(\u001b[0m\u001b[0my\u001b[0m\u001b[1;33m,\u001b[0m \u001b[1;34m'changes'\u001b[0m\u001b[1;33m)\u001b[0m\u001b[1;33m:\u001b[0m\u001b[1;33m\u001b[0m\u001b[1;33m\u001b[0m\u001b[0m\n\u001b[0;32m      4\u001b[0m             \u001b[1;32mpass\u001b[0m\u001b[1;33m\u001b[0m\u001b[1;33m\u001b[0m\u001b[0m\n\u001b[0;32m      5\u001b[0m         \u001b[1;32melse\u001b[0m\u001b[1;33m:\u001b[0m\u001b[1;33m\u001b[0m\u001b[1;33m\u001b[0m\u001b[0m\n",
      "\u001b[1;31mRecursionError\u001b[0m: maximum recursion depth exceeded"
     ]
    }
   ],
   "source": [
    "for each in enumerate(minimum):\n",
    "    print(max_sentence.format(list(minimum[each[0]].keys())[0], list(minimum[each[0]].values())[0][0], list(minimum[each[0]].values())[0][1]))"
   ]
  },
  {
   "cell_type": "code",
   "execution_count": 130,
   "metadata": {},
   "outputs": [],
   "source": [
    "ind = industry(cann_bsd_list).concat_df"
   ]
  },
  {
   "cell_type": "code",
   "execution_count": null,
   "metadata": {},
   "outputs": [],
   "source": []
  },
  {
   "cell_type": "code",
   "execution_count": 134,
   "metadata": {},
   "outputs": [],
   "source": [
    "ind = ind.dropna()\n",
    "billions = lambda x: float(x)*100\n",
    "thousands = lambda x: float(x)/100"
   ]
  },
  {
   "cell_type": "code",
   "execution_count": 135,
   "metadata": {},
   "outputs": [
    {
     "name": "stdout",
     "output_type": "stream",
     "text": [
      "AFN.TO     770.85M\n",
      "CIX.TO        3.9B\n",
      "CMG.TO     518.24M\n",
      "CLIQ.TO    245.27M\n",
      "SII.TO     904.24M\n",
      "Name: Market Cap (intraday) 5, dtype: object\n",
      "AFN.TO       1.59B\n",
      "CIX.TO       5.68B\n",
      "CMG.TO     467.99M\n",
      "CLIQ.TO    556.86M\n",
      "SII.TO     895.92M\n",
      "Name: Enterprise Value 3, dtype: object\n",
      "AFN.TO       1.59B\n",
      "CIX.TO       5.68B\n",
      "CMG.TO     467.99M\n",
      "CLIQ.TO    556.86M\n",
      "SII.TO     895.92M\n",
      "Name: Enterprise Value 3, dtype: object\n",
      "AFN.TO     964.82M\n",
      "CIX.TO       2.19B\n",
      "CMG.TO      74.86M\n",
      "CLIQ.TO    679.83M\n",
      "SII.TO      97.17M\n",
      "Name: Revenue (ttm), dtype: object\n",
      "AFN.TO     268.16M\n",
      "CIX.TO       1.43B\n",
      "CMG.TO      56.17M\n",
      "CLIQ.TO    158.02M\n",
      "SII.TO      60.94M\n",
      "Name: Gross Profit (ttm), dtype: object\n"
     ]
    }
   ],
   "source": [
    "for i in range(0, len(ind)-1):\n",
    "    for e in range(0, len(list(ind.iloc[i].values))):\n",
    "            if 'B' in str(list(ind.iloc[i].values)[e]):\n",
    "                print(ind.iloc[i])"
   ]
  },
  {
   "cell_type": "code",
   "execution_count": null,
   "metadata": {},
   "outputs": [],
   "source": []
  },
  {
   "cell_type": "code",
   "execution_count": 129,
   "metadata": {},
   "outputs": [
    {
     "ename": "NameError",
     "evalue": "name 'ind' is not defined",
     "output_type": "error",
     "traceback": [
      "\u001b[1;31m---------------------------------------------------------------------------\u001b[0m",
      "\u001b[1;31mNameError\u001b[0m                                 Traceback (most recent call last)",
      "\u001b[1;32m<ipython-input-129-0e8bef037efd>\u001b[0m in \u001b[0;36m<module>\u001b[1;34m\u001b[0m\n\u001b[1;32m----> 1\u001b[1;33m \u001b[0mind\u001b[0m \u001b[1;33m=\u001b[0m \u001b[0mind\u001b[0m\u001b[1;33m.\u001b[0m\u001b[0mastype\u001b[0m\u001b[1;33m(\u001b[0m\u001b[0mfloat\u001b[0m\u001b[1;33m,\u001b[0m \u001b[0merrors\u001b[0m\u001b[1;33m=\u001b[0m\u001b[1;34m'ignore'\u001b[0m\u001b[1;33m)\u001b[0m\u001b[1;33m\u001b[0m\u001b[1;33m\u001b[0m\u001b[0m\n\u001b[0m\u001b[0;32m      2\u001b[0m \u001b[1;32mfor\u001b[0m \u001b[0meach\u001b[0m \u001b[1;32min\u001b[0m \u001b[0mlist\u001b[0m\u001b[1;33m(\u001b[0m\u001b[0mind\u001b[0m\u001b[1;33m.\u001b[0m\u001b[0mcolumns\u001b[0m\u001b[1;33m)\u001b[0m\u001b[1;33m:\u001b[0m\u001b[1;33m\u001b[0m\u001b[1;33m\u001b[0m\u001b[0m\n\u001b[0;32m      3\u001b[0m     \u001b[0mind\u001b[0m\u001b[1;33m[\u001b[0m\u001b[0meach\u001b[0m\u001b[1;33m]\u001b[0m \u001b[1;33m=\u001b[0m \u001b[0mind\u001b[0m\u001b[1;33m[\u001b[0m\u001b[0meach\u001b[0m\u001b[1;33m]\u001b[0m\u001b[1;33m.\u001b[0m\u001b[0mstr\u001b[0m\u001b[1;33m.\u001b[0m\u001b[0mstrip\u001b[0m\u001b[1;33m(\u001b[0m\u001b[1;34m'M %'\u001b[0m\u001b[1;33m)\u001b[0m\u001b[1;33m\u001b[0m\u001b[1;33m\u001b[0m\u001b[0m\n",
      "\u001b[1;31mNameError\u001b[0m: name 'ind' is not defined"
     ]
    }
   ],
   "source": [
    "ind = ind.astype(float, errors='ignore')\n",
    "for each in list(ind.columns):\n",
    "    ind[each] = ind[each].str.strip('M %')"
   ]
  },
  {
   "cell_type": "code",
   "execution_count": 219,
   "metadata": {},
   "outputs": [],
   "source": [
    "for i in range(0, len(ind)-1):\n",
    "    for e in range(0, len(list(ind.iloc[i].values))):\n",
    "            if 'B' in str(list(ind.iloc[i].values)[e]):\n",
    "                a = list(ind.iloc[i].values)[e]\n",
    "                a = a.strip('B')\n",
    "                ind.iloc[i][e] = billions(a)\n",
    "                \n",
    "            if 'k' in str(list(ind.iloc[i].values)[e]):\n",
    "                a = list(ind.iloc[i].values)[e]\n",
    "                a = a.strip('k')\n",
    "                ind.iloc[i][e] = thousands(a)"
   ]
  },
  {
   "cell_type": "code",
   "execution_count": null,
   "metadata": {},
   "outputs": [],
   "source": []
  },
  {
   "cell_type": "code",
   "execution_count": 204,
   "metadata": {},
   "outputs": [
    {
     "data": {
      "text/plain": [
       "'2.19'"
      ]
     },
     "execution_count": 204,
     "metadata": {},
     "output_type": "execute_result"
    }
   ],
   "source": []
  },
  {
   "cell_type": "code",
   "execution_count": 221,
   "metadata": {},
   "outputs": [],
   "source": [
    "for each in list(ind.columns):\n",
    "    ind[each] = pandas.to_numeric(ind[each],errors='coerce').dropna()"
   ]
  },
  {
   "cell_type": "code",
   "execution_count": null,
   "metadata": {},
   "outputs": [],
   "source": []
  },
  {
   "cell_type": "code",
   "execution_count": 137,
   "metadata": {},
   "outputs": [],
   "source": [
    "averages = ind.mean(axis=1).dropna()"
   ]
  },
  {
   "cell_type": "code",
   "execution_count": 138,
   "metadata": {},
   "outputs": [
    {
     "name": "stderr",
     "output_type": "stream",
     "text": [
      "C:\\Users\\rayde\\Anaconda3\\lib\\site-packages\\ipykernel_launcher.py:1: SettingWithCopyWarning: \n",
      "A value is trying to be set on a copy of a slice from a DataFrame.\n",
      "Try using .loc[row_indexer,col_indexer] = value instead\n",
      "\n",
      "See the caveats in the documentation: http://pandas.pydata.org/pandas-docs/stable/indexing.html#indexing-view-versus-copy\n",
      "  \"\"\"Entry point for launching an IPython kernel.\n"
     ]
    }
   ],
   "source": [
    "ind['Averages'] = averages"
   ]
  },
  {
   "cell_type": "code",
   "execution_count": null,
   "metadata": {},
   "outputs": [],
   "source": [
    "to_avg = mre['CRON.TO']/mre['Averages'].dropna()"
   ]
  },
  {
   "cell_type": "code",
   "execution_count": 102,
   "metadata": {},
   "outputs": [
    {
     "ename": "NameError",
     "evalue": "name 'to_avg' is not defined",
     "output_type": "error",
     "traceback": [
      "\u001b[1;31m---------------------------------------------------------------------------\u001b[0m",
      "\u001b[1;31mNameError\u001b[0m                                 Traceback (most recent call last)",
      "\u001b[1;32m<ipython-input-102-e431b731c581>\u001b[0m in \u001b[0;36m<module>\u001b[1;34m\u001b[0m\n\u001b[1;32m----> 1\u001b[1;33m \u001b[1;32mfor\u001b[0m \u001b[0mx\u001b[0m \u001b[1;32min\u001b[0m \u001b[0mrange\u001b[0m\u001b[1;33m(\u001b[0m\u001b[1;36m0\u001b[0m\u001b[1;33m,\u001b[0m \u001b[0mlen\u001b[0m\u001b[1;33m(\u001b[0m\u001b[0mto_avg\u001b[0m\u001b[1;33m)\u001b[0m\u001b[1;33m)\u001b[0m\u001b[1;33m:\u001b[0m\u001b[1;33m\u001b[0m\u001b[1;33m\u001b[0m\u001b[0m\n\u001b[0m\u001b[0;32m      2\u001b[0m     \u001b[1;32mif\u001b[0m \u001b[0mto_avg\u001b[0m\u001b[1;33m.\u001b[0m\u001b[0miloc\u001b[0m\u001b[1;33m[\u001b[0m\u001b[0mx\u001b[0m\u001b[1;33m]\u001b[0m \u001b[1;33m>\u001b[0m \u001b[1;36m1\u001b[0m\u001b[1;33m:\u001b[0m\u001b[1;33m\u001b[0m\u001b[1;33m\u001b[0m\u001b[0m\n\u001b[0;32m      3\u001b[0m         \u001b[0mprint\u001b[0m\u001b[1;33m(\u001b[0m\u001b[1;33m{\u001b[0m\u001b[0mto_avg\u001b[0m\u001b[1;33m.\u001b[0m\u001b[0mindex\u001b[0m\u001b[1;33m[\u001b[0m\u001b[0mx\u001b[0m\u001b[1;33m]\u001b[0m\u001b[1;33m:\u001b[0m \u001b[0mto_avg\u001b[0m\u001b[1;33m.\u001b[0m\u001b[0miloc\u001b[0m\u001b[1;33m[\u001b[0m\u001b[0mx\u001b[0m\u001b[1;33m]\u001b[0m\u001b[1;33m}\u001b[0m\u001b[1;33m)\u001b[0m\u001b[1;33m\u001b[0m\u001b[1;33m\u001b[0m\u001b[0m\n",
      "\u001b[1;31mNameError\u001b[0m: name 'to_avg' is not defined"
     ]
    }
   ],
   "source": [
    "for x in range(0, len(to_avg)):\n",
    "    if to_avg.iloc[x] > 1:\n",
    "        print({to_avg.index[x]: to_avg.iloc[x]})"
   ]
  },
  {
   "cell_type": "code",
   "execution_count": null,
   "metadata": {},
   "outputs": [],
   "source": [
    "maximum = []\n",
    "for each in enumerate(ind.idxmax(axis=1)):\n",
    "    if 'CRON.TO' in each:\n",
    "        i = ind.idxmax(axis=1).index[each[0]]\n",
    "        maximum.append({i: ind['CRON.TO'].T[i]})\n",
    "        "
   ]
  },
  {
   "cell_type": "code",
   "execution_count": 227,
   "metadata": {},
   "outputs": [
    {
     "data": {
      "text/plain": [
       "[{'CLIQ.TO': ['cash', 28.880742459396753]},\n",
       " {'CIX.TO': ['debt', 0.6780505714084848]},\n",
       " {'AFN.TO': ['equity', 0.4859040696480637]},\n",
       " {'SII.TO': ['int_assets', 8.015560418186238]},\n",
       " {'CLIQ.TO': ['liabilities', 0.050143935268030806]},\n",
       " {'AFN.TO': ['net_assets', 1.0082272738419285]},\n",
       " {'CLIQ.TO': ['net_tangibles', 8.78992463308211]},\n",
       " {'AFN.TO': ['netrec', 0.386804812433119]},\n",
       " {'CLIQ.TO': ['retained_earnings', 0.6692504921572363]},\n",
       " {'CLIQ.TO': ['total_assets', 0.4610158497136468]}]"
      ]
     },
     "execution_count": 227,
     "metadata": {},
     "output_type": "execute_result"
    }
   ],
   "source": [
    "maximum"
   ]
  },
  {
   "cell_type": "code",
   "execution_count": null,
   "metadata": {},
   "outputs": [],
   "source": []
  },
  {
   "cell_type": "code",
   "execution_count": 229,
   "metadata": {},
   "outputs": [],
   "source": []
  },
  {
   "cell_type": "code",
   "execution_count": null,
   "metadata": {},
   "outputs": [],
   "source": []
  },
  {
   "cell_type": "code",
   "execution_count": null,
   "metadata": {},
   "outputs": [],
   "source": []
  }
 ],
 "metadata": {
  "kernelspec": {
   "display_name": "Python 3",
   "language": "python",
   "name": "python3"
  },
  "language_info": {
   "codemirror_mode": {
    "name": "ipython",
    "version": 3
   },
   "file_extension": ".py",
   "mimetype": "text/x-python",
   "name": "python",
   "nbconvert_exporter": "python",
   "pygments_lexer": "ipython3",
   "version": "3.7.3"
  }
 },
 "nbformat": 4,
 "nbformat_minor": 2
}
