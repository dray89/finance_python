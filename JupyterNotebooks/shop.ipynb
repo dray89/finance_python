{
 "cells": [
  {
   "cell_type": "code",
   "execution_count": 1,
   "metadata": {},
   "outputs": [],
   "source": [
    "from news_updates.news_sources_v3 import News\n",
    "import time"
   ]
  },
  {
   "cell_type": "code",
   "execution_count": 2,
   "metadata": {},
   "outputs": [
    {
     "data": {
      "text/plain": [
       "'C:\\\\Users\\\\rayde\\\\iCloudDrive\\\\GitHub'"
      ]
     },
     "execution_count": 2,
     "metadata": {},
     "output_type": "execute_result"
    }
   ],
   "source": [
    "pwd"
   ]
  },
  {
   "cell_type": "code",
   "execution_count": 3,
   "metadata": {},
   "outputs": [],
   "source": [
    "x = set()\n",
    "l = ['a', 'b', 'c', 'd', 'e', 'f', 'g', 'h', 'i', 'j', 'k']"
   ]
  },
  {
   "cell_type": "code",
   "execution_count": 4,
   "metadata": {},
   "outputs": [],
   "source": [
    "for each in l:\n",
    "    if len(x)<5:\n",
    "        x.add(each)\n",
    "    else:\n",
    "        break"
   ]
  },
  {
   "cell_type": "code",
   "execution_count": 5,
   "metadata": {},
   "outputs": [
    {
     "data": {
      "text/plain": [
       "{'a', 'b', 'c', 'd', 'e'}"
      ]
     },
     "execution_count": 5,
     "metadata": {},
     "output_type": "execute_result"
    }
   ],
   "source": [
    "x"
   ]
  },
  {
   "cell_type": "code",
   "execution_count": 6,
   "metadata": {},
   "outputs": [
    {
     "name": "stdout",
     "output_type": "stream",
     "text": [
      "--- 21.32326054573059 seconds ---\n"
     ]
    }
   ],
   "source": [
    "start_time = time.time()\n",
    "ema = News('TSX:EMA')    \n",
    "print(\"--- %s seconds ---\" % (time.time() - start_time))"
   ]
  },
  {
   "cell_type": "code",
   "execution_count": 7,
   "metadata": {},
   "outputs": [],
   "source": [
    "links = ema.links"
   ]
  },
  {
   "cell_type": "code",
   "execution_count": 8,
   "metadata": {},
   "outputs": [
    {
     "data": {
      "text/plain": [
       "20"
      ]
     },
     "execution_count": 8,
     "metadata": {},
     "output_type": "execute_result"
    }
   ],
   "source": [
    "len(links)"
   ]
  },
  {
   "cell_type": "code",
   "execution_count": 9,
   "metadata": {},
   "outputs": [],
   "source": [
    "articles= ema.art_list\n",
    "for each in articles:\n",
    "    if each.summary == ' ':\n",
    "        print(each.index)\n",
    "    else:\n",
    "        pass"
   ]
  },
  {
   "cell_type": "code",
   "execution_count": 10,
   "metadata": {},
   "outputs": [],
   "source": [
    "keywords = set()\n",
    "for each in articles:\n",
    "    for i in each.keywords:\n",
    "        keywords.add(i)"
   ]
  },
  {
   "cell_type": "code",
   "execution_count": 35,
   "metadata": {},
   "outputs": [
    {
     "data": {
      "text/plain": [
       "{'0025643',\n",
       " '0047158',\n",
       " '005813',\n",
       " '12',\n",
       " '2018',\n",
       " '2019',\n",
       " '30',\n",
       " 'adjusted',\n",
       " 'ahead',\n",
       " 'allstars',\n",
       " 'analysis',\n",
       " 'announce',\n",
       " 'assets',\n",
       " 'aug',\n",
       " 'bank',\n",
       " 'better',\n",
       " 'billion',\n",
       " 'board',\n",
       " 'bullish',\n",
       " 'buy',\n",
       " 'calculated',\n",
       " 'canadian',\n",
       " 'cash',\n",
       " 'common',\n",
       " 'company',\n",
       " 'compared',\n",
       " 'current',\n",
       " 'data',\n",
       " 'debt',\n",
       " 'dividend',\n",
       " 'dividendgrowth',\n",
       " 'does',\n",
       " 'earnings',\n",
       " 'eaton',\n",
       " 'ema',\n",
       " 'emas',\n",
       " 'emera',\n",
       " 'est',\n",
       " 'expect',\n",
       " 'expected',\n",
       " 'farmers',\n",
       " 'financial',\n",
       " 'flow',\n",
       " 'focus',\n",
       " 'foods',\n",
       " 'fortis',\n",
       " 'gazette',\n",
       " 'glance',\n",
       " 'goodwell',\n",
       " 'grow',\n",
       " 'growth',\n",
       " 'help',\n",
       " 'holding',\n",
       " 'income',\n",
       " 'incorporated',\n",
       " 'incorporateds',\n",
       " 'increased',\n",
       " 'increases',\n",
       " 'index',\n",
       " 'insiders',\n",
       " 'institutions',\n",
       " 'investors',\n",
       " 'jabil',\n",
       " 'kind',\n",
       " 'level',\n",
       " 'look',\n",
       " 'market',\n",
       " 'million',\n",
       " 'month',\n",
       " 'moving',\n",
       " 'nasdaqgssfm',\n",
       " 'net',\n",
       " 'nyseev',\n",
       " 'nysejbl',\n",
       " 'nyseths',\n",
       " 'ownership',\n",
       " 'past',\n",
       " 'placed',\n",
       " 'price',\n",
       " 'profit',\n",
       " 'q2',\n",
       " 'quant',\n",
       " 'quarter',\n",
       " 'raise',\n",
       " 'rate',\n",
       " 'ratio',\n",
       " 'ratios',\n",
       " 'recent',\n",
       " 'reeling',\n",
       " 'regulated',\n",
       " 'reports',\n",
       " 'results',\n",
       " 'return',\n",
       " 'review',\n",
       " 'roa',\n",
       " 'roic',\n",
       " 'sales',\n",
       " 'score',\n",
       " 'scrutiny',\n",
       " 'second',\n",
       " 'sell',\n",
       " 'share',\n",
       " 'shareholders',\n",
       " 'shares',\n",
       " 'signal',\n",
       " 'signals',\n",
       " 'spending',\n",
       " 'sprouts',\n",
       " 'stack',\n",
       " 'stock',\n",
       " 'stocks',\n",
       " 'terms',\n",
       " 'tfsa',\n",
       " 'trading',\n",
       " 'treehouse',\n",
       " 'trend',\n",
       " 'tseema',\n",
       " 'tsx',\n",
       " 'tsxema',\n",
       " 'tsxemas',\n",
       " 'tsxfts',\n",
       " 'utilities',\n",
       " 'utility',\n",
       " 'value',\n",
       " 'vance',\n",
       " 'volatility',\n",
       " 'vs',\n",
       " 'wall',\n",
       " 'waltzing',\n",
       " 'week',\n",
       " 'whats',\n",
       " 'worth',\n",
       " 'yield'}"
      ]
     },
     "execution_count": 35,
     "metadata": {},
     "output_type": "execute_result"
    }
   ],
   "source": [
    "keywords"
   ]
  },
  {
   "cell_type": "code",
   "execution_count": 25,
   "metadata": {},
   "outputs": [
    {
     "data": {
      "text/plain": [
       "'The Motley Fool Canada » Bank Stocks » 2 Dividend-Growth Stocks for Your TFSASince realized capital gains are classified as taxable income, investors who make a profit by trading stocks have to share some of this profit with the government.\\nThat is, unless they are fortunate enough to own a TFSA, which does not apply taxes to any contributions.\\nHere are two dividend stocks you can include in your TFSA: Bank of Nova Scotia (TSX:BNS)(NYSE:BNS) and Emera (TSX:EMA).\\nThe bottom lineEmera and Bank of Nova Scotia are both great options to consider for your TFSA.\\nThus, these stocks can continue filling your TFSA with cash for many years to come.'"
      ]
     },
     "execution_count": 25,
     "metadata": {},
     "output_type": "execute_result"
    }
   ],
   "source": [
    "articles[4].summary"
   ]
  },
  {
   "cell_type": "code",
   "execution_count": 13,
   "metadata": {},
   "outputs": [
    {
     "data": {
      "text/plain": [
       "'Today I’ve chosen to put the spotlight on Emera Incorporated (TSE:EMA) due to its excellent fundamentals in more than one area.\\nFor those interested in understanding where the figures come from and want to see the analysis, read the full report on Emera here.\\nNot only did EMA outperformed its past performance, its growth also exceeded the Electric Utilities industry expansion, which generated a 9.7% earnings growth.\\nAlso, relative to the rest of its peers with similar levels of earnings, EMA’s share price is trading below the group’s average.\\nNext Steps:For Emera, there are three pertinent factors you should look at:Future Outlook: What are well-informed industry analysts predicting for EMA’s future growth?'"
      ]
     },
     "execution_count": 13,
     "metadata": {},
     "output_type": "execute_result"
    }
   ],
   "source": [
    "articles[3].summary"
   ]
  },
  {
   "cell_type": "code",
   "execution_count": 14,
   "metadata": {},
   "outputs": [
    {
     "data": {
      "text/plain": [
       "'It’s commonly accepted that a Book to Market ratio greater than one indicates that the shares might be undervalued.\\nJabil Inc. (NYSE:JBL) presently has a current ratio of 1.01.\\nThe current ratio, also known as the working capital ratio, is a liquidity ratio that displays the proportion of current assets of a business relative to the current liabilities.\\nInvestors often look for shares with high Book to Market value as this could indicate that the equity is priced below market value and underpriced.\\nThe Current Ratio of Emera Incorporated (TSX:EMA) is 0.69.'"
      ]
     },
     "execution_count": 14,
     "metadata": {},
     "output_type": "execute_result"
    }
   ],
   "source": [
    "articles[8].summary"
   ]
  },
  {
   "cell_type": "code",
   "execution_count": 15,
   "metadata": {},
   "outputs": [
    {
     "data": {
      "text/plain": [
       "'A look at the shareholders of Emera Incorporated (TSE:EMA) can tell us which group is most powerful.\\nTaking a look at our data on the ownership groups (below), it’s seems that institutions own shares in the company.\\nInsider Ownership Of EmeraThe definition of company insiders can be subjective, and does vary between jurisdictions.\\nOur data suggests that insiders own under 1% of Emera Incorporated in their own names.\\nGeneral Public OwnershipThe general public, who are mostly retail investors, collectively hold 74% of Emera shares.'"
      ]
     },
     "execution_count": 15,
     "metadata": {},
     "output_type": "execute_result"
    }
   ],
   "source": [
    "articles[9].summary"
   ]
  },
  {
   "cell_type": "code",
   "execution_count": 16,
   "metadata": {},
   "outputs": [
    {
     "data": {
      "text/plain": [
       "'The Motley Fool Canada » Dividend Stocks » Why Is Emera Inc (TSX:EMA) Stock Up 30%?\\nSince October, Emera stock is up more than 30%.\\nA dividend you can count onPerhaps a large part of the enthusiasm for Emera shares stems from its impressive dividend history.\\nJudging by the 30% increase in Emera shares over recent months, it appears as if the market is betting that these projects will materialize.\\nWhile this isn’t the most opportune time to snap up shares, implementing a dollar-cost-averaging strategy has been a proven method of profiting with Emera shares.'"
      ]
     },
     "execution_count": 16,
     "metadata": {},
     "output_type": "execute_result"
    }
   ],
   "source": [
    "articles[10].summary"
   ]
  },
  {
   "cell_type": "code",
   "execution_count": 34,
   "metadata": {},
   "outputs": [
    {
     "data": {
      "text/plain": [
       "'Emera Incorporated (TSX:EMA) presently has a 10 month price index of 1.47356.\\nLooking at some alternate time periods, the 12 month price index is 1.36415, the 24 month is 1.28263, and the 36 month is 1.27262.\\nWatching some historical volatility numbers on shares of Emera Incorporated (TSX:EMA), we can see that the 12 month volatility is presently 15.839900.\\nWatching some historical volatility numbers on shares of TreeHouse Foods, Inc. (NYSE:THS), we can see that the 12 month volatility is presently 32.072100.\\nTreeHouse Foods, Inc. (NYSE:THS) presently has a 10 month price index of 1.13479.'"
      ]
     },
     "execution_count": 34,
     "metadata": {},
     "output_type": "execute_result"
    }
   ],
   "source": [
    "articles[11].summary"
   ]
  },
  {
   "cell_type": "code",
   "execution_count": 18,
   "metadata": {},
   "outputs": [
    {
     "data": {
      "text/plain": [
       "''"
      ]
     },
     "execution_count": 18,
     "metadata": {},
     "output_type": "execute_result"
    }
   ],
   "source": [
    "articles[14].summary"
   ]
  },
  {
   "cell_type": "code",
   "execution_count": 31,
   "metadata": {},
   "outputs": [
    {
     "data": {
      "text/plain": [
       "''"
      ]
     },
     "execution_count": 31,
     "metadata": {},
     "output_type": "execute_result"
    }
   ],
   "source": [
    "articles[15].summary"
   ]
  },
  {
   "cell_type": "code",
   "execution_count": 20,
   "metadata": {},
   "outputs": [
    {
     "data": {
      "text/plain": [
       "'Emera Incorporated (TSX:EMA) presently has a 10 month price index of 1.50494.\\nThe price index is calculated by dividing the current share price by the share price ten months ago.\\nChecking in on some valuation rankings, Emera Incorporated (TSX:EMA) has a Value Composite score of 36.\\nWatching some historical volatility numbers on shares of Emera Incorporated (TSX:EMA), we can see that the 12 month volatility is presently 15.848600.\\nThe Piotroski F-Score of Emera Incorporated (TSX:EMA) is 8.'"
      ]
     },
     "execution_count": 20,
     "metadata": {},
     "output_type": "execute_result"
    }
   ],
   "source": [
    "articles[17].summary"
   ]
  },
  {
   "cell_type": "code",
   "execution_count": 21,
   "metadata": {},
   "outputs": [
    {
     "data": {
      "text/plain": [
       "20"
      ]
     },
     "execution_count": 21,
     "metadata": {},
     "output_type": "execute_result"
    }
   ],
   "source": [
    "len(articles)"
   ]
  },
  {
   "cell_type": "code",
   "execution_count": null,
   "metadata": {},
   "outputs": [],
   "source": []
  }
 ],
 "metadata": {
  "kernelspec": {
   "display_name": "Python 3",
   "language": "python",
   "name": "python3"
  },
  "language_info": {
   "codemirror_mode": {
    "name": "ipython",
    "version": 3
   },
   "file_extension": ".py",
   "mimetype": "text/x-python",
   "name": "python",
   "nbconvert_exporter": "python",
   "pygments_lexer": "ipython3",
   "version": "3.7.1"
  }
 },
 "nbformat": 4,
 "nbformat_minor": 2
}
