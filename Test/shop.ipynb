{
 "cells": [
  {
   "cell_type": "code",
   "execution_count": 1,
   "metadata": {},
   "outputs": [],
   "source": [
    "from news_updates.news_sources_v3 import News\n",
    "import time"
   ]
  },
  {
   "cell_type": "code",
   "execution_count": 2,
   "metadata": {},
   "outputs": [
    {
     "data": {
      "text/plain": [
       "'C:\\\\Users\\\\rayde\\\\iCloudDrive\\\\GitHub'"
      ]
     },
     "execution_count": 2,
     "metadata": {},
     "output_type": "execute_result"
    }
   ],
   "source": [
    "pwd"
   ]
  },
  {
   "cell_type": "code",
   "execution_count": 4,
   "metadata": {},
   "outputs": [],
   "source": [
    "search = ['Shopify-Kinaxis']"
   ]
  },
  {
   "cell_type": "code",
   "execution_count": null,
   "metadata": {},
   "outputs": [],
   "source": []
  },
  {
   "cell_type": "code",
   "execution_count": null,
   "metadata": {},
   "outputs": [],
   "source": []
  },
  {
   "cell_type": "code",
   "execution_count": 5,
   "metadata": {},
   "outputs": [
    {
     "name": "stdout",
     "output_type": "stream",
     "text": [
      "--- 74.04702758789062 seconds ---\n"
     ]
    }
   ],
   "source": [
    "start_time = time.time()\n",
    "Weed = News(search[0])\n",
    "print(\"--- %s seconds ---\" % (time.time() - start_time))"
   ]
  },
  {
   "cell_type": "code",
   "execution_count": 6,
   "metadata": {},
   "outputs": [
    {
     "data": {
      "text/plain": [
       "<news_updates.news_sources_v3.News at 0x1f9ee8c4940>"
      ]
     },
     "execution_count": 6,
     "metadata": {},
     "output_type": "execute_result"
    }
   ],
   "source": [
    "Weed"
   ]
  },
  {
   "cell_type": "code",
   "execution_count": 7,
   "metadata": {},
   "outputs": [
    {
     "data": {
      "text/plain": [
       "20"
      ]
     },
     "execution_count": 7,
     "metadata": {},
     "output_type": "execute_result"
    }
   ],
   "source": [
    "len(Weed.links)"
   ]
  },
  {
   "cell_type": "code",
   "execution_count": 8,
   "metadata": {},
   "outputs": [],
   "source": [
    "arts = Weed.art_list\n",
    "\n",
    "for each in arts:\n",
    "    if each.summary == ' ':\n",
    "        print(each.index)\n",
    "    else:\n",
    "        pass"
   ]
  },
  {
   "cell_type": "code",
   "execution_count": 9,
   "metadata": {},
   "outputs": [
    {
     "data": {
      "text/plain": [
       "20"
      ]
     },
     "execution_count": 9,
     "metadata": {},
     "output_type": "execute_result"
    }
   ],
   "source": [
    "len(arts)"
   ]
  },
  {
   "cell_type": "code",
   "execution_count": 10,
   "metadata": {},
   "outputs": [
    {
     "name": "stdout",
     "output_type": "stream",
     "text": [
      "TFSA Investors: 3 TSX Tech Stocks With Loads of Upside [] \n",
      " The Motley Fool Canada » Investing » TFSA Investors: 3 TSX Tech Stocks With Loads of UpsideHistorically, the TSX has not been home to many great tech stocks.\n",
      "While top NASDAQ tech stocks have grown to market capitalizations approaching $1 trillion, TSX tech stocks have delivered much more modest gains.\n",
      "Over the past three years, several TSX tech stocks have gone public and provided investors with superior, market-beating returns.\n",
      "One of these TSX tech darlings has outperformed ALL the “FAANG” stocks and is up 1,263% since its IPO.\n",
      "The platform also lets businesses predict supply chain disruptions and collaborate with team members for an all-in-one supply chain management experience. \n",
      "----------------------------------------------------------------------------------------------------\n",
      "Better Buy: Shopify (TSX:SHOP) or Kinaxis’ (TSX:KXS) Stock? [] \n",
      " The Motley Fool Canada » Investing » Better Buy: Shopify (TSX:SHOP) or Kinaxis’ (TSX:KXS) Stock?\n",
      "As such, historical and expected growth rates are important factors to consider.\n",
      "This is double that of Kinaxis’ expected revenue growth rate.\n",
      "Even based on expected growth rates.\n",
      "Winner: ShopifyKinaxis may provide slightly better value, but Shopify has proven far more reliable. \n",
      "----------------------------------------------------------------------------------------------------\n",
      "What every Canadian investor needs to know today ['Follow Gillian Livingston On Twitter', 'Gillian Livingston'] \n",
      " A 0A +2A +4A +6The subject who is truly loyal to the Chief Magistrate will neither advise nor submit to arbitrary measures. \n",
      "----------------------------------------------------------------------------------------------------\n",
      "Kinaxis to more than double size with new Kanata HQ ['Updated', 'July'] \n",
      " Kinaxis, which employs more than 400 in southwest Kanata, will announce Monday that it intends to lease a new headquarters building more than double the size of its current location at 700 Silver Seven Road.\n",
      "It says a lot about the firm’s ambition that Kinaxis does not intend to sublet any of its new space — some 165,000 square feet in the Kanata West Business Park, adjacent to retailer Tanger.\n",
      "Space was already tight — less than 64,000 square feet in total — and there’s no cafeteria and precious few meeting rooms.\n",
      "Taggart had a couple of things Kinaxis liked in particular — plenty of open land at its Kanata West Business Park — and a proposal that allowed for a long-term expansion that featured two linked facilities.\n",
      "Such was the antipathy for a move away from West Kanata employees conducted election-style campaigns, posting Vote Tanger signs in the washrooms. \n",
      "----------------------------------------------------------------------------------------------------\n",
      "Forget FANG Stocks! Add Canada’s “DOCKS” to Your TFSA [] \n",
      " Much of that gain can be attributed to one essential sector: technology.\n",
      "Large-scale technology stocks, including Facebook, Amazon, Netflix, and Google (Alphabet) — the so-called FANGs — have been largely responsible for this growth spurt.\n",
      "Descartes, Open Text (TSX:OTEX)(NASDAQ:OTEX), Constellation Software (TSX:CSU), Kinaxis, and Shopify — the so-called DOCKS — are the biggest and most promising Canadian tech stocks at the moment.\n",
      "However, the stock currently trades at 55.4 annual earnings and seems to have already priced all this optimism in.\n",
      "Canadian investors should add some of these top tech stocks to spruce up their TFSA’s performance over the long term. \n",
      "----------------------------------------------------------------------------------------------------\n",
      "2 Top AI Stocks to Buy This Spring [] \n",
      " The Motley Fool Canada » Investing » 2 Top AI Stocks to Buy This SpringThe development of artificial intelligence (AI) technology will transform the way we live in the coming decades.\n",
      "Earlier this month, I’d warned investors not to burn themselves on Shopify stock.\n",
      "Kinaxis has revealed that it is working on applying AI technology to detect trends in operational data.\n",
      "This has the potential to self-heal the supply chain, which could dramatically boost efficiency for companies that use Kinaxis software.\n",
      "The company has said that its application of AI technology could be used broadly in its supply chain planning, including supply chain management predictive capabilities and the use of demand sensing. \n",
      "----------------------------------------------------------------------------------------------------\n",
      "Yamaha Motor to Realize End-to-End Supply Chain Visibility with Kinaxis [] \n",
      " \"Kinaxis will give us the visibility to see what is happening in our supply chain in near real-time, and the flexibility and agility to respond just as quickly,\" said Takahiro Imanishi , General Manager Demand Chain Innovation Division, Yamaha Motor.\n",
      "\"By connecting its end-to-end supply chain, we provide the alignment and insight needed to accelerate confident decisions and drive continuous value for the company and its customers.\n",
      "We're thrilled to welcome Yamaha Motor into our growing community of automotive manufacturing customers.\"\n",
      "Forward-looking statements include statements as to Kinaxis' growth opportunities and the potential benefits of, and demand for, Kinaxis' products and services.\n",
      "Kinaxis' actual results, performance, achievements and developments may differ materially from the results, performance, achievements or developments expressed or implied by such statements. \n",
      "----------------------------------------------------------------------------------------------------\n",
      "These 2 Canadian Tech Titans Could Be the Next Shopify (TSX:SHOP)! [] \n",
      " The Motley Fool Canada » Investing » These 2 Canadian Tech Titans Could Be the Next Shopify (TSX:SHOP)!\n",
      "Kinaxis (TSX:KXS) and Descartes Systems Group (TSX:DSG)(NASDAQ:DSGX) are two promising mid-cap tech companies that could join the ranks of Shopify at some point over the next five years and beyond.\n",
      "Coincidentally, both companies create SaaS (software as a service) solutions aimed at improving supply chain management.\n",
      "Descartes is a provider of SaaS logistics solutions aimed at enhancing business security, the supply chain, transportation, and logistics capabilities.\n",
      "The company saw its operating cash flows surge 23% year over year for the second quarter, and, like Descartes, Kinaxis is just getting started. \n",
      "----------------------------------------------------------------------------------------------------\n",
      "Shopify surpasses Mitel as Ottawa’s top R&D spender ['Stefan Kimpton', 'Sponsored', 'Chris', 'Liko'] \n",
      " After years sharing Ottawa’s top two spots on the ranking of Canada’s biggest research and development spenders, Shopify has overtaken Mitel as the capital’s top R&D investor in 2018.\n",
      "20 on Research Infosource’s latest annual ranking of Canada’s corporate R&D spenders, spending $176.6 million in fiscal 2017.\n",
      "23 on this year’s list, ending its seven-year run as the top R&D spender headquartered in the National Capital Region.\n",
      "The Kanata-based telecom firm spent $135.7 million on R&D last year.\n",
      "The company invested $1.6 billion on R&D last year, compared with $677.9 million from the No. \n",
      "----------------------------------------------------------------------------------------------------\n",
      "Shopify vs. Kinaxis: Which Stock Is Better for Your TFSA? [] \n",
      " The Motley Fool Canada » Investing » Shopify vs. Kinaxis: Which Stock Is Better for Your TFSA?\n",
      "The news sent shares of Shopify down about $7 per share on March 19, but the stock has since rebounded to the high $260 range.\n",
      "Or would it be better to consider another tech company instead?\n",
      "So, it might be a case of waiting for another dip before investing too heavily in this tech stock as well.\n",
      "The bottom lineBoth stocks have had their fair share of ups and downs, but if I’m going with one stock today, it has to be Shopify. \n",
      "----------------------------------------------------------------------------------------------------\n",
      "3 Top Tech Stocks to Buy Right Now [] \n",
      " The Motley Fool Canada » Investing » 3 Top Tech Stocks to Buy Right NowThere’s no doubt about it.\n",
      "Given that these last three companies are on the S&P/TSX Composite Index, another good bet would be to dig into other tech stocks that help make up that list.\n",
      "The tech company has focused in on its rapidly expanding cloud business, using its 61% increase in free cash flow to make two acquisitions in the field.\n",
      "These recent acquisitions and synergies have management believing that free cash flow should only increase more in the coming years.\n",
      "Foolish takeawayYou don’t have to pay premium prices to get in some stellar Canadian tech stocks. \n",
      "----------------------------------------------------------------------------------------------------\n",
      "Shopify Inc and Kinaxis Inc expected to be big winners in Canadian tech again in 2017 [] \n",
      " The best names to own in the Canadian technology sector in 2017 may end up being the big winners in 2016.\n",
      "E-commerce platform provider Shopify Inc. rose more than 60 per cent last year, while supply chain software provider Kinaxis Inc. climbed roughly 30 per cent.\n",
      "Both are top tech picks for Macquarie Capital in 2017, owing to their impressive growth, superior competitive positions, strong management teams, and high or improving profitability.\n",
      "“With what appears to be a very competitive offering, we believe BlackBerry could be a leader in this market,” Papageorgiou said.\n",
      "That’s pretty significant for a company estimated to generate below $1 billion in revenue next year. \n",
      "----------------------------------------------------------------------------------------------------\n",
      "Kinaxis is taking two steps forward and two steps back, this investor says ['Jayson Maclean', 'Nick Waddell'] \n",
      " Kinaxis (Kinaxis Stock Quote, Chart TSX:KXS) has been a top performer for a number of years but that string of success has been challenged over the past year as the stock struggles to get back to highs set last summer.\n",
      "It’s enough to cast doubt on whether the supply chain company has the mojo to deliver on its growth promises, says Teal Linde.\n",
      "“Kinaxis is a stock that we used to own.\n",
      "I would characterize [the stock] as going two steps forward, two steps back, two steps forward, two steps back,” Linde told BNN Bloomberg on Monday.\n",
      "Over three decades old, Ottawa-based Kinaxis went public in 2014 at $13.00 per share and steadily gained in value until last August. \n",
      "----------------------------------------------------------------------------------------------------\n",
      "Shopify Inc (TSX:SHOP) vs Kinaxis Inc (TSX:KXS): Which Is Canada’s Ultimate Tech Stock? [] \n",
      " The Motley Fool Canada » Investing » Shopify Inc (TSX:SHOP) vs Kinaxis Inc (TSX:KXS): Which Is Canada’s Ultimate Tech Stock?\n",
      "The difference can be illustrated well by two of Canada’s top tech stocks: Shopify (TSX:SHOP)(NYSE:SHOP) and Kinaxis (TSX:KXS).\n",
      "Shopify is a massively hyped e-commerce stock whose main product is growing by leaps and bounds.\n",
      "In terms of bottom-line earnings, Kinaxis has actually suffered a decline.\n",
      "While the company is growing revenue quickly, it is growing its costs just as fast. \n",
      "----------------------------------------------------------------------------------------------------\n",
      "3 TSX Tech Stocks to Buy Right Now [] \n",
      " The Motley Fool Canada » Investing » 3 TSX Tech Stocks to Buy Right NowIt’s an exciting time to invest in TSX tech stocks.\n",
      "After years of lagging behind the U.S. in tech, Canada now has a bonafide IT superstar in the form of Shopify Inc (TSX:SHOP)(NYSE:SHOP), while many other low-profile TSX tech stocks have been quietly making investors rich.\n",
      "So far this year, publicly traded TSX tech stocks are up 37%, based on the performance of index funds that track them, which means that TSX tech has handily outperformed not only the TSX itself, but also the NYSE and NASDAQ.\n",
      "Investing in a TSX tech ETF is one way to profit off the growth of the Canadian tech sector.\n",
      "But if you want to be a little more adventurous, the following are three TSX tech stocks that could reward you handsomely. \n",
      "----------------------------------------------------------------------------------------------------\n",
      "3 Strong Tech Stocks With Huge Growth Potential ['Amy Legate-Wolfe'] \n",
      " One of the most exciting industries to invest in over the last decade has been tech stocks.\n",
      "Today, I’ll be showing you why BlackBerry (TSX:BB)(NYSE:BB), Shopify (TSX:SHOP)(NYSE:SHOP) and Kinaxis (TSX:KXS) are all great tech stocks for you to consider for your portfolio.\n",
      "But by choosing BlackBerry, Shopify, or Kinaxis, you likely will skip most of the worry and get mainly glory.\n",
      "The Motley Fool owns shares of Amazon, BlackBerry, Shopify, and Shopify.\n",
      "BlackBerry, Shopify, and Kinaxis are recommendations of Stock Advisor Canada. \n",
      "----------------------------------------------------------------------------------------------------\n",
      "$1,000 Invested in Shopify (TSX:SHOP) and Kinaxis (TSX:KXS) in 2015 Is Worth This Much Today [] \n",
      " The Motley Fool Canada » Investing » $1,000 Invested in Shopify (TSX:SHOP) and Kinaxis (TSX:KXS) in 2015 Is Worth This Much TodayI’m not going to lie.\n",
      "It’s some pretty simple math to figure out just how well Kinaxis (TSX:KXS) and Shopify (TSX:SHOP)(NYSE:SHOP) are doing.\n",
      "Let’s dig in to where these stocks have come from, where they’re going, and whether you should still invest.\n",
      "KinaxisBack in the New Year of 2015, Kinaxis was trading at about $18.50 per share.\n",
      "But analysts believe investors have become a bit too excited, pushing the stock way past what it’s worth. \n",
      "----------------------------------------------------------------------------------------------------\n",
      "Kinaxis Inc. to Host Second Quarter 2019 Investor Conference Call on August 2, 2019 [] \n",
      " OTTAWA , July 12, 2019 /CNW/ - Kinaxis® (KXS.TO), the leader in empowering people to make confident supply chain decisions, today announced that it has scheduled its conference call to discuss the results for its second quarter ended June 30, 2019 .\n",
      "The call will be hosted on Friday, August 2, 2019 at 8:30 a.m. Eastern Daylight Time by John Sicard , Chief Executive Officer, and Richard Monkman , Chief Financial Officer, followed by a question and answer period.\n",
      "The Company will report its financial results for the second quarter after the close of markets on Thursday, August 1, 2019 .\n",
      "Trusted by top brands, Kinaxis® gives people the confidence to know they are making the best planning decisions to maximize business performance.\n",
      "For more Kinaxis news, visit Kinaxis.com or follow us on LinkedIn, Twitter or Facebook. \n",
      "----------------------------------------------------------------------------------------------------\n",
      "DOCKS: Valuing Canada’s Tech Leaders [] \n",
      " The Motley Fool Canada » Investing » DOCKS: Valuing Canada’s Tech LeadersI’ve talked about Canada’s leading technology companies, the so-called DOCKS, which rival America’s FANGs.\n",
      "That’s mostly skewed by Netflix, which trades at a PE ratio of 135.\n",
      "The average PE ratio of a stock included in DOCKS is 74.75.\n",
      "Here’s a closer look at each of them:DescartesDescartes trades at a trailing PE and forward PE ratio of 78 and 56 respectively.\n",
      "KinaxisKinaxis’ forward PE ratio (65) is half its trailing ratio (135). \n",
      "----------------------------------------------------------------------------------------------------\n",
      "Which Tech Stock Should You Buy Now? [] \n",
      " The Motley Fool Canada » Investing » Which Tech Stock Should You Buy Now?\n",
      "As the market chaos continues, especially in regards to tech stocks, it is starting to get tempting to get into some of the names that have been on the buy list for some time.\n",
      "Even our home-grown Canadian tech such as Shopify (TSX:SHOP)(NYSE:SHOP) and Kinaxis (TSX:KXS) are much more attractive than they were in the recent months.\n",
      "So, is the value and growth of these Canadian tech companies at the current price worth taking the leap?\n",
      "However, the company still has negative earnings, which makes it appear to be more of a speculative stock than Kinaxis. \n",
      "----------------------------------------------------------------------------------------------------\n"
     ]
    }
   ],
   "source": [
    "for each in arts:\n",
    "    print(each.title, each.authors, '\\n', each.summary, '\\n' + '-'*100)"
   ]
  },
  {
   "cell_type": "code",
   "execution_count": null,
   "metadata": {},
   "outputs": [],
   "source": []
  },
  {
   "cell_type": "code",
   "execution_count": 11,
   "metadata": {},
   "outputs": [],
   "source": [
    "keywords = set()\n",
    "for each in arts:\n",
    "    for i in each.keywords:\n",
    "        keywords.add(i)"
   ]
  },
  {
   "cell_type": "code",
   "execution_count": 12,
   "metadata": {},
   "outputs": [
    {
     "name": "stdout",
     "output_type": "stream",
     "text": [
      "kinaxis,\n",
      "ultimate,\n",
      "ottawas,\n",
      "youre,\n",
      "investors,\n",
      "sales,\n",
      "shopify,\n",
      "pe,\n",
      "platform,\n",
      "text,\n",
      "capital,\n",
      "size,\n",
      "titans,\n",
      "stock,\n",
      "quarter,\n",
      "sector,\n",
      "west,\n",
      "cash,\n",
      "spots,\n",
      "products,\n",
      "fiscal,\n",
      "past,\n",
      "acquisitions,\n",
      "companys,\n",
      "spenders,\n",
      "statements,\n",
      "second,\n",
      "potential,\n",
      "respond,\n",
      "docks,\n",
      "rd,\n",
      "huge,\n",
      "shares,\n",
      "yamaha,\n",
      "motor,\n",
      "space,\n",
      "leaders,\n",
      "office,\n",
      "spring,\n",
      "saas,\n",
      "companies,\n",
      "currently,\n",
      "motley,\n",
      "worth,\n",
      "host,\n",
      "subject,\n",
      "spender,\n",
      "endtoend,\n",
      "know,\n",
      "cent,\n",
      "today,\n",
      "canadas,\n",
      "way,\n",
      "research,\n",
      "mitel,\n",
      "planning,\n",
      "risks,\n",
      "surpasses,\n",
      "right,\n",
      "canadian,\n",
      "results,\n",
      "flow,\n",
      "invested,\n",
      "strong,\n",
      "blackberry,\n",
      "performance,\n",
      "loads,\n",
      "taking,\n",
      "vs,\n",
      "tech,\n",
      "million,\n",
      "come,\n",
      "conference,\n",
      "chain,\n",
      "investor,\n",
      "needs,\n",
      "forward,\n",
      "tfsa,\n",
      "growing,\n",
      "expected,\n",
      "1000,\n",
      "descartes,\n",
      "arbitrary,\n",
      "sicard,\n",
      "posted,\n",
      "feet,\n",
      "trading,\n",
      "measures,\n",
      "company,\n",
      "ai,\n",
      "dip,\n",
      "hq,\n",
      "fang,\n",
      "steps,\n",
      "6the,\n",
      "shipments,\n",
      "linde,\n",
      "earnings,\n",
      "2019,\n",
      "recent,\n",
      "advise,\n",
      "kanata,\n",
      "eastern,\n",
      "chief,\n",
      "better,\n",
      "growth,\n",
      "future,\n",
      "valuing,\n",
      "daylight,\n",
      "double,\n",
      "2015,\n",
      "2017,\n",
      "fact,\n",
      "upside,\n",
      "loyal,\n",
      "forget,\n",
      "stocks,\n",
      "business,\n",
      "firm,\n",
      "ranking,\n",
      "case,\n",
      "demand,\n",
      "supply,\n",
      "visibility,\n",
      "rise,\n",
      "trades,\n",
      "add,\n",
      "buy,\n",
      "tsxshop,\n",
      "share,\n",
      "value,\n",
      "promising,\n",
      "tsx,\n",
      "winners,\n",
      "technology,\n",
      "revenue,\n",
      "square,\n",
      "submit,\n",
      "businesses,\n",
      "list,\n",
      "truly,\n",
      "big,\n",
      "realize,\n",
      "tsxkxs,\n",
      "magistrate,\n",
      "amazon,\n",
      "dividend,\n",
      "software,\n",
      "ratio,\n"
     ]
    }
   ],
   "source": [
    "for each in keywords:\n",
    "    print(each + \",\")"
   ]
  },
  {
   "cell_type": "code",
   "execution_count": null,
   "metadata": {},
   "outputs": [],
   "source": []
  },
  {
   "cell_type": "code",
   "execution_count": null,
   "metadata": {},
   "outputs": [],
   "source": []
  }
 ],
 "metadata": {
  "kernelspec": {
   "display_name": "Python 3",
   "language": "python",
   "name": "python3"
  },
  "language_info": {
   "codemirror_mode": {
    "name": "ipython",
    "version": 3
   },
   "file_extension": ".py",
   "mimetype": "text/x-python",
   "name": "python",
   "nbconvert_exporter": "python",
   "pygments_lexer": "ipython3",
   "version": "3.7.1"
  }
 },
 "nbformat": 4,
 "nbformat_minor": 2
}
