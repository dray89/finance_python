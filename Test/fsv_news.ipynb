{
 "cells": [
  {
   "cell_type": "code",
   "execution_count": 1,
   "metadata": {},
   "outputs": [],
   "source": [
    "from news_updates.news_sources_v3 import News\n",
    "import time"
   ]
  },
  {
   "cell_type": "code",
   "execution_count": 2,
   "metadata": {},
   "outputs": [
    {
     "data": {
      "text/plain": [
       "'C:\\\\Users\\\\rayde\\\\iCloudDrive\\\\GitHub'"
      ]
     },
     "execution_count": 2,
     "metadata": {},
     "output_type": "execute_result"
    }
   ],
   "source": [
    "pwd"
   ]
  },
  {
   "cell_type": "code",
   "execution_count": 12,
   "metadata": {},
   "outputs": [],
   "source": [
    "search = ['Canadian-Tire-Corporation-earnings-TSX']"
   ]
  },
  {
   "cell_type": "code",
   "execution_count": null,
   "metadata": {},
   "outputs": [],
   "source": []
  },
  {
   "cell_type": "code",
   "execution_count": null,
   "metadata": {},
   "outputs": [],
   "source": []
  },
  {
   "cell_type": "code",
   "execution_count": 13,
   "metadata": {},
   "outputs": [
    {
     "name": "stdout",
     "output_type": "stream",
     "text": [
      "--- 83.59158205986023 seconds ---\n"
     ]
    }
   ],
   "source": [
    "start_time = time.time()\n",
    "Weed = News(search[0])\n",
    "print(\"--- %s seconds ---\" % (time.time() - start_time))"
   ]
  },
  {
   "cell_type": "code",
   "execution_count": 14,
   "metadata": {},
   "outputs": [
    {
     "data": {
      "text/plain": [
       "<news_updates.news_sources_v3.News at 0x1ea535b2160>"
      ]
     },
     "execution_count": 14,
     "metadata": {},
     "output_type": "execute_result"
    }
   ],
   "source": [
    "Weed"
   ]
  },
  {
   "cell_type": "code",
   "execution_count": 15,
   "metadata": {},
   "outputs": [
    {
     "data": {
      "text/plain": [
       "20"
      ]
     },
     "execution_count": 15,
     "metadata": {},
     "output_type": "execute_result"
    }
   ],
   "source": [
    "len(Weed.links)"
   ]
  },
  {
   "cell_type": "code",
   "execution_count": 16,
   "metadata": {},
   "outputs": [],
   "source": [
    "arts = Weed.art_list\n",
    "\n",
    "for each in arts:\n",
    "    if each.summary == ' ':\n",
    "        print(each.index)\n",
    "    else:\n",
    "        pass"
   ]
  },
  {
   "cell_type": "code",
   "execution_count": 17,
   "metadata": {},
   "outputs": [
    {
     "data": {
      "text/plain": [
       "20"
      ]
     },
     "execution_count": 17,
     "metadata": {},
     "output_type": "execute_result"
    }
   ],
   "source": [
    "len(arts)"
   ]
  },
  {
   "cell_type": "code",
   "execution_count": 18,
   "metadata": {},
   "outputs": [
    {
     "name": "stdout",
     "output_type": "stream",
     "text": [
      "Just 4 Days Before Canadian Tire Corporation, Limited (TSE:CTC.A) Will Be Trading Ex-Dividend ['Simply Wall St'] \n",
      " Last year’s total dividend payments show that Canadian Tire has a trailing yield of 2.9% on the current share price of CA$145.42.\n",
      "If you buy this business for its dividend, you should have an idea of whether Canadian Tire’s dividend is reliable and sustainable.\n",
      "So we need to investigate whether Canadian Tire can afford its dividend, and if the dividend could grow.\n",
      "A useful secondary check can be to evaluate whether Canadian Tire generated enough free cash flow to afford its dividend.\n",
      "This is why it’s a relief to see Canadian Tire earnings per share are up 9.0% per annum over the last five years. \n",
      "----------------------------------------------------------------------------------------------------\n",
      "Notable Active Stock’s Momentum: Canadian Tire Corporation Cl. A NV, (TSX: CTC-A) [] \n",
      " On Wednesday Shares of Canadian Tire Corporation Cl.\n",
      "Market Updates Of The Canadian Tire Corporation Cl.\n",
      "The Canadian Tire Corporation Cl.\n",
      "The Current Price Signals & Last Month Prices Signals are hereunder:Current Price Signals “Sell”Last Month Price Signals “Sell”Trend Analysis of the Canadian Tire Corporation Cl.\n",
      "Growth Rates (Return / Revenue):The 01-Year Return of the company Canadian Tire Corporation Cl. \n",
      "----------------------------------------------------------------------------------------------------\n",
      "Pounding the Pavement on Shares of Viacom Inc. (NasdaqGS:VIAB), Canadian Tire Corporation, Limited (TSX:CTC.A) – Calvin Caller ['Ronald Lewis'] \n",
      " The Current Ratio of Viacom Inc. (NasdaqGS:VIAB) is 1.36.\n",
      "The current ratio looks at all the liquid and non-liquid assets compared to the company’s total current liabilities.\n",
      "A low current ratio (when the current liabilities are higher than the current assets) indicates that the company may have trouble paying their short term obligations.\n",
      "Canadian Tire Corporation, Limited (TSX:CTC.A) presently has a current ratio of 1.81.\n",
      "The current ratio, also known as the working capital ratio, is a liquidity ratio that displays the proportion of current assets of a business relative to the current liabilities. \n",
      "----------------------------------------------------------------------------------------------------\n",
      "Do Canadian Tire Corporation, Limited’s (TSE:CTC.A) Returns On Capital Employed Make The Cut? ['Simply Wall St'] \n",
      " Today we’ll evaluate Canadian Tire Corporation, Limited (TSE:CTC.A) to determine whether it could have potential as an investment idea.\n",
      "To be precise, we’ll consider its Return On Capital Employed (ROCE), as that will inform our view of the quality of the business.\n",
      "Using our data, Canadian Tire’s ROCE appears to be around the 12% average of the Multiline Retail industry.\n",
      "Since the future is so important for investors, you should check out our free report on analyst forecasts for Canadian Tire.\n",
      "The ROCE equation subtracts current liabilities from capital employed, so a company with a lot of current liabilities appears to have less capital employed, and a higher ROCE than otherwise. \n",
      "----------------------------------------------------------------------------------------------------\n",
      " [] \n",
      "  \n",
      "----------------------------------------------------------------------------------------------------\n",
      "Mesa Laboratories, Inc. (NasdaqGS:MLAB), Canadian Tire Corporation, Limited (TSX:CTC.A) EBITDA Yield & Shareholder Return Update ['Frank Devine'] \n",
      " A score of nine indicates a high value stock, while a score of one indicates a low value stock.\n",
      "Earnings YieldThe Earnings to Price yield of Mesa Laboratories, Inc. NasdaqGS:MLAB is 0.008175.\n",
      "The Earnings Yield Five Year average for Mesa Laboratories, Inc. (NasdaqGS:MLAB) is 0.016235.\n",
      "A score of nine indicates a high value stock, while a score of one indicates a low value stock.\n",
      "The price to earnings ratio for Canadian Tire Corporation, Limited (TSX:CTC.A) is 12.047993. \n",
      "----------------------------------------------------------------------------------------------------\n",
      "Canadian Tire Corporation, Limited (TSX:CTC.A) QI Reaches 28.00000 & Valuation Watch ['Jim Carter'] \n",
      " Canadian Tire Corporation, Limited (TSX:CTC.A) presently has a 10 month price index of 0.90932.\n",
      "Looking at some alternate time periods, the 12 month price index is 0.83265, the 24 month is 0.92207, and the 36 month is 1.03308.\n",
      "Narrowing in a bit closer, the 5 month price index is 0.94845, the 3 month is 0.96265, and the 1 month is currently 0.93019.\n",
      "Checking in on some valuation rankings, Canadian Tire Corporation, Limited (TSX:CTC.A) has a Value Composite score of 28.\n",
      "A score of nine indicates a high value stock, while a score of one indicates a low value stock. \n",
      "----------------------------------------------------------------------------------------------------\n",
      " [] \n",
      "  \n",
      "----------------------------------------------------------------------------------------------------\n",
      "Scanning the Quant Signals For Canadian Tire Corporation, Limited (TSX:CTC.A), VAT Group AG (SWX:VACN) ['Frank Devine'] \n",
      " The Earnings to Price yield of Canadian Tire Corporation, Limited TSX:CTC.A is 0.080725.\n",
      "The Earnings Yield for Canadian Tire Corporation, Limited TSX:CTC.A is 0.067105.\n",
      "The Earnings Yield Five Year average for Canadian Tire Corporation, Limited (TSX:CTC.A) is 0.052241.\n",
      "The price to earnings ratio for Canadian Tire Corporation, Limited (TSX:CTC.A) is 12.387804.\n",
      "These ratios are price to earnings, price to cash flow, EBITDA to EV, price to book value, and price to sales. \n",
      "----------------------------------------------------------------------------------------------------\n",
      "Party City Announces $174 Million Sale Of Canadian Subsidiary Retail Business And Assets To Canadian Tire And Long-Term Wholesale Supply Agreement [] \n",
      " Your use of the Website and/or Services constitutes your agreement to the Terms.\n",
      "Mondaq also reserves the right from time to time to monitor your Use of the Website and/or services.\n",
      "Mondaq and/or its Contributors and other suppliers make no representations about the suitability of the information contained in the Content for any purpose.\n",
      "By continuing to Use the Services and/or the Website after such amendment, you will be deemed to have accepted any amendment to these Terms.\n",
      "If you live outside the United Kingdom, English law shall apply only to the extent that English law shall not deprive you of any legal protection accorded in accordance with the law of the place where you are habitually resident (\"Local Law\"). \n",
      "----------------------------------------------------------------------------------------------------\n",
      "Watchlist Alert & Earnings Quant Signals in Focus For Canadian Tire Corporation, Limited (TSX:CTC.A), WorleyParsons Limited (ASX:WOR) ['Frank Devine'] \n",
      " The Earnings Yield for Canadian Tire Corporation, Limited (TSX:CTC.A) stands at 0.067352.\n",
      "The Earnings Yield Five Year average for Canadian Tire Corporation, Limited (TSX:CTC.A) is 0.052433.\n",
      "Further, the Earnings to Price yield of Canadian Tire Corporation, Limited TSX:CTC.A is 0.081411.\n",
      "Canadian Tire Corporation, Limited (TSX:CTC.A) currently has a Montier C-score of 3.00000.\n",
      "ROICThe Return on Invested Capital (aka ROIC) for Canadian Tire Corporation, Limited (TSX:CTC.A) is 0.115889. \n",
      "----------------------------------------------------------------------------------------------------\n",
      "Quant Scorecard Update and Review For Canadian Tire Corporation, Limited (TSX:CTC.A), NorthWestern Corporation (NYSE:NWE) – Stock Muse ['Stock Muse Staff'] \n",
      " Checking in on some valuation rankings, Canadian Tire Corporation, Limited (TSX:CTC.A) has a Value Composite score of 28.\n",
      "These ratios are price to earnings, price to cash flow, EBITDA to EV, price to book value, and price to sales.\n",
      "A score of nine indicates a high value stock, while a score of one indicates a low value stock.\n",
      "We can now take a quick look at some historical stock price index data.\n",
      "When focusing in on a specific company, investors will look at company management, financial information, business prospects, and industry competition. \n",
      "----------------------------------------------------------------------------------------------------\n",
      "2 Retail Stocks to Buy for a Comeback [] \n",
      " The Motley Fool Canada » Dividend Stocks » 2 Retail Stocks to Buy for a ComebackBrick-and-mortar retail has been downright hideous over the last few years.\n",
      "This piece will have a look at two exciting retailers that could post tremendous gains in a comeback scenario.\n",
      "Indigo Books & MusicThe stock of Indigo Books & Music (TSX:IDG) has completely cratered of late, with the stock now down 66% in just over a year.\n",
      "In the end, Canadian Tire is a brick-and-mortar player at heart.\n",
      "Indigo stock is ridiculously cheap at 0.17 times sales, though, and is priced to go belly up, which I don’t think is plausible at this juncture. \n",
      "----------------------------------------------------------------------------------------------------\n",
      "Worth Watching Stocks in Queue: Canadian Tire Corporation Cl. A NV, (TSX: CTC-A) [] \n",
      " On Tuesday Shares of Canadian Tire Corporation Cl.\n",
      "Market Updates Of The Canadian Tire Corporation Cl.\n",
      "The Canadian Tire Corporation Cl.\n",
      "The Current Price Signals & Last Month Prices Signals are hereunder:Current Price Signals “Sell”Last Month Price Signals “Sell”Trend Analysis of the Canadian Tire Corporation Cl.\n",
      "Growth Rates (Return / Revenue):The 01-Year Return of the company Canadian Tire Corporation Cl. \n",
      "----------------------------------------------------------------------------------------------------\n",
      "Canadian Tire Corporation, Limited (TSX:CTC.A), VAT Group AG (SWX:VACN) Quant Signal & Valuation Review ['Frank Devine'] \n",
      " First off we’ll take a look at the Price to Cash Flow ratio of Canadian Tire Corporation, Limited (TSX:CTC.A).\n",
      "Cash Flow is defined as Income After Taxes minus Preferred Dividends and General Partner Distributions plus Depreciation, Depletion and Amortization.\n",
      "The Earnings to Price yield of VAT Group AG SWX:VACN is 0.022920.\n",
      "Free Cash Flow Growth (FCF Growth) is the free cash flow of the current year minus the free cash flow from the previous year, divided by last year’s free cash flow.\n",
      "The Free Cash Flow Score (FCF Score) is a helpful tool in calculating the free cash flow growth with free cash flow stability – this gives investors the overall quality of the free cash flow. \n",
      "----------------------------------------------------------------------------------------------------\n",
      "Canadian Tire Corporation, Limited (TSX:CTC.A) – How Do The Quant Signals Stack Up? [] \n",
      " Canadian Tire Corporation, Limited (TSX:CTC.A) presently has a current ratio of 1.81.\n",
      "The SMA 50/200 for Canadian Tire Corporation, Limited (TSX:CTC.A) is currently 0.98670.\n",
      "The MF Rank of Canadian Tire Corporation, Limited (TSX:CTC.A) is 5715.\n",
      "The Volatility 12m of Canadian Tire Corporation, Limited (TSX:CTC.A) is 21.156700.\n",
      "The Volatility 3m of Canadian Tire Corporation, Limited (TSX:CTC.A) is 17.087400. \n",
      "----------------------------------------------------------------------------------------------------\n",
      "What every Canadian investor needs to know today ['Follow Us On Twitter', 'Terry Weber'] \n",
      " A 0A +2A +4A +6The subject who is truly loyal to the Chief Magistrate will neither advise nor submit to arbitrary measures. \n",
      "----------------------------------------------------------------------------------------------------\n",
      "Donaldson Company, Inc. (NYSE:DCI) and Canadian Tire Corporation, Limited (TSX:CTC.A) Quant Signals Show Magic Formula Rank and Quant at Notable Marks – Stock News X ['Stephen Clark'] \n",
      " These ratios consist of EBITDA Yield, FCF Yield, Liquidity, and Earnings Yield.\n",
      "The Earnings to Price yield of Donaldson Company, Inc. (NYSE:DCI) is 0.049697.\n",
      "The Earnings to Price yield of Canadian Tire Corporation, Limited (TSX:CTC.A) is 0.083001.\n",
      "The Earnings Yield for Canadian Tire Corporation, Limited (TSX:CTC.A) is 0.067913.\n",
      "Value is calculated using the following ratios: EBITDA Yield, Earnings Yield, FCF Yield, and Liquidity. \n",
      "----------------------------------------------------------------------------------------------------\n",
      "Is Canadian Tire (TSE:CTC.A) A Risky Investment? ['Simply Wall St'] \n",
      " We can see that Canadian Tire Corporation, Limited (TSE:CTC.A) does use debt in its business.\n",
      "See our latest analysis for Canadian TireWhat Is Canadian Tire’s Debt?\n",
      "The latest balance sheet data shows that Canadian Tire had liabilities of CA$5.28b due within a year, and liabilities of CA$9.00b falling due after that.\n",
      "But it is future earnings, more than anything, that will determine Canadian Tire’s ability to maintain a healthy balance sheet going forward.\n",
      "Looking at the most recent three years, Canadian Tire recorded free cash flow of 26% of its EBIT, which is weaker than we’d expect. \n",
      "----------------------------------------------------------------------------------------------------\n",
      "Most actively traded companies on the TSX [] \n",
      " TORONTO — Some of the most active companies traded Thursday on the Toronto Stock Exchange:Toronto Stock Exchange (16,404.53, up 139.31 points).\n",
      "Up 31 cents, or 0.69 per cent, to $44.93 on 8.7 million shares.\n",
      "On an organic basis, sales increased five per cent compared to a six per cent decline in global vehicle production.\n",
      "But the company said total sales including currency translation and divestitures decreased by one per cent to US$10.1 billion.\n",
      "Net income fell to $19.4 million from $24.4 million in the comparable period last year. \n",
      "----------------------------------------------------------------------------------------------------\n"
     ]
    }
   ],
   "source": [
    "for each in arts:\n",
    "    print(each.title, each.authors, '\\n', each.summary, '\\n' + '-'*100)"
   ]
  },
  {
   "cell_type": "code",
   "execution_count": null,
   "metadata": {},
   "outputs": [],
   "source": []
  },
  {
   "cell_type": "code",
   "execution_count": 19,
   "metadata": {},
   "outputs": [],
   "source": [
    "keywords = set()\n",
    "for each in arts:\n",
    "    for i in each.keywords:\n",
    "        keywords.add(i)"
   ]
  },
  {
   "cell_type": "code",
   "execution_count": 20,
   "metadata": {},
   "outputs": [
    {
     "name": "stdout",
     "output_type": "stream",
     "text": [
      "corp,\n",
      "revenue,\n",
      "indigo,\n",
      "mondaq,\n",
      "tsx,\n",
      "marks,\n",
      "month,\n",
      "andor,\n",
      "focus,\n",
      "worleyparsons,\n",
      "shareholder,\n",
      "law,\n",
      "6the,\n",
      "arbitrary,\n",
      "current,\n",
      "risky,\n",
      "pavement,\n",
      "2800000,\n",
      "traded,\n",
      "chief,\n",
      "stack,\n",
      "trading,\n",
      "subject,\n",
      "tsxctca,\n",
      "trend,\n",
      "nysenwe,\n",
      "exdividend,\n",
      "notable,\n",
      "nasdaqgsmlab,\n",
      "tsectca,\n",
      "stock,\n",
      "sales,\n",
      "sale,\n",
      "ebit,\n",
      "sell,\n",
      "limiteds,\n",
      "investor,\n",
      "viacom,\n",
      "ctca,\n",
      "retail,\n",
      "company,\n",
      "review,\n",
      "today,\n",
      "northwestern,\n",
      "information,\n",
      "free,\n",
      "content,\n",
      "reaches,\n",
      "index,\n",
      "queue,\n",
      "watching,\n",
      "companies,\n",
      "nasdaqgsviab,\n",
      "debt,\n",
      "stocks,\n",
      "nysedci,\n",
      "watchlist,\n",
      "measures,\n",
      "website,\n",
      "cent,\n",
      "x,\n",
      "ecommerce,\n",
      "valuation,\n",
      "days,\n",
      "cl,\n",
      "million,\n",
      "loyal,\n",
      "value,\n",
      "late,\n",
      "goods,\n",
      "liabilities,\n",
      "signal,\n",
      "tire,\n",
      "share,\n",
      "buy,\n",
      "vat,\n",
      "cut,\n",
      "dividend,\n",
      "volatility,\n",
      "supply,\n",
      "cash,\n",
      "truly,\n",
      "signals,\n",
      "update,\n",
      "magistrate,\n",
      "books,\n",
      "companys,\n",
      "yield,\n",
      "party,\n",
      "tires,\n",
      "calculated,\n",
      "advise,\n",
      "data,\n",
      "cents,\n",
      "earnings,\n",
      "longterm,\n",
      "group,\n",
      "interest,\n",
      "investment,\n",
      "worth,\n",
      "watch,\n",
      "pounding,\n",
      "nv,\n",
      "price,\n",
      "wholesale,\n",
      "rank,\n",
      "retailers,\n",
      "employed,\n",
      "mesa,\n",
      "shares,\n",
      "shall,\n",
      "know,\n",
      "submit,\n",
      "comeback,\n",
      "scanning,\n",
      "quant,\n",
      "canadian,\n",
      "average,\n",
      "return,\n",
      "actively,\n",
      "subsidiary,\n",
      "think,\n",
      "qi,\n",
      "quarter,\n",
      "capital,\n",
      "corporation,\n",
      "dividends,\n",
      "laboratories,\n",
      "score,\n",
      "momentum,\n",
      "swxvacn,\n",
      "needs,\n",
      "limited,\n",
      "total,\n",
      "returns,\n",
      "terms,\n",
      "roce,\n",
      "flow,\n",
      "scorecard,\n",
      "ratio,\n",
      "services,\n",
      "investors,\n",
      "assets,\n"
     ]
    }
   ],
   "source": [
    "for each in keywords:\n",
    "    print(each + \",\")"
   ]
  },
  {
   "cell_type": "code",
   "execution_count": null,
   "metadata": {},
   "outputs": [],
   "source": []
  },
  {
   "cell_type": "code",
   "execution_count": null,
   "metadata": {},
   "outputs": [],
   "source": []
  }
 ],
 "metadata": {
  "kernelspec": {
   "display_name": "Python 3",
   "language": "python",
   "name": "python3"
  },
  "language_info": {
   "codemirror_mode": {
    "name": "ipython",
    "version": 3
   },
   "file_extension": ".py",
   "mimetype": "text/x-python",
   "name": "python",
   "nbconvert_exporter": "python",
   "pygments_lexer": "ipython3",
   "version": "3.7.1"
  }
 },
 "nbformat": 4,
 "nbformat_minor": 2
}
