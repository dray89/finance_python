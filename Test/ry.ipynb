{
 "cells": [
  {
   "cell_type": "code",
   "execution_count": 2,
   "metadata": {},
   "outputs": [],
   "source": [
    "from news_updates.news_sources_v3 import News\n",
    "import time"
   ]
  },
  {
   "cell_type": "code",
   "execution_count": 3,
   "metadata": {},
   "outputs": [
    {
     "data": {
      "text/plain": [
       "'C:\\\\Users\\\\rayde\\\\iCloudDrive\\\\GitHub'"
      ]
     },
     "execution_count": 3,
     "metadata": {},
     "output_type": "execute_result"
    }
   ],
   "source": [
    "pwd"
   ]
  },
  {
   "cell_type": "code",
   "execution_count": 5,
   "metadata": {},
   "outputs": [],
   "source": [
    "search = ['Royal-Bank-of-Canada-Earnings']"
   ]
  },
  {
   "cell_type": "code",
   "execution_count": null,
   "metadata": {},
   "outputs": [],
   "source": []
  },
  {
   "cell_type": "code",
   "execution_count": null,
   "metadata": {},
   "outputs": [],
   "source": []
  },
  {
   "cell_type": "code",
   "execution_count": 6,
   "metadata": {},
   "outputs": [
    {
     "name": "stdout",
     "output_type": "stream",
     "text": [
      "--- 61.11511182785034 seconds ---\n"
     ]
    }
   ],
   "source": [
    "start_time = time.time()\n",
    "Weed = News(search[0])\n",
    "print(\"--- %s seconds ---\" % (time.time() - start_time))"
   ]
  },
  {
   "cell_type": "code",
   "execution_count": 7,
   "metadata": {},
   "outputs": [
    {
     "data": {
      "text/plain": [
       "<news_updates.news_sources_v3.News at 0x26c94b17b70>"
      ]
     },
     "execution_count": 7,
     "metadata": {},
     "output_type": "execute_result"
    }
   ],
   "source": [
    "Weed"
   ]
  },
  {
   "cell_type": "code",
   "execution_count": 8,
   "metadata": {},
   "outputs": [
    {
     "data": {
      "text/plain": [
       "20"
      ]
     },
     "execution_count": 8,
     "metadata": {},
     "output_type": "execute_result"
    }
   ],
   "source": [
    "len(Weed.links)"
   ]
  },
  {
   "cell_type": "code",
   "execution_count": 9,
   "metadata": {},
   "outputs": [],
   "source": [
    "arts = Weed.art_list\n",
    "\n",
    "for each in arts:\n",
    "    if each.summary == ' ':\n",
    "        print(each.index)\n",
    "    else:\n",
    "        pass"
   ]
  },
  {
   "cell_type": "code",
   "execution_count": 10,
   "metadata": {},
   "outputs": [
    {
     "data": {
      "text/plain": [
       "20"
      ]
     },
     "execution_count": 10,
     "metadata": {},
     "output_type": "execute_result"
    }
   ],
   "source": [
    "len(arts)"
   ]
  },
  {
   "cell_type": "code",
   "execution_count": 11,
   "metadata": {},
   "outputs": [
    {
     "name": "stdout",
     "output_type": "stream",
     "text": [
      "Royal Bank of Canada profit misses on weakness in capital markets division [] \n",
      " By Nichola Saminather(Reuters) - Royal Bank of Canada on Wednesday reported an increase in third-quarter profit but missed analysts' estimates as weakness in its capital markets business partly offset growth in personal and commercial banking earnings, and domestic lending.\n",
      "Net income at the lender's capital markets business, which includes trading, investment banking and advisory, fell 6%, in part because of declines in equity trading and loan syndication revenue.\n",
      "Total loan loss provisions rose 23% to C$425 million, driven by increased provisions in capital markets, wealth management and personal and commercial banking.\n",
      "However, net income in its personal and commercial banking business rose 10% and wealth management saw profit growth of 11%.\n",
      "Its Canadian banking division posted a surprise gain, rising 8%. \n",
      "----------------------------------------------------------------------------------------------------\n",
      "Before the Bell: What every Canadian investor needs to know today ['Follow Us On Twitter', 'Terry Weber'] \n",
      " A 0A +2A +4A +6The subject who is truly loyal to the Chief Magistrate will neither advise nor submit to arbitrary measures. \n",
      "----------------------------------------------------------------------------------------------------\n",
      "The Royal Bank of Canada (TSE:RY) Share Price Is Up 29% And Shareholders Are Holding On ['Simply Wall St'] \n",
      " For example, the Royal Bank of Canada (TSE:RY) share price is up 29% in the last 5 years, clearly besting than the market return of around -0.8% (ignoring dividends).\n",
      "During five years of share price growth, Royal Bank of Canada achieved compound earnings per share (EPS) growth of 8.4% per year.\n",
      "The EPS growth is more impressive than the yearly share price gain of 5.2% over the same period.\n",
      "It is important to consider the total shareholder return, as well as the share price return, for any given stock.\n",
      "We note that for Royal Bank of Canada the TSR over the last 5 years was 56%, which is better than the share price return mentioned above. \n",
      "----------------------------------------------------------------------------------------------------\n",
      "Bank Of Nova Scotia: A Strong Buy Before Earnings ['Stefan Redlich'] \n",
      " While the earnings season for the big American banks has come to an end with results generally beating expectations, Canadian banks are yet to follow.\n",
      "Canada's Big Five banks - the Royal Bank of Canada (RY), Bank of Montreal (BMO), Canadian Imperial Bank of Commerce (CM), Toronto-Dominion Bank (TD) and Bank of Nova Scotia, aka Scotiabank (BNS) - are all due to report earnings in late August, with the Royal Bank of Canada being first on August 21, 2019.\n",
      "Over the past 10 full years, EPS (C$) has been growing at a CAGR of 9%, followed by average dividend growth of 6%.\n",
      "Over the past 45 years, strong earnings growth has led to dividend increases in 43 years.\n",
      "With the stock trading at an attractive valuation, it makes the case for a strong buy into earnings for any long-term oriented dividend growth portfolio. \n",
      "----------------------------------------------------------------------------------------------------\n",
      "Canadian banks to report 'solid' quarter amid trade tensions, strong employment [] \n",
      " TORONTO — Trade uncertainty may weigh on the Canadian banks’ upcoming financial results, but strong employment numbers on both sides of the border and a continued boost from their international footprints will likely result in a “solid” quarter, analysts say.\n",
      "The Royal Bank of Canada is the first of the country’s biggest lenders to report its results for the quarter ended July 31 on Wednesday, followed by the Canadian Imperial Bank of Commerce on Thursday.\n",
      "The Bank of Montreal and Bank of Nova Scotia both report their latest earnings on Aug. 27, followed by National Bank of Canada on Aug. 28 and Toronto-Dominion Bank on Aug. 29.\n",
      "The contribution from outside Canada’s borders is expected to be a positive factor this quarter as well.\n",
      "Another element will be expenses, which have been an important headwind, said Gabriel Dechaine, an analyst with National Bank of Canada Financial Markets. \n",
      "----------------------------------------------------------------------------------------------------\n",
      "Posthaste: A big day for pipelines, inside CannTrust's Pelham facility and Canada's red hot real estate segment [] \n",
      " Driving.ca is Canada's leading destination for the latest automotive news, reviews, photos and video.\n",
      "Speaking to employees at the company’s Pelham facility, Vanmala paints a picture of a chaotic, morale-busting environment.\n",
      "Driving.ca is Canada's leading destination for the latest automotive news, reviews, photos and video.\n",
      "Driving.ca is Canada's leading destination for the latest automotive news, reviews, photos and video.\n",
      "Driving.ca is Canada's leading destination for the latest automotive news, reviews, photos and video. \n",
      "----------------------------------------------------------------------------------------------------\n",
      "All eyes on Big Six Bank earnings after volatile week for markets in Canada ['Divya Balji', 'Bloomberg News'] \n",
      " Investors will turn their focus to the first two of the Big Six banks to report fiscal third-quarter results after a week that roiled Canada’s equity and bond markets.\n",
      "Royal Bank of Canada kicks off the reporting season on Wednesday and CIBC the following day.\n",
      "Here’s what happened in Canada last week.\n",
      "Markets — Just The NumbersThe superlatives are endless: volatility on the S&P/TSX Composite Index surged to levels unseen in more than seven months.\n",
      "Foreigners sold $5.14 billion (US$3.87 billion) of bonds, and $1.1 billion of stocks and investment fund shares, according to Statistics Canada. \n",
      "----------------------------------------------------------------------------------------------------\n",
      "Royal Bank of Canada to Host Earnings Call [] \n",
      " NEW YORK, NY / ACCESSWIRE / August 21, 2019, 2018 / Royal Bank of Canada (NYSE: RY) will be discussing their earnings results in their 2019 Third Quarter Earnings to be held on August 21, 2019 at 8:00 AM Eastern Time.\n",
      "About Investor NetworkInvestor Network (IN) is a financial content community, serving millions of unique investors market information, earnings, commentary and news on the what’s trending.\n",
      "Dedicated to both the professional and the average traders, IN offers timely, trusted and relevant financial information for virtually every investor.\n",
      "IN is an Issuer Direct brand, to learn more or for the latest financial news and market information, visit www.investornetwork.com.\n",
      "SOURCE: Investor NetworkView source version on accesswire.com:https://www.accesswire.com/556773/Royal-Bank-of-Canada-to-Host-Earnings-Call \n",
      "----------------------------------------------------------------------------------------------------\n",
      "Q3 Earnings Preview: Canada’s Top Bank [] \n",
      " The Motley Fool Canada » Bank Stocks » Q3 Earnings Preview: Canada’s Top BankThe biggest banks in Canada are gearing up to release the third round of earnings for 2019.\n",
      "There have been seismic shifts in the global economy since the second quarter earnings season.\n",
      "Shares of Royal Bank had retreated 3.7% over the past three months as of late afternoon trading on August 8.\n",
      "Royal Bank was one of the institutions named as part of Steve Eisman’s Canadian bank short.\n",
      "In the second quarter, Royal Bank reported net income of $3.23 billion which was up 6% from the prior year. \n",
      "----------------------------------------------------------------------------------------------------\n",
      "Better Buy Ahead of Earnings: Royal Bank of Canada (TSX:RY) or CIBC (TSX:CM) Stock [] \n",
      " The Motley Fool Canada » Bank Stocks » Better Buy Ahead of Earnings: Royal Bank of Canada (TSX:RY) or CIBC (TSX:CM) StockNext week, two of Canada’s Big Five banks kick off earnings season.\n",
      "Royal Bank of Canada and CIBC have both performed in line with the average.\n",
      "Unlike Royal Bank of Canada, earnings estimates have trended downwards from $3.17 per share previously.\n",
      "In the first quarter, Royal Bank of Canada raised dividends by 4.04% while CIBC raised dividends by 2.94%.\n",
      "The answer is clear to me, based on all of the above – Royal Bank is the better buy ahead of its earnings. \n",
      "----------------------------------------------------------------------------------------------------\n",
      "The Week Ahead: Canadian banks report earnings; Powell heads to Jackson Hole ['Noah Zivitz'] \n",
      " The Week Ahead: Canadian banks report earnings; Powell heads to Jackson HoleMonday, August 19-Notable earnings: BHPTuesday, August 20-Notable earnings: Home Depot, TJX-Notable data: Canadian manufacturing sales, Teranet/National Bank Canadian home price index-Alcohol and Gaming Commission of Ontario holds lottery to select 42 cannabis retail licence applicantsWednesday, August 21-Notable earnings: Royal Bank of Canada, Lowe's, Target, Nordstrom, L Brands-Notable data: Canadian CPI, U.S. existing home sales-House of Commons Ethics Committee holds emergency meeting on Conflict of Interest Act violation by Prime Minister Trudeau-U.S. Federal Reserve releases minutes from last meeting (2 p.m.\n",
      "ET)Thursday, August 22-Notable earnings: CIBC, Gap-Notable data: Canadian wholesale trade, EI report-Three-day Jackson Hole Economic Policy Symposium begins in WyomingFriday, August 23-Notable earnings: Foot Locker-Notable data: Canadian retail sales, U.S. new home sales-U.S. Federal Reserve Chair Jerome Powell delivers speech at Jackson Hole Economic Policy Symposium (10 a.m.\n",
      "ET)-Transat shareholder vote on takeover by Air Canada (10 a.m. \n",
      "----------------------------------------------------------------------------------------------------\n",
      "The Daily Chase: RBC kicks off bank earnings; Alberta extends oil curtailment ['Noah Zivitz'] \n",
      " PEMBINA PIPELINE BUYING KINDER MORGAN CANADAThe remnants of Kinder Morgan Canada (KML) are being scooped up by Pembina Pipeline in an all-stock deal valued at $2.3 billion.\n",
      "The deals come almost a year to the day since KML closed the Trans Mountain pipeline expansion sale to the federal government.\n",
      "NOTABLE RELEASES/EVENTS-Notable earnings: Royal Bank of Canada, Lowe's, Target, Nordstrom, L Brands-Notable data: Canadian CPI, U.S. existing home sales-11:00 a.m.\n",
      "ET: House of Commons Ethics Committee holds emergency meeting on Conflict of Interest Act violation by Prime Minister Trudeau-1:00 p.m.\n",
      ": Prime Minister Justin Trudeau delivers keynote at Council of Foreign Relations event in Montreal-130 p.m. \n",
      "----------------------------------------------------------------------------------------------------\n",
      "Abbrea Capital LLC Makes New $349,000 Investment in Royal Bank of Canada (NYSE:RY) ['Cindy Kellogue'] \n",
      " Coastal Capital Group Inc. acquired a new stake in shares of Royal Bank of Canada in the second quarter valued at approximately $28,000.\n",
      "Resources Investment Advisors Inc. purchased a new stake in shares of Royal Bank of Canada during the 1st quarter valued at $30,000.\n",
      "Meridian Wealth Management LLC purchased a new stake in shares of Royal Bank of Canada during the 1st quarter valued at $30,000.\n",
      "CWM LLC raised its position in shares of Royal Bank of Canada by 86.8% during the 1st quarter.\n",
      "Royal Bank of Canada ProfileRoyal Bank of Canada operates as a diversified financial service company worldwide. \n",
      "----------------------------------------------------------------------------------------------------\n",
      "UPDATE 2-Royal Bank of Canada profit misses on weakness in capital markets division ['Nichola Saminather', 'Min Read'] \n",
      " (Adds share price in third paragraph, details throughout)By Nichola SaminatherAug 21 (Reuters) - Royal Bank of Canada on Wednesday reported an increase in third-quarter profit but missed analysts’ estimates as weakness in its capital markets business partly offset growth in personal and commercial banking earnings, and domestic lending.\n",
      "Canada’s largest lender by market share also said it would raise its quarterly dividend by 3% to C$1.05 per share.\n",
      "Total loan loss provisions rose 23% to C$425 million, driven by increased provisions in capital markets, wealth management and personal and commercial banking.\n",
      "However, net income in its personal and commercial banking business rose 10% and wealth management saw profit growth of 11%.\n",
      "Its Canadian banking division posted a surprise gain, rising 8%. \n",
      "----------------------------------------------------------------------------------------------------\n",
      "Why This Stock Could Be a Better Buy Than Royal Bank (TSX:RY) [] \n",
      " The Motley Fool Canada » Bank Stocks » Why This Stock Could Be a Better Buy Than Royal Bank (TSX:RY)For investors seeking good, stable earnings, a stock like Royal Bank of Canada (TSX:RY)(NYSE:RY) is an excellent option to buy and hold for decades.\n",
      "And for many investors, that’s just fine.\n",
      "Why has Home Capital stock rebounded?\n",
      "Bottom lineHome Capital is still trading right around its book value despite the stock rising significantly over the past year.\n",
      "That’s why it’s still a good buy today, as there’s a lot more room for Home Capital stock to rise than there is for an established bank stock like RBC. \n",
      "----------------------------------------------------------------------------------------------------\n",
      "What Type Of Shareholder Owns Royal Bank of Canada’s (TSE:RY)? ['Simply Wall St'] \n",
      " A look at the shareholders of Royal Bank of Canada (TSE:RY) can tell us which group is most powerful.\n",
      "With a market capitalization of CA$143b, Royal Bank of Canada is rather large.\n",
      "Check out our latest analysis for Royal Bank of CanadaWhat Does The Institutional Ownership Tell Us About Royal Bank of Canada?\n",
      "You can see Royal Bank of Canada’s historic earnings and revenue, below, but keep in mind there’s always more to the story.\n",
      "General Public OwnershipThe general public, who are mostly retail investors, collectively hold 54% of Royal Bank of Canada shares. \n",
      "----------------------------------------------------------------------------------------------------\n",
      "Canada’s big banks are about to release earnings. Here’s what to expect ['Follow James Bradshaw On Twitter', 'James Bradshaw'] \n",
      " A 0A +2A +4A +6The subject who is truly loyal to the Chief Magistrate will neither advise nor submit to arbitrary measures. \n",
      "----------------------------------------------------------------------------------------------------\n",
      "Posthaste: What the 'fear index' is telling us, bank earnings preview and Apple TV launch [] \n",
      " Manufacturing data out this morning shows that the Canadian economy remains resilient to the world’s economic woes.\n",
      "Manufacturing data for July was down 1.2 per cent, which was better than analysts’ expectations of a 1.8 per cent drop.\n",
      "In addition, Canadian wholesale and retail data on Thursday and Friday should give Bank of Canada plenty of information to work with as it decides on rates.\n",
      "A Washington Post report suggests that White House officials are mulling a payroll tax cut to help avert a potential economic slowdown.\n",
      "High Yield and corporate bond spreads are still below the levels they reached in May,” the analysts noted. \n",
      "----------------------------------------------------------------------------------------------------\n",
      "Royal Bank of Canada profit misses on weak equity trading ['Doug Alexander', 'Bloomberg News'] \n",
      " Royal Bank of Canada posted fiscal third-quarter earnings that missed analysts’ estimates, hurt by a slowdown in the company’s capital-markets division.\n",
      "Royal Bank is one of Canada’s most diversified banks, including worldwide operations in asset management and capital markets and ownership of Los Angeles-based commercial and private lender City National Bank.\n",
      "The operation posted a 7.9 per cent jump in earnings to a record $1.61 billion, representing almost half of overall profit at the bank.\n",
      "Separately, Royal Bank said that Doug McGregor, group head of RBC Capital Markets and RBC Investor & Treasury Services, will retire on Jan. 31 after 37 years at the bank.\n",
      "Derek Neldner, global head of investment banking at RBC Capital Markets, will become group head of capital markets effective Nov. 1, while Doug Guzman, who oversees wealth management and insurance, will take over Investor & Treasury Services. \n",
      "----------------------------------------------------------------------------------------------------\n",
      "The Daily Chase: Bank earnings eve; telcos blast CRTC ruling ['Noah Zivitz'] \n",
      " It’s bank earnings eve for Canadian investors.\n",
      "TELCOS WARN ON CRTC RULINGSome of Canada’s largest internet service providers are blasting the Canadian Radio-television and Telecommunications Commission’s recent decision to retroactively cut wholesale broadband rates.\n",
      "CANADIANS TAKING TAX-FREE SAVINGS ACCOUNT’S NAME TOO LITERALLY: SURVEYA new poll suggests tax-free savings accounts have leapfrogged registered retirement savings plans in usage, but Canadians don't appear to be taking full advantage of the tax shelter.\n",
      "The RBC Financial Independence in Retirement Poll shows 57 per cent of Canadians have a TFSA, compared to 52 per cent with an RRSP.\n",
      "Today, Transat pointed out there’s no evidence of an actual offer from PKP. \n",
      "----------------------------------------------------------------------------------------------------\n"
     ]
    }
   ],
   "source": [
    "for each in arts:\n",
    "    print(each.title, each.authors, '\\n', each.summary, '\\n' + '-'*100)"
   ]
  },
  {
   "cell_type": "code",
   "execution_count": null,
   "metadata": {},
   "outputs": [],
   "source": []
  },
  {
   "cell_type": "code",
   "execution_count": 12,
   "metadata": {},
   "outputs": [],
   "source": [
    "keywords = set()\n",
    "for each in arts:\n",
    "    for i in each.keywords:\n",
    "        keywords.add(i)"
   ]
  },
  {
   "cell_type": "code",
   "execution_count": 13,
   "metadata": {},
   "outputs": [
    {
     "name": "stdout",
     "output_type": "stream",
     "text": [
      "expect,\n",
      "volatile,\n",
      "q3,\n",
      "owns,\n",
      "transat,\n",
      "retail,\n",
      "symposium,\n",
      "truly,\n",
      "index,\n",
      "share,\n",
      "dividend,\n",
      "update,\n",
      "telcos,\n",
      "fear,\n",
      "research,\n",
      "bell,\n",
      "launch,\n",
      "day,\n",
      "rbc,\n",
      "sales,\n",
      "cibc,\n",
      "curtailment,\n",
      "valued,\n",
      "buy,\n",
      "reviews,\n",
      "period,\n",
      "daily,\n",
      "type,\n",
      "information,\n",
      "heads,\n",
      "solid,\n",
      "know,\n",
      "magistrate,\n",
      "349000,\n",
      "shares,\n",
      "prime,\n",
      "visit,\n",
      "canadas,\n",
      "market,\n",
      "nysery,\n",
      "preview,\n",
      "ruling,\n",
      "taxfree,\n",
      "pipeline,\n",
      "ownership,\n",
      "needs,\n",
      "shareholders,\n",
      "million,\n",
      "dechaine,\n",
      "amid,\n",
      "nova,\n",
      "trans,\n",
      "ahead,\n",
      "equity,\n",
      "29,\n",
      "shareholder,\n",
      "release,\n",
      "photos,\n",
      "data,\n",
      "longer,\n",
      "trading,\n",
      "2019,\n",
      "tsxcm,\n",
      "apple,\n",
      "canadians,\n",
      "minister,\n",
      "good,\n",
      "trade,\n",
      "personal,\n",
      "dividends,\n",
      "investor,\n",
      "markets,\n",
      "growth,\n",
      "banks,\n",
      "revenues,\n",
      "hot,\n",
      "kicks,\n",
      "report,\n",
      "price,\n",
      "stocks,\n",
      "cent,\n",
      "financial,\n",
      "segment,\n",
      "tv,\n",
      "billion,\n",
      "start,\n",
      "weak,\n",
      "stock,\n",
      "eve,\n",
      "extends,\n",
      "return,\n",
      "host,\n",
      "investment,\n",
      "wwwinvestornetworkcom,\n",
      "yesterday,\n",
      "canadian,\n",
      "savings,\n",
      "holding,\n",
      "economy,\n",
      "profit,\n",
      "longterm,\n",
      "strong,\n",
      "tfsa,\n",
      "chase,\n",
      "commercial,\n",
      "estate,\n",
      "bnn,\n",
      "york,\n",
      "week,\n",
      "pipelines,\n",
      "weakness,\n",
      "real,\n",
      "group,\n",
      "chief,\n",
      "earnings,\n",
      "video,\n",
      "bank,\n",
      "economic,\n",
      "advise,\n",
      "capital,\n",
      "subject,\n",
      "division,\n",
      "powell,\n",
      "heres,\n",
      "abbrea,\n",
      "yield,\n",
      "rating,\n",
      "crtc,\n",
      "royal,\n",
      "red,\n",
      "scotia,\n",
      "today,\n",
      "reserve,\n",
      "analysts,\n",
      "sptsx,\n",
      "credit,\n",
      "big,\n",
      "ratio,\n",
      "tsxry,\n",
      "scandal,\n",
      "6the,\n",
      "alberta,\n",
      "taking,\n",
      "telling,\n",
      "latest,\n",
      "loan,\n",
      "eyes,\n",
      "treasury,\n",
      "canada,\n",
      "21,\n",
      "facility,\n",
      "company,\n",
      "llc,\n",
      "lowes,\n",
      "blast,\n",
      "tsery,\n",
      "loyal,\n",
      "2royal,\n",
      "worth,\n",
      "investors,\n",
      "measures,\n",
      "pelham,\n",
      "tensions,\n",
      "oil,\n",
      "policy,\n",
      "morgan,\n",
      "posthaste,\n",
      "institutions,\n",
      "submit,\n",
      "quarter,\n",
      "misses,\n",
      "thats,\n",
      "continues,\n",
      "tsr,\n",
      "kml,\n",
      "arbitrary,\n",
      "bns,\n",
      "et,\n",
      "hole,\n",
      "makes,\n",
      "better,\n",
      "business,\n",
      "second,\n",
      "employment,\n",
      "banking,\n",
      "inside,\n",
      "global,\n",
      "jackson,\n"
     ]
    }
   ],
   "source": [
    "for each in keywords:\n",
    "    print(each + \",\")"
   ]
  }
 ],
 "metadata": {
  "kernelspec": {
   "display_name": "Python 3",
   "language": "python",
   "name": "python3"
  },
  "language_info": {
   "codemirror_mode": {
    "name": "ipython",
    "version": 3
   },
   "file_extension": ".py",
   "mimetype": "text/x-python",
   "name": "python",
   "nbconvert_exporter": "python",
   "pygments_lexer": "ipython3",
   "version": "3.7.1"
  }
 },
 "nbformat": 4,
 "nbformat_minor": 2
}
