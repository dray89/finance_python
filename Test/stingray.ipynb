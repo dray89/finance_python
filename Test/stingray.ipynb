{
 "cells": [
  {
   "cell_type": "code",
   "execution_count": 2,
   "metadata": {},
   "outputs": [],
   "source": [
    "from news_updates.news_sources_v3 import News\n",
    "import time"
   ]
  },
  {
   "cell_type": "code",
   "execution_count": 3,
   "metadata": {},
   "outputs": [
    {
     "data": {
      "text/plain": [
       "'C:\\\\Users\\\\rayde\\\\iCloudDrive\\\\GitHub'"
      ]
     },
     "execution_count": 3,
     "metadata": {},
     "output_type": "execute_result"
    }
   ],
   "source": [
    "pwd"
   ]
  },
  {
   "cell_type": "code",
   "execution_count": 14,
   "metadata": {},
   "outputs": [],
   "source": [
    "search = ['Sting-Ray-Group-Media']"
   ]
  },
  {
   "cell_type": "code",
   "execution_count": null,
   "metadata": {},
   "outputs": [],
   "source": []
  },
  {
   "cell_type": "code",
   "execution_count": null,
   "metadata": {},
   "outputs": [],
   "source": []
  },
  {
   "cell_type": "code",
   "execution_count": 15,
   "metadata": {},
   "outputs": [
    {
     "name": "stdout",
     "output_type": "stream",
     "text": [
      "--- 45.505040407180786 seconds ---\n"
     ]
    }
   ],
   "source": [
    "start_time = time.time()\n",
    "Weed = News(search[0])\n",
    "print(\"--- %s seconds ---\" % (time.time() - start_time))"
   ]
  },
  {
   "cell_type": "code",
   "execution_count": 16,
   "metadata": {},
   "outputs": [
    {
     "data": {
      "text/plain": [
       "<news_updates.news_sources_v3.News at 0x26c98e587f0>"
      ]
     },
     "execution_count": 16,
     "metadata": {},
     "output_type": "execute_result"
    }
   ],
   "source": [
    "Weed"
   ]
  },
  {
   "cell_type": "code",
   "execution_count": 17,
   "metadata": {},
   "outputs": [
    {
     "data": {
      "text/plain": [
       "20"
      ]
     },
     "execution_count": 17,
     "metadata": {},
     "output_type": "execute_result"
    }
   ],
   "source": [
    "len(Weed.links)"
   ]
  },
  {
   "cell_type": "code",
   "execution_count": 18,
   "metadata": {},
   "outputs": [],
   "source": [
    "arts = Weed.art_list\n",
    "\n",
    "for each in arts:\n",
    "    if each.summary == ' ':\n",
    "        print(each.index)\n",
    "    else:\n",
    "        pass"
   ]
  },
  {
   "cell_type": "code",
   "execution_count": 19,
   "metadata": {},
   "outputs": [
    {
     "data": {
      "text/plain": [
       "20"
      ]
     },
     "execution_count": 19,
     "metadata": {},
     "output_type": "execute_result"
    }
   ],
   "source": [
    "len(arts)"
   ]
  },
  {
   "cell_type": "code",
   "execution_count": 20,
   "metadata": {},
   "outputs": [
    {
     "name": "stdout",
     "output_type": "stream",
     "text": [
      "Stingray Announces Finalization of Name Change ['Stingray Group Inc.', 'Stingray Digital Group Inc.'] \n",
      " MONTREAL, Dec. 03, 2018 (GLOBE NEWSWIRE) -- Stingray Group Inc. (“Stingray” or the “Corporation”) (TSX: RAY.A; RAY.B) today announced that the Corporation’s official name change from Stingray Digital Group Inc. to Stingray Group Inc. has been finalized.\n",
      "The name change, first disclosed on July 9, 2018, was approved at the annual and special meeting of shareholders held on August 8, 2018.\n",
      "The official effective date for the name change was December 1, 2018.\n",
      "Stingray’s trading symbols (TSX: RAY.A; RAY.B) will remain unchanged.\n",
      "About Stingray Group Inc.Montreal-based Stingray Group Inc. (TSX: RAY.A; RAY.B) is a leading music, media, and technology company with over 1,200 employees worldwide. \n",
      "----------------------------------------------------------------------------------------------------\n",
      "Stingray Announces Election of Directors [] \n",
      " MONTREAL, Aug. 07, 2019 (GLOBE NEWSWIRE) -- In accordance with the TSX Company Manual, Stingray Group Inc. (TSX: RAY.A; RAY.B) (the “Corporation”) is issuing this news release to disclose the voting results for the election of directors at its Annual Meeting of Shareholders held earlier today in Montreal.\n",
      "Each of the following nine (9) nominees proposed by the Corporation was duly elected as director of the Corporation by the shareholders present or represented by proxy at the meeting.\n",
      "Stingray is a premium provider of curated direct-to-consumer and B2B (business to business) services, including audio television channels, more than 100 radio stations, SVOD content, 4K UHD television channels, karaoke products, digital signage, in-store music and music apps, which have been downloaded over 140 million times.\n",
      "Stingray reaches 400 million subscribers (or users) in 156 countries.\n",
      "For more detailed information, please contact:Mathieu PéloquinSenior Vice-President, Marketing and CommunicationsStingray1 514-664-1244, ext. \n",
      "----------------------------------------------------------------------------------------------------\n",
      "Stingray Renews Distribution Agreement with Rogers Communications ['Stingray Group Inc.'] \n",
      " MONTREAL, Aug. 05, 2019 (GLOBE NEWSWIRE) -- Stingray (TSX: RAY.\n",
      "), a leading music, media and technology company, today announced that it has reached a three-year term agreement with Rogers Communications that renews their longstanding relationship.\n",
      "The new agreement will offer more flexibility and choice for viewers with options to choose services based on music preferences.\n",
      "As part of the agreement, Rogers television customers (cable and IPTV) will have access to Stingray Music audio channels and can also enjoy the Stingray Music mobile app and web player for free.\n",
      "Stingray 4K channels will continue to be available including Stingray Festival 4K, and Stingray Now 4K. \n",
      "----------------------------------------------------------------------------------------------------\n",
      "ICYMI: Stingray, Rogers continue partnership, Kevin Newman leaves W5 ['Kristyn Anthony'] \n",
      " We understand your decision to use an ad blocker, however Media In Canada journalism takes time and funding...Subscriptions and advertising are both necessary to fund the journalism we bring to you.\n",
      "Please, whitelist mediaincanada.com in your ad blocker and refresh your browser. \n",
      "----------------------------------------------------------------------------------------------------\n",
      "Stingray Reports First Quarter 2020 Results ['Stingray Group Inc.'] \n",
      " Broadcast and Commercial Music also performed very well with a significant improvement in the adjusted EBITDA margin.\n",
      "“Our debt level reduction combined with higher last twelve months Adjusted EBITDA decreased our leverage ratio to 2.89x this quarter.\n",
      "The increase in Adjusted EBITDA margin was mainly related to the new Radio segment, which has a higher Adjusted EBITDA margin in the first quarter due to normal business seasonality, and to reduced operating expenses in the Broadcasting and Commercial Music segment.\n",
      "Excluding the impact of IFRS 16, the Adjusted EBITDA would have been $29.7 million and the Adjusted EBITDA margin 36.8%.\n",
      "The Corporation believes that Adjusted net income and Adjusted net income per share are important measures as it demonstrates its core bottom-line profitability. \n",
      "----------------------------------------------------------------------------------------------------\n",
      "Stingray Declares Quarterly Dividend to Shareholders ['Stingray Group Inc.'] \n",
      " MONTREAL, March 28, 2019 (GLOBE NEWSWIRE) -- Stingray Group Inc. (TSX: RAY.A; RAY.B) (the “Corporation”; “Stingray”) today announced that the Board of Directors has declared a quarterly dividend of $0.065 per subordinate voting share, variable subordinate voting share and multiple voting share that will be payable on or around June 14, 2019, to holders of subordinate voting shares, variable subordinate voting shares and multiple voting shares on record as of May 31, 2019.\n",
      "The Corporation’s dividend policy is at the discretion of the Board of Directors and may vary depending upon, among other things, available cash flow, results of operations, financial condition, business growth opportunities and other factors that the Board of Directors may deem relevant.\n",
      "The dividends paid are designated as \"eligible\" dividends for the purposes of the Income Tax Act (Canada) and any corresponding provisions of provincial and territorial tax legislation.\n",
      "About StingrayMontreal-based Stingray Group Inc. (TSX: RAY.A; RAY.B) is a leading music, media, and technology company with over 1,200 employees worldwide.\n",
      "Stingray reaches 400 million subscribers (or users) in 156 countries. \n",
      "----------------------------------------------------------------------------------------------------\n",
      "Stingray Expands Bell Distribution Agreement; Launches Stingray Qello and Stingray Karaoke Nationwide Toronto Stock Exchange:RAY-A ['Stingray Group Inc.'] \n",
      " Bell Fibe TV Subscribers Now Have On-Demand Access to Hundreds of Concert Films, Thousands of Karaoke TracksMONTREAL, May 07, 2019 (GLOBE NEWSWIRE) -- Stingray (TSX: RAY.\n",
      "Bell Fibe TV subscribers can now access two on-demand services created especially for music fans: Stingray Qello and Stingray Karaoke.\n",
      "With songs ranging from rock and pop to oldies and children’s favorites, Stingray Karaoke is the ideal entertainment solution for family get-togethers, playdates and house parties.\n",
      "Three of Stingray’s popular 24/7 music video channels – PalmarèsADISQ par Stingray, Stingray Hits!\n",
      "and Stingray Retro – are now available to Bell Satellite TV subscribers at no extra charge. \n",
      "----------------------------------------------------------------------------------------------------\n",
      "Stingray Wins Multiple Awards at the 2019 Worldwide Radio Summit ['Stingray Group Inc.'] \n",
      " Stingray received these honours despite stiff competition from leading radio broadcast groups and professionals from around the world.\n",
      "Only 6 months after entering the radio market with the acquisition of Newfoundland Capital Corporation Limited, one of Canada’s leading radio broadcasters, Stingray was named International Radio Broadcast Group of the Year for 2019, a category that attracts entries from top broadcast groups worldwide.\n",
      "This award confirms that Stingray is already making waves in the radio industry, on par with last year’s winner, Virgin Radio Group.\n",
      "“We take immense pride in being recognized by our radio industry peers,” said Ian Lurie, Stingray’s President of Radio.\n",
      "“Stingray may be new to the radio industry, but it is already setting the standard for quality broadcast on the global stage. \n",
      "----------------------------------------------------------------------------------------------------\n",
      "Stingray Group drops takeover offer for Music Choice [] \n",
      " Stingray Group Inc. has dropped its takeover attempt of American rival Music Choice and adopted a different strategy for entering the U.S. market after winning a break-through contract with a client that operates cable systems in 21 states.\n",
      "Montreal-based Stingray, which provides advertising-free music services through major Canadian TV distributors such as Bell, Cogeco, Eastlink, Rogers, Shaw, Telus and Videotron, had offered US$120 million for Music Choice in August.\n",
      "And we always bid against our competitor, which is Music Choice, and .\n",
      "Altice USA will pay a per-subscriber fee to bring 50 Stingray music audio channels and hundreds of music videos from its on-demand catalogue to Altice USA's subscribers.\n",
      "The company continues to see benefits in a combination with Music Choice, Boyko said, but it's confident in its current strategic direction. \n",
      "----------------------------------------------------------------------------------------------------\n",
      "Stingray Reports Fourth Quarter 2019 Results ['Stingray Group Inc.'] \n",
      " “For the fourth quarter, revenues and Adjusted EBITDA increased 112.5% to $72.7 million and 90.7% to $22.4 million, respectively.\n",
      "Fourth Quarter ResultsRevenues increased 112.5% to $72.7 million in the fourth quarter of 2019, compared with revenues of $34.2 million a year ago.\n",
      "SVOD monthly revenues increased 9.2% to $3.5 million in the fourth quarter from $3.2 million in the third quarter.\n",
      "Cash flow generated from operating activities increased to $13.6 million in the fourth quarter of 2019 from $10.7 million a year earlier.\n",
      "The Corporation believes that Adjusted net income and Adjusted net income per share are important measures as it demonstrates its core bottom-line profitability. \n",
      "----------------------------------------------------------------------------------------------------\n",
      "Stingray Expands Distribution Agreement with TELUS ['Stingray Group Inc.'] \n",
      " The agreement brings five new music television channels, Stingray Festival 4K, Stingray Now 4K, Stingray Hits!, PalmarèsADISQ par Stingray, and Stingray Classica to Optik TV subscribers in Alberta, British Columbia, and Quebec.\n",
      "This agreement is an important showcase for the quality and diversity of Stingray’s growing product portfolio.”Also, Stingray’s music video channels Stingray Loud, Stingray Vibe, Stingray Retro, and Stingray Juicebox have become available to all TELUS Optik TV customers in HD.\n",
      "Channel HighlightsStingray Classica is the world’s premium television destination dedicated to classical music, opera, and ballet.\n",
      "turns the spotlight on the stars of Quebec music and the best French-language Canadian music videos: today’s hottest new artists, the stars of tomorrow, and yesterday’s legends.\n",
      "Stingray Festival 4K and Stingray Now 4K are now available to Optik TV subscribers with 4K digital box. \n",
      "----------------------------------------------------------------------------------------------------\n",
      "Stingray Announces the date of its Annual Meeting of Shareholders for 2019 and the Release Date of its Financial Results for the First Quarter of Fiscal 2020 ['Stingray Group Inc.'] \n",
      " MONTREAL, July 10, 2019 (GLOBE NEWSWIRE) -- Stingray Group Inc. (TSX: RAY.A; RAY.B) will hold its 2019 Annual Meeting of Shareholders on Wednesday, August 7, 2019 at 11:00 am (EDT) at its Montreal Headquarters (736 Wellington Street, Montreal, QC).\n",
      "The company will release its financial results for the first quarter of fiscal 2020 ended June 30, 2019, on Tuesday, August 6, 2019 after the market closes.\n",
      "Management will hold a conference call to discuss the financial results the next day at 9:00 a.m. (EDT) prior to the Annual Meeting of the Shareholders.\n",
      "About StingrayMontreal-based Stingray Group Inc. (TSX: RAY.A; RAY.B) is a leading music, media, and technology company with over 1,200 employees worldwide.\n",
      "Stingray reaches 400 million subscribers (or users) in 156 countries. \n",
      "----------------------------------------------------------------------------------------------------\n",
      "Stingray Group Inc. to Acquire Radio Station in Drumheller, AB ['Stingray Group Inc.'] \n",
      " About Stingray Group Inc.Montreal-based Stingray Group Inc. (TSX: RAY.A; RAY.B) is a leading music, media, and technology company with over 1,200 employees worldwide.\n",
      "Forward-Looking InformationThis news release contains forward-looking information within the meaning of applicable Canadian securities laws.\n",
      "In addition, any statements that refer to expectations, projections or other characterizations of future events or circumstances contain forward-looking information.\n",
      "Statements containing forward-looking information are not historical facts but instead represent management’s expectations, estimates and projections regarding future events.\n",
      "Statements containing forward-looking information contained herein are made only as of the date of this news release. \n",
      "----------------------------------------------------------------------------------------------------\n",
      "Acquisitions drive media gains for Stingray ['Bree Rody-Mantha'] \n",
      " We understand your decision to use an ad blocker, however Media In Canada journalism takes time and funding...Subscriptions and advertising are both necessary to fund the journalism we bring to you.\n",
      "Please, whitelist mediaincanada.com in your ad blocker and refresh your browser. \n",
      "----------------------------------------------------------------------------------------------------\n",
      "Stingray to Release its Full Year Fiscal 2019 Results ['Stingray Group Inc.'] \n",
      " MONTREAL, May 09, 2019 (GLOBE NEWSWIRE) -- Stingray Group Inc. (TSX: RAY.A; RAY.B) will release its financial results for the fourth quarter and fiscal year ended March 31, 2019, on Wednesday, June 5, 2019, after the market closes.\n",
      "Management will hold a conference call to discuss the financial results the next day, Thursday, June 6, 2019, at 10:00 a.m. Eastern Time.\n",
      "About StingrayMontreal-based Stingray Group Inc. (TSX: RAY.A; RAY.B) is a leading music, media, and technology company with over 1,200 employees worldwide.\n",
      "Stingray is a premium provider of curated direct-to-consumer and B2B services, including audio television channels, more than 100 radio stations, SVOD content, 4K UHD television channels, karaoke products, digital signage, in-store music, and music apps, which have been downloaded over 101 million times.\n",
      "Stingray reaches 400 million subscribers (or users) in 156 countries. \n",
      "----------------------------------------------------------------------------------------------------\n",
      "Stingray Reports Third Quarter 2019 Results ['Stingray Group Inc.'] \n",
      " This momentum will be supported in upcoming quarters by the launch of Stingray Karaoke and Stingray Qello on The Roku Channel.\n",
      "Third Quarter ResultsRevenues increased 101.6% to $70.8 million in the third quarter of 2019, compared with revenues of $35.1 million a year ago.\n",
      "SVOD reached a new high of over 356,000 subscribers in the third quarter from 316,000 subscribers in the second quarter.\n",
      "SVOD monthly revenues increased 25% to $3.2 million in the third quarter from $2.6 million in the second quarter.\n",
      "The Corporation believes that Adjusted net income and Adjusted net income per share are important measures as it demonstrates its core bottom-line profitability. \n",
      "----------------------------------------------------------------------------------------------------\n",
      "As Per Latest Study, Music Streaming Market to Grow Massively by 2019-2026 Profiling Leading Players Pandora Media, Project Panther Bidco Ltd., Spotify AB, Stingray Digital Group, NetEase – Market Exp [] \n",
      " Continuous music streaming has been resurging in the last three years with the increasing digitization and increasing adoption of digital music.\n",
      "Due to the growing adoption of music streaming, there is a decline in the market share of downloaded music in the global market in terms of value.\n",
      "In 2018, Global Music Streaming Market was valued at US$ 10,520.4 million and is expected to surpass US$ 27,579.9 million by forecast period.\n",
      "It offers massive data about trending factors that will influence the progress of the Global Music Streaming Market.\n",
      "The detailed elaboration of the Global Music Streaming Market has been provided by applying industry analysis techniques such as SWOT and Porter’s five-technique. \n",
      "----------------------------------------------------------------------------------------------------\n",
      "Stay away from Stingray Group stock, this investor says ['Nick Waddell', 'Jayson Maclean'] \n",
      " Music and media company Stingray Group (Stingray Group Stock Quote, Chart, News TSX:RAY.A) has slid a tonne over the past year but promising quarterly results have the stock jumping.\n",
      "Not too likely, says investment analyst Ryan Modesto, who claims that patient investors may be rewarded with Stingray but the stock is not going anywhere anytime soon.\n",
      "Stingray Group stock spiked on Q1 newsThe market certainly liked the quarter —the stock is up almost 14 per cent since the Q1 release, pushing RAY.A into the black for the year so far.\n",
      "But Modesto, CEO of 5i Research, says that a company like Stingray is going to have a hard time growing, since the radio industry is itself in a state of decline.\n",
      "Stingray’s big splash came last October when it purchased Newfoundland Capital for $506 million, including $112 million in debt. \n",
      "----------------------------------------------------------------------------------------------------\n",
      "Stingray Announces Share Repurchase Program ['Stingray Group Inc.'] \n",
      " MONTREAL, Aug. 14, 2019 (GLOBE NEWSWIRE) -- Stingray Group Inc (TSX: RAY.A; RAY.B) (“Stingray”), a leading business-to-business multi-platform music and in-store media solutions provider, today announced that the Toronto Stock Exchange (“TSX”) has approved its share repurchase program (the “Program”), authorizing Stingray to repurchase up to an aggregate 2,924,220 subordinate voting shares and variable subordinate voting shares (collectively, “Subordinate Shares”), representing approximately 5% of the 58,484,449 issued and outstanding Subordinate Shares as at August 7, 2019.\n",
      "The net average daily trading volume for the six-month period preceding August 1, 2019 represents 64,016 Subordinate Shares.\n",
      "Stingray believes that the purchase of up to 2,924,220 Subordinate Shares under the Program is an appropriate use of its funds and a desirable investment for Stingray and, therefore, would be in the best interests of Stingray.\n",
      "The automatic securities purchase plan constitutes an “automatic plan” for purposes of applicable Canadian securities legislation and has been pre-cleared by the TSX.\n",
      "These risks and uncertainties could cause actual results to differ materially from those that are disclosed in or implied by such forward-looking information. \n",
      "----------------------------------------------------------------------------------------------------\n",
      "Stingray Group Inc. to Acquire Two Radio Stations in Welland, ON ['Stingray Group Inc.'] \n",
      " About StingrayAbout Stingray Montreal-based Stingray Group Inc. (TSX: RAY.A; RAY.B) is a leading music, media, and technology company with over 1,200 employees worldwide.\n",
      "Forward-Looking InformationThis news release contains forward-looking information within the meaning of applicable Canadian securities laws, including regarding the private placement of 2,429,544 Subordinate Voting Shares of Stingray (the “Private Placement”).\n",
      "Statements containing forward-looking information are not historical facts but instead represent management’s expectations, estimates and projections regarding future events.\n",
      "If these assumptions are inaccurate, Stingray’s actual results could differ materially from those expressed or implied in such forward-looking statements.\n",
      "Statements containing forward-looking information contained herein are made only as of the date of this news release. \n",
      "----------------------------------------------------------------------------------------------------\n"
     ]
    }
   ],
   "source": [
    "for each in arts:\n",
    "    print(each.title, each.authors, '\\n', each.summary, '\\n' + '-'*100)"
   ]
  },
  {
   "cell_type": "code",
   "execution_count": null,
   "metadata": {},
   "outputs": [],
   "source": []
  },
  {
   "cell_type": "code",
   "execution_count": 21,
   "metadata": {},
   "outputs": [],
   "source": [
    "keywords = set()\n",
    "for each in arts:\n",
    "    for i in each.keywords:\n",
    "        keywords.add(i)"
   ]
  },
  {
   "cell_type": "code",
   "execution_count": 22,
   "metadata": {},
   "outputs": [
    {
     "name": "stdout",
     "output_type": "stream",
     "text": [
      "stations,\n",
      "include,\n",
      "streaming,\n",
      "launches,\n",
      "wins,\n",
      "date,\n",
      "segmented,\n",
      "share,\n",
      "dividend,\n",
      "drumheller,\n",
      "takeover,\n",
      "acquisition,\n",
      "festival,\n",
      "purchases,\n",
      "2020,\n",
      "bell,\n",
      "future,\n",
      "altice,\n",
      "corporation,\n",
      "directors,\n",
      "steele,\n",
      "4k,\n",
      "telus,\n",
      "videos,\n",
      "necessary,\n",
      "information,\n",
      "radio,\n",
      "understand,\n",
      "expands,\n",
      "profiling,\n",
      "shares,\n",
      "fourth,\n",
      "variable,\n",
      "adjusted,\n",
      "market,\n",
      "securities,\n",
      "change,\n",
      "raya,\n",
      "agreement,\n",
      "shareholders,\n",
      "cash,\n",
      "fiscal,\n",
      "private,\n",
      "million,\n",
      "quarterly,\n",
      "offer,\n",
      "mediaincanadacom,\n",
      "ad,\n",
      "renews,\n",
      "forwardlooking,\n",
      "release,\n",
      "conference,\n",
      "montreal,\n",
      "board,\n",
      "trading,\n",
      "2019,\n",
      "television,\n",
      "nationwide,\n",
      "reports,\n",
      "program,\n",
      "continue,\n",
      "qello,\n",
      "panther,\n",
      "fibe,\n",
      "toronto,\n",
      "ab,\n",
      "assumptions,\n",
      "voting,\n",
      "refresh,\n",
      "worldwide,\n",
      "investor,\n",
      "journalism,\n",
      "world,\n",
      "revenues,\n",
      "welland,\n",
      "music,\n",
      "players,\n",
      "report,\n",
      "tv,\n",
      "financial,\n",
      "cent,\n",
      "offers,\n",
      "ballet,\n",
      "winning,\n",
      "income,\n",
      "broadcast,\n",
      "stars,\n",
      "stock,\n",
      "pandora,\n",
      "stingrays,\n",
      "leaves,\n",
      "industry,\n",
      "takes,\n",
      "stay,\n",
      "annual,\n",
      "2018,\n",
      "subscribers,\n",
      "tsx,\n",
      "purchase,\n",
      "spotify,\n",
      "repurchase,\n",
      "boyko,\n",
      "declares,\n",
      "concert,\n",
      "rogers,\n",
      "net,\n",
      "youplease,\n",
      "stingray,\n",
      "todays,\n",
      "acquire,\n",
      "away,\n",
      "project,\n",
      "drive,\n",
      "study,\n",
      "analysis,\n",
      "9999,\n",
      "karaoke,\n",
      "results,\n",
      "group,\n",
      "modesto,\n",
      "channels,\n",
      "multiple,\n",
      "gains,\n",
      "partnership,\n",
      "channel,\n",
      "awards,\n",
      "technology,\n",
      "newman,\n",
      "events,\n",
      "media,\n",
      "drops,\n",
      "placement,\n",
      "w5,\n",
      "subordinate,\n",
      "acquisitions,\n",
      "exchangeraya,\n",
      "kevin,\n",
      "blocker,\n",
      "whitelist,\n",
      "company,\n",
      "summit,\n",
      "distribution,\n",
      "opera,\n",
      "election,\n",
      "station,\n",
      "rayb,\n",
      "international,\n",
      "services,\n",
      "statements,\n",
      "digital,\n",
      "ebitda,\n",
      "meeting,\n",
      "finalization,\n",
      "announces,\n",
      "quarter,\n",
      "factors,\n",
      "001,\n",
      "communications,\n",
      "choice,\n",
      "icymi,\n",
      "leading,\n",
      "global,\n"
     ]
    }
   ],
   "source": [
    "for each in keywords:\n",
    "    print(each + \",\")"
   ]
  },
  {
   "cell_type": "code",
   "execution_count": null,
   "metadata": {},
   "outputs": [],
   "source": []
  }
 ],
 "metadata": {
  "kernelspec": {
   "display_name": "Python 3",
   "language": "python",
   "name": "python3"
  },
  "language_info": {
   "codemirror_mode": {
    "name": "ipython",
    "version": 3
   },
   "file_extension": ".py",
   "mimetype": "text/x-python",
   "name": "python",
   "nbconvert_exporter": "python",
   "pygments_lexer": "ipython3",
   "version": "3.7.1"
  }
 },
 "nbformat": 4,
 "nbformat_minor": 2
}
