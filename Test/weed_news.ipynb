{
 "cells": [
  {
   "cell_type": "code",
   "execution_count": 1,
   "metadata": {},
   "outputs": [],
   "source": [
    "from news_updates.news_sources_v3 import News\n",
    "import time"
   ]
  },
  {
   "cell_type": "code",
   "execution_count": 2,
   "metadata": {},
   "outputs": [
    {
     "data": {
      "text/plain": [
       "'C:\\\\Users\\\\rayde\\\\iCloudDrive\\\\GitHub'"
      ]
     },
     "execution_count": 2,
     "metadata": {},
     "output_type": "execute_result"
    }
   ],
   "source": [
    "pwd"
   ]
  },
  {
   "cell_type": "code",
   "execution_count": 3,
   "metadata": {},
   "outputs": [],
   "source": [
    "search = ['Canopy-Growth-Corporation']"
   ]
  },
  {
   "cell_type": "code",
   "execution_count": null,
   "metadata": {},
   "outputs": [],
   "source": []
  },
  {
   "cell_type": "code",
   "execution_count": null,
   "metadata": {},
   "outputs": [],
   "source": []
  },
  {
   "cell_type": "code",
   "execution_count": 5,
   "metadata": {},
   "outputs": [
    {
     "name": "stdout",
     "output_type": "stream",
     "text": [
      "--- 33.042842864990234 seconds ---\n"
     ]
    }
   ],
   "source": [
    "start_time = time.time()\n",
    "Weed = News(search[0])\n",
    "print(\"--- %s seconds ---\" % (time.time() - start_time))"
   ]
  },
  {
   "cell_type": "code",
   "execution_count": 9,
   "metadata": {},
   "outputs": [
    {
     "data": {
      "text/plain": [
       "<news_updates.news_sources_v3.News at 0x27e3d59fda0>"
      ]
     },
     "execution_count": 9,
     "metadata": {},
     "output_type": "execute_result"
    }
   ],
   "source": [
    "Weed"
   ]
  },
  {
   "cell_type": "code",
   "execution_count": 10,
   "metadata": {},
   "outputs": [
    {
     "data": {
      "text/plain": [
       "20"
      ]
     },
     "execution_count": 10,
     "metadata": {},
     "output_type": "execute_result"
    }
   ],
   "source": [
    "len(Weed.links)"
   ]
  },
  {
   "cell_type": "code",
   "execution_count": 11,
   "metadata": {},
   "outputs": [],
   "source": [
    "arts = Weed.art_list\n",
    "\n",
    "for each in arts:\n",
    "    if each.summary == ' ':\n",
    "        print(each.index)\n",
    "    else:\n",
    "        pass"
   ]
  },
  {
   "cell_type": "code",
   "execution_count": 13,
   "metadata": {},
   "outputs": [
    {
     "data": {
      "text/plain": [
       "20"
      ]
     },
     "execution_count": 13,
     "metadata": {},
     "output_type": "execute_result"
    }
   ],
   "source": [
    "len(arts)"
   ]
  },
  {
   "cell_type": "code",
   "execution_count": 38,
   "metadata": {},
   "outputs": [
    {
     "name": "stdout",
     "output_type": "stream",
     "text": [
      "Canopy Growth Corp Q1 Preview: Waiting for Profitability [] \n",
      " Analysts are expecting Canopy Growth to report revenue of $111.2M, an EBITDA loss of $106.3M, and a net income loss of $166.4M.\n",
      "While revenues are expected to increase modestly by 5%, Canopy Growth is still six quarters away from profitability on an EBITDA basis.\n",
      "Additionally, Canopy Growth continues to invest in extraction and manufacturing capabilities, which is expected to improve margins.\n",
      "Canopy Growth Corp’s financial results could provide a glimpse into how the cannabis sector is expected to perform in the Fall.\n",
      "Shares of Canopy Growth ended Monday’s trading session 0.2% higher at C$43.49. \n",
      "----------------------------------------------------------------------------------------------------\n",
      "Canopy Growth Corporation (CGC) Stock Sinks As Market Gains: What You Should Know ['Zacks Equity Research'] \n",
      " In the latest trading session, Canopy Growth Corporation (CGC) closed at $32.21, marking a -0.56% move from the previous day.\n",
      "Meanwhile, our latest consensus estimate is calling for revenue of $85.97 million, up 327.92% from the prior-year quarter.\n",
      "This industry currently has a Zacks Industry Rank of 61, which puts it in the top 24% of all 250+ industries.\n",
      "The Zacks Industry Rank includes is listed in order from best to worst in terms of the average Zacks Rank of the individual companies within each of these sectors.\n",
      "Click to get this free reportCanopy Growth Corporation (CGC) : Free Stock Analysis ReportTo read this article on Zacks.com click here. \n",
      "----------------------------------------------------------------------------------------------------\n",
      "Greenlane and Canopy Growth Announce Exclusive U.S. Distribution Partnership for Storz & Bickel Vaporizers ['Published Ncv Newswire'] \n",
      " With a 22-year track record of breakthrough innovations, Storz & Bickel is widely recognized as a global leader in vaporizer design and manufacturing.\n",
      "Storz & Bickel was acquired by Canopy Growth in December 2018 to accelerate the companies’ product device development capabilities.\n",
      "Greenlane has been Storz & Bickel’s exclusive U.S. distribution partner since January 2018 and this exclusive partnership with Canopy Growth extends Greenlane’s U.S. exclusivity of Storz & Bickel’s vaporizers to drive continued growth in the U.S. market.\n",
      "Canopy Growth has operations in over a dozen countries across five continents.\n",
      "Canopy Growth operates retail stores across Canada under its award-winning Tweed and Tokyo Smoke banners. \n",
      "----------------------------------------------------------------------------------------------------\n",
      "Canopy Growth drives revenue with 94% increase in recreational dried cannabis sales in first quarter of fiscal 2020 ['Canopy Growth Corporation'] \n",
      " Increased dried cannabis sales in the Canadian recreational market by 94% over Q4 2019.\n",
      "Included in dried cannabis sales in Q1 2020 are sales of 1.4 million higher-margin, pre-rolled cannabis products which represented $9.7 million – or 16% – of our total recreational cannabis revenue.\n",
      "Inventory production costs expensed to cost of sales for Q1 2020 were $77.3 million as compared to $14.8 million in Q1 2019.\n",
      "The increase in research and development expense in Q1 2020 over Q1 2019 was due to Canopy Growth's investment in new research and development efforts.\n",
      "Total other expense, net was $1.1 billion in Q1 2020 as compared to $63 million in Q1 2019. \n",
      "----------------------------------------------------------------------------------------------------\n",
      "Canopy Growth -10% on Q1 miss despite harvest gains ['Jason Aycock'] \n",
      " Canopy Growth (NYSE:CGC) is 10% lower on heavy postmarket volume after its fiscal Q1 earnings fell short of expectations despite a record harvest.\n",
      "The company trimmed EBITDA losses to -C$92M from last quarter's -C$97.7M.\n",
      "Its biggest net loss contributor was a one-time noncash charge on extinguishment of warrant liability of C$1.18B, the company says.\n",
      "Net loss came to C$1.28B.\n",
      "Cash, equivalents and marketable securities came to C$3.14B, down 30% from last year. \n",
      "----------------------------------------------------------------------------------------------------\n",
      "After Linton: What's next for Canopy Growth and Smiths Falls? ['Updated', 'August'] \n",
      " Not quite 40 days after Bruce Linton was unexpectedly dismissed as chief executive of Canopy Growth Corp., uncertainty over the company’s next moves is undiminished.\n",
      "Canopy Growth this Wednesday is scheduled to publish its financial results for the three-month period that ended June 30.\n",
      "The duo orchestrated a massive investment in facilities, hiring and acquisitions, including $250 million plus in the Smiths Falls headquarters.\n",
      "Now that effective control of Canopy Growth has passed to Victor, N.Y.-based Constellation Brands, will the Smiths Falls operation remain secure?\n",
      "The U.S. firm could do so by investing in facilities elsewhere or by trying to shore up the Smiths Falls investment. \n",
      "----------------------------------------------------------------------------------------------------\n",
      "Canopy Growth Set to Acquire Beckley Canopy Therapeutics ['Zacks Equity Research'] \n",
      " Canopy Growth Corporation CGC recently signed an agreement to acquire global cannabinoid-based medical researcher Beckley Canopy Therapeutics.\n",
      "The acquisition will integrate Canopy Growth’s wholly-owned research program with the Beckley Canopy research platform, which is partly owned by Canopy Growth.\n",
      "With this acquisition, Canopy Growth’s research and development endeavors would be expanding worldwide, thereby making the company a global pioneer in cannabinoid research.\n",
      "For investors’ note, Beckley Canopy was formed as a joint venture between Beckley Research & Innovations (“BRI”) and Canopy Growth in January 2018 to research and manufacture clinically-tested cannabis-based medicines, with focus on intellectual property protection.\n",
      "More on the AcquisitionOnce the acquisition is closed, Beckley Canopy will be fully incorporated into the current Spectrum Therapeutics platform and management team in Europe. \n",
      "----------------------------------------------------------------------------------------------------\n",
      "Canopy Growth not impressed with unauthorized Twitter contest to find new CEO ['Mins Ago', 'Hours Ago', 'Day Ago'] \n",
      " At first glance, that appears to be the takeaway from the recently-announced contest by CannaChiefs Media.\n",
      "Although it sounds like a smokier version of The Apprentice, this appears to be the strategy of the Vancouver-based media company in selecting a new Canopy Growth CEO to replace Bruce Linton — which CannaChiefs likened to the Raptors replacing Kawhi Leonard.\n",
      "As for Canopy Growth, the licensed producer (LP) is not amused.\n",
      "“We have absolutely zero involvement with this initiative and were very shocked to see this release this morning,” Caitlin O’Hara, communications manager for Canopy Growth, told The GrowthOp.\n",
      "“Our legal team is currently looking into this.”The announcement raised an eyebrow with the current CEO of a Canadian cannabis company. \n",
      "----------------------------------------------------------------------------------------------------\n",
      "Canopy Growth Corporation (CGC) Reports Q1 Loss, Misses Revenue Estimates ['Zacks Investment Research', 'Zacks Equity Research'] \n",
      " This dedication to giving investors a trading advantage led to the creation of our proven Zacks Rank stock-rating system.\n",
      "Zacks Rank stock-rating system returns are computed monthly based on the beginning of the month and end of the month Zacks Rank stock prices plus any dividends received during that particular month.\n",
      "A simple, equally-weighted average return of all Zacks Rank stocks is calculated to determine the monthly return.\n",
      "Only Zacks Rank stocks included in Zacks hypothetical portfolios at the beginning of each month are included in the return calculations.\n",
      "Certain Zacks Rank stocks for which no month-end price was available, pricing information was not collected, or for certain other reasons have been excluded from these return calculations. \n",
      "----------------------------------------------------------------------------------------------------\n",
      "Cannabis venture capital firm Canopy Rivers reports $1.8-million Q4 loss [] \n",
      " The Canadian PressTORONTO - Canopy Rivers Inc. reported a loss of $1.8 million in its latest quarter compared with a profit of nearly $14.6 million in the same quarter last year.\n",
      "The venture capital arm of marijuana company Canopy Growth Corp. says the loss amounted to two cents per diluted share for the quarter ended March 31 compared with a profit of 11 cents per diluted share a year ago.\n",
      "Operating income for what was the company's fourth quarter totalled nearly $6.1 million, down from $19.5 million a year earlier.\n",
      "For its full financial year, Canopy Rivers says it earned $3.9 million or two cents per diluted share on $38.5 million compared with a profit of $36.4 million or 36 cents per diluted share in the previous year.\n",
      "To date, Canopy Rivers has made investments in 18 companies. \n",
      "----------------------------------------------------------------------------------------------------\n",
      "Can Cannabis Therapy Drive Canopy Growth's (CGC) Q1 Earnings? ['Zacks Equity Research'] \n",
      " Canopy Growth Corp CGC is scheduled to report first-quarter fiscal 2020 results on Aug 14, after market close.\n",
      "Factors at PlayOver the past few quarters, Canopy Growth has been seeing robust performance by its key business segment viz.\n",
      "Canopy Growth Corporation Price and EPS SurpriseCanopy Growth Corporation Price and EPS Surprise MoreCanopy Growth Corporation price-eps-surprise | Canopy Growth Corporation QuoteThe acquisition deals with AgriNextUSA and Storz & Bickel are expected to have driven the results of the to-be reported quarter.\n",
      "Canopy Growth has been building its CBD platform in the United States and accelerating its investments in markets beyond North America.\n",
      "Canopy Growth has a Zacks Rank #3 and an Earnings ESP of -2.35%, which makes surprise prediction difficult. \n",
      "----------------------------------------------------------------------------------------------------\n",
      "Acreage Holdings Reports Second Quarter 2019 Results ['Acreage Holdings'] \n",
      " NEW YORK, Aug. 13, 2019 (GLOBE NEWSWIRE) -- Acreage Holdings, Inc. (“Acreage”) (CSE: ACRG.U) (OTCQX: ACRGF) (FSE: 0VZ) reported financial results for the quarter ended June 30th, 2019.\n",
      "ACREAGE – CANOPY ARRANGEMENT UPDATEThe following are key highlights of management’s strategy leveraging Canopy Growth’s technologies, systems, IP, brands, and know-how.\n",
      "On June 27, 2019 Acreage implemented an arrangement under section 288 of the Business Corporations Act (British Columbia) (the “Arrangement”) with Canopy Growth Corporation (“Canopy Growth”).\n",
      "If the Acquisition is completed, Canopy Growth will acquire all of the Acreage Shares, Acreage will become a wholly owned subsidiary of Canopy Growth and Canopy Growth will continue the operations of Canopy Growth and Acreage on a combined basis.\n",
      "This forward-looking information reflects Acreage’s current beliefs and is based on information currently available to Acreage and on assumptions Acreage believes are reasonable. \n",
      "----------------------------------------------------------------------------------------------------\n",
      "Winning At The Stock Market Table: Gold Fields Limited (GFI), Canopy Growth Corporation (CGC) [] \n",
      " At the time the stock opened at the value of $6.20, making it a high for the given period, the value of the stock dropped by -3.60%.\n",
      "When it comes to Stochastic reading, GFI stock are showing 81.49% in results, indicating that the stock is neither overbought or oversold at the moment, providing it with a neutral within Stochastic reading as well.\n",
      "Based on the latest results, analysts are suggesting that the target price for CGC stock should be $32.87 per share in the course of the next 12 months.\n",
      "CGC shares recorded a trading volume of 2.58 million shares, compared to the volume of 4.02M shares before the last close, presented as its trading average.\n",
      "With the approaching 3.40% during the last seven days, the volatility of CGC stock remained at 3.92%. \n",
      "----------------------------------------------------------------------------------------------------\n",
      "Media Advisory - Canopy Growth Corporation to host guests at New York State hemp production facility [] \n",
      " BROOME COUNTY, NY, July 25, 2019 /PRNewswire/ - Canopy Growth Corporation (WEED.TO) (CGC) (\"Canopy Growth\" or the \"Company\") will publicly unveil its Hemp Industrial Park on Pine Camp Drive in Kirkwood, Broome County on Monday, July 29th at 10:30 AM.\n",
      "To mark the occasion, we are hosting an event with Canopy Growth executives and Government Officials.\n",
      "Logo: Canopy Growth Corporation (CNW Group/Canopy Growth Corporation) MoreMedia are invited to join Canopy Growth President Rade Kovacevic, Canopy Growth Chief Advocacy Officer Hilary Black, Senate Minority Leader Chuck Schumer (NY), Department of Agriculture and Markets Commissioner, Richard Ball (NY), New York State Senator Fred Akshar, State Assemblywoman Donna Lupardo, Broome County Executive Jason Garnar, Kirkwood Town Supervisor Gordon Kniffen, and a representative from Congressman Brindisi's staff as they deliver remarks and take questions from media and guests.\n",
      "Broome County, New YorkDate: July 29, 2019Time: Event begins at 10:30 am EST.\n",
      "Location: Hemp Industrial Park, 46 Pine Camp Drive, Kirkwood, Broome County, NYRSVP: If you're planning on attending, please RSVP hereLogo: Hemp Industrial Park (CNW Group/Canopy Growth Corporation) MoreCision MoreView original content to download multimedia:http://www.prnewswire.com/news-releases/media-advisory---canopy-growth-corporation-to-host-guests-at-new-york-state-hemp-production-facility-300891245.html \n",
      "----------------------------------------------------------------------------------------------------\n",
      "HubSpot, Kraft Heinz, CNBS, Canopy Growth, Aurora Cannabis and GW Pharmaceuticals highlighted as Zacks Bull and Bear of the Day ['Zacks Equity Research'] \n",
      " In addition, Zacks Equity Research provides analysis on CNBS, Canopy Growth CGC, Aurora Cannabis ACB and GW Pharmaceuticals GWPH.\n",
      "The BusinessHubSpot provides companies with software as a service (SaaS).\n",
      "It delivers cloud-based business services with segments including Marketing Hub, Sales Hub, Service Hub, and a free CRM system.\n",
      "In 2017 the firm added its Service Hub for customer service support.\n",
      "HUBS international sales growth outpaces domestic at 62% CAGR. \n",
      "----------------------------------------------------------------------------------------------------\n",
      "Canopy Growth Corporation (CGC) Gains As Market Dips: What You Should Know ['Zacks Equity Research'] \n",
      " In the latest trading session, Canopy Growth Corporation (CGC) closed at $35.56, marking a +1.11% move from the previous day.\n",
      "As such, positive estimate revisions reflect analyst optimism about the company's business and profitability.\n",
      "This group has a Zacks Industry Rank of 77, putting it in the top 31% of all 250+ industries.\n",
      "The Zacks Industry Rank gauges the strength of our industry groups by measuring the average Zacks Rank of the individual stocks within the groups.\n",
      "Click to get this free reportCanopy Growth Corporation (CGC) : Free Stock Analysis ReportTo read this article on Zacks.com click here. \n",
      "----------------------------------------------------------------------------------------------------\n",
      "Canopy Growth Corporation (CGC) Dips More Than Broader Markets: What You Should Know ['Zacks Equity Research'] \n",
      " Canopy Growth Corporation (CGC) closed the most recent trading day at $33.20, moving -0.9% from the previous trading session.\n",
      "Our system takes these estimate changes into account and delivers a clear, actionable rating model.\n",
      "This industry currently has a Zacks Industry Rank of 67, which puts it in the top 27% of all 250+ industries.\n",
      "The Zacks Industry Rank gauges the strength of our industry groups by measuring the average Zacks Rank of the individual stocks within the groups.\n",
      "Click to get this free reportCanopy Growth Corporation (CGC) : Free Stock Analysis ReportTo read this article on Zacks.com click here. \n",
      "----------------------------------------------------------------------------------------------------\n",
      "Canopy Growth to Announce First Quarter Fiscal 2020 Financial Results [] \n",
      " SMITHS FALLS, ON , July 30, 2019 /CNW/ - Canopy Growth Corporation (\"Canopy Growth\" or the \"Company\") (WEED.TO) (CGC) will release its financial results for the first quarter fiscal 2020 ended June 30, 2019 after financial markets close on August 14, 2019 .\n",
      "Canopy Growth to Announce First Quarter Fiscal 2020 Financial Results (CNW Group/Canopy Growth Corporation) MoreFollowing the release of its first quarter 2020 financial results, Canopy Growth will host a conference call and audio webcast with Mark Zekulin , CEO and Mike Lee , EVP & CFO at 8:30 AM Eastern Time on August 15, 2019 .\n",
      "Canopy Growth has operations in over a dozen countries across five continents.\n",
      "Canopy Growth operates retail stores across Canada under its award-winning Tweed and Tokyo Smoke banners.\n",
      "For more information visit www.canopygrowth.comCision MoreView original content to download multimedia:http://www.prnewswire.com/news-releases/canopy-growth-to-announce-first-quarter-fiscal-2020-financial-results-300892720.htmlSOURCE Canopy Growth CorporationStory continues \n",
      "----------------------------------------------------------------------------------------------------\n",
      "Canopy Growth Strengthens Position as Global Cannabis Research Leader by Entering Agreement to Acquire Beckley Canopy Therapeutics ['Canopy Growth Corporation'] \n",
      " SMITHS FALLS, ON, Aug. 9, 2019 /CNW/ - Canopy Growth Corporation (\"Canopy Growth\" or the \"Company\") (TSX: WEED), (NYSE: CGC) is pleased to announce that it has entered into an agreement to acquire the global cannabinoid-based medical researcher Beckley Canopy Therapeutics (\"Beckley Canopy\").\n",
      "The acquisition brings together Canopy's wholly owned research program with the Beckley Canopy research platform which is partly owned by Canopy Growth in order to combine the best teams, programs and clinical work all under a single strategic plan.\n",
      "Beckley Canopy was formed as a joint venture in January 2018 between Beckley Research & Innovations (\"BRI\") and Canopy Growth to research and develop clinically validated cannabis-based medicines, with a strong focus on intellectual property protection.\n",
      "The research platform combined European and North American-based leaders in cannabis research from BRI and Canopy Growth to create a strong and complementary UK-based European partnership.\n",
      "SOURCE Canopy Growth CorporationFor further information: Caitlin O'Hara, Media Relations, Caitlin.Ohara@canopygrowth.com, 613-291-3239; Investor Relations, Tyler Burns, Tyler.Burns@canopygrowth.com, 855-558-9333 ext. \n",
      "----------------------------------------------------------------------------------------------------\n",
      "Spectrum Therapeutics announces strategic patient support and education partnership with Medical Pharmacies ['Canopy Growth Corporation'] \n",
      " Spectrum Therapeutics is known for its easy-to-understand colour-coded spectrum that categorizes medical cannabis according to THC and CBD levels.\n",
      "\"However with the knowledge and support of trained pharmacists along with Apollo Cannabis Clinics and our full-spectrum range of medical cannabis which includes Softgels, a consistent dosing format of ingestible medical cannabis, we're ensuring the highest degree of safety and efficacy of medical cannabis is available to this patient population.\"\n",
      "Spectrum Therapeutics sells a range of full-spectrum products using its colour-coded classification Spectrum system as well as single cannabinoid Dronabinol under the brand Bionorica Ethics.\n",
      "Examples of such statements include \"will be the preferred education partner for medical cannabis to Medical Pharmacies\", and \"provide ongoing comprehensive medical support to all pharmacists, nursing staff and medical directors in order to ensure safe utilization of medical cannabis\".\n",
      "The forward-looking information and forward-looking statements included in this news release are made as of the date of this news release and the Company does not undertake an obligation to publicly update such forward-looking information or forward-looking information to reflect new information, subsequent events or otherwise unless required by applicable securities laws. \n",
      "----------------------------------------------------------------------------------------------------\n"
     ]
    }
   ],
   "source": [
    "for each in arts:\n",
    "    print(each.title, each.authors, '\\n', each.summary, '\\n' + '-'*100)"
   ]
  },
  {
   "cell_type": "code",
   "execution_count": null,
   "metadata": {},
   "outputs": [],
   "source": []
  },
  {
   "cell_type": "code",
   "execution_count": 15,
   "metadata": {},
   "outputs": [],
   "source": [
    "keywords = set()\n",
    "for each in arts:\n",
    "    for i in each.keywords:\n",
    "        keywords.add(i)"
   ]
  },
  {
   "cell_type": "code",
   "execution_count": 17,
   "metadata": {},
   "outputs": [
    {
     "name": "stdout",
     "output_type": "stream",
     "text": [
      "despite,\n",
      "falls,\n",
      "acreage,\n",
      "price,\n",
      "support,\n",
      "rank,\n",
      "revisions,\n",
      "product,\n",
      "net,\n",
      "plant,\n",
      "company,\n",
      "nonifrs,\n",
      "risks,\n",
      "18million,\n",
      "misses,\n",
      "guests,\n",
      "increase,\n",
      "global,\n",
      "impressed,\n",
      "medical,\n",
      "therapeutics,\n",
      "gfi,\n",
      "hub,\n",
      "park,\n",
      "kraft,\n",
      "host,\n",
      "capital,\n",
      "contest,\n",
      "holdings,\n",
      "investment,\n",
      "broader,\n",
      "production,\n",
      "therapy,\n",
      "leader,\n",
      "gold,\n",
      "gains,\n",
      "limited,\n",
      "know,\n",
      "growth,\n",
      "research,\n",
      "acquisition,\n",
      "team,\n",
      "kirkwood,\n",
      "profit,\n",
      "york,\n",
      "second,\n",
      "profitability,\n",
      "residents,\n",
      "beckley,\n",
      "day,\n",
      "recorded,\n",
      "month,\n",
      "sinks,\n",
      "arrangement,\n",
      "saas,\n",
      "statements,\n",
      "trading,\n",
      "expected,\n",
      "corporation,\n",
      "data,\n",
      "whats,\n",
      "forwardlooking,\n",
      "financial,\n",
      "announce,\n",
      "pharmaceuticals,\n",
      "dried,\n",
      "adjusted,\n",
      "fields,\n",
      "highlighted,\n",
      "cannabis,\n",
      "cnbs,\n",
      "consensus,\n",
      "town,\n",
      "cents,\n",
      "education,\n",
      "patient,\n",
      "estimate,\n",
      "corp,\n",
      "market,\n",
      "set,\n",
      "acquire,\n",
      "monthly,\n",
      "quarter,\n",
      "yearconference,\n",
      "ceo,\n",
      "firm,\n",
      "delayed,\n",
      "announces,\n",
      "value,\n",
      "share,\n",
      "2020,\n",
      "reports,\n",
      "products,\n",
      "strategic,\n",
      "return,\n",
      "position,\n",
      "loss,\n",
      "constellation,\n",
      "lost,\n",
      "media,\n",
      "medicines,\n",
      "estimates,\n",
      "webcast,\n",
      "twitter,\n",
      "hubspot,\n",
      "q4,\n",
      "dips,\n",
      "2019,\n",
      "industry,\n",
      "particular,\n",
      "revenue,\n",
      "partnership,\n",
      "exclusive,\n",
      "q1,\n",
      "andor,\n",
      "cgc,\n",
      "gw,\n",
      "industrial,\n",
      "facility,\n",
      "rivers,\n",
      "diluted,\n",
      "yy,\n",
      "preview,\n",
      "changes,\n",
      "compared,\n",
      "million,\n",
      "latest,\n",
      "drives,\n",
      "investors,\n",
      "monk,\n",
      "harvest,\n",
      "strengthens,\n",
      "shares,\n",
      "period,\n",
      "care,\n",
      "greenlane,\n",
      "waiting,\n",
      "distribution,\n",
      "state,\n",
      "canopy,\n",
      "totalled,\n",
      "hemp,\n",
      "broome,\n",
      "yearoveryear,\n",
      "unauthorized,\n",
      "heinz,\n",
      "fiscal,\n",
      "volcano,\n",
      "cannachiefs,\n",
      "esp,\n",
      "information,\n",
      "mall,\n",
      "hubspots,\n",
      "storz,\n",
      "table,\n",
      "entering,\n",
      "miss,\n",
      "warrant,\n",
      "markets,\n",
      "pharmacies,\n",
      "spectrum,\n",
      "county,\n",
      "growths,\n",
      "trimmed,\n",
      "returns,\n",
      "vaporizers,\n",
      "earnings,\n",
      "drive,\n",
      "stocks,\n",
      "free,\n",
      "linton,\n",
      "venture,\n",
      "service,\n",
      "customers,\n",
      "came,\n",
      "winning,\n",
      "zacks,\n",
      "results,\n",
      "brands,\n",
      "stock,\n",
      "bickel,\n",
      "volume,\n",
      "ny,\n",
      "smiths,\n",
      "told,\n",
      "recreational,\n",
      "sales,\n"
     ]
    }
   ],
   "source": [
    "for each in keywords:\n",
    "    print(each + \",\")"
   ]
  },
  {
   "cell_type": "code",
   "execution_count": null,
   "metadata": {},
   "outputs": [],
   "source": []
  },
  {
   "cell_type": "code",
   "execution_count": null,
   "metadata": {},
   "outputs": [],
   "source": []
  },
  {
   "cell_type": "code",
   "execution_count": null,
   "metadata": {},
   "outputs": [],
   "source": []
  },
  {
   "cell_type": "code",
   "execution_count": null,
   "metadata": {},
   "outputs": [],
   "source": []
  },
  {
   "cell_type": "code",
   "execution_count": null,
   "metadata": {},
   "outputs": [],
   "source": []
  },
  {
   "cell_type": "code",
   "execution_count": null,
   "metadata": {},
   "outputs": [],
   "source": []
  },
  {
   "cell_type": "code",
   "execution_count": null,
   "metadata": {},
   "outputs": [],
   "source": []
  },
  {
   "cell_type": "code",
   "execution_count": null,
   "metadata": {},
   "outputs": [],
   "source": []
  },
  {
   "cell_type": "code",
   "execution_count": null,
   "metadata": {},
   "outputs": [],
   "source": []
  },
  {
   "cell_type": "code",
   "execution_count": null,
   "metadata": {},
   "outputs": [],
   "source": []
  },
  {
   "cell_type": "code",
   "execution_count": null,
   "metadata": {},
   "outputs": [],
   "source": []
  },
  {
   "cell_type": "code",
   "execution_count": null,
   "metadata": {},
   "outputs": [],
   "source": []
  },
  {
   "cell_type": "code",
   "execution_count": null,
   "metadata": {},
   "outputs": [],
   "source": []
  }
 ],
 "metadata": {
  "kernelspec": {
   "display_name": "Python 3",
   "language": "python",
   "name": "python3"
  },
  "language_info": {
   "codemirror_mode": {
    "name": "ipython",
    "version": 3
   },
   "file_extension": ".py",
   "mimetype": "text/x-python",
   "name": "python",
   "nbconvert_exporter": "python",
   "pygments_lexer": "ipython3",
   "version": "3.7.1"
  }
 },
 "nbformat": 4,
 "nbformat_minor": 2
}
