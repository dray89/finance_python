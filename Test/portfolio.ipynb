{
 "cells": [
  {
   "cell_type": "code",
   "execution_count": 3,
   "metadata": {},
   "outputs": [],
   "source": [
    "import sys, time\n",
    "sys.path.append(\"C:\\\\Users\\\\rayde\\\\iCloudDrive\\\\GitHub\\\\finance_python\")\n",
    "\n",
    "from stock_scraper_v3 import get_data\n",
    "from balance_sheet import balance_sheet\n",
    "from financials import financials\n",
    "from datetime import datetime, date\n",
    "from pandas import DataFrame\n",
    "import numpy as np\n",
    "import pandas\n",
    "from industry import industry"
   ]
  },
  {
   "cell_type": "code",
   "execution_count": null,
   "metadata": {},
   "outputs": [],
   "source": []
  },
  {
   "cell_type": "code",
   "execution_count": 4,
   "metadata": {},
   "outputs": [],
   "source": [
    "insurance = ['KHC', 'PCG', 'BGS', \n",
    "                  'K', 'HRB']\n",
    "start = date(2018, 8, 7)\n",
    "end = date(2019, 8, 7)"
   ]
  },
  {
   "cell_type": "code",
   "execution_count": 5,
   "metadata": {
    "scrolled": true
   },
   "outputs": [
    {
     "name": "stdout",
     "output_type": "stream",
     "text": [
      "43.386953353881836\n"
     ]
    }
   ],
   "source": [
    "timer_start = time.time()\n",
    "\n",
    "dict1 = []\n",
    "for each in insurance:\n",
    "    try:        \n",
    "        dict1.append({each: get_data(each, start, end)})\n",
    "    except:\n",
    "        print('error in ', each)\n",
    "        \n",
    "timer_end = time.time()\n",
    "print(timer_end - timer_start)"
   ]
  },
  {
   "cell_type": "code",
   "execution_count": 6,
   "metadata": {},
   "outputs": [
    {
     "data": {
      "text/plain": [
       "[{'KHC': <stock_scraper_v3.get_data at 0x16958a8a898>},\n",
       " {'PCG': <stock_scraper_v3.get_data at 0x16958c543c8>},\n",
       " {'BGS': <stock_scraper_v3.get_data at 0x16958cf50f0>},\n",
       " {'K': <stock_scraper_v3.get_data at 0x16959d99c50>},\n",
       " {'HRB': <stock_scraper_v3.get_data at 0x16959e4d438>}]"
      ]
     },
     "execution_count": 6,
     "metadata": {},
     "output_type": "execute_result"
    }
   ],
   "source": [
    "dict1"
   ]
  },
  {
   "cell_type": "code",
   "execution_count": null,
   "metadata": {},
   "outputs": [],
   "source": []
  },
  {
   "cell_type": "code",
   "execution_count": 7,
   "metadata": {},
   "outputs": [],
   "source": [
    "balance_sheets = list(map(lambda x, y: {y: dict1[x][y].bsd}, range(0, len(dict1)), insurance))"
   ]
  },
  {
   "cell_type": "code",
   "execution_count": 8,
   "metadata": {},
   "outputs": [
    {
     "data": {
      "text/plain": [
       "[{'KHC': <balance_sheet.balance_sheet at 0x169589647b8>},\n",
       " {'PCG': <balance_sheet.balance_sheet at 0x16958c3b550>},\n",
       " {'BGS': <balance_sheet.balance_sheet at 0x16959d03198>},\n",
       " {'K': <balance_sheet.balance_sheet at 0x16959da30f0>},\n",
       " {'HRB': <balance_sheet.balance_sheet at 0x16959e4a080>}]"
      ]
     },
     "execution_count": 8,
     "metadata": {},
     "output_type": "execute_result"
    }
   ],
   "source": [
    "balance_sheets"
   ]
  },
  {
   "cell_type": "code",
   "execution_count": 9,
   "metadata": {
    "scrolled": true
   },
   "outputs": [
    {
     "name": "stdout",
     "output_type": "stream",
     "text": [
      "The Kraft Heinz Company manufactures and markets food and beverage products in the United States, Canada, Europe, the Middle East, and Africa. Its products include condiments and sauces, cheese and dairy, meals, meats, refreshment beverages, coffee, and other grocery products, as well as infant and nutrition products. The company offers its products under the Kraft, Oscar Mayer, Heinz, Philadelphia, Lunchables, Velveeta, Planters, Maxwell House, Capri Sun, Ore-Ida, Kool-Aid, Jell-OY, Cracker Barrel, Classico, McCafe, P'Tit Quebec, Tassimo, Plasmon, Pudliszki, Honig, HP, Benedicta, Karvan Cevitam, ABC, Master, Quero, Golden Circle, Wattie's, Glucon-D, and Complan names. It sells its products through its own sales organizations, as well as through independent brokers, agents, and distributors to convenience stores, drug stores, value stores, bakeries, pharmacies, mass merchants, club stores, foodservice distributors and institutions, including hotels, restaurants, hospitals, health care facilities, and certain government agencies, as well as to chain, wholesale, cooperative, and independent grocery accounts. The company was formerly known as H.J. Heinz Holding Corporation and changed its name to The Kraft Heinz Company in July 2015. The Kraft Heinz Company was founded in 1869 and is headquartered in Pittsburgh, Pennsylvania. \n",
      "\n",
      "PGE Corporation, through its subsidiary, Pacific Gas and Electric Company, engages in the sale and delivery of electricity and natural gas to residential, commercial, industrial, and agricultural customers in northern and central California, the United States. The company's electricity distribution network consists of approximately 107,000 circuit miles of distribution lines, 50 transmission switching substations, and 769 distribution substations; and electricity transmission network comprises approximately 18,000 circuit miles of interconnected transmission lines and 84 electric transmission substations. Its natural gas system consists of approximately 43,100 miles of distribution pipelines, approximately 6,400 miles of backbone and local transmission pipelines, and various storage facilities. The company also owns and operates nuclear, hydroelectric, fossil fuel-fired, and solar electricity generation facilities. PGE Corporation was incorporated in 1905 and is based in San Francisco, California. On January 29, 2019, PGE Corporation Inc. filed a voluntary petition for reorganization under Chapter 11 in the U.S. Bankruptcy Court for the Northern District of California. \n",
      "\n",
      "BG Foods, Inc. manufactures, sells, and distributes a portfolio of shelf-stable and frozen foods in the United States, Canada, and Puerto Rico. Its products include frozen and canned vegetables, oatmeal and hot cereals, fruit spreads, canned meats and beans, bagel chips, spices, seasonings, hot sauces, wine vinegars, maple syrups, molasses, salad dressings, pizza crusts, Mexican-style sauces, dry soups, taco shells and kits, salsas, pickles, peppers, tomato-based products, puffed corn and rice snacks, cookies and crackers, nut clusters, and other specialty products. The company markets its products under various brands, including Ac'cent, BG, BM, Back to Nature, Baker's Joy, Bear Creek Country Kitchens, Brer Rabbit, Canoleo, Cary's, Cream of Rice, Cream of Wheat, Devonsheer, Don Pepino, Durkee, Emeril's, Grandma's Molasses, Green Giant, JJ Flats, Joan of Arc, Las Palmas, Le Sueur, MacDonald's, Mama Mary's, Maple Grove Farms of Vermont, Molly McButter, Mrs. Dash, New York Flatbreads, New York Style, Old London, Ortega, Polaner, Red Devil, Regina, Sa-són, Sclafani, Smart Puffs, SnackWell's, Spice Islands, Spring Tree, Sugar Twin, Tone's, Trappey's, TrueNorth, Underwood, Vermont Maid, Victoria, Weber, and Wright's. It also sells, markets, and distributes household products under the Static Guard brand. BG Foods, Inc. sells and distributes its products directly, as well as through a network of independent brokers and distributors to supermarket chains, food service outlets, mass merchants, warehouse clubs, non-food outlets, and specialty distributors. The company was formerly known as BG Foods Holdings Corp. and changed its name to BG Foods, Inc. in October 2004. BG Foods, Inc. was founded in 1996 and is headquartered in Parsippany, New Jersey. \n",
      "\n",
      "Kellogg Company, together with its subsidiaries, manufactures and markets ready-to-eat cereal and convenience foods. The company operates through U.S. Snacks, U.S. Morning Foods, U.S. Specialty Channels, North America Other, Europe, Latin America, and Asia Pacific segments. Its principal products include crackers, cookies, crisps and other savory snacks, toaster pastries, cereal bars, granola bars and bites, fruit-flavored snacks, ready-to-eat cereals, frozen waffles, veggie foods, and noodles. The company offers its snacks and other convenience foods under the Kellogg's, Keebler, Cheez-It, Pringles, Murray, Austin, Famous Amos, Parati, and RXBAR brand names; cereals and cereal bars under the Kellogg's, Kashi, and Bear Naked brands; and frozen foods under the Eggo and Morningstar Farms brand names. It sells its products to retailers through direct sales forces, as well as brokers and distributors in approximately 180 countries. Kellogg Company was founded in 1906 and is headquartered in Battle Creek, Michigan. \n",
      "\n",
      "HR Block, Inc., through its subsidiaries, provides assisted income tax return preparation, do-it-yourself (DIY) tax, and virtual tax preparation services and products to the general public primarily in the United States, Canada, and Australia. The company offers assisted income tax return preparation and related services through a system of retail offices operated directly by the company or by franchisees. It also develops and markets DIY income tax preparation software online, as well as through third-party retail stores and direct mail; and provides DIY tax services, including preparation of federal and state income tax returns, access to tax tips, advice and tax-related news, use of calculators for tax planning, and error checking and electronic filing. In addition, the company offers Refund Transfers and HR Block Emerald Prepaid Mastercard, which enables clients to receive their tax refunds; Peace of Mind extended service plans; HR Block Emerald Advance lines of credit; Tax Identity Shield that provides clients assistance in helping protect their tax identity and access to services to help restore their tax identity; refund advance loans; HR Block Instant Refund; and HR Block Pay With Refund services. HR Block, Inc. was founded in 1955 and is headquartered in Kansas City, Missouri. \n",
      "\n"
     ]
    }
   ],
   "source": [
    "for each in enumerate(insurance):\n",
    "    print(dict1[each[0]][each[1]].description, '\\n')"
   ]
  },
  {
   "cell_type": "code",
   "execution_count": 10,
   "metadata": {},
   "outputs": [
    {
     "data": {
      "text/plain": [
       "<balance_sheet.balance_sheet at 0x169589647b8>"
      ]
     },
     "execution_count": 10,
     "metadata": {},
     "output_type": "execute_result"
    }
   ],
   "source": [
    "balance_sheets[0]['KHC']"
   ]
  },
  {
   "cell_type": "code",
   "execution_count": null,
   "metadata": {},
   "outputs": [],
   "source": []
  },
  {
   "cell_type": "code",
   "execution_count": 12,
   "metadata": {},
   "outputs": [
    {
     "data": {
      "text/plain": [
       "[<balance_sheet.balance_sheet at 0x169589647b8>,\n",
       " <balance_sheet.balance_sheet at 0x16958c3b550>,\n",
       " <balance_sheet.balance_sheet at 0x16959d03198>,\n",
       " <balance_sheet.balance_sheet at 0x16959da30f0>,\n",
       " <balance_sheet.balance_sheet at 0x16959e4a080>]"
      ]
     },
     "execution_count": 12,
     "metadata": {},
     "output_type": "execute_result"
    }
   ],
   "source": [
    "bsd = list(map(lambda x, y: dict1[x][y].bsd, range(0, len(insurance)), insurance))\n",
    "bsd"
   ]
  },
  {
   "cell_type": "code",
   "execution_count": 14,
   "metadata": {},
   "outputs": [
    {
     "data": {
      "text/plain": [
       "5"
      ]
     },
     "execution_count": 14,
     "metadata": {},
     "output_type": "execute_result"
    }
   ],
   "source": [
    "len(bsd)"
   ]
  },
  {
   "cell_type": "code",
   "execution_count": 15,
   "metadata": {},
   "outputs": [],
   "source": [
    "for x, y in enumerate(bsd):\n",
    "    if hasattr(y, 'changes'):\n",
    "        pass\n",
    "    else:\n",
    "        bsd.pop(x)"
   ]
  },
  {
   "cell_type": "code",
   "execution_count": 17,
   "metadata": {},
   "outputs": [
    {
     "name": "stdout",
     "output_type": "stream",
     "text": [
      "5\n"
     ]
    }
   ],
   "source": [
    "list(bsd)\n",
    "print(len(bsd))"
   ]
  },
  {
   "cell_type": "code",
   "execution_count": 18,
   "metadata": {},
   "outputs": [
    {
     "data": {
      "text/plain": [
       "retained_earnings   -1.571277\n",
       "equity              -0.215690\n",
       "net_tangibles       -0.106267\n",
       "debt                 0.086972\n",
       "liabilities         -0.261079\n",
       "netrec               0.258830\n",
       "total_assets         0.260242\n",
       "int_assets          -0.167654\n",
       "cash                -0.306323\n",
       "net_assets          -1.532340\n",
       "Name: KHC, dtype: float64"
      ]
     },
     "execution_count": 18,
     "metadata": {},
     "output_type": "execute_result"
    }
   ],
   "source": [
    "bsd[0].changes"
   ]
  },
  {
   "cell_type": "code",
   "execution_count": 20,
   "metadata": {},
   "outputs": [],
   "source": [
    "insurance = list(map(lambda x: pandas.DataFrame(bsd[x].changes), range(0, len(bsd))))"
   ]
  },
  {
   "cell_type": "code",
   "execution_count": 21,
   "metadata": {},
   "outputs": [
    {
     "data": {
      "text/html": [
       "<div>\n",
       "<style scoped>\n",
       "    .dataframe tbody tr th:only-of-type {\n",
       "        vertical-align: middle;\n",
       "    }\n",
       "\n",
       "    .dataframe tbody tr th {\n",
       "        vertical-align: top;\n",
       "    }\n",
       "\n",
       "    .dataframe thead th {\n",
       "        text-align: right;\n",
       "    }\n",
       "</style>\n",
       "<table border=\"1\" class=\"dataframe\">\n",
       "  <thead>\n",
       "    <tr style=\"text-align: right;\">\n",
       "      <th></th>\n",
       "      <th>KHC</th>\n",
       "      <th>PCG</th>\n",
       "      <th>BGS</th>\n",
       "      <th>K</th>\n",
       "      <th>HRB</th>\n",
       "    </tr>\n",
       "  </thead>\n",
       "  <tbody>\n",
       "    <tr>\n",
       "      <th>cash</th>\n",
       "      <td>-0.306323</td>\n",
       "      <td>2.714922</td>\n",
       "      <td>-0.943595</td>\n",
       "      <td>0.142349</td>\n",
       "      <td>0.017610</td>\n",
       "    </tr>\n",
       "    <tr>\n",
       "      <th>debt</th>\n",
       "      <td>0.086972</td>\n",
       "      <td>NaN</td>\n",
       "      <td>-0.262311</td>\n",
       "      <td>0.047346</td>\n",
       "      <td>0.001760</td>\n",
       "    </tr>\n",
       "    <tr>\n",
       "      <th>equity</th>\n",
       "      <td>-0.215690</td>\n",
       "      <td>-0.341779</td>\n",
       "      <td>0.021832</td>\n",
       "      <td>0.194215</td>\n",
       "      <td>0.375443</td>\n",
       "    </tr>\n",
       "    <tr>\n",
       "      <th>int_assets</th>\n",
       "      <td>-0.167654</td>\n",
       "      <td>NaN</td>\n",
       "      <td>-0.087318</td>\n",
       "      <td>0.273588</td>\n",
       "      <td>-0.084197</td>\n",
       "    </tr>\n",
       "    <tr>\n",
       "      <th>liabilities</th>\n",
       "      <td>-0.261079</td>\n",
       "      <td>4.848646</td>\n",
       "      <td>0.282779</td>\n",
       "      <td>0.001548</td>\n",
       "      <td>0.094055</td>\n",
       "    </tr>\n",
       "    <tr>\n",
       "      <th>net_assets</th>\n",
       "      <td>-1.532340</td>\n",
       "      <td>37.325472</td>\n",
       "      <td>-0.521778</td>\n",
       "      <td>-0.076716</td>\n",
       "      <td>0.021274</td>\n",
       "    </tr>\n",
       "    <tr>\n",
       "      <th>net_tangibles</th>\n",
       "      <td>-0.106267</td>\n",
       "      <td>-0.341779</td>\n",
       "      <td>-0.156088</td>\n",
       "      <td>0.141660</td>\n",
       "      <td>-0.342602</td>\n",
       "    </tr>\n",
       "    <tr>\n",
       "      <th>netrec</th>\n",
       "      <td>0.258830</td>\n",
       "      <td>0.472846</td>\n",
       "      <td>-0.032120</td>\n",
       "      <td>-0.024823</td>\n",
       "      <td>-0.053204</td>\n",
       "    </tr>\n",
       "    <tr>\n",
       "      <th>retained_earnings</th>\n",
       "      <td>-1.571277</td>\n",
       "      <td>-1.037902</td>\n",
       "      <td>0.271928</td>\n",
       "      <td>0.082473</td>\n",
       "      <td>0.375795</td>\n",
       "    </tr>\n",
       "    <tr>\n",
       "      <th>total_assets</th>\n",
       "      <td>0.260242</td>\n",
       "      <td>0.463939</td>\n",
       "      <td>-0.338936</td>\n",
       "      <td>0.039855</td>\n",
       "      <td>0.053732</td>\n",
       "    </tr>\n",
       "  </tbody>\n",
       "</table>\n",
       "</div>"
      ],
      "text/plain": [
       "                        KHC        PCG       BGS         K       HRB\n",
       "cash              -0.306323   2.714922 -0.943595  0.142349  0.017610\n",
       "debt               0.086972        NaN -0.262311  0.047346  0.001760\n",
       "equity            -0.215690  -0.341779  0.021832  0.194215  0.375443\n",
       "int_assets        -0.167654        NaN -0.087318  0.273588 -0.084197\n",
       "liabilities       -0.261079   4.848646  0.282779  0.001548  0.094055\n",
       "net_assets        -1.532340  37.325472 -0.521778 -0.076716  0.021274\n",
       "net_tangibles     -0.106267  -0.341779 -0.156088  0.141660 -0.342602\n",
       "netrec             0.258830   0.472846 -0.032120 -0.024823 -0.053204\n",
       "retained_earnings -1.571277  -1.037902  0.271928  0.082473  0.375795\n",
       "total_assets       0.260242   0.463939 -0.338936  0.039855  0.053732"
      ]
     },
     "execution_count": 21,
     "metadata": {},
     "output_type": "execute_result"
    }
   ],
   "source": [
    "frame = pandas.concat(insurance, sort=True, axis=1)\n",
    "frame"
   ]
  },
  {
   "cell_type": "code",
   "execution_count": 22,
   "metadata": {},
   "outputs": [],
   "source": [
    "bsd_list = list(map(lambda x, y: y.stats, range(0, len(bsd)), bsd))"
   ]
  },
  {
   "cell_type": "code",
   "execution_count": 23,
   "metadata": {},
   "outputs": [],
   "source": [
    "dataframe = pandas.concat(bsd_list, sort=True, axis=1)"
   ]
  },
  {
   "cell_type": "code",
   "execution_count": 24,
   "metadata": {},
   "outputs": [],
   "source": [
    "dataframe = dataframe.dropna(how='all')"
   ]
  },
  {
   "cell_type": "code",
   "execution_count": 25,
   "metadata": {},
   "outputs": [
    {
     "data": {
      "text/html": [
       "<div>\n",
       "<style scoped>\n",
       "    .dataframe tbody tr th:only-of-type {\n",
       "        vertical-align: middle;\n",
       "    }\n",
       "\n",
       "    .dataframe tbody tr th {\n",
       "        vertical-align: top;\n",
       "    }\n",
       "\n",
       "    .dataframe thead th {\n",
       "        text-align: right;\n",
       "    }\n",
       "</style>\n",
       "<table border=\"1\" class=\"dataframe\">\n",
       "  <thead>\n",
       "    <tr style=\"text-align: right;\">\n",
       "      <th></th>\n",
       "      <th>KHC</th>\n",
       "      <th>PCG</th>\n",
       "      <th>BGS</th>\n",
       "      <th>K</th>\n",
       "      <th>HRB</th>\n",
       "    </tr>\n",
       "  </thead>\n",
       "  <tbody>\n",
       "    <tr>\n",
       "      <th>% Held by Insiders 1</th>\n",
       "      <td>0.12%</td>\n",
       "      <td>0.21%</td>\n",
       "      <td>2.35%</td>\n",
       "      <td>0.69%</td>\n",
       "      <td>0.44%</td>\n",
       "    </tr>\n",
       "    <tr>\n",
       "      <th>% Held by Institutions 1</th>\n",
       "      <td>85.55%</td>\n",
       "      <td>92.86%</td>\n",
       "      <td>102.43%</td>\n",
       "      <td>89.12%</td>\n",
       "      <td>103.17%</td>\n",
       "    </tr>\n",
       "    <tr>\n",
       "      <th>200-Day Moving Average 3</th>\n",
       "      <td>34.12</td>\n",
       "      <td>18.70</td>\n",
       "      <td>23.15</td>\n",
       "      <td>56.78</td>\n",
       "      <td>26.25</td>\n",
       "    </tr>\n",
       "    <tr>\n",
       "      <th>5 Year Average Dividend Yield 4</th>\n",
       "      <td>NaN</td>\n",
       "      <td>NaN</td>\n",
       "      <td>5.25</td>\n",
       "      <td>3.08</td>\n",
       "      <td>3.27</td>\n",
       "    </tr>\n",
       "    <tr>\n",
       "      <th>50-Day Moving Average 3</th>\n",
       "      <td>30.95</td>\n",
       "      <td>19.85</td>\n",
       "      <td>19.90</td>\n",
       "      <td>57.18</td>\n",
       "      <td>28.06</td>\n",
       "    </tr>\n",
       "    <tr>\n",
       "      <th>52 Week High 3</th>\n",
       "      <td>61.68</td>\n",
       "      <td>49.42</td>\n",
       "      <td>33.00</td>\n",
       "      <td>74.98</td>\n",
       "      <td>29.62</td>\n",
       "    </tr>\n",
       "    <tr>\n",
       "      <th>52 Week Low 3</th>\n",
       "      <td>26.05</td>\n",
       "      <td>5.07</td>\n",
       "      <td>17.76</td>\n",
       "      <td>51.34</td>\n",
       "      <td>22.96</td>\n",
       "    </tr>\n",
       "    <tr>\n",
       "      <th>52-Week Change 3</th>\n",
       "      <td>-52.40%</td>\n",
       "      <td>-56.74%</td>\n",
       "      <td>-36.61%</td>\n",
       "      <td>-12.00%</td>\n",
       "      <td>7.74%</td>\n",
       "    </tr>\n",
       "    <tr>\n",
       "      <th>Avg Vol (10 day) 3</th>\n",
       "      <td>15.03M</td>\n",
       "      <td>4.55M</td>\n",
       "      <td>1.87M</td>\n",
       "      <td>4.16M</td>\n",
       "      <td>2.21M</td>\n",
       "    </tr>\n",
       "    <tr>\n",
       "      <th>Avg Vol (3 month) 3</th>\n",
       "      <td>9.52M</td>\n",
       "      <td>7.38M</td>\n",
       "      <td>1.16M</td>\n",
       "      <td>2.55M</td>\n",
       "      <td>2.64M</td>\n",
       "    </tr>\n",
       "    <tr>\n",
       "      <th>Beta (3Y Monthly)</th>\n",
       "      <td>1.12</td>\n",
       "      <td>0.44</td>\n",
       "      <td>0.87</td>\n",
       "      <td>0.87</td>\n",
       "      <td>0.40</td>\n",
       "    </tr>\n",
       "    <tr>\n",
       "      <th>Book Value Per Share (mrq)</th>\n",
       "      <td>42.25</td>\n",
       "      <td>24.33</td>\n",
       "      <td>13.28</td>\n",
       "      <td>7.77</td>\n",
       "      <td>2.68</td>\n",
       "    </tr>\n",
       "    <tr>\n",
       "      <th>Current Ratio (mrq)</th>\n",
       "      <td>1.18</td>\n",
       "      <td>1.61</td>\n",
       "      <td>3.02</td>\n",
       "      <td>0.70</td>\n",
       "      <td>2.16</td>\n",
       "    </tr>\n",
       "    <tr>\n",
       "      <th>Diluted EPS (ttm)</th>\n",
       "      <td>-9.10</td>\n",
       "      <td>-13.78</td>\n",
       "      <td>2.71</td>\n",
       "      <td>2.49</td>\n",
       "      <td>2.04</td>\n",
       "    </tr>\n",
       "    <tr>\n",
       "      <th>Dividend Date 3</th>\n",
       "      <td>Jun 14, 2019</td>\n",
       "      <td>Oct 15, 2017</td>\n",
       "      <td>Oct 30, 2019</td>\n",
       "      <td>Sep 13, 2019</td>\n",
       "      <td>Jul 1, 2019</td>\n",
       "    </tr>\n",
       "    <tr>\n",
       "      <th>EBITDA</th>\n",
       "      <td>6.34B</td>\n",
       "      <td>4.84B</td>\n",
       "      <td>291.34M</td>\n",
       "      <td>2.37B</td>\n",
       "      <td>782.49M</td>\n",
       "    </tr>\n",
       "    <tr>\n",
       "      <th>Enterprise Value 3</th>\n",
       "      <td>62.14B</td>\n",
       "      <td>32.63B</td>\n",
       "      <td>3.08B</td>\n",
       "      <td>31.28B</td>\n",
       "      <td>5.49B</td>\n",
       "    </tr>\n",
       "    <tr>\n",
       "      <th>Enterprise Value/EBITDA 6</th>\n",
       "      <td>9.80</td>\n",
       "      <td>6.74</td>\n",
       "      <td>10.56</td>\n",
       "      <td>13.20</td>\n",
       "      <td>7.01</td>\n",
       "    </tr>\n",
       "    <tr>\n",
       "      <th>Enterprise Value/Revenue 3</th>\n",
       "      <td>2.42</td>\n",
       "      <td>1.95</td>\n",
       "      <td>1.85</td>\n",
       "      <td>2.27</td>\n",
       "      <td>1.77</td>\n",
       "    </tr>\n",
       "    <tr>\n",
       "      <th>Ex-Dividend Date 4</th>\n",
       "      <td>Aug 20, 2019</td>\n",
       "      <td>Sep 28, 2017</td>\n",
       "      <td>Sep 27, 2019</td>\n",
       "      <td>Aug 30, 2019</td>\n",
       "      <td>Jun 20, 2019</td>\n",
       "    </tr>\n",
       "    <tr>\n",
       "      <th>Fiscal Year Ends</th>\n",
       "      <td>Dec 29, 2018</td>\n",
       "      <td>Dec 31, 2018</td>\n",
       "      <td>Dec 29, 2018</td>\n",
       "      <td>Dec 29, 2018</td>\n",
       "      <td>Apr 30, 2019</td>\n",
       "    </tr>\n",
       "    <tr>\n",
       "      <th>Float</th>\n",
       "      <td>621.3M</td>\n",
       "      <td>527.62M</td>\n",
       "      <td>63.8M</td>\n",
       "      <td>272.63M</td>\n",
       "      <td>201.56M</td>\n",
       "    </tr>\n",
       "    <tr>\n",
       "      <th>Forward Annual Dividend Rate 4</th>\n",
       "      <td>1.6</td>\n",
       "      <td>NaN</td>\n",
       "      <td>1.9</td>\n",
       "      <td>2.28</td>\n",
       "      <td>1.04</td>\n",
       "    </tr>\n",
       "    <tr>\n",
       "      <th>Forward Annual Dividend Yield 4</th>\n",
       "      <td>5.09%</td>\n",
       "      <td>NaN</td>\n",
       "      <td>9.68%</td>\n",
       "      <td>3.65%</td>\n",
       "      <td>3.75%</td>\n",
       "    </tr>\n",
       "    <tr>\n",
       "      <th>Forward P/E 1</th>\n",
       "      <td>9.46</td>\n",
       "      <td>4.27</td>\n",
       "      <td>10.05</td>\n",
       "      <td>15.43</td>\n",
       "      <td>13.40</td>\n",
       "    </tr>\n",
       "    <tr>\n",
       "      <th>Gross Profit (ttm)</th>\n",
       "      <td>9.12B</td>\n",
       "      <td>5.15B</td>\n",
       "      <td>425.82M</td>\n",
       "      <td>4.83B</td>\n",
       "      <td>1.34B</td>\n",
       "    </tr>\n",
       "    <tr>\n",
       "      <th>Last Split Date 3</th>\n",
       "      <td>NaN</td>\n",
       "      <td>Jul 18, 1983</td>\n",
       "      <td>NaN</td>\n",
       "      <td>Aug 25, 1997</td>\n",
       "      <td>Aug 23, 2005</td>\n",
       "    </tr>\n",
       "    <tr>\n",
       "      <th>Last Split Factor (new per old) 2</th>\n",
       "      <td>NaN</td>\n",
       "      <td>1/2</td>\n",
       "      <td>NaN</td>\n",
       "      <td>1/2</td>\n",
       "      <td>1/2</td>\n",
       "    </tr>\n",
       "    <tr>\n",
       "      <th>Levered Free Cash Flow (ttm)</th>\n",
       "      <td>NaN</td>\n",
       "      <td>-3.97B</td>\n",
       "      <td>161.4M</td>\n",
       "      <td>975.75M</td>\n",
       "      <td>437.67M</td>\n",
       "    </tr>\n",
       "    <tr>\n",
       "      <th>Market Cap (intraday) 5</th>\n",
       "      <td>32.33B</td>\n",
       "      <td>9.77B</td>\n",
       "      <td>1.25B</td>\n",
       "      <td>21.52B</td>\n",
       "      <td>5.56B</td>\n",
       "    </tr>\n",
       "    <tr>\n",
       "      <th>Most Recent Quarter (mrq)</th>\n",
       "      <td>Jun 29, 2019</td>\n",
       "      <td>Mar 31, 2019</td>\n",
       "      <td>Jun 29, 2019</td>\n",
       "      <td>Jun 29, 2019</td>\n",
       "      <td>Apr 30, 2019</td>\n",
       "    </tr>\n",
       "    <tr>\n",
       "      <th>Net Income Avi to Common (ttm)</th>\n",
       "      <td>-11.1B</td>\n",
       "      <td>-7.16B</td>\n",
       "      <td>178.95M</td>\n",
       "      <td>864M</td>\n",
       "      <td>444.22M</td>\n",
       "    </tr>\n",
       "    <tr>\n",
       "      <th>Operating Cash Flow (ttm)</th>\n",
       "      <td>NaN</td>\n",
       "      <td>5.48B</td>\n",
       "      <td>121.5M</td>\n",
       "      <td>1.61B</td>\n",
       "      <td>606.54M</td>\n",
       "    </tr>\n",
       "    <tr>\n",
       "      <th>Operating Margin (ttm)</th>\n",
       "      <td>20.84%</td>\n",
       "      <td>10.55%</td>\n",
       "      <td>14.16%</td>\n",
       "      <td>13.40%</td>\n",
       "      <td>19.90%</td>\n",
       "    </tr>\n",
       "    <tr>\n",
       "      <th>PEG Ratio (5 yr expected) 1</th>\n",
       "      <td>-2.55</td>\n",
       "      <td>1.09</td>\n",
       "      <td>2.81</td>\n",
       "      <td>21.03</td>\n",
       "      <td>1.40</td>\n",
       "    </tr>\n",
       "    <tr>\n",
       "      <th>Payout Ratio 4</th>\n",
       "      <td>NaN</td>\n",
       "      <td>0.00%</td>\n",
       "      <td>70.37%</td>\n",
       "      <td>89.60%</td>\n",
       "      <td>46.51%</td>\n",
       "    </tr>\n",
       "    <tr>\n",
       "      <th>Price/Book (mrq)</th>\n",
       "      <td>0.63</td>\n",
       "      <td>0.74</td>\n",
       "      <td>1.44</td>\n",
       "      <td>8.00</td>\n",
       "      <td>10.25</td>\n",
       "    </tr>\n",
       "    <tr>\n",
       "      <th>Price/Sales (ttm)</th>\n",
       "      <td>1.26</td>\n",
       "      <td>0.58</td>\n",
       "      <td>0.75</td>\n",
       "      <td>1.56</td>\n",
       "      <td>1.80</td>\n",
       "    </tr>\n",
       "    <tr>\n",
       "      <th>Profit Margin</th>\n",
       "      <td>-43.27%</td>\n",
       "      <td>-42.82%</td>\n",
       "      <td>10.75%</td>\n",
       "      <td>6.28%</td>\n",
       "      <td>13.65%</td>\n",
       "    </tr>\n",
       "    <tr>\n",
       "      <th>Quarterly Earnings Growth (yoy)</th>\n",
       "      <td>-40.60%</td>\n",
       "      <td>-69.20%</td>\n",
       "      <td>128.80%</td>\n",
       "      <td>-52.00%</td>\n",
       "      <td>-23.20%</td>\n",
       "    </tr>\n",
       "    <tr>\n",
       "      <th>Quarterly Revenue Growth (yoy)</th>\n",
       "      <td>-4.20%</td>\n",
       "      <td>-1.10%</td>\n",
       "      <td>-4.40%</td>\n",
       "      <td>3.00%</td>\n",
       "      <td>-2.50%</td>\n",
       "    </tr>\n",
       "    <tr>\n",
       "      <th>Return on Assets (ttm)</th>\n",
       "      <td>2.97%</td>\n",
       "      <td>1.47%</td>\n",
       "      <td>4.51%</td>\n",
       "      <td>6.31%</td>\n",
       "      <td>11.95%</td>\n",
       "    </tr>\n",
       "    <tr>\n",
       "      <th>Return on Equity (ttm)</th>\n",
       "      <td>-18.98%</td>\n",
       "      <td>-43.23%</td>\n",
       "      <td>21.11%</td>\n",
       "      <td>26.54%</td>\n",
       "      <td>95.22%</td>\n",
       "    </tr>\n",
       "    <tr>\n",
       "      <th>Revenue (ttm)</th>\n",
       "      <td>25.64B</td>\n",
       "      <td>16.71B</td>\n",
       "      <td>1.66B</td>\n",
       "      <td>13.77B</td>\n",
       "      <td>3.09B</td>\n",
       "    </tr>\n",
       "    <tr>\n",
       "      <th>Revenue Per Share (ttm)</th>\n",
       "      <td>21.02</td>\n",
       "      <td>32.16</td>\n",
       "      <td>25.35</td>\n",
       "      <td>39.97</td>\n",
       "      <td>15.07</td>\n",
       "    </tr>\n",
       "    <tr>\n",
       "      <th>S&amp;P500 52-Week Change 3</th>\n",
       "      <td>4.12%</td>\n",
       "      <td>4.12%</td>\n",
       "      <td>4.12%</td>\n",
       "      <td>4.12%</td>\n",
       "      <td>4.12%</td>\n",
       "    </tr>\n",
       "    <tr>\n",
       "      <th>Shares Outstanding 5</th>\n",
       "      <td>1.22B</td>\n",
       "      <td>529.21M</td>\n",
       "      <td>NaN</td>\n",
       "      <td>340.5M</td>\n",
       "      <td>202.28M</td>\n",
       "    </tr>\n",
       "    <tr>\n",
       "      <th>Shares Short (Jul 15, 2019) 4</th>\n",
       "      <td>23.62M</td>\n",
       "      <td>35.46M</td>\n",
       "      <td>25.19M</td>\n",
       "      <td>17.56M</td>\n",
       "      <td>41.91M</td>\n",
       "    </tr>\n",
       "    <tr>\n",
       "      <th>Shares Short (prior month Jun 14, 2019) 4</th>\n",
       "      <td>22.24M</td>\n",
       "      <td>36.06M</td>\n",
       "      <td>25.33M</td>\n",
       "      <td>18.43M</td>\n",
       "      <td>41.27M</td>\n",
       "    </tr>\n",
       "    <tr>\n",
       "      <th>Short % of Float (Jul 15, 2019) 4</th>\n",
       "      <td>3.79%</td>\n",
       "      <td>6.71%</td>\n",
       "      <td>NaN</td>\n",
       "      <td>6.43%</td>\n",
       "      <td>27.45%</td>\n",
       "    </tr>\n",
       "    <tr>\n",
       "      <th>Short % of Shares Outstanding (Jul 15, 2019) 4</th>\n",
       "      <td>1.94%</td>\n",
       "      <td>6.70%</td>\n",
       "      <td>38.53%</td>\n",
       "      <td>5.16%</td>\n",
       "      <td>20.72%</td>\n",
       "    </tr>\n",
       "    <tr>\n",
       "      <th>Short Ratio (Jul 15, 2019) 4</th>\n",
       "      <td>3.2</td>\n",
       "      <td>3.82</td>\n",
       "      <td>24.7</td>\n",
       "      <td>6.71</td>\n",
       "      <td>13.94</td>\n",
       "    </tr>\n",
       "    <tr>\n",
       "      <th>Total Cash (mrq)</th>\n",
       "      <td>1.45B</td>\n",
       "      <td>2.96B</td>\n",
       "      <td>19.91M</td>\n",
       "      <td>340M</td>\n",
       "      <td>1.57B</td>\n",
       "    </tr>\n",
       "    <tr>\n",
       "      <th>Total Cash Per Share (mrq)</th>\n",
       "      <td>1.19</td>\n",
       "      <td>5.6</td>\n",
       "      <td>0.31</td>\n",
       "      <td>1</td>\n",
       "      <td>7.78</td>\n",
       "    </tr>\n",
       "    <tr>\n",
       "      <th>Total Debt (mrq)</th>\n",
       "      <td>31.13B</td>\n",
       "      <td>25.55B</td>\n",
       "      <td>1.85B</td>\n",
       "      <td>9.78B</td>\n",
       "      <td>1.51B</td>\n",
       "    </tr>\n",
       "    <tr>\n",
       "      <th>Total Debt/Equity (mrq)</th>\n",
       "      <td>60.24</td>\n",
       "      <td>194.60</td>\n",
       "      <td>212.81</td>\n",
       "      <td>304.36</td>\n",
       "      <td>279.49</td>\n",
       "    </tr>\n",
       "    <tr>\n",
       "      <th>Trailing Annual Dividend Rate 3</th>\n",
       "      <td>2.05</td>\n",
       "      <td>0.00</td>\n",
       "      <td>1.90</td>\n",
       "      <td>2.24</td>\n",
       "      <td>1.00</td>\n",
       "    </tr>\n",
       "    <tr>\n",
       "      <th>Trailing Annual Dividend Yield 3</th>\n",
       "      <td>7.26%</td>\n",
       "      <td>0.00%</td>\n",
       "      <td>9.68%</td>\n",
       "      <td>3.58%</td>\n",
       "      <td>3.61%</td>\n",
       "    </tr>\n",
       "    <tr>\n",
       "      <th>Trailing P/E</th>\n",
       "      <td>NaN</td>\n",
       "      <td>NaN</td>\n",
       "      <td>7.04</td>\n",
       "      <td>24.94</td>\n",
       "      <td>13.47</td>\n",
       "    </tr>\n",
       "  </tbody>\n",
       "</table>\n",
       "</div>"
      ],
      "text/plain": [
       "                                                         KHC           PCG  \\\n",
       "% Held by Insiders 1                                   0.12%         0.21%   \n",
       "% Held by Institutions 1                              85.55%        92.86%   \n",
       "200-Day Moving Average 3                               34.12         18.70   \n",
       "5 Year Average Dividend Yield 4                          NaN           NaN   \n",
       "50-Day Moving Average 3                                30.95         19.85   \n",
       "52 Week High 3                                         61.68         49.42   \n",
       "52 Week Low 3                                          26.05          5.07   \n",
       "52-Week Change 3                                     -52.40%       -56.74%   \n",
       "Avg Vol (10 day) 3                                    15.03M         4.55M   \n",
       "Avg Vol (3 month) 3                                    9.52M         7.38M   \n",
       "Beta (3Y Monthly)                                       1.12          0.44   \n",
       "Book Value Per Share (mrq)                             42.25         24.33   \n",
       "Current Ratio (mrq)                                     1.18          1.61   \n",
       "Diluted EPS (ttm)                                      -9.10        -13.78   \n",
       "Dividend Date 3                                 Jun 14, 2019  Oct 15, 2017   \n",
       "EBITDA                                                 6.34B         4.84B   \n",
       "Enterprise Value 3                                    62.14B        32.63B   \n",
       "Enterprise Value/EBITDA 6                               9.80          6.74   \n",
       "Enterprise Value/Revenue 3                              2.42          1.95   \n",
       "Ex-Dividend Date 4                              Aug 20, 2019  Sep 28, 2017   \n",
       "Fiscal Year Ends                                Dec 29, 2018  Dec 31, 2018   \n",
       "Float                                                 621.3M       527.62M   \n",
       "Forward Annual Dividend Rate 4                           1.6           NaN   \n",
       "Forward Annual Dividend Yield 4                        5.09%           NaN   \n",
       "Forward P/E 1                                           9.46          4.27   \n",
       "Gross Profit (ttm)                                     9.12B         5.15B   \n",
       "Last Split Date 3                                        NaN  Jul 18, 1983   \n",
       "Last Split Factor (new per old) 2                        NaN           1/2   \n",
       "Levered Free Cash Flow (ttm)                             NaN        -3.97B   \n",
       "Market Cap (intraday) 5                               32.33B         9.77B   \n",
       "Most Recent Quarter (mrq)                       Jun 29, 2019  Mar 31, 2019   \n",
       "Net Income Avi to Common (ttm)                        -11.1B        -7.16B   \n",
       "Operating Cash Flow (ttm)                                NaN         5.48B   \n",
       "Operating Margin (ttm)                                20.84%        10.55%   \n",
       "PEG Ratio (5 yr expected) 1                            -2.55          1.09   \n",
       "Payout Ratio 4                                           NaN         0.00%   \n",
       "Price/Book (mrq)                                        0.63          0.74   \n",
       "Price/Sales (ttm)                                       1.26          0.58   \n",
       "Profit Margin                                        -43.27%       -42.82%   \n",
       "Quarterly Earnings Growth (yoy)                      -40.60%       -69.20%   \n",
       "Quarterly Revenue Growth (yoy)                        -4.20%        -1.10%   \n",
       "Return on Assets (ttm)                                 2.97%         1.47%   \n",
       "Return on Equity (ttm)                               -18.98%       -43.23%   \n",
       "Revenue (ttm)                                         25.64B        16.71B   \n",
       "Revenue Per Share (ttm)                                21.02         32.16   \n",
       "S&P500 52-Week Change 3                                4.12%         4.12%   \n",
       "Shares Outstanding 5                                   1.22B       529.21M   \n",
       "Shares Short (Jul 15, 2019) 4                         23.62M        35.46M   \n",
       "Shares Short (prior month Jun 14, 2019) 4             22.24M        36.06M   \n",
       "Short % of Float (Jul 15, 2019) 4                      3.79%         6.71%   \n",
       "Short % of Shares Outstanding (Jul 15, 2019) 4         1.94%         6.70%   \n",
       "Short Ratio (Jul 15, 2019) 4                             3.2          3.82   \n",
       "Total Cash (mrq)                                       1.45B         2.96B   \n",
       "Total Cash Per Share (mrq)                              1.19           5.6   \n",
       "Total Debt (mrq)                                      31.13B        25.55B   \n",
       "Total Debt/Equity (mrq)                                60.24        194.60   \n",
       "Trailing Annual Dividend Rate 3                         2.05          0.00   \n",
       "Trailing Annual Dividend Yield 3                       7.26%         0.00%   \n",
       "Trailing P/E                                             NaN           NaN   \n",
       "\n",
       "                                                         BGS             K  \\\n",
       "% Held by Insiders 1                                   2.35%         0.69%   \n",
       "% Held by Institutions 1                             102.43%        89.12%   \n",
       "200-Day Moving Average 3                               23.15         56.78   \n",
       "5 Year Average Dividend Yield 4                         5.25          3.08   \n",
       "50-Day Moving Average 3                                19.90         57.18   \n",
       "52 Week High 3                                         33.00         74.98   \n",
       "52 Week Low 3                                          17.76         51.34   \n",
       "52-Week Change 3                                     -36.61%       -12.00%   \n",
       "Avg Vol (10 day) 3                                     1.87M         4.16M   \n",
       "Avg Vol (3 month) 3                                    1.16M         2.55M   \n",
       "Beta (3Y Monthly)                                       0.87          0.87   \n",
       "Book Value Per Share (mrq)                             13.28          7.77   \n",
       "Current Ratio (mrq)                                     3.02          0.70   \n",
       "Diluted EPS (ttm)                                       2.71          2.49   \n",
       "Dividend Date 3                                 Oct 30, 2019  Sep 13, 2019   \n",
       "EBITDA                                               291.34M         2.37B   \n",
       "Enterprise Value 3                                     3.08B        31.28B   \n",
       "Enterprise Value/EBITDA 6                              10.56         13.20   \n",
       "Enterprise Value/Revenue 3                              1.85          2.27   \n",
       "Ex-Dividend Date 4                              Sep 27, 2019  Aug 30, 2019   \n",
       "Fiscal Year Ends                                Dec 29, 2018  Dec 29, 2018   \n",
       "Float                                                  63.8M       272.63M   \n",
       "Forward Annual Dividend Rate 4                           1.9          2.28   \n",
       "Forward Annual Dividend Yield 4                        9.68%         3.65%   \n",
       "Forward P/E 1                                          10.05         15.43   \n",
       "Gross Profit (ttm)                                   425.82M         4.83B   \n",
       "Last Split Date 3                                        NaN  Aug 25, 1997   \n",
       "Last Split Factor (new per old) 2                        NaN           1/2   \n",
       "Levered Free Cash Flow (ttm)                          161.4M       975.75M   \n",
       "Market Cap (intraday) 5                                1.25B        21.52B   \n",
       "Most Recent Quarter (mrq)                       Jun 29, 2019  Jun 29, 2019   \n",
       "Net Income Avi to Common (ttm)                       178.95M          864M   \n",
       "Operating Cash Flow (ttm)                             121.5M         1.61B   \n",
       "Operating Margin (ttm)                                14.16%        13.40%   \n",
       "PEG Ratio (5 yr expected) 1                             2.81         21.03   \n",
       "Payout Ratio 4                                        70.37%        89.60%   \n",
       "Price/Book (mrq)                                        1.44          8.00   \n",
       "Price/Sales (ttm)                                       0.75          1.56   \n",
       "Profit Margin                                         10.75%         6.28%   \n",
       "Quarterly Earnings Growth (yoy)                      128.80%       -52.00%   \n",
       "Quarterly Revenue Growth (yoy)                        -4.40%         3.00%   \n",
       "Return on Assets (ttm)                                 4.51%         6.31%   \n",
       "Return on Equity (ttm)                                21.11%        26.54%   \n",
       "Revenue (ttm)                                          1.66B        13.77B   \n",
       "Revenue Per Share (ttm)                                25.35         39.97   \n",
       "S&P500 52-Week Change 3                                4.12%         4.12%   \n",
       "Shares Outstanding 5                                     NaN        340.5M   \n",
       "Shares Short (Jul 15, 2019) 4                         25.19M        17.56M   \n",
       "Shares Short (prior month Jun 14, 2019) 4             25.33M        18.43M   \n",
       "Short % of Float (Jul 15, 2019) 4                        NaN         6.43%   \n",
       "Short % of Shares Outstanding (Jul 15, 2019) 4        38.53%         5.16%   \n",
       "Short Ratio (Jul 15, 2019) 4                            24.7          6.71   \n",
       "Total Cash (mrq)                                      19.91M          340M   \n",
       "Total Cash Per Share (mrq)                              0.31             1   \n",
       "Total Debt (mrq)                                       1.85B         9.78B   \n",
       "Total Debt/Equity (mrq)                               212.81        304.36   \n",
       "Trailing Annual Dividend Rate 3                         1.90          2.24   \n",
       "Trailing Annual Dividend Yield 3                       9.68%         3.58%   \n",
       "Trailing P/E                                            7.04         24.94   \n",
       "\n",
       "                                                         HRB  \n",
       "% Held by Insiders 1                                   0.44%  \n",
       "% Held by Institutions 1                             103.17%  \n",
       "200-Day Moving Average 3                               26.25  \n",
       "5 Year Average Dividend Yield 4                         3.27  \n",
       "50-Day Moving Average 3                                28.06  \n",
       "52 Week High 3                                         29.62  \n",
       "52 Week Low 3                                          22.96  \n",
       "52-Week Change 3                                       7.74%  \n",
       "Avg Vol (10 day) 3                                     2.21M  \n",
       "Avg Vol (3 month) 3                                    2.64M  \n",
       "Beta (3Y Monthly)                                       0.40  \n",
       "Book Value Per Share (mrq)                              2.68  \n",
       "Current Ratio (mrq)                                     2.16  \n",
       "Diluted EPS (ttm)                                       2.04  \n",
       "Dividend Date 3                                  Jul 1, 2019  \n",
       "EBITDA                                               782.49M  \n",
       "Enterprise Value 3                                     5.49B  \n",
       "Enterprise Value/EBITDA 6                               7.01  \n",
       "Enterprise Value/Revenue 3                              1.77  \n",
       "Ex-Dividend Date 4                              Jun 20, 2019  \n",
       "Fiscal Year Ends                                Apr 30, 2019  \n",
       "Float                                                201.56M  \n",
       "Forward Annual Dividend Rate 4                          1.04  \n",
       "Forward Annual Dividend Yield 4                        3.75%  \n",
       "Forward P/E 1                                          13.40  \n",
       "Gross Profit (ttm)                                     1.34B  \n",
       "Last Split Date 3                               Aug 23, 2005  \n",
       "Last Split Factor (new per old) 2                        1/2  \n",
       "Levered Free Cash Flow (ttm)                         437.67M  \n",
       "Market Cap (intraday) 5                                5.56B  \n",
       "Most Recent Quarter (mrq)                       Apr 30, 2019  \n",
       "Net Income Avi to Common (ttm)                       444.22M  \n",
       "Operating Cash Flow (ttm)                            606.54M  \n",
       "Operating Margin (ttm)                                19.90%  \n",
       "PEG Ratio (5 yr expected) 1                             1.40  \n",
       "Payout Ratio 4                                        46.51%  \n",
       "Price/Book (mrq)                                       10.25  \n",
       "Price/Sales (ttm)                                       1.80  \n",
       "Profit Margin                                         13.65%  \n",
       "Quarterly Earnings Growth (yoy)                      -23.20%  \n",
       "Quarterly Revenue Growth (yoy)                        -2.50%  \n",
       "Return on Assets (ttm)                                11.95%  \n",
       "Return on Equity (ttm)                                95.22%  \n",
       "Revenue (ttm)                                          3.09B  \n",
       "Revenue Per Share (ttm)                                15.07  \n",
       "S&P500 52-Week Change 3                                4.12%  \n",
       "Shares Outstanding 5                                 202.28M  \n",
       "Shares Short (Jul 15, 2019) 4                         41.91M  \n",
       "Shares Short (prior month Jun 14, 2019) 4             41.27M  \n",
       "Short % of Float (Jul 15, 2019) 4                     27.45%  \n",
       "Short % of Shares Outstanding (Jul 15, 2019) 4        20.72%  \n",
       "Short Ratio (Jul 15, 2019) 4                           13.94  \n",
       "Total Cash (mrq)                                       1.57B  \n",
       "Total Cash Per Share (mrq)                              7.78  \n",
       "Total Debt (mrq)                                       1.51B  \n",
       "Total Debt/Equity (mrq)                               279.49  \n",
       "Trailing Annual Dividend Rate 3                         1.00  \n",
       "Trailing Annual Dividend Yield 3                       3.61%  \n",
       "Trailing P/E                                           13.47  "
      ]
     },
     "execution_count": 25,
     "metadata": {},
     "output_type": "execute_result"
    }
   ],
   "source": [
    "dataframe"
   ]
  },
  {
   "cell_type": "code",
   "execution_count": 26,
   "metadata": {},
   "outputs": [
    {
     "data": {
      "text/plain": [
       "cash                 PCG\n",
       "debt                 KHC\n",
       "equity               HRB\n",
       "int_assets             K\n",
       "liabilities          PCG\n",
       "net_assets           PCG\n",
       "net_tangibles          K\n",
       "netrec               PCG\n",
       "retained_earnings    HRB\n",
       "total_assets         PCG\n",
       "dtype: object"
      ]
     },
     "execution_count": 26,
     "metadata": {},
     "output_type": "execute_result"
    }
   ],
   "source": [
    "frame.idxmax(axis = 1)"
   ]
  },
  {
   "cell_type": "code",
   "execution_count": 27,
   "metadata": {},
   "outputs": [
    {
     "data": {
      "text/plain": [
       "cash                 BGS\n",
       "debt                 BGS\n",
       "equity               PCG\n",
       "int_assets           KHC\n",
       "liabilities          KHC\n",
       "net_assets           KHC\n",
       "net_tangibles        HRB\n",
       "netrec               HRB\n",
       "retained_earnings    KHC\n",
       "total_assets         BGS\n",
       "dtype: object"
      ]
     },
     "execution_count": 27,
     "metadata": {},
     "output_type": "execute_result"
    }
   ],
   "source": [
    "frame.idxmin(axis=1)"
   ]
  },
  {
   "cell_type": "code",
   "execution_count": 28,
   "metadata": {},
   "outputs": [],
   "source": [
    "debt_inc = \"{0} increased its debt by {1} in the past year, the largest increase in debt in the industry.\"\n",
    "debt_dec =  \"Meanwhile, {0} decreased its debt by {1}.\""
   ]
  },
  {
   "cell_type": "code",
   "execution_count": 29,
   "metadata": {},
   "outputs": [
    {
     "name": "stdout",
     "output_type": "stream",
     "text": [
      "KHC increased its debt by 0.08697188074042674 in the past year, the largest increase in debt in the industry.\n",
      "Meanwhile, BGS decreased its debt by -0.2623105249249856.\n"
     ]
    }
   ],
   "source": [
    "print(debt_inc.format(frame.idxmax(axis = 1)[1], np.max(frame.iloc[1])))\n",
    "print(debt_dec.format(frame.idxmin(axis = 1)[1], np.min(frame.iloc[1])))"
   ]
  },
  {
   "cell_type": "code",
   "execution_count": 30,
   "metadata": {},
   "outputs": [],
   "source": [
    "maximum = []\n",
    "for each in enumerate(frame.idxmax(axis=1)):\n",
    "        i = frame.idxmax(axis=1).index[each[0]]\n",
    "        symbol = frame.idxmax(axis=1)[i]\n",
    "        maximum.append({symbol: [i, frame[each[1]].T[i]]})"
   ]
  },
  {
   "cell_type": "raw",
   "metadata": {},
   "source": [
    "maximum"
   ]
  },
  {
   "cell_type": "code",
   "execution_count": 31,
   "metadata": {
    "scrolled": true
   },
   "outputs": [
    {
     "data": {
      "text/plain": [
       "[{'PCG': ['cash', 2.714922048997773]},\n",
       " {'KHC': ['debt', 0.08697188074042674]},\n",
       " {'HRB': ['equity', 0.37544290101114774]},\n",
       " {'K': ['int_assets', 0.2735884804850322]},\n",
       " {'PCG': ['liabilities', 4.848646373965493]},\n",
       " {'PCG': ['net_assets', 37.325471698113205]},\n",
       " {'K': ['net_tangibles', 0.14165968147527241]},\n",
       " {'PCG': ['netrec', 0.47284644194756553]},\n",
       " {'HRB': ['retained_earnings', 0.3757948096313847]},\n",
       " {'PCG': ['total_assets', 0.46393886323833783]}]"
      ]
     },
     "execution_count": 31,
     "metadata": {},
     "output_type": "execute_result"
    }
   ],
   "source": [
    "maximum"
   ]
  },
  {
   "cell_type": "code",
   "execution_count": 32,
   "metadata": {},
   "outputs": [],
   "source": [
    "minimum = []\n",
    "for each in enumerate(frame.idxmin(axis=1)):\n",
    "        i = frame.idxmin(axis=1).index[each[0]]\n",
    "        symbol = frame.idxmin(axis=1)[i]\n",
    "        minimum.append({symbol: [i, frame[each[1]].T[i]]})"
   ]
  },
  {
   "cell_type": "code",
   "execution_count": 33,
   "metadata": {},
   "outputs": [
    {
     "data": {
      "text/plain": [
       "[{'BGS': ['cash', -0.9435948592292718]},\n",
       " {'BGS': ['debt', -0.2623105249249856]},\n",
       " {'PCG': ['equity', -0.3417793964620187]},\n",
       " {'KHC': ['int_assets', -0.16765378920446897]},\n",
       " {'KHC': ['liabilities', -0.2610793775851881]},\n",
       " {'KHC': ['net_assets', -1.5323399932272266]},\n",
       " {'HRB': ['net_tangibles', -0.34260183020889456]},\n",
       " {'HRB': ['netrec', -0.05320424598362108]},\n",
       " {'KHC': ['retained_earnings', -1.5712772218952324]},\n",
       " {'BGS': ['total_assets', -0.3389360418229293]}]"
      ]
     },
     "execution_count": 33,
     "metadata": {},
     "output_type": "execute_result"
    }
   ],
   "source": [
    "minimum"
   ]
  },
  {
   "cell_type": "code",
   "execution_count": 34,
   "metadata": {},
   "outputs": [],
   "source": [
    "max_sentence = \"{0} increased its {1} by {2} in the past year.\"\n",
    "min_sentence =  \"{0} decreased its {1} by {2}.\""
   ]
  },
  {
   "cell_type": "code",
   "execution_count": 35,
   "metadata": {},
   "outputs": [
    {
     "name": "stdout",
     "output_type": "stream",
     "text": [
      "PCG increased its cash by 2.714922048997773 in the past year.\n",
      "KHC increased its debt by 0.08697188074042674 in the past year.\n",
      "HRB increased its equity by 0.37544290101114774 in the past year.\n",
      "K increased its int_assets by 0.2735884804850322 in the past year.\n",
      "PCG increased its liabilities by 4.848646373965493 in the past year.\n",
      "PCG increased its net_assets by 37.325471698113205 in the past year.\n",
      "K increased its net_tangibles by 0.14165968147527241 in the past year.\n",
      "PCG increased its netrec by 0.47284644194756553 in the past year.\n",
      "HRB increased its retained_earnings by 0.3757948096313847 in the past year.\n",
      "PCG increased its total_assets by 0.46393886323833783 in the past year.\n"
     ]
    }
   ],
   "source": [
    "for each in enumerate(maximum):\n",
    "    print(max_sentence.format(list(maximum[each[0]].keys())[0], list(maximum[each[0]].values())[0][0], list(maximum[each[0]].values())[0][1]))"
   ]
  },
  {
   "cell_type": "code",
   "execution_count": 36,
   "metadata": {},
   "outputs": [
    {
     "name": "stdout",
     "output_type": "stream",
     "text": [
      "BGS increased its cash by -0.9435948592292718 in the past year.\n",
      "BGS increased its debt by -0.2623105249249856 in the past year.\n",
      "PCG increased its equity by -0.3417793964620187 in the past year.\n",
      "KHC increased its int_assets by -0.16765378920446897 in the past year.\n",
      "KHC increased its liabilities by -0.2610793775851881 in the past year.\n",
      "KHC increased its net_assets by -1.5323399932272266 in the past year.\n",
      "HRB increased its net_tangibles by -0.34260183020889456 in the past year.\n",
      "HRB increased its netrec by -0.05320424598362108 in the past year.\n",
      "KHC increased its retained_earnings by -1.5712772218952324 in the past year.\n",
      "BGS increased its total_assets by -0.3389360418229293 in the past year.\n"
     ]
    }
   ],
   "source": [
    "for each in enumerate(minimum):\n",
    "    print(max_sentence.format(list(minimum[each[0]].keys())[0], list(minimum[each[0]].values())[0][0], list(minimum[each[0]].values())[0][1]))"
   ]
  },
  {
   "cell_type": "code",
   "execution_count": null,
   "metadata": {},
   "outputs": [],
   "source": []
  },
  {
   "cell_type": "code",
   "execution_count": null,
   "metadata": {},
   "outputs": [],
   "source": []
  },
  {
   "cell_type": "code",
   "execution_count": null,
   "metadata": {},
   "outputs": [],
   "source": []
  },
  {
   "cell_type": "code",
   "execution_count": null,
   "metadata": {},
   "outputs": [],
   "source": []
  },
  {
   "cell_type": "code",
   "execution_count": null,
   "metadata": {},
   "outputs": [],
   "source": []
  },
  {
   "cell_type": "code",
   "execution_count": null,
   "metadata": {},
   "outputs": [],
   "source": []
  },
  {
   "cell_type": "code",
   "execution_count": null,
   "metadata": {},
   "outputs": [],
   "source": []
  },
  {
   "cell_type": "code",
   "execution_count": null,
   "metadata": {},
   "outputs": [],
   "source": []
  },
  {
   "cell_type": "code",
   "execution_count": null,
   "metadata": {},
   "outputs": [],
   "source": []
  },
  {
   "cell_type": "code",
   "execution_count": null,
   "metadata": {},
   "outputs": [],
   "source": []
  },
  {
   "cell_type": "code",
   "execution_count": null,
   "metadata": {},
   "outputs": [],
   "source": []
  },
  {
   "cell_type": "code",
   "execution_count": null,
   "metadata": {},
   "outputs": [],
   "source": []
  },
  {
   "cell_type": "code",
   "execution_count": null,
   "metadata": {},
   "outputs": [],
   "source": []
  },
  {
   "cell_type": "code",
   "execution_count": null,
   "metadata": {},
   "outputs": [],
   "source": []
  },
  {
   "cell_type": "code",
   "execution_count": null,
   "metadata": {},
   "outputs": [],
   "source": []
  },
  {
   "cell_type": "code",
   "execution_count": null,
   "metadata": {},
   "outputs": [],
   "source": [
    "\n",
    "        "
   ]
  },
  {
   "cell_type": "code",
   "execution_count": null,
   "metadata": {},
   "outputs": [],
   "source": []
  },
  {
   "cell_type": "code",
   "execution_count": null,
   "metadata": {},
   "outputs": [],
   "source": []
  },
  {
   "cell_type": "code",
   "execution_count": 229,
   "metadata": {},
   "outputs": [],
   "source": []
  },
  {
   "cell_type": "code",
   "execution_count": null,
   "metadata": {},
   "outputs": [],
   "source": []
  },
  {
   "cell_type": "code",
   "execution_count": null,
   "metadata": {},
   "outputs": [],
   "source": []
  }
 ],
 "metadata": {
  "kernelspec": {
   "display_name": "Python 3",
   "language": "python",
   "name": "python3"
  },
  "language_info": {
   "codemirror_mode": {
    "name": "ipython",
    "version": 3
   },
   "file_extension": ".py",
   "mimetype": "text/x-python",
   "name": "python",
   "nbconvert_exporter": "python",
   "pygments_lexer": "ipython3",
   "version": "3.7.3"
  }
 },
 "nbformat": 4,
 "nbformat_minor": 2
}
