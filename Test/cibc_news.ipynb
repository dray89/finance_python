{
 "cells": [
  {
   "cell_type": "code",
   "execution_count": 1,
   "metadata": {},
   "outputs": [],
   "source": [
    "from news_updates.news_sources_v3 import News\n",
    "import time"
   ]
  },
  {
   "cell_type": "code",
   "execution_count": 2,
   "metadata": {},
   "outputs": [
    {
     "data": {
      "text/plain": [
       "'C:\\\\Users\\\\rayde\\\\iCloudDrive\\\\GitHub'"
      ]
     },
     "execution_count": 2,
     "metadata": {},
     "output_type": "execute_result"
    }
   ],
   "source": [
    "pwd"
   ]
  },
  {
   "cell_type": "code",
   "execution_count": 3,
   "metadata": {},
   "outputs": [],
   "source": [
    "search = ['Canadian-Imperial-Bank-Commerce-Earnings']"
   ]
  },
  {
   "cell_type": "code",
   "execution_count": null,
   "metadata": {},
   "outputs": [],
   "source": []
  },
  {
   "cell_type": "code",
   "execution_count": null,
   "metadata": {},
   "outputs": [],
   "source": []
  },
  {
   "cell_type": "code",
   "execution_count": 4,
   "metadata": {},
   "outputs": [
    {
     "name": "stdout",
     "output_type": "stream",
     "text": [
      "--- 46.688464641571045 seconds ---\n"
     ]
    }
   ],
   "source": [
    "start_time = time.time()\n",
    "Weed = News(search[0])\n",
    "print(\"--- %s seconds ---\" % (time.time() - start_time))"
   ]
  },
  {
   "cell_type": "code",
   "execution_count": 5,
   "metadata": {},
   "outputs": [
    {
     "data": {
      "text/plain": [
       "<news_updates.news_sources_v3.News at 0x1ea4f3c74e0>"
      ]
     },
     "execution_count": 5,
     "metadata": {},
     "output_type": "execute_result"
    }
   ],
   "source": [
    "Weed"
   ]
  },
  {
   "cell_type": "code",
   "execution_count": 6,
   "metadata": {},
   "outputs": [
    {
     "data": {
      "text/plain": [
       "20"
      ]
     },
     "execution_count": 6,
     "metadata": {},
     "output_type": "execute_result"
    }
   ],
   "source": [
    "len(Weed.links)"
   ]
  },
  {
   "cell_type": "code",
   "execution_count": 7,
   "metadata": {},
   "outputs": [],
   "source": [
    "arts = Weed.art_list\n",
    "\n",
    "for each in arts:\n",
    "    if each.summary == ' ':\n",
    "        print(each.index)\n",
    "    else:\n",
    "        pass"
   ]
  },
  {
   "cell_type": "code",
   "execution_count": 8,
   "metadata": {},
   "outputs": [
    {
     "data": {
      "text/plain": [
       "20"
      ]
     },
     "execution_count": 8,
     "metadata": {},
     "output_type": "execute_result"
    }
   ],
   "source": [
    "len(arts)"
   ]
  },
  {
   "cell_type": "code",
   "execution_count": 9,
   "metadata": {},
   "outputs": [
    {
     "name": "stdout",
     "output_type": "stream",
     "text": [
      "Canada’s big banks are about to release earnings. Here’s what to expect ['Follow James Bradshaw On Twitter', 'James Bradshaw'] \n",
      " A 0A +2A +4A +6The subject who is truly loyal to the Chief Magistrate will neither advise nor submit to arbitrary measures. \n",
      "----------------------------------------------------------------------------------------------------\n",
      "Canadian Imperial Bank of Commerce (TSX:CM): Too Cheap to Ignore [] \n",
      " The Motley Fool Canada » Bank Stocks » Canadian Imperial Bank of Commerce (TSX:CM): Too Cheap to IgnoreCanada’s banks are still attracting considerable negative interest from U.S. hedge funds and traders with many of the Big Five banks making up the top ten most shorted stocks on the TSX.\n",
      "One that is not attracting as much negative attention, albeit has proven unpopular with investors is Canadian Imperial Bank of Commerce (TSX:CM)(NYSE:CM) despite the bank having a juicy 5.7% dividend yield — the highest of the Big Five.\n",
      "Declining growthThe unpopularity of Canadian Imperial stems from its considerable dependency on Canada and the domestic housing market for earnings growth, coupled with lacklustre results.\n",
      "Looming fears of a recession despite lower U.S. interest rates and a slowing housing market are magnifying concerns over the outlook for Canadian Imperial.\n",
      "Nonetheless, the performance of Canadian Imperial’s U.S. business is likely to decline over the remainder of 2019 and into 2020. \n",
      "----------------------------------------------------------------------------------------------------\n",
      "The Daily Chase: CIBC profit held back by bad loans; Pompeo to meet Freeland ['Noah Zivitz'] \n",
      " Noah Zivitz Managing Editor, BNN Bloomberg Follow|ArchiveCredit quality was an issue for Canadian Imperial Bank of Commerce in the latest quarter.\n",
      "Provisions for bad loans rose in its fiscal third quarter, and that (alongside weakness in Capital Markets) held back profit -- with adjusted earnings up one per cent year-over-year.\n",
      "We’ll find out when one of the banks’ most outspoken critics, Steve Eisman (of Big Short fame), joins Catherine Murray on The Close.\n",
      "-Germany’s economy churned out another warning signal today, with a gauge of factory activity in contraction territory this month.\n",
      "NOTABLE RELEASES/EVENTS-Notable earnings: CIBC, Gap-Notable data: Canadian wholesale trade, EI report-U.S. Secretary of State Mike Pompeo meets with Foreign Affairs Minister Chrystia Freeland in Ottawa (8:30 a.m. \n",
      "----------------------------------------------------------------------------------------------------\n",
      "Big Six banks brace for 'challenging' outlook on prospects of lower interest rates, roiled capital markets [] \n",
      " Share prices of the big banks have lagged that of the broader Canadian market this year as well.\n",
      "“While several factors have played a role … expense growth has been an important headwind, with the average Big-6 bank delivering 6 per cent expense growth (against 5 per cent top-line expansion),” Dechaine wrote.\n",
      "In a recent report, ratings agency DBRS Ltd. said the big banks’ credit losses were still at “historically low levels,” but that they could rise with an even-gloomier economic outlook.\n",
      "Still, while it has been relatively rough for the earnings of Canada’s big banks, they continue to crank out billions in profit.\n",
      "Expense growth could factor into future earnings growth, though. \n",
      "----------------------------------------------------------------------------------------------------\n",
      "Does Canadian Imperial Bank of Commerce's (TSE:CM) CEO Salary Reflect Performance? ['Simply Wall St'] \n",
      " Victor Dodig has been the CEO of Canadian Imperial Bank of Commerce (TSE:CM) since 2014.\n",
      "Check out our latest analysis for Canadian Imperial Bank of CommerceHow Does Victor Dodig's Compensation Compare With Similar Sized Companies?\n",
      "You can see a visual representation of the CEO compensation at Canadian Imperial Bank of Commerce, below.\n",
      "TSX:CM CEO Compensation, August 14th 2019 MoreIs Canadian Imperial Bank of Commerce Growing?\n",
      "If you think CEO compensation levels are interesting you will probably really like this free visualization of insider trading at Canadian Imperial Bank of Commerce. \n",
      "----------------------------------------------------------------------------------------------------\n",
      "Could The Canadian Imperial Bank of Commerce (TSE:CM) Ownership Structure Tell Us Something Useful? ['Simply Wall St'] \n",
      " The big shareholder groups in Canadian Imperial Bank of Commerce (TSE:CM) have power over the company.\n",
      "Canadian Imperial Bank of Commerce has a market capitalization of CA$46b, so it’s too big to fly under the radar.\n",
      "Check out our latest analysis for Canadian Imperial Bank of CommerceWhat Does The Institutional Ownership Tell Us About Canadian Imperial Bank of Commerce?\n",
      "We can see that Canadian Imperial Bank of Commerce does have institutional investors; and they hold 52% of the stock.\n",
      "You can see Canadian Imperial Bank of Commerce’s historic earnings and revenue, below, but keep in mind there’s always more to the story. \n",
      "----------------------------------------------------------------------------------------------------\n",
      "CIBC reports jump in bad loans even as profit beats estimates ['Doug Alexander'] \n",
      " Canadian Imperial Bank of Commerce (CM:CT) is seeing an uptick in bad loans, providing validation to short-seller concerns that credit conditions are worsening.\n",
      "Key Insights-CIBC had an enviable record of defying expectations quarter after quarter, for almost four years, until missing estimates in the fourth quarter of 2018 -- and subsequent periods since.\n",
      "He appears to have been overly pessimistic, with per-share earnings for the third quarter rising 2.1 per cent to $1.4 billion.\n",
      "CIBC’s domestic mortgage book contracted for the third straight quarter with $201 billion in balances, down one per cent from a year ago.\n",
      "The division earned $657 million in the quarter, up 2.8 per cent, to account for 47 per cent of overall earnings. \n",
      "----------------------------------------------------------------------------------------------------\n",
      "All eyes on Big Six Bank earnings after volatile week for markets in Canada ['Divya Balji', 'Bloomberg News'] \n",
      " Investors will turn their focus to the first two of the Big Six banks to report fiscal third-quarter results after a week that roiled Canada’s equity and bond markets.\n",
      "Royal Bank of Canada kicks off the reporting season on Wednesday and CIBC the following day.\n",
      "Here’s what happened in Canada last week.\n",
      "Markets — Just The NumbersThe superlatives are endless: volatility on the S&P/TSX Composite Index surged to levels unseen in more than seven months.\n",
      "Foreigners sold $5.14 billion (US$3.87 billion) of bonds, and $1.1 billion of stocks and investment fund shares, according to Statistics Canada. \n",
      "----------------------------------------------------------------------------------------------------\n",
      " [] \n",
      "  \n",
      "----------------------------------------------------------------------------------------------------\n",
      "CIBC hikes dividend as it reports third-quarter profit rise, beating estimates [] \n",
      " TORONTO — The Canadian Imperial Bank Of Commerce hiked its dividend and reported a two per cent rise in its third-quarter net income to beat analyst estimates.\n",
      "article continues belowCIBC reported net income of $1.4 billion for the quarter ended July 31, compared with $1.37 billion during the same period a year ago.\n",
      "CIBC also said Thursday it will now pay a quarterly dividend of $1.44 per share, up four cents.\n",
      "On an adjusted basis, CIBC earned $3.10 per diluted share for the quarter, compared with an adjusted profit of $3.08 during the same quarter in 2018.\n",
      "Capital markets, however, reported a 13 per cent or $34 million drop in third-quarter net income to $231 million, primarily due to a higher provision for credit losses, CIBC said. \n",
      "----------------------------------------------------------------------------------------------------\n",
      "CIBC reports marginal rise in quarterly profit ['Reuters Editorial', 'Min Read'] \n",
      " Aug 22 (Reuters) - Canadian Imperial Bank of Commerce on Thursday reported a marginal rise in quarterly adjusted profit, as higher provision for credit losses in its capital markets unit offset gains in retail and commercial banking businesses.\n",
      "Net income attributable to common shareholders, excluding one-off items, rose to C$1.38 billion, or C$3.10 per share, in the third quarter ended July 31, from C$1.37 billion, or C$3.08 per share a year earlier.\n",
      "(Reporting by C Nivedita in Bengaluru; Editing by Shounak Dasgupta) \n",
      "----------------------------------------------------------------------------------------------------\n",
      "Cormark Comments on Canadian Imperial Bank of Commerce’s Q3 2019 Earnings (TSE:CM) ['Frank Smitson'] \n",
      " Canadian Imperial Bank of Commerce (TSE:CM) (NYSE:CM) – Analysts at Cormark reduced their Q3 2019 earnings per share (EPS) estimates for shares of Canadian Imperial Bank of Commerce in a report released on Thursday, August 15th.\n",
      "Cormark also issued estimates for Canadian Imperial Bank of Commerce’s FY2019 earnings at $11.98 EPS and FY2020 earnings at $12.19 EPS.\n",
      "Get Canadian Imperial Bank of Commerce alerts:A number of other brokerages have also issued reports on CM.\n",
      "In other Canadian Imperial Bank of Commerce news, Director Nicholas D’orr Le Pan sold 500 shares of Canadian Imperial Bank of Commerce stock in a transaction dated Wednesday, June 12th.\n",
      "Canadian Imperial Bank of Commerce Company ProfileCanadian Imperial Bank of Commerce, a diversified financial institution, provides various financial products and services to personal, business, public sector, and institutional clients in Canada, the United States, and internationally. \n",
      "----------------------------------------------------------------------------------------------------\n",
      "Canadian Imperial Bank of Commerce (NYSE:CM) - A Preview Of Canadian Imperial Bank's Q3 Earnings ['Benzinga News Desk', 'Following', 'Follow'] \n",
      " Don't be caught off-guard: Canadian Imperial Bank (NYSE: CM) releases its next round of earnings this Thursday, August 22.\n",
      "Earnings and RevenueWall Street analysts see Canadian Imperial Bank reporting earnings of $2.27 per share on sales of $3.51 billion.\n",
      "In the same quarter last year, Canadian Imperial Bank posted a profit of $2.37 on sales of $3.53 billion.\n",
      "The most common rating by analysts on Canadian Imperial Bank stock is a Neutral.\n",
      "Canadian Imperial Bank is scheduled to hold the call at 8:00 a.m. \n",
      "----------------------------------------------------------------------------------------------------\n",
      "3 Things to Watch on the TSX Index on Thursday [] \n",
      " The Motley Fool Canada » Investing » 3 Things to Watch on the TSX Index on ThursdayThe U.S. stock futures were slightly negative Thursday morning, as worries about the inverted bond yield curve continue to spook investors.\n",
      "Well, it appears that Canadian companies are also getting in on the act.\n",
      "In 2018, the TSX 60 repurchased $58 billion in stock — 58% higher than in 2017 and 118% higher than in 2016.\n",
      "According to FactSet, TSX 60 companies are buying back more stock today than they have in the past two decades.\n",
      "According to the Post’s article, TSX companies are undertaking far more substantial issuer bids, which allows them to go above and beyond normal course issuer bids. \n",
      "----------------------------------------------------------------------------------------------------\n",
      "Canadian Imperial Bank of Commerce to Host Earnings Call [] \n",
      " NEW YORK, NY / ACCESSWIRE / August 22, 2019 / Canadian Imperial Bank of Commerce (NYSE: CAI) will be discussing their earnings results in their 2019 Third Quarter Earnings to be held on August 22, 2019 at 8:00 AM Eastern Time.\n",
      "About Investor NetworkInvestor Network (IN) is a financial content community, serving millions of unique investors market information, earnings, commentary and news on the what’s trending.\n",
      "Dedicated to both the professional and the average traders, IN offers timely, trusted and relevant financial information for virtually every investor.\n",
      "IN is an Issuer Direct brand, to learn more or for the latest financial news and market information, visit www.investornetwork.com.\n",
      "SOURCE: Investor NetworkView source version on accesswire.com:https://www.accesswire.com/556941/Canadian-Imperial-Bank-of-Commerce-to-Host-Earnings-Call \n",
      "----------------------------------------------------------------------------------------------------\n",
      "Royal Bank hikes its dividend as its Q3 net income rises 6 per cent to $3.3B ['Armina Ligaya'] \n",
      " RBC's personal and commercial banking division saw net income of $1.66 billion, up 10 per cent year-over-year due to volume growth and higher spreads in Canadian banking.\n",
      "City National saw loan growth of 17 per cent year-over-year during the latest quarter, RBC said.\n",
      "However, RBC's capital markets division saw net income drop by six per cent year-over-year to $653 million.\n",
      "He became its capital markets CEO in 2008, and assumed responsibility for investor and treasury services in 2012.\n",
      "The bank's global head of investment banking at RBC Capital Markets Derek Neldner, has been appointed as group head of capital markets effective Nov. 1 when McGregor will become chairman of RBC Capital Markets through to his retirement. \n",
      "----------------------------------------------------------------------------------------------------\n",
      "Royal Bank Q3 net income rises to $3.3B, but misses estimates ['Armina Ligaya', 'Canadian Press', 'Ie Staff'] \n",
      " RBC’s personal and commercial banking division saw net income of $1.66 billion, up 10% year-over-year due to volume growth and higher spreads in Canadian banking.\n",
      "However, RBC’s capital markets division saw net income drop by 6% year-over-year to $653 million.\n",
      "He became its capital markets CEO in 2008, and assumed responsibility for investor and treasury services in 2012.\n",
      "The bank’s global head of investment banking at RBC Capital Markets Derek Neldner, has been appointed as group head of capital markets effective Nov. 1 when McGregor will become chairman of RBC Capital Markets through to his retirement.\n",
      "RBC’s group head of wealth management and insurance, Doug Guzman, will assume leadership for investor and treasury services. \n",
      "----------------------------------------------------------------------------------------------------\n",
      "Royal Bank of Canada profit rises as Canada business posts surprise growth ['Reuters Inc.'] \n",
      " Canada's largest lender by market share also said it would raise its quarterly dividend by 3% to C$1.05 per share.\n",
      "Its shares rose 0.3% to C$99.64 in morning trade in Toronto, after climbing as much as 1.4% earlier.\n",
      "Net income in its personal and commercial banking business rose 10% and wealth management saw profit growth of 11%.\n",
      "Net income at Royal Bank's capital markets business, which includes trading, investment banking and advisory, fell 6%, in part because of declines in equity trading and loan syndication revenue.\n",
      "Total loan loss provisions rose 23% to C$425 million, driven by increased provisions in capital markets, wealth management and personal and commercial banking. \n",
      "----------------------------------------------------------------------------------------------------\n",
      "Posthaste: How to play the market in troubled times, buyback boom and RBC's stake in rewards business [] \n",
      " From today till Saturday, dozens of central bankers, policymakers, academics and economists will descend on Jackson Hole, Wyo.\n",
      "to participate in the annual Jackson Hole Economic Policy Symposium, hosted by the Federal Reserve Bank of Kansas City.\n",
      "The Bank of Canada is set to release its next interest rate decision on Sept. 4.\n",
      "“The picture hasn’t changed a lot,” Nathan Janzen, a senior economist at Royal Bank of Canada, told Reuters.\n",
      "— Send your news, comments and stories to to yhussain@postmedia.com — Yadullah Hussain @Yad_fpenergyWith files from The Canadian Press, Thomson Reuters and Bloomberg \n",
      "----------------------------------------------------------------------------------------------------\n",
      " ['The Canadian Press'] \n",
      "  \n",
      "----------------------------------------------------------------------------------------------------\n"
     ]
    }
   ],
   "source": [
    "for each in arts:\n",
    "    print(each.title, each.authors, '\\n', each.summary, '\\n' + '-'*100)"
   ]
  },
  {
   "cell_type": "code",
   "execution_count": null,
   "metadata": {},
   "outputs": [],
   "source": []
  },
  {
   "cell_type": "code",
   "execution_count": 10,
   "metadata": {},
   "outputs": [],
   "source": [
    "keywords = set()\n",
    "for each in arts:\n",
    "    for i in each.keywords:\n",
    "        keywords.add(i)"
   ]
  },
  {
   "cell_type": "code",
   "execution_count": 11,
   "metadata": {},
   "outputs": [
    {
     "name": "stdout",
     "output_type": "stream",
     "text": [
      "troubled,\n",
      "held,\n",
      "tsx,\n",
      "stake,\n",
      "cheap,\n",
      "expense,\n",
      "state,\n",
      "tell,\n",
      "federal,\n",
      "daily,\n",
      "challenging,\n",
      "banking,\n",
      "performance,\n",
      "6the,\n",
      "arbitrary,\n",
      "heres,\n",
      "income,\n",
      "analysis,\n",
      "buyback,\n",
      "rises,\n",
      "brace,\n",
      "chief,\n",
      "imperials,\n",
      "marginal,\n",
      "higher,\n",
      "compensation,\n",
      "misses,\n",
      "trading,\n",
      "market,\n",
      "subject,\n",
      "york,\n",
      "release,\n",
      "things,\n",
      "cormark,\n",
      "21,\n",
      "commerce,\n",
      "royal,\n",
      "tsecm,\n",
      "stock,\n",
      "eyes,\n",
      "sales,\n",
      "minister,\n",
      "meet,\n",
      "investor,\n",
      "imperial,\n",
      "comments,\n",
      "rating,\n",
      "symposium,\n",
      "personal,\n",
      "does,\n",
      "shounak,\n",
      "retail,\n",
      "prospects,\n",
      "canadas,\n",
      "company,\n",
      "lower,\n",
      "today,\n",
      "beating,\n",
      "preview,\n",
      "chase,\n",
      "policy,\n",
      "rewards,\n",
      "information,\n",
      "freeland,\n",
      "index,\n",
      "ignore,\n",
      "jackson,\n",
      "et,\n",
      "companies,\n",
      "stocks,\n",
      "play,\n",
      "bank,\n",
      "measures,\n",
      "report,\n",
      "quarterly,\n",
      "cent,\n",
      "second,\n",
      "unit,\n",
      "reporting,\n",
      "outlook,\n",
      "net,\n",
      "profit,\n",
      "bnn,\n",
      "rise,\n",
      "eps,\n",
      "million,\n",
      "estimates,\n",
      "loyal,\n",
      "rose,\n",
      "week,\n",
      "insiders,\n",
      "useful,\n",
      "expect,\n",
      "227,\n",
      "zivitz,\n",
      "share,\n",
      "loans,\n",
      "33b,\n",
      "spotlight,\n",
      "rbcs,\n",
      "dividend,\n",
      "truly,\n",
      "tsxcm,\n",
      "reserve,\n",
      "markets,\n",
      "magistrate,\n",
      "beats,\n",
      "analyst,\n",
      "volatile,\n",
      "institutions,\n",
      "target,\n",
      "ceo,\n",
      "thirdquarter,\n",
      "advise,\n",
      "nysecm,\n",
      "past,\n",
      "jump,\n",
      "pompeo,\n",
      "visit,\n",
      "rbc,\n",
      "earnings,\n",
      "interest,\n",
      "group,\n",
      "loan,\n",
      "watch,\n",
      "domestic,\n",
      "posts,\n",
      "structure,\n",
      "big,\n",
      "price,\n",
      "posthaste,\n",
      "times,\n",
      "2019,\n",
      "billion,\n",
      "treasury,\n",
      "submit,\n",
      "commercial,\n",
      "hikes,\n",
      "canadian,\n",
      "rates,\n",
      "street,\n",
      "hole,\n",
      "bad,\n",
      "ownership,\n",
      "reports,\n",
      "growth,\n",
      "22,\n",
      "think,\n",
      "pipeline,\n",
      "rate,\n",
      "sptsx,\n",
      "roiled,\n",
      "commerces,\n",
      "business,\n",
      "quarter,\n",
      "foreign,\n",
      "capital,\n",
      "host,\n",
      "banks,\n",
      "shareholders,\n",
      "reflect,\n",
      "canada,\n",
      "wwwinvestornetworkcom,\n",
      "total,\n",
      "cibcs,\n",
      "cibc,\n",
      "q3,\n",
      "salary,\n",
      "services,\n",
      "surprise,\n",
      "investors,\n",
      "reported,\n",
      "financial,\n",
      "offset,\n"
     ]
    }
   ],
   "source": [
    "for each in keywords:\n",
    "    print(each + \",\")"
   ]
  }
 ],
 "metadata": {
  "kernelspec": {
   "display_name": "Python 3",
   "language": "python",
   "name": "python3"
  },
  "language_info": {
   "codemirror_mode": {
    "name": "ipython",
    "version": 3
   },
   "file_extension": ".py",
   "mimetype": "text/x-python",
   "name": "python",
   "nbconvert_exporter": "python",
   "pygments_lexer": "ipython3",
   "version": "3.7.1"
  }
 },
 "nbformat": 4,
 "nbformat_minor": 2
}
