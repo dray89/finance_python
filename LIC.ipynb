{
 "cells": [
  {
   "cell_type": "code",
   "execution_count": 53,
   "metadata": {},
   "outputs": [],
   "source": [
    "from news_updates.news_sources_v3 import News\n",
    "import time"
   ]
  },
  {
   "cell_type": "code",
   "execution_count": 54,
   "metadata": {},
   "outputs": [
    {
     "data": {
      "text/plain": [
       "'C:\\\\Users\\\\rayde\\\\iCloudDrive\\\\GitHub'"
      ]
     },
     "execution_count": 54,
     "metadata": {},
     "output_type": "execute_result"
    }
   ],
   "source": [
    "pwd"
   ]
  },
  {
   "cell_type": "code",
   "execution_count": 55,
   "metadata": {},
   "outputs": [
    {
     "name": "stdout",
     "output_type": "stream",
     "text": [
      "--- 19.98031449317932 seconds ---\n"
     ]
    }
   ],
   "source": [
    "start_time = time.time()\n",
    "ema = News('TSX:TSGI')    \n",
    "print(\"--- %s seconds ---\" % (time.time() - start_time))"
   ]
  },
  {
   "cell_type": "code",
   "execution_count": 56,
   "metadata": {},
   "outputs": [],
   "source": [
    "links = ema.links"
   ]
  },
  {
   "cell_type": "code",
   "execution_count": 57,
   "metadata": {},
   "outputs": [
    {
     "data": {
      "text/plain": [
       "20"
      ]
     },
     "execution_count": 57,
     "metadata": {},
     "output_type": "execute_result"
    }
   ],
   "source": [
    "len(links)"
   ]
  },
  {
   "cell_type": "code",
   "execution_count": 71,
   "metadata": {},
   "outputs": [
    {
     "data": {
      "text/plain": [
       "[<newspaper.article.Article at 0x23f44dc4cc0>,\n",
       " <newspaper.article.Article at 0x23f4505afd0>,\n",
       " <newspaper.article.Article at 0x23f4506b550>,\n",
       " <newspaper.article.Article at 0x23f45119668>,\n",
       " <newspaper.article.Article at 0x23f450fe198>,\n",
       " <newspaper.article.Article at 0x23f45115160>,\n",
       " <newspaper.article.Article at 0x23f44e76f28>,\n",
       " <newspaper.article.Article at 0x23f450f1a90>,\n",
       " <newspaper.article.Article at 0x23f4506b208>]"
      ]
     },
     "execution_count": 71,
     "metadata": {},
     "output_type": "execute_result"
    }
   ],
   "source": [
    "ema.art_list"
   ]
  },
  {
   "cell_type": "code",
   "execution_count": 69,
   "metadata": {},
   "outputs": [],
   "source": [
    "articles= ema.art_list\n",
    "for index, each in enumerate(articles):\n",
    "    if each.summary == '':\n",
    "        articles.pop(index)\n",
    "    else:\n",
    "        pass"
   ]
  },
  {
   "cell_type": "code",
   "execution_count": 72,
   "metadata": {},
   "outputs": [
    {
     "data": {
      "text/plain": [
       "9"
      ]
     },
     "execution_count": 72,
     "metadata": {},
     "output_type": "execute_result"
    }
   ],
   "source": [
    "len(articles)"
   ]
  },
  {
   "cell_type": "code",
   "execution_count": 73,
   "metadata": {},
   "outputs": [],
   "source": [
    "keywords = set()\n",
    "for each in articles:\n",
    "    for i in each.keywords:\n",
    "        keywords.add(i)"
   ]
  },
  {
   "cell_type": "code",
   "execution_count": 74,
   "metadata": {},
   "outputs": [
    {
     "name": "stdout",
     "output_type": "stream",
     "text": [
      "company ,\n",
      "target ,\n",
      "155702 ,\n",
      "tsxtsgi ,\n",
      "price ,\n",
      "month ,\n",
      "assets ,\n",
      "better ,\n",
      "growth ,\n",
      "shares ,\n",
      "states ,\n",
      "option ,\n",
      "lows ,\n",
      "debt ,\n",
      "betting ,\n",
      "potential ,\n",
      "industry ,\n",
      "ratios ,\n",
      "holding ,\n",
      "numbers ,\n",
      "score ,\n",
      "buy ,\n",
      "stock ,\n",
      "lot ,\n",
      "cash ,\n",
      "bargain ,\n",
      "holders ,\n",
      "free ,\n",
      "market ,\n",
      "flow ,\n",
      "quant ,\n",
      "current ,\n",
      "looking ,\n",
      "cannabis ,\n",
      "4000000 ,\n",
      "003080 ,\n",
      "content ,\n",
      "value ,\n",
      "average ,\n",
      "reaches ,\n",
      "portfolio ,\n",
      "forget ,\n",
      "52week ,\n",
      "momentum ,\n",
      "focus ,\n",
      "moving ,\n",
      "profit ,\n",
      "muse ,\n",
      "delving ,\n",
      "stars ,\n",
      "group ,\n",
      "gambling ,\n",
      "watch ,\n",
      "hitting ,\n",
      "revenue ,\n",
      "investors ,\n",
      "qi ,\n",
      "ratio ,\n",
      "trading ,\n",
      "earnings ,\n",
      "003170 ,\n",
      "flexion ,\n",
      "therapeutics ,\n",
      "nasdaqgmflxn ,\n",
      "theres ,\n",
      "past ,\n",
      "calculated ,\n",
      "valuation ,\n",
      "weight ,\n",
      "prove ,\n",
      "index ,\n",
      "stocks ,\n",
      "uranium ,\n"
     ]
    }
   ],
   "source": [
    "for each in keywords:\n",
    "    print(each, \",\")\n",
    "    "
   ]
  },
  {
   "cell_type": "code",
   "execution_count": 75,
   "metadata": {},
   "outputs": [
    {
     "data": {
      "text/plain": [
       "73"
      ]
     },
     "execution_count": 75,
     "metadata": {},
     "output_type": "execute_result"
    }
   ],
   "source": [
    "len(keywords)"
   ]
  },
  {
   "cell_type": "code",
   "execution_count": 80,
   "metadata": {
    "scrolled": true
   },
   "outputs": [
    {
     "name": "stdout",
     "output_type": "stream",
     "text": [
      "Should Holders in The Stars Group Inc. ($TSX:TSGI) Be Content With -1.55702 Profit Growth?\n",
      " \n",
      "Investors looking to measure the profitability of The Stars Group Inc. (TSX:TSGI) should take note of the one year net profit growth ratio of -1.55702.\n",
      "At the time of writing The Stars Group Inc. (TSX:TSGI) have a current value of -10.52110.\n",
      "The Stars Group Inc. (TSX:TSGI) of the Travel & Leisure sector closed the recent session at 20.580000 with a market value of $4466346.\n",
      "The Stars Group Inc. (TSX:TSGI) has a current suggested portfolio rate of 0.03080 (as a decimal) ownership.\n",
      "The Stars Group Inc. (TSX:TSGI) has Return on Invested Capital of 0.790408, with a 5-year average of 0.951086 and an ROIC quality score of 2.351174.\n",
      " \n",
      "Delving Into The Numbers For The Stars Group Inc. (TSX:TSGI)\n",
      " \n",
      "Watching some historical volatility numbers on shares of The Stars Group Inc. (TSX:TSGI), we can see that the 12 month volatility is presently 42.753900.\n",
      "At the time of writing, The Stars Group Inc. (TSX:TSGI) has a Piotroski F-Score of 3.\n",
      "Free Cash Flow Growth (FCF Growth) is the free cash flow of the current year minus the free cash flow from the previous year, divided by last year’s free cash flow.\n",
      "The Free Cash Flow Score (FCF Score) is a helpful tool in calculating the free cash flow growth with free cash flow stability – this gives investors the overall quality of the free cash flow.\n",
      "Experts say the higher the value, the better, as it means that the free cash flow is high, or the variability of free cash flow is low or both.\n",
      " \n",
      "Is The Stars Group Inc. (TSX:TSGI) Holding More Than 0.03080 of your Portfolio?\n",
      " \n",
      "50/200 Simple Moving Average CrossThe Stars Group Inc. (TSX:TSGI) has a 0.92760 50/200 day moving average cross value.\n",
      "Cross SMA 50/200 (SMA = Simple Moving Average) and is calculated as follows:Cross SMA 50/200 = 50 day moving average / 200day moving average.\n",
      "The Stars Group Inc. (TSX:TSGI) of the Travel & Leisure sector closed the recent session at 21.120000 with a market value of $4583538.\n",
      "Higher Capex also often means lower Free Cash Flow (Operating cash flow – Capex) generation and lower dividends as companies don’t have the cash to pay dividends if they are investing more in the business.\n",
      "This number stands at 0.01325 for The Stars Group Inc. (TSX:TSGI).\n",
      " \n",
      "Flexion Therapeutics, Inc. (NasdaqGM:FLXN), The Stars Group Inc. (TSX:TSGI) Quant Data & Profit Ratios In Focus\n",
      " \n",
      "Checking in on some other ratios, the company has a Price to Cash Flow ratio of -2.722666, and a current Price to Earnings ratio of -2.630635.\n",
      "These ratios are price to earnings, price to cash flow, EBITDA to EV, price to book value, and price to sales.\n",
      "A score of nine indicates a high value stock, while a score of one indicates a low value stock.\n",
      "These ratios are price to earnings, price to cash flow, EBITDA to EV, price to book value, and price to sales.\n",
      "A score of nine indicates a high value stock, while a score of one indicates a low value stock.\n",
      " \n",
      "Forget Cannabis Stocks: This Industry Could Be a Much Better Option\n",
      " \n",
      "The Motley Fool Canada » Investing » Forget Cannabis Stocks: This Industry Could Be a Much Better OptionCannabis stocks have recently come under scrutiny as concerns about lack of profitability and overall governance have led to some pretty significant sell-offs.\n",
      "There’s no risk surrounding inventory and whether products are of a certain quality the way they are in the cannabis industry.\n",
      "Instead, Stars Group just has to provide a good service online that users can access from on their phones or computers.\n",
      "And although Stars Group may have run into some tough quarters lately, it has a great opportunity to turn things around as its sales continue to climb.\n",
      "And yet, Stars Group stock has lost more than half of its value over the past year and is trading right around book value at writing.\n",
      " \n",
      "The Stars Group Inc. (TSX:TSGI) QI Reaches 40.00000 & Valuation Watch – Stock Muse\n",
      " \n",
      "We can now take a quick look at some historical stock price index data.\n",
      "The Stars Group Inc. (TSX:TSGI) presently has a 10 month price index of 0.65352.\n",
      "Looking at some alternate time periods, the 12 month price index is 0.47436, the 24 month is 0.89969, and the 36 month is 1.03476.\n",
      "Narrowing in a bit closer, the 5 month price index is 0.92773, the 3 month is 0.84146, and the 1 month is currently 0.94091.\n",
      "A score of nine indicates a high value stock, while a score of one indicates a low value stock.\n",
      " \n",
      "3 Bargain Stocks Hitting New 52-Week Lows\n",
      " \n",
      "The Motley Fool Canada » Investing » 3 Bargain Stocks Hitting New 52-Week LowsHello again, Fools.\n",
      "I’m back to call attention to three stocks trading at new 52-week lows.\n",
      "Because the biggest stock market gains are made by buying attractive companies during times of severe market anxiety; and when they’re available at a clear discount to intrinsic value.\n",
      "Moreover, management remains confident about the uranium market long term.\n",
      "The bottom lineThere you have it, Fools: three ice-cold stocks hitting new 52-week lows.\n",
      " \n",
      "3 Stocks to Buy for August\n",
      " \n",
      "The Motley Fool Canada » Investing » 3 Stocks to Buy for AugustAugust is a big month for earnings, and there’s bound to be lots of activity on the markets.\n",
      "Below are three stocks that I expect will have good performances this month that could be great buys today.\n",
      "In just one year, Stars Group has lost half of its value.\n",
      "Great Canadian Gaming (TSX:GC) has also struggled during the past year, but not to the extent that Stars Group has, declining by just 4%.\n",
      "At a price-to-earnings ratio of just 18, that’s a steal of a deal for the growth potential that Great Canadian still has left.\n",
      " \n",
      "The Stars Group Inc. (TSX:TSGI) Momentum in Focus as Target Weight For Portfolio Reaches 0.03170\n",
      " \n",
      "The Stars Group Inc. (TSX:TSGI) has a current target weight (% as a decimal) of 0.03170.\n",
      "Taking look at some key returns data we can note the following:So how has The Stars Group Inc. (TSX:TSGI) performed in terms of returns?\n",
      "The Stars Group Inc.’s book to market ratio is at 0.982193 while the book to market mean difference is 0.54798.\n",
      "The Stars Group Inc. (TSX:TSGI) has seen free cash flow growth of -0.317449 and has a free cash flow score of 0.399035.\n",
      "Free Cash Flow Score (FCF Score) is a value that is calculated by combining Free cash flow growth with free cash flow stability.\n",
      " \n"
     ]
    }
   ],
   "source": [
    "for each in articles:\n",
    "    print(each.title)\n",
    "    print(' ')\n",
    "    print(each.summary)\n",
    "    print(' ')"
   ]
  }
 ],
 "metadata": {
  "kernelspec": {
   "display_name": "Python 3",
   "language": "python",
   "name": "python3"
  },
  "language_info": {
   "codemirror_mode": {
    "name": "ipython",
    "version": 3
   },
   "file_extension": ".py",
   "mimetype": "text/x-python",
   "name": "python",
   "nbconvert_exporter": "python",
   "pygments_lexer": "ipython3",
   "version": "3.7.1"
  }
 },
 "nbformat": 4,
 "nbformat_minor": 2
}
