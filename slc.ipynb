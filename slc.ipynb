{
 "cells": [
  {
   "cell_type": "code",
   "execution_count": 13,
   "metadata": {
    "scrolled": true
   },
   "outputs": [],
   "source": [
    "import pandas\n",
    "from finance_python.stock_scraper import calculations, industry\n",
    "from datetime import datetime\n",
    "from pandas import DataFrame\n",
    "from balance_sheet import balance_sheet"
   ]
  },
  {
   "cell_type": "code",
   "execution_count": 245,
   "metadata": {},
   "outputs": [
    {
     "data": {
      "text/html": [
       "<div>\n",
       "<style scoped>\n",
       "    .dataframe tbody tr th:only-of-type {\n",
       "        vertical-align: middle;\n",
       "    }\n",
       "\n",
       "    .dataframe tbody tr th {\n",
       "        vertical-align: top;\n",
       "    }\n",
       "\n",
       "    .dataframe thead th {\n",
       "        text-align: right;\n",
       "    }\n",
       "</style>\n",
       "<table border=\"1\" class=\"dataframe\">\n",
       "  <thead>\n",
       "    <tr style=\"text-align: right;\">\n",
       "      <th></th>\n",
       "      <th>WSP.TO</th>\n",
       "    </tr>\n",
       "  </thead>\n",
       "  <tbody>\n",
       "    <tr>\n",
       "      <th>name</th>\n",
       "      <td>WSP Global Inc.</td>\n",
       "    </tr>\n",
       "    <tr>\n",
       "      <th>quoteType</th>\n",
       "      <td>EQUITY</td>\n",
       "    </tr>\n",
       "    <tr>\n",
       "      <th>total_return</th>\n",
       "      <td>0.00720617</td>\n",
       "    </tr>\n",
       "    <tr>\n",
       "      <th>Price_Cap</th>\n",
       "      <td>9.54481e-09</td>\n",
       "    </tr>\n",
       "    <tr>\n",
       "      <th>Outstanding_Cap</th>\n",
       "      <td>1</td>\n",
       "    </tr>\n",
       "    <tr>\n",
       "      <th>one_pe</th>\n",
       "      <td>0.0335788</td>\n",
       "    </tr>\n",
       "    <tr>\n",
       "      <th>currency</th>\n",
       "      <td>CAD</td>\n",
       "    </tr>\n",
       "    <tr>\n",
       "      <th>perc_change</th>\n",
       "      <td>-0.0128205</td>\n",
       "    </tr>\n",
       "    <tr>\n",
       "      <th>fiftyDayAverage</th>\n",
       "      <td>72.43</td>\n",
       "    </tr>\n",
       "    <tr>\n",
       "      <th>trailingPE</th>\n",
       "      <td>29.7807</td>\n",
       "    </tr>\n",
       "    <tr>\n",
       "      <th>forwardPE</th>\n",
       "      <td>18.442</td>\n",
       "    </tr>\n",
       "    <tr>\n",
       "      <th>marketcap</th>\n",
       "      <td>7825197056</td>\n",
       "    </tr>\n",
       "    <tr>\n",
       "      <th>priceToBook</th>\n",
       "      <td>2.41567</td>\n",
       "    </tr>\n",
       "    <tr>\n",
       "      <th>price</th>\n",
       "      <td>74.69</td>\n",
       "    </tr>\n",
       "    <tr>\n",
       "      <th>avgchg200day</th>\n",
       "      <td>4.07526</td>\n",
       "    </tr>\n",
       "    <tr>\n",
       "      <th>avgpctchg200day</th>\n",
       "      <td>0.0577111</td>\n",
       "    </tr>\n",
       "    <tr>\n",
       "      <th>dividend yield</th>\n",
       "      <td>0.0200267</td>\n",
       "    </tr>\n",
       "    <tr>\n",
       "      <th>shares outstanding</th>\n",
       "      <td>104769000</td>\n",
       "    </tr>\n",
       "    <tr>\n",
       "      <th>dividend</th>\n",
       "      <td>0.375</td>\n",
       "    </tr>\n",
       "  </tbody>\n",
       "</table>\n",
       "</div>"
      ],
      "text/plain": [
       "                             WSP.TO\n",
       "name                WSP Global Inc.\n",
       "quoteType                    EQUITY\n",
       "total_return             0.00720617\n",
       "Price_Cap               9.54481e-09\n",
       "Outstanding_Cap                   1\n",
       "one_pe                    0.0335788\n",
       "currency                        CAD\n",
       "perc_change              -0.0128205\n",
       "fiftyDayAverage               72.43\n",
       "trailingPE                  29.7807\n",
       "forwardPE                    18.442\n",
       "marketcap                7825197056\n",
       "priceToBook                 2.41567\n",
       "price                         74.69\n",
       "avgchg200day                4.07526\n",
       "avgpctchg200day           0.0577111\n",
       "dividend yield            0.0200267\n",
       "shares outstanding        104769000\n",
       "dividend                      0.375"
      ]
     },
     "execution_count": 245,
     "metadata": {},
     "output_type": "execute_result"
    }
   ],
   "source": [
    "snc[1]"
   ]
  },
  {
   "cell_type": "code",
   "execution_count": 48,
   "metadata": {},
   "outputs": [],
   "source": [
    "snc = ['SNC.TO', 'WSP.TO', 'STN.TO', 'BAD.TO']\n",
    "indust_list = ['SNC.TO', 'WSP.TO', 'STN.TO', 'BAD.TO', \n",
    "                  'ARE.TO', 'DRT.TO', 'BDT.TO', 'IBG.TO', 'SOX.TO',\n",
    "                    'E.TO']\n",
    "source = \"yahoo\"\n",
    "start = datetime(2018, 7, 29)\n",
    "end = datetime(2019, 7, 29)"
   ]
  },
  {
   "cell_type": "code",
   "execution_count": 239,
   "metadata": {},
   "outputs": [
    {
     "ename": "AttributeError",
     "evalue": "'calculations' object has no attribute 'calc'",
     "output_type": "error",
     "traceback": [
      "\u001b[1;31m---------------------------------------------------------------------------\u001b[0m",
      "\u001b[1;31mAttributeError\u001b[0m                            Traceback (most recent call last)",
      "\u001b[1;32m<ipython-input-239-af32fa41fffc>\u001b[0m in \u001b[0;36m<module>\u001b[1;34m\u001b[0m\n\u001b[0;32m      1\u001b[0m \u001b[0mexxon\u001b[0m \u001b[1;33m=\u001b[0m \u001b[1;34m'xom'\u001b[0m\u001b[1;33m\u001b[0m\u001b[1;33m\u001b[0m\u001b[0m\n\u001b[1;32m----> 2\u001b[1;33m \u001b[0mex\u001b[0m\u001b[1;33m.\u001b[0m\u001b[0mcalc\u001b[0m\u001b[1;33m\u001b[0m\u001b[1;33m\u001b[0m\u001b[0m\n\u001b[0m",
      "\u001b[1;31mAttributeError\u001b[0m: 'calculations' object has no attribute 'calc'"
     ]
    }
   ],
   "source": [
    "exxon = 'xom'\n",
    "ex."
   ]
  },
  {
   "cell_type": "code",
   "execution_count": 241,
   "metadata": {},
   "outputs": [
    {
     "data": {
      "text/plain": [
       "'Exxon Mobil Corporation explores for and produces crude oil and natural gas in the United States, Canada/Other Americas, Europe, Africa, Asia, and Australia/Oceania. It operates through Upstream, Downstream, and Chemical segments. The company is also involved in the manufacture, trade, transport, and sale of crude oil, petroleum products, and other specialty products; and manufactures and markets petrochemicals, including olefins, polyolefins, aromatics, and various other petrochemicals. As of December 31, 2018, it had approximately 24,696 net operated wells with proved reserves of 24.3 billion oil-equivalent barrels. The company was founded in 1870 and is headquartered in Irving, Texas.'"
      ]
     },
     "execution_count": 241,
     "metadata": {},
     "output_type": "execute_result"
    }
   ],
   "source": [
    "ex.description"
   ]
  },
  {
   "cell_type": "code",
   "execution_count": 49,
   "metadata": {},
   "outputs": [],
   "source": [
    "d = list(map(lambda x: {x: calculations(x, source, start, end)}, indust_list))"
   ]
  },
  {
   "cell_type": "code",
   "execution_count": 51,
   "metadata": {},
   "outputs": [
    {
     "data": {
      "text/plain": [
       "[{'SNC.TO': <finance_python.stock_scraper.calculations at 0x1c723ce6630>},\n",
       " {'WSP.TO': <finance_python.stock_scraper.calculations at 0x1c723ced240>},\n",
       " {'STN.TO': <finance_python.stock_scraper.calculations at 0x1c7233cb048>},\n",
       " {'BAD.TO': <finance_python.stock_scraper.calculations at 0x1c723ced550>},\n",
       " {'ARE.TO': <finance_python.stock_scraper.calculations at 0x1c72320f400>},\n",
       " {'DRT.TO': <finance_python.stock_scraper.calculations at 0x1c721d45208>},\n",
       " {'BDT.TO': <finance_python.stock_scraper.calculations at 0x1c721d45da0>},\n",
       " {'IBG.TO': <finance_python.stock_scraper.calculations at 0x1c723fb8f98>},\n",
       " {'SOX.TO': <finance_python.stock_scraper.calculations at 0x1c722e6b748>},\n",
       " {'E.TO': <finance_python.stock_scraper.calculations at 0x1c72343b320>}]"
      ]
     },
     "execution_count": 51,
     "metadata": {},
     "output_type": "execute_result"
    }
   ],
   "source": [
    "a = list(d[0].values())[0]\n",
    "d"
   ]
  },
  {
   "cell_type": "code",
   "execution_count": 53,
   "metadata": {},
   "outputs": [
    {
     "data": {
      "text/plain": [
       "[{'SNC.TO': <balance_sheet.balance_sheet at 0x1c72323f400>},\n",
       " {'WSP.TO': <balance_sheet.balance_sheet at 0x1c72368d940>},\n",
       " {'STN.TO': <balance_sheet.balance_sheet at 0x1c72365e048>},\n",
       " {'BAD.TO': <balance_sheet.balance_sheet at 0x1c72338ef98>},\n",
       " {'ARE.TO': <balance_sheet.balance_sheet at 0x1c723c7a2b0>},\n",
       " {'DRT.TO': <balance_sheet.balance_sheet at 0x1c7251a45f8>},\n",
       " {'BDT.TO': <balance_sheet.balance_sheet at 0x1c725486b00>},\n",
       " {'IBG.TO': <balance_sheet.balance_sheet at 0x1c72575bd30>},\n",
       " {'SOX.TO': <balance_sheet.balance_sheet at 0x1c725a283c8>},\n",
       " {'E.TO': <balance_sheet.balance_sheet at 0x1c725d01d68>}]"
      ]
     },
     "execution_count": 53,
     "metadata": {},
     "output_type": "execute_result"
    }
   ],
   "source": [
    "d2 = list(map(lambda x: {x: balance_sheet(x)}, indust_list))\n",
    "d2"
   ]
  },
  {
   "cell_type": "code",
   "execution_count": 246,
   "metadata": {
    "scrolled": true
   },
   "outputs": [
    {
     "ename": "KeyError",
     "evalue": "'SNC.TO'",
     "output_type": "error",
     "traceback": [
      "\u001b[1;31m---------------------------------------------------------------------------\u001b[0m",
      "\u001b[1;31mKeyError\u001b[0m                                  Traceback (most recent call last)",
      "\u001b[1;32m<ipython-input-246-30b49de388a2>\u001b[0m in \u001b[0;36m<module>\u001b[1;34m\u001b[0m\n\u001b[1;32m----> 1\u001b[1;33m \u001b[0ma\u001b[0m \u001b[1;33m=\u001b[0m \u001b[0mlist\u001b[0m\u001b[1;33m(\u001b[0m\u001b[0mmap\u001b[0m\u001b[1;33m(\u001b[0m\u001b[1;32mlambda\u001b[0m \u001b[0mx\u001b[0m\u001b[1;33m,\u001b[0m \u001b[0my\u001b[0m\u001b[1;33m:\u001b[0m \u001b[0md\u001b[0m\u001b[1;33m[\u001b[0m\u001b[0mx\u001b[0m\u001b[1;33m]\u001b[0m\u001b[1;33m[\u001b[0m\u001b[0my\u001b[0m\u001b[1;33m]\u001b[0m\u001b[1;33m.\u001b[0m\u001b[0mcalcdf\u001b[0m\u001b[1;33m,\u001b[0m \u001b[0mrange\u001b[0m\u001b[1;33m(\u001b[0m\u001b[1;36m0\u001b[0m\u001b[1;33m,\u001b[0m \u001b[0mlen\u001b[0m\u001b[1;33m(\u001b[0m\u001b[0mindust_list\u001b[0m\u001b[1;33m)\u001b[0m\u001b[1;33m)\u001b[0m\u001b[1;33m,\u001b[0m \u001b[0mindust_list\u001b[0m\u001b[1;33m)\u001b[0m\u001b[1;33m)\u001b[0m\u001b[1;33m\u001b[0m\u001b[1;33m\u001b[0m\u001b[0m\n\u001b[0m",
      "\u001b[1;32m<ipython-input-246-30b49de388a2>\u001b[0m in \u001b[0;36m<lambda>\u001b[1;34m(x, y)\u001b[0m\n\u001b[1;32m----> 1\u001b[1;33m \u001b[0ma\u001b[0m \u001b[1;33m=\u001b[0m \u001b[0mlist\u001b[0m\u001b[1;33m(\u001b[0m\u001b[0mmap\u001b[0m\u001b[1;33m(\u001b[0m\u001b[1;32mlambda\u001b[0m \u001b[0mx\u001b[0m\u001b[1;33m,\u001b[0m \u001b[0my\u001b[0m\u001b[1;33m:\u001b[0m \u001b[0md\u001b[0m\u001b[1;33m[\u001b[0m\u001b[0mx\u001b[0m\u001b[1;33m]\u001b[0m\u001b[1;33m[\u001b[0m\u001b[0my\u001b[0m\u001b[1;33m]\u001b[0m\u001b[1;33m.\u001b[0m\u001b[0mcalcdf\u001b[0m\u001b[1;33m,\u001b[0m \u001b[0mrange\u001b[0m\u001b[1;33m(\u001b[0m\u001b[1;36m0\u001b[0m\u001b[1;33m,\u001b[0m \u001b[0mlen\u001b[0m\u001b[1;33m(\u001b[0m\u001b[0mindust_list\u001b[0m\u001b[1;33m)\u001b[0m\u001b[1;33m)\u001b[0m\u001b[1;33m,\u001b[0m \u001b[0mindust_list\u001b[0m\u001b[1;33m)\u001b[0m\u001b[1;33m)\u001b[0m\u001b[1;33m\u001b[0m\u001b[1;33m\u001b[0m\u001b[0m\n\u001b[0m",
      "\u001b[1;31mKeyError\u001b[0m: 'SNC.TO'"
     ]
    }
   ],
   "source": [
    "a = list(map(lambda x, y: d[x][y].calcdf, range(0, len(indust_list)), indust_list))"
   ]
  },
  {
   "cell_type": "code",
   "execution_count": 247,
   "metadata": {},
   "outputs": [
    {
     "ename": "TypeError",
     "evalue": "cannot concatenate object of type \"<class 'dict'>\"; only pd.Series, pd.DataFrame, and pd.Panel (deprecated) objs are valid",
     "output_type": "error",
     "traceback": [
      "\u001b[1;31m---------------------------------------------------------------------------\u001b[0m",
      "\u001b[1;31mTypeError\u001b[0m                                 Traceback (most recent call last)",
      "\u001b[1;32m<ipython-input-247-2181a79fbd20>\u001b[0m in \u001b[0;36m<module>\u001b[1;34m\u001b[0m\n\u001b[1;32m----> 1\u001b[1;33m \u001b[0mpandas\u001b[0m\u001b[1;33m.\u001b[0m\u001b[0mconcat\u001b[0m\u001b[1;33m(\u001b[0m\u001b[0ma\u001b[0m\u001b[1;33m,\u001b[0m \u001b[0maxis\u001b[0m\u001b[1;33m=\u001b[0m\u001b[1;36m1\u001b[0m\u001b[1;33m)\u001b[0m\u001b[1;33m\u001b[0m\u001b[1;33m\u001b[0m\u001b[0m\n\u001b[0m",
      "\u001b[1;32m~\\Anaconda3\\lib\\site-packages\\pandas\\core\\reshape\\concat.py\u001b[0m in \u001b[0;36mconcat\u001b[1;34m(objs, axis, join, join_axes, ignore_index, keys, levels, names, verify_integrity, sort, copy)\u001b[0m\n\u001b[0;32m    226\u001b[0m                        \u001b[0mkeys\u001b[0m\u001b[1;33m=\u001b[0m\u001b[0mkeys\u001b[0m\u001b[1;33m,\u001b[0m \u001b[0mlevels\u001b[0m\u001b[1;33m=\u001b[0m\u001b[0mlevels\u001b[0m\u001b[1;33m,\u001b[0m \u001b[0mnames\u001b[0m\u001b[1;33m=\u001b[0m\u001b[0mnames\u001b[0m\u001b[1;33m,\u001b[0m\u001b[1;33m\u001b[0m\u001b[1;33m\u001b[0m\u001b[0m\n\u001b[0;32m    227\u001b[0m                        \u001b[0mverify_integrity\u001b[0m\u001b[1;33m=\u001b[0m\u001b[0mverify_integrity\u001b[0m\u001b[1;33m,\u001b[0m\u001b[1;33m\u001b[0m\u001b[1;33m\u001b[0m\u001b[0m\n\u001b[1;32m--> 228\u001b[1;33m                        copy=copy, sort=sort)\n\u001b[0m\u001b[0;32m    229\u001b[0m     \u001b[1;32mreturn\u001b[0m \u001b[0mop\u001b[0m\u001b[1;33m.\u001b[0m\u001b[0mget_result\u001b[0m\u001b[1;33m(\u001b[0m\u001b[1;33m)\u001b[0m\u001b[1;33m\u001b[0m\u001b[1;33m\u001b[0m\u001b[0m\n\u001b[0;32m    230\u001b[0m \u001b[1;33m\u001b[0m\u001b[0m\n",
      "\u001b[1;32m~\\Anaconda3\\lib\\site-packages\\pandas\\core\\reshape\\concat.py\u001b[0m in \u001b[0;36m__init__\u001b[1;34m(self, objs, axis, join, join_axes, keys, levels, names, ignore_index, verify_integrity, copy, sort)\u001b[0m\n\u001b[0;32m    287\u001b[0m                        \u001b[1;34m' only pd.Series, pd.DataFrame, and pd.Panel'\u001b[0m\u001b[1;33m\u001b[0m\u001b[1;33m\u001b[0m\u001b[0m\n\u001b[0;32m    288\u001b[0m                        ' (deprecated) objs are valid'.format(type(obj)))\n\u001b[1;32m--> 289\u001b[1;33m                 \u001b[1;32mraise\u001b[0m \u001b[0mTypeError\u001b[0m\u001b[1;33m(\u001b[0m\u001b[0mmsg\u001b[0m\u001b[1;33m)\u001b[0m\u001b[1;33m\u001b[0m\u001b[1;33m\u001b[0m\u001b[0m\n\u001b[0m\u001b[0;32m    290\u001b[0m \u001b[1;33m\u001b[0m\u001b[0m\n\u001b[0;32m    291\u001b[0m             \u001b[1;31m# consolidate\u001b[0m\u001b[1;33m\u001b[0m\u001b[1;33m\u001b[0m\u001b[1;33m\u001b[0m\u001b[0m\n",
      "\u001b[1;31mTypeError\u001b[0m: cannot concatenate object of type \"<class 'dict'>\"; only pd.Series, pd.DataFrame, and pd.Panel (deprecated) objs are valid"
     ]
    }
   ],
   "source": [
    "pandas.concat(a, axis=1)"
   ]
  },
  {
   "cell_type": "code",
   "execution_count": 224,
   "metadata": {},
   "outputs": [
    {
     "ename": "TypeError",
     "evalue": "__init__() missing 3 required positional arguments: 'source', 'start', and 'end'",
     "output_type": "error",
     "traceback": [
      "\u001b[1;31m---------------------------------------------------------------------------\u001b[0m",
      "\u001b[1;31mTypeError\u001b[0m                                 Traceback (most recent call last)",
      "\u001b[1;32m<ipython-input-224-d01c3569833e>\u001b[0m in \u001b[0;36m<module>\u001b[1;34m\u001b[0m\n\u001b[0;32m      2\u001b[0m \u001b[0msnc_bsd\u001b[0m\u001b[1;33m.\u001b[0m\u001b[0massets\u001b[0m\u001b[1;33m/\u001b[0m\u001b[0msnc_bsd\u001b[0m\u001b[1;33m.\u001b[0m\u001b[0massets3\u001b[0m\u001b[1;33m\u001b[0m\u001b[1;33m\u001b[0m\u001b[0m\n\u001b[0;32m      3\u001b[0m \u001b[1;32mfrom\u001b[0m \u001b[0mearnings\u001b[0m \u001b[1;32mimport\u001b[0m \u001b[0mearnings\u001b[0m\u001b[1;33m\u001b[0m\u001b[1;33m\u001b[0m\u001b[0m\n\u001b[1;32m----> 4\u001b[1;33m \u001b[0msnc_earn\u001b[0m  \u001b[1;33m=\u001b[0m \u001b[0mearnings\u001b[0m\u001b[1;33m(\u001b[0m\u001b[1;34m'SNC.TO'\u001b[0m\u001b[1;33m)\u001b[0m\u001b[1;33m\u001b[0m\u001b[1;33m\u001b[0m\u001b[0m\n\u001b[0m",
      "\u001b[1;31mTypeError\u001b[0m: __init__() missing 3 required positional arguments: 'source', 'start', and 'end'"
     ]
    }
   ],
   "source": [
    "snc_bsd = d2[0]['SNC.TO']\n",
    "snc_bsd.assets/snc_bsd.assets3"
   ]
  },
  {
   "cell_type": "code",
   "execution_count": 229,
   "metadata": {},
   "outputs": [],
   "source": []
  },
  {
   "cell_type": "markdown",
   "metadata": {},
   "source": [
    "industrials = industry(snc)\n",
    "pandas.DataFrame.from_dict(industrials.industry_dict)"
   ]
  },
  {
   "cell_type": "code",
   "execution_count": 63,
   "metadata": {
    "scrolled": true
   },
   "outputs": [
    {
     "data": {
      "text/html": [
       "<div>\n",
       "<style scoped>\n",
       "    .dataframe tbody tr th:only-of-type {\n",
       "        vertical-align: middle;\n",
       "    }\n",
       "\n",
       "    .dataframe tbody tr th {\n",
       "        vertical-align: top;\n",
       "    }\n",
       "\n",
       "    .dataframe thead th {\n",
       "        text-align: right;\n",
       "    }\n",
       "</style>\n",
       "<table border=\"1\" class=\"dataframe\">\n",
       "  <thead>\n",
       "    <tr style=\"text-align: right;\">\n",
       "      <th></th>\n",
       "      <th>SNC.TO</th>\n",
       "      <th>WSP.TO</th>\n",
       "      <th>STN.TO</th>\n",
       "      <th>BAD.TO</th>\n",
       "      <th>ARE.TO</th>\n",
       "      <th>DRT.TO</th>\n",
       "      <th>BDT.TO</th>\n",
       "      <th>IBG.TO</th>\n",
       "      <th>SOX.TO</th>\n",
       "      <th>E.TO</th>\n",
       "    </tr>\n",
       "  </thead>\n",
       "  <tbody>\n",
       "    <tr>\n",
       "      <th>to avg_return</th>\n",
       "      <td>2.39612</td>\n",
       "      <td>-0.0286948</td>\n",
       "      <td>0.339921</td>\n",
       "      <td>0.109005</td>\n",
       "      <td>0.0445069</td>\n",
       "      <td>0.877747</td>\n",
       "      <td>1.07938</td>\n",
       "      <td>0.877486</td>\n",
       "      <td>1.71625</td>\n",
       "      <td>2.58828</td>\n",
       "    </tr>\n",
       "    <tr>\n",
       "      <th>to avg_pe</th>\n",
       "      <td>NaN</td>\n",
       "      <td>0.859578</td>\n",
       "      <td>0.399091</td>\n",
       "      <td>0.95284</td>\n",
       "      <td>1.49043</td>\n",
       "      <td>NaN</td>\n",
       "      <td>NaN</td>\n",
       "      <td>1.99601</td>\n",
       "      <td>0.302051</td>\n",
       "      <td>NaN</td>\n",
       "    </tr>\n",
       "    <tr>\n",
       "      <th>to avg_dividend</th>\n",
       "      <td>0.773054</td>\n",
       "      <td>2.89895</td>\n",
       "      <td>1.12093</td>\n",
       "      <td>0.3672</td>\n",
       "      <td>1.12093</td>\n",
       "      <td>NaN</td>\n",
       "      <td>0.255108</td>\n",
       "      <td>NaN</td>\n",
       "      <td>0.463832</td>\n",
       "      <td>NaN</td>\n",
       "    </tr>\n",
       "    <tr>\n",
       "      <th>to avg_pb</th>\n",
       "      <td>0.454785</td>\n",
       "      <td>1.03072</td>\n",
       "      <td>0.804572</td>\n",
       "      <td>2.12894</td>\n",
       "      <td>0.670254</td>\n",
       "      <td>1.61622</td>\n",
       "      <td>0.80672</td>\n",
       "      <td>2.19326</td>\n",
       "      <td>0.205637</td>\n",
       "      <td>0.088892</td>\n",
       "    </tr>\n",
       "    <tr>\n",
       "      <th>to avg_mc</th>\n",
       "      <td>1.92367</td>\n",
       "      <td>4.09485</td>\n",
       "      <td>1.83672</td>\n",
       "      <td>0.894833</td>\n",
       "      <td>0.667979</td>\n",
       "      <td>0.321193</td>\n",
       "      <td>0.122368</td>\n",
       "      <td>0.0838229</td>\n",
       "      <td>0.0495157</td>\n",
       "      <td>0.00504523</td>\n",
       "    </tr>\n",
       "    <tr>\n",
       "      <th>to avg_so</th>\n",
       "      <td>2.41925</td>\n",
       "      <td>1.44379</td>\n",
       "      <td>1.53896</td>\n",
       "      <td>0.447057</td>\n",
       "      <td>0.822597</td>\n",
       "      <td>1.16669</td>\n",
       "      <td>0.585911</td>\n",
       "      <td>0.430301</td>\n",
       "      <td>0.384654</td>\n",
       "      <td>0.760795</td>\n",
       "    </tr>\n",
       "    <tr>\n",
       "      <th>price to mc</th>\n",
       "      <td>5.69625e-09</td>\n",
       "      <td>9.54481e-09</td>\n",
       "      <td>8.95456e-09</td>\n",
       "      <td>2.78711e-08</td>\n",
       "      <td>1.64826e-08</td>\n",
       "      <td>1.18118e-08</td>\n",
       "      <td>2.35201e-08</td>\n",
       "      <td>3.20256e-08</td>\n",
       "      <td>3.58261e-08</td>\n",
       "      <td>1.8151e-08</td>\n",
       "    </tr>\n",
       "    <tr>\n",
       "      <th>price*avgmc/mc</th>\n",
       "      <td>569.222</td>\n",
       "      <td>3729.52</td>\n",
       "      <td>1779.72</td>\n",
       "      <td>4271.81</td>\n",
       "      <td>841.21</td>\n",
       "      <td>NaN</td>\n",
       "      <td>77.4231</td>\n",
       "      <td>NaN</td>\n",
       "      <td>27.4429</td>\n",
       "      <td>NaN</td>\n",
       "    </tr>\n",
       "    <tr>\n",
       "      <th>cg</th>\n",
       "      <td>20.84</td>\n",
       "      <td>74.315</td>\n",
       "      <td>31.285</td>\n",
       "      <td>47.6125</td>\n",
       "      <td>20.895</td>\n",
       "      <td>NaN</td>\n",
       "      <td>5.467</td>\n",
       "      <td>NaN</td>\n",
       "      <td>3.33</td>\n",
       "      <td>NaN</td>\n",
       "    </tr>\n",
       "  </tbody>\n",
       "</table>\n",
       "</div>"
      ],
      "text/plain": [
       "                      SNC.TO       WSP.TO       STN.TO       BAD.TO  \\\n",
       "to avg_return        2.39612   -0.0286948     0.339921     0.109005   \n",
       "to avg_pe                NaN     0.859578     0.399091      0.95284   \n",
       "to avg_dividend     0.773054      2.89895      1.12093       0.3672   \n",
       "to avg_pb           0.454785      1.03072     0.804572      2.12894   \n",
       "to avg_mc            1.92367      4.09485      1.83672     0.894833   \n",
       "to avg_so            2.41925      1.44379      1.53896     0.447057   \n",
       "price to mc      5.69625e-09  9.54481e-09  8.95456e-09  2.78711e-08   \n",
       "price*avgmc/mc       569.222      3729.52      1779.72      4271.81   \n",
       "cg                     20.84       74.315       31.285      47.6125   \n",
       "\n",
       "                      ARE.TO       DRT.TO       BDT.TO       IBG.TO  \\\n",
       "to avg_return      0.0445069     0.877747      1.07938     0.877486   \n",
       "to avg_pe            1.49043          NaN          NaN      1.99601   \n",
       "to avg_dividend      1.12093          NaN     0.255108          NaN   \n",
       "to avg_pb           0.670254      1.61622      0.80672      2.19326   \n",
       "to avg_mc           0.667979     0.321193     0.122368    0.0838229   \n",
       "to avg_so           0.822597      1.16669     0.585911     0.430301   \n",
       "price to mc      1.64826e-08  1.18118e-08  2.35201e-08  3.20256e-08   \n",
       "price*avgmc/mc        841.21          NaN      77.4231          NaN   \n",
       "cg                    20.895          NaN        5.467          NaN   \n",
       "\n",
       "                      SOX.TO        E.TO  \n",
       "to avg_return        1.71625     2.58828  \n",
       "to avg_pe           0.302051         NaN  \n",
       "to avg_dividend     0.463832         NaN  \n",
       "to avg_pb           0.205637    0.088892  \n",
       "to avg_mc          0.0495157  0.00504523  \n",
       "to avg_so           0.384654    0.760795  \n",
       "price to mc      3.58261e-08  1.8151e-08  \n",
       "price*avgmc/mc       27.4429         NaN  \n",
       "cg                      3.33         NaN  "
      ]
     },
     "execution_count": 63,
     "metadata": {},
     "output_type": "execute_result"
    }
   ],
   "source": [
    "pandas.DataFrame.from_dict(industrials.industry_dict).T"
   ]
  },
  {
   "cell_type": "code",
   "execution_count": null,
   "metadata": {},
   "outputs": [],
   "source": []
  }
 ],
 "metadata": {
  "kernelspec": {
   "display_name": "Python 3",
   "language": "python",
   "name": "python3"
  },
  "language_info": {
   "codemirror_mode": {
    "name": "ipython",
    "version": 3
   },
   "file_extension": ".py",
   "mimetype": "text/x-python",
   "name": "python",
   "nbconvert_exporter": "python",
   "pygments_lexer": "ipython3",
   "version": "3.7.3"
  }
 },
 "nbformat": 4,
 "nbformat_minor": 2
}
